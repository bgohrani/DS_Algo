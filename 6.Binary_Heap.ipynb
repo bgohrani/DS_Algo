{
  "nbformat": 4,
  "nbformat_minor": 0,
  "metadata": {
    "colab": {
      "name": "6.Binary_Heap.ipynb",
      "provenance": [],
      "authorship_tag": "ABX9TyODFz7tEeIjZ6Xq0/atl+DY",
      "include_colab_link": true
    },
    "kernelspec": {
      "name": "python3",
      "display_name": "Python 3"
    },
    "language_info": {
      "name": "python"
    }
  },
  "cells": [
    {
      "cell_type": "markdown",
      "metadata": {
        "id": "view-in-github",
        "colab_type": "text"
      },
      "source": [
        "<a href=\"https://colab.research.google.com/github/bgohrani/Data_Structures/blob/main/6.Binary_Heap.ipynb\" target=\"_parent\"><img src=\"https://colab.research.google.com/assets/colab-badge.svg\" alt=\"Open In Colab\"/></a>"
      ]
    },
    {
      "cell_type": "code",
      "metadata": {
        "id": "E32cyFPoEfqU"
      },
      "source": [
        "import numpy as np\n",
        "import pandas as pd\n",
        "import math\n",
        "\n",
        "#importing essential libraries"
      ],
      "execution_count": null,
      "outputs": []
    },
    {
      "cell_type": "markdown",
      "metadata": {
        "id": "FtMkTX5sr4cL"
      },
      "source": [
        "## Binary Heap"
      ]
    },
    {
      "cell_type": "code",
      "metadata": {
        "id": "EH7xqZO9r5nv"
      },
      "source": [
        "class Binary_Heap():\n",
        "  def __init__(self, size):\n",
        "    self.heap_list = [None]*(size + 1)\n",
        "    self.heap_size = 0\n",
        "    self.max_size = size + 1"
      ],
      "execution_count": null,
      "outputs": []
    },
    {
      "cell_type": "code",
      "metadata": {
        "id": "_K-cmBOMsOXG"
      },
      "source": [
        "def peek(root):\n",
        "  if root is None:\n",
        "    return \n",
        "  else:\n",
        "    return root.heap_list[1]\n",
        "\n",
        "def occupied_size(root):\n",
        "  if root is None:\n",
        "    return \n",
        "  else:\n",
        "    return root.heap_size\n",
        "\n",
        "def level_order_traversal_heap(rootNode):\n",
        "  list_to_return = []\n",
        "  list_indices = []\n",
        "  list_to_return.append([rootNode.heap_list[1]])\n",
        "  list_indices.append([1])\n",
        "  level = 0\n",
        "  while list_to_return[level] != []:\n",
        "    temp_list = []\n",
        "    temp_indices = []\n",
        "    for value in list_indices[level]:\n",
        "      if value*2 <= rootNode.max_size - 1:\n",
        "        if rootNode.heap_list[2*value] != None:\n",
        "          temp_list.append(rootNode.heap_list[2*value])\n",
        "          temp_indices.append(2*value)\n",
        "      if value*2+1 <= rootNode.max_size -1 :\n",
        "        if rootNode.heap_list[2*value+1] != None:\n",
        "          temp_list.append(rootNode.heap_list[2*value+1])\n",
        "          temp_indices.append(2*value+1)\n",
        "    list_to_return.append(temp_list)\n",
        "    list_indices.append(temp_indices)\n",
        "    level += 1\n",
        "  \n",
        "  return list_to_return[:-1]"
      ],
      "execution_count": null,
      "outputs": []
    },
    {
      "cell_type": "code",
      "metadata": {
        "id": "CltnZq-x8nWF"
      },
      "source": [
        "## ------------------------------------------------------------##\n",
        "\n",
        "## Inserting in heap\n",
        "\n",
        "## ------------------------------------------------------------##\n",
        "\n",
        "def rearrange_heap(rootNode, index, heap_type = 'min'):\n",
        "  parent_index = int(index/2)\n",
        "  if index <= 1:\n",
        "    return \n",
        "  if heap_type == 'min':\n",
        "    if rootNode.heap_list[parent_index] > rootNode.heap_list[index]:\n",
        "      temp = rootNode.heap_list[parent_index]\n",
        "      rootNode.heap_list[parent_index] = rootNode.heap_list[index]\n",
        "      rootNode.heap_list[index] = temp\n",
        "    rearrange_heap(rootNode,parent_index,'min')\n",
        "  elif heap_type == 'max':\n",
        "    if rootNode.heap_list[parent_index] < rootNode.heap_list[index]:\n",
        "      temp = rootNode.heap_list[parent_index]\n",
        "      rootNode.heap_list[parent_index] = rootNode.heap_list[index]\n",
        "      rootNode.heap_list[index] = temp\n",
        "    rearrange_heap(rootNode,parent_index,'max')  \n",
        "\n",
        "def insert_in_heap(rootNode, value, heap_type = 'min'):\n",
        "  if  rootNode.heap_size >= rootNode.max_size -1 :\n",
        "    print('Heap is already full')\n",
        "  else:\n",
        "    rootNode.heap_list[rootNode.heap_size + 1] = value\n",
        "    rootNode.heap_size += 1\n",
        "    rearrange_heap(rootNode,rootNode.heap_size,heap_type)\n",
        "    print('Inserted')\n",
        "\n",
        "## ------------------------------------------------------------##"
      ],
      "execution_count": null,
      "outputs": []
    },
    {
      "cell_type": "code",
      "metadata": {
        "id": "tirWqCsW82qm"
      },
      "source": [
        "## ------------------------------------------------------------##\n",
        "\n",
        "## Extracting from heap\n",
        "\n",
        "## ------------------------------------------------------------##\n",
        "\n",
        "def rearrange_after_extract_heap(rootNode,index,heap_type='min'):\n",
        "  child_index_left = 2*index\n",
        "  child_index_right = 2*index + 1\n",
        "  lower_child = 0\n",
        "  if child_index_left >= rootNode.heap_size:\n",
        "    return \n",
        "  \n",
        "  if child_index_left == rootNode.heap_size - 1:\n",
        "    if heap_type == 'min':\n",
        "      if rootNode.heap_list[child_index_left] < rootNode.heap_list[index]:\n",
        "        temp = rootNode.heap_list[child_index_left]\n",
        "        rootNode.heap_list[child_index_left] = rootNode.heap_list[index]\n",
        "        rootNode.heap_list[index] = temp\n",
        "      rearrange_after_extract_heap(rootNode,child_index_left)\n",
        "    elif heap_type == 'max':\n",
        "      if rootNode.heap_list[child_index_left] > rootNode.heap_list[index]:\n",
        "        temp = rootNode.heap_list[child_index_left]\n",
        "        rootNode.heap_list[child_index_left] = rootNode.heap_list[index]\n",
        "        rootNode.heap_list[index] = temp\n",
        "      rearrange_after_extract_heap(rootNode,child_index_left,'max')\n",
        "\n",
        "  else:\n",
        "    if rootNode.heap_list[child_index_left] > rootNode.heap_list[child_index_right]: lower_child = child_index_right\n",
        "    else: \n",
        "      lower_child  = child_index_left\n",
        "    if heap_type == 'min':\n",
        "      if rootNode.heap_list[lower_child] < rootNode.heap_list[index]:\n",
        "        temp = rootNode.heap_list[lower_child]\n",
        "        rootNode.heap_list[lower_child] = rootNode.heap_list[index]\n",
        "        rootNode.heap_list[index] = temp\n",
        "      rearrange_after_extract_heap(rootNode,lower_child)\n",
        "    elif heap_type == 'max':\n",
        "      if rootNode.heap_list[lower_child] > rootNode.heap_list[index]:\n",
        "        temp = rootNode.heap_list[lower_child]\n",
        "        rootNode.heap_list[lower_child] = rootNode.heap_list[index]\n",
        "        rootNode.heap_list[index] = temp\n",
        "      rearrange_after_extract_heap(rootNode,lower_child,'max')\n",
        "    \n",
        "\n",
        "\n",
        "\n",
        "def extract_from_heap(rootNode,heap_type='min'):\n",
        "  if rootNode.heap_list[1] == None:\n",
        "    print('Heap is empty')\n",
        "  else:\n",
        "    val = rootNode.heap_list[1]\n",
        "    rootNode.heap_list[1] = rootNode.heap_list[rootNode.heap_size]\n",
        "    rootNode.heap_list[rootNode.heap_size] = None\n",
        "    rearrange_after_extract_heap(rootNode,1,heap_type)\n",
        "    rootNode.heap_size -= 1\n",
        "    return val\n",
        "\n",
        "## ------------------------------------------------------------##"
      ],
      "execution_count": null,
      "outputs": []
    },
    {
      "cell_type": "code",
      "metadata": {
        "id": "LzE7VjPt2nWO"
      },
      "source": [
        "tree = Binary_Heap(5)"
      ],
      "execution_count": null,
      "outputs": []
    },
    {
      "cell_type": "code",
      "metadata": {
        "colab": {
          "base_uri": "https://localhost:8080/"
        },
        "id": "ef9rBjAt2s7T",
        "outputId": "e3d4bdad-e012-487a-dc71-869ee7e7d0b8"
      },
      "source": [
        "insert_in_heap(tree,1,'max')\n",
        "insert_in_heap(tree,2,'max')\n",
        "insert_in_heap(tree,3,'max')\n",
        "insert_in_heap(tree,4,'max')\n",
        "insert_in_heap(tree,5,'max')"
      ],
      "execution_count": null,
      "outputs": [
        {
          "output_type": "stream",
          "text": [
            "Inserted\n",
            "Inserted\n",
            "Inserted\n",
            "Inserted\n",
            "Inserted\n"
          ],
          "name": "stdout"
        }
      ]
    },
    {
      "cell_type": "code",
      "metadata": {
        "colab": {
          "base_uri": "https://localhost:8080/"
        },
        "id": "KjuLy64C3A6n",
        "outputId": "4ce70680-1423-4702-a958-d8fc253da4d3"
      },
      "source": [
        "level_order_traversal_heap(tree)"
      ],
      "execution_count": null,
      "outputs": [
        {
          "output_type": "execute_result",
          "data": {
            "text/plain": [
              "[[5], [4, 2], [1, 3]]"
            ]
          },
          "metadata": {
            "tags": []
          },
          "execution_count": 142
        }
      ]
    },
    {
      "cell_type": "code",
      "metadata": {
        "colab": {
          "base_uri": "https://localhost:8080/"
        },
        "id": "1vo99jJg-p2_",
        "outputId": "0df462ab-8194-4b24-a3d0-8c5ca9d8babf"
      },
      "source": [
        "extract_from_heap(tree,'max')"
      ],
      "execution_count": null,
      "outputs": [
        {
          "output_type": "execute_result",
          "data": {
            "text/plain": [
              "5"
            ]
          },
          "metadata": {
            "tags": []
          },
          "execution_count": 143
        }
      ]
    },
    {
      "cell_type": "code",
      "metadata": {
        "colab": {
          "base_uri": "https://localhost:8080/"
        },
        "id": "hhZpuCZR-r64",
        "outputId": "22c965a7-820c-42f8-feaf-953a32308603"
      },
      "source": [
        "level_order_traversal_heap(tree)"
      ],
      "execution_count": null,
      "outputs": [
        {
          "output_type": "execute_result",
          "data": {
            "text/plain": [
              "[[3], [4, 2], [1]]"
            ]
          },
          "metadata": {
            "tags": []
          },
          "execution_count": 144
        }
      ]
    }
  ]
}
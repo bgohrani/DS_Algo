{
  "nbformat": 4,
  "nbformat_minor": 0,
  "metadata": {
    "colab": {
      "name": "Trees.ipynb",
      "provenance": [],
      "authorship_tag": "ABX9TyNZ2XV4GoKahqh6taT2qSWB",
      "include_colab_link": true
    },
    "kernelspec": {
      "name": "python3",
      "display_name": "Python 3"
    },
    "language_info": {
      "name": "python"
    }
  },
  "cells": [
    {
      "cell_type": "markdown",
      "metadata": {
        "id": "view-in-github",
        "colab_type": "text"
      },
      "source": [
        "<a href=\"https://colab.research.google.com/github/bgohrani/DS_Algo/blob/main/Trees.ipynb\" target=\"_parent\"><img src=\"https://colab.research.google.com/assets/colab-badge.svg\" alt=\"Open In Colab\"/></a>"
      ]
    },
    {
      "cell_type": "code",
      "metadata": {
        "id": "U2yGwSCJkOv7"
      },
      "source": [
        "import numpy as np\n",
        "import pandas as pd\n",
        "import math\n",
        "\n",
        "#importing essential libraries"
      ],
      "execution_count": null,
      "outputs": []
    },
    {
      "cell_type": "code",
      "metadata": {
        "id": "ju25KUFuoZWj"
      },
      "source": [
        ""
      ],
      "execution_count": null,
      "outputs": []
    },
    {
      "cell_type": "markdown",
      "metadata": {
        "id": "DlpndOD2zs2A"
      },
      "source": [
        "# 7. Tree Data Structure"
      ]
    },
    {
      "cell_type": "markdown",
      "metadata": {
        "id": "gBIvcJ4qKglH"
      },
      "source": [
        "## Simple Tree Data Structure"
      ]
    },
    {
      "cell_type": "code",
      "metadata": {
        "id": "g6h2bLC0zvWp"
      },
      "source": [
        "class TreeNode():\n",
        "  def __init__(self,value, children = []):\n",
        "    self.value = value\n",
        "    self.children = children\n",
        "\n",
        "  ## Print Tree function\n",
        "  \n",
        "  def __str__(self,level = 0):\n",
        "    ret = ' ' * level + str(self.value) + '\\n'\n",
        "    for child in self.children:\n",
        "      ret += child.__str__(level + 1)\n",
        "    return ret\n",
        "\n",
        "\n",
        "  def addchild(self,TreeNode):\n",
        "    self.children.append(TreeNode)\n"
      ],
      "execution_count": null,
      "outputs": []
    },
    {
      "cell_type": "code",
      "metadata": {
        "id": "0kt1ufS_1QoT"
      },
      "source": [
        "tree = TreeNode('Drinks', [])\n",
        "cold = TreeNode('Cold',[])\n",
        "hot = TreeNode('Hot',[])\n",
        "tea = TreeNode('Tea',[])\n",
        "coffee = TreeNode('Coffee',[])\n",
        "pepsi = TreeNode('Pepsi',[])\n",
        "coke = TreeNode('Coke',[])"
      ],
      "execution_count": null,
      "outputs": []
    },
    {
      "cell_type": "code",
      "metadata": {
        "id": "OsnvG1PW18y0"
      },
      "source": [
        "cold.addchild(pepsi)\n",
        "cold.addchild(coke)\n",
        "hot.addchild(tea)\n",
        "hot.addchild(coffee)\n",
        "tree.addchild(cold)\n",
        "tree.addchild(hot)"
      ],
      "execution_count": null,
      "outputs": []
    },
    {
      "cell_type": "code",
      "metadata": {
        "colab": {
          "base_uri": "https://localhost:8080/"
        },
        "id": "wHa8QjDR9pp3",
        "outputId": "31c79f60-04d5-4adb-8afa-69835293bfdc"
      },
      "source": [
        "print(tree)"
      ],
      "execution_count": null,
      "outputs": [
        {
          "output_type": "stream",
          "text": [
            "Drinks\n",
            " Cold\n",
            "  Pepsi\n",
            "  Coke\n",
            " Hot\n",
            "  Tea\n",
            "  Coffee\n",
            "\n"
          ],
          "name": "stdout"
        }
      ]
    },
    {
      "cell_type": "markdown",
      "metadata": {
        "id": "n0CDjHOGKkf5"
      },
      "source": [
        "## Binary Tree"
      ]
    },
    {
      "cell_type": "code",
      "metadata": {
        "id": "AtPXi-4K9qYF"
      },
      "source": [
        "class Binary_Tree():\n",
        "  def __init__(self, value=None):\n",
        "    self.value = value \n",
        "    self.prev_child = None\n",
        "    self.next_child = None"
      ],
      "execution_count": null,
      "outputs": []
    },
    {
      "cell_type": "code",
      "metadata": {
        "id": "sj-oS2TDLAQA"
      },
      "source": [
        "## Traversing functions for Tree\n",
        "\n",
        "## ------------------------------------------------------------##\n",
        "def pre_order_traversal(rootNode):\n",
        "  if rootNode == None:\n",
        "    return None\n",
        "  else:\n",
        "    print(rootNode.value)\n",
        "    pre_order_traversal(rootNode.prev_child)\n",
        "    pre_order_traversal(rootNode.next_child)\n",
        "\n",
        "## ------------------------------------------------------------##\n",
        "\n",
        "def in_order_traversal(rootNode):\n",
        "  if rootNode == None:\n",
        "    return None\n",
        "  in_order_traversal(rootNode.prev_child)\n",
        "  if rootNode.value != None:\n",
        "    print(rootNode.value)\n",
        "  in_order_traversal(rootNode.next_child)\n",
        "\n",
        "## ------------------------------------------------------------##\n",
        "\n",
        "def post_order_traversal(rootNode):\n",
        "  if rootNode == None:\n",
        "    return None\n",
        "  post_order_traversal(rootNode.prev_child)\n",
        "  post_order_traversal(rootNode.next_child)\n",
        "  if rootNode.value != None:\n",
        "    print(rootNode.value)\n",
        "\n",
        "## ------------------------------------------------------------##\n",
        "\n",
        "def level_order_traversal(rootNode, nodes_or_values = 1):\n",
        "  list_to_return = []\n",
        "  list_nodes = []\n",
        "  list_to_return.append([rootNode.value])\n",
        "  list_nodes.append([rootNode])\n",
        "\n",
        "  level = 0\n",
        "  \n",
        "  while list_nodes[level] != []:\n",
        "    list_nodes.append([])\n",
        "    list_to_return.append([])\n",
        "    temp_list_value = []\n",
        "    temp_list_node = []\n",
        "    for node in list_nodes[level]:\n",
        "      if node.prev_child != None:\n",
        "        temp_list_value.append(node.prev_child.value)\n",
        "        temp_list_node.append(node.prev_child)\n",
        "      if node.next_child != None:\n",
        "        temp_list_value.append(node.next_child.value)\n",
        "        temp_list_node.append(node.next_child)\n",
        "    list_nodes[level+1] = temp_list_node\n",
        "    list_to_return[level+1] = temp_list_value\n",
        "    level +=1 \n",
        "\n",
        "  if nodes_or_values == 1:\n",
        "    return list_to_return[:-1]\n",
        "  else:\n",
        "    return list_nodes[:-1]\n",
        "\n",
        "## ------------------------------------------------------------##\n",
        "\n"
      ],
      "execution_count": null,
      "outputs": []
    },
    {
      "cell_type": "code",
      "metadata": {
        "id": "1G_47BJjGrDf"
      },
      "source": [
        "## ------------------------------------------------------------##\n",
        "\n",
        "def insert_in_tree(rootNode,value):\n",
        "  list_nodes = level_order_traversal(rootNode,0)\n",
        "  node_to_insert = Binary_Tree(value)\n",
        "  missing = 0\n",
        "\n",
        "  for i in range(len(list_nodes)):\n",
        "    a = i\n",
        "    if len(list_nodes[i]) != 2**i:\n",
        "      missing = 1\n",
        "      break\n",
        "    \n",
        "  if missing == 1:\n",
        "    list_to_check = list_nodes[a-1]\n",
        "    for node in list_to_check:\n",
        "      if node.prev_child == None:\n",
        "        node.prev_child = node_to_insert\n",
        "        break\n",
        "      if node.next_child == None:\n",
        "        node.next_child = node_to_insert\n",
        "        break\n",
        "  \n",
        "  else:\n",
        "    list_nodes[a][0].prev_child = node_to_insert\n",
        "\n",
        "## ------------------------------------------------------------##\n",
        "\n",
        "def delete_node_from_tree(tree,nodeValue):\n",
        "  tree_values = level_order_traversal(tree)\n",
        "  tree_nodes = level_order_traversal(tree,0)\n",
        "\n",
        "  val_to_remove = tree_values[-1][-1]\n",
        "\n",
        "  tree_values_new = list(np.concatenate(tree_values))\n",
        "  tree_nodes_new = list(np.concatenate(tree_nodes))\n",
        "  print(tree_nodes)\n",
        "\n",
        "  index_to_remove = tree_values_new.index(nodeValue)\n",
        "  tree_nodes_new[index_to_remove].value = val_to_remove\n",
        "\n",
        "  for node in tree_nodes[-2]:\n",
        "    if node.prev_child != None:\n",
        "      if node.prev_child.value == val_to_remove:\n",
        "        node.prev_child = None\n",
        "        break\n",
        "    if node.next_child != None:\n",
        "      if node.next_child.value == val_to_remove:\n",
        "        node.next_child = None\n",
        "        break\n",
        "\n",
        "## ------------------------------------------------------------##\n",
        "\n",
        "def delete_entire_tree(rootNode):\n",
        "  if rootNode == None:\n",
        "    return \n",
        "  else:\n",
        "    rootNode.value = None\n",
        "    rootNode.prev_child = None\n",
        "    rootNode.next_child = None\n",
        "\n",
        "## ------------------------------------------------------------##\n"
      ],
      "execution_count": null,
      "outputs": []
    },
    {
      "cell_type": "code",
      "metadata": {
        "id": "qWKjsHCaKxbD"
      },
      "source": [
        "tree = Binary_Tree('Drinks')\n",
        "hot = Binary_Tree('Hot')\n",
        "cold = Binary_Tree('Cold')\n",
        "tea = Binary_Tree('Tea')\n",
        "coffee = Binary_Tree('Coffee')\n",
        "pepsi = Binary_Tree('Pepsi')\n",
        "coke = Binary_Tree('Coke')\n",
        "diet = Binary_Tree('Diet')\n",
        "zero = Binary_Tree('Zero')\n",
        "red = Binary_Tree('Red')\n",
        "\n",
        "tree.prev_child = hot\n",
        "tree.next_child = cold\n",
        "\n",
        "hot.prev_child = tea\n",
        "hot.next_child = coffee\n",
        "\n",
        "cold.prev_child = pepsi\n",
        "cold.next_child = coke\n",
        "\n",
        "pepsi.prev_child = diet\n",
        "pepsi.next_child = zero\n",
        "\n",
        "tea.prev_child = red"
      ],
      "execution_count": null,
      "outputs": []
    },
    {
      "cell_type": "code",
      "metadata": {
        "colab": {
          "base_uri": "https://localhost:8080/"
        },
        "id": "m3rsOCLEXd8s",
        "outputId": "89758b37-0d3b-47f8-e531-9119d20dfde5"
      },
      "source": [
        "pre_order_traversal(tree)"
      ],
      "execution_count": null,
      "outputs": [
        {
          "output_type": "stream",
          "text": [
            "Drinks\n",
            "Hot\n",
            "Tea\n",
            "Red\n",
            "Coffee\n",
            "Cold\n",
            "Pepsi\n",
            "Diet\n",
            "Zero\n",
            "Coke\n"
          ],
          "name": "stdout"
        }
      ]
    },
    {
      "cell_type": "code",
      "metadata": {
        "colab": {
          "base_uri": "https://localhost:8080/"
        },
        "id": "1Ts9OPH4dDNo",
        "outputId": "c7a5f7aa-d73b-4f8a-ed4a-23d7c62b599d"
      },
      "source": [
        "in_order_traversal(tree)"
      ],
      "execution_count": null,
      "outputs": [
        {
          "output_type": "stream",
          "text": [
            "Red\n",
            "Tea\n",
            "Hot\n",
            "Coffee\n",
            "Drinks\n",
            "Diet\n",
            "Pepsi\n",
            "Zero\n",
            "Cold\n",
            "Coke\n"
          ],
          "name": "stdout"
        }
      ]
    },
    {
      "cell_type": "code",
      "metadata": {
        "colab": {
          "base_uri": "https://localhost:8080/"
        },
        "id": "qvu8HIA6hNHX",
        "outputId": "bf7a389a-8057-4939-cce5-26b248358e21"
      },
      "source": [
        "post_order_traversal(tree)"
      ],
      "execution_count": null,
      "outputs": [
        {
          "output_type": "stream",
          "text": [
            "Red\n",
            "Tea\n",
            "Coffee\n",
            "Hot\n",
            "Diet\n",
            "Zero\n",
            "Pepsi\n",
            "Coke\n",
            "Cold\n",
            "Drinks\n"
          ],
          "name": "stdout"
        }
      ]
    },
    {
      "cell_type": "code",
      "metadata": {
        "colab": {
          "base_uri": "https://localhost:8080/"
        },
        "id": "lz3_w0QiN1O2",
        "outputId": "b8e92ed7-c15a-4280-8c7d-3dabd22fb4d3"
      },
      "source": [
        "level_order_traversal(tree)"
      ],
      "execution_count": null,
      "outputs": [
        {
          "output_type": "execute_result",
          "data": {
            "text/plain": [
              "[['Drinks'],\n",
              " ['Hot', 'Cold'],\n",
              " ['Tea', 'Coffee', 'Pepsi', 'Coke'],\n",
              " ['Red', 'Diet', 'Zero']]"
            ]
          },
          "metadata": {
            "tags": []
          },
          "execution_count": 9
        }
      ]
    },
    {
      "cell_type": "code",
      "metadata": {
        "id": "E_vHMEFcPlGL"
      },
      "source": [
        "insert_in_tree(tree, 'Green')"
      ],
      "execution_count": null,
      "outputs": []
    },
    {
      "cell_type": "code",
      "metadata": {
        "colab": {
          "base_uri": "https://localhost:8080/"
        },
        "id": "lgDFa4p-PqRx",
        "outputId": "58294aca-33ae-42f4-c2ce-35b70ebe7935"
      },
      "source": [
        "level_order_traversal(tree)"
      ],
      "execution_count": null,
      "outputs": [
        {
          "output_type": "execute_result",
          "data": {
            "text/plain": [
              "[['Drinks'],\n",
              " ['Hot', 'Cold'],\n",
              " ['Tea', 'Coffee', 'Pepsi', 'Coke'],\n",
              " ['Red', 'Green', 'Diet', 'Zero']]"
            ]
          },
          "metadata": {
            "tags": []
          },
          "execution_count": 11
        }
      ]
    },
    {
      "cell_type": "code",
      "metadata": {
        "colab": {
          "base_uri": "https://localhost:8080/"
        },
        "id": "et9BFB97n9D7",
        "outputId": "3a320fcd-f43d-4865-f407-99a37865cee1"
      },
      "source": [
        "delete_node_from_tree(tree,'Coke')"
      ],
      "execution_count": null,
      "outputs": [
        {
          "output_type": "stream",
          "text": [
            "[[<__main__.Binary_Tree object at 0x7f2da86b3710>], [<__main__.Binary_Tree object at 0x7f2da86b36d0>, <__main__.Binary_Tree object at 0x7f2da86b3750>], [<__main__.Binary_Tree object at 0x7f2da86b3790>, <__main__.Binary_Tree object at 0x7f2da86b37d0>, <__main__.Binary_Tree object at 0x7f2da86b3810>, <__main__.Binary_Tree object at 0x7f2da86b3850>], [<__main__.Binary_Tree object at 0x7f2da86b3910>, <__main__.Binary_Tree object at 0x7f2da869b490>, <__main__.Binary_Tree object at 0x7f2da86b3890>, <__main__.Binary_Tree object at 0x7f2da86b38d0>]]\n"
          ],
          "name": "stdout"
        }
      ]
    },
    {
      "cell_type": "code",
      "metadata": {
        "id": "ft3cKslXpK56",
        "colab": {
          "base_uri": "https://localhost:8080/"
        },
        "outputId": "2f408a25-d224-4784-dff3-14e6ac85741d"
      },
      "source": [
        "level_order_traversal(tree)"
      ],
      "execution_count": null,
      "outputs": [
        {
          "output_type": "execute_result",
          "data": {
            "text/plain": [
              "[['Drinks'],\n",
              " ['Hot', 'Cold'],\n",
              " ['Tea', 'Coffee', 'Pepsi', 'Zero'],\n",
              " ['Red', 'Green', 'Diet']]"
            ]
          },
          "metadata": {
            "tags": []
          },
          "execution_count": 13
        }
      ]
    },
    {
      "cell_type": "code",
      "metadata": {
        "id": "wHymnNfFH0sl"
      },
      "source": [
        "delete_entire_tree(tree)"
      ],
      "execution_count": null,
      "outputs": []
    },
    {
      "cell_type": "code",
      "metadata": {
        "colab": {
          "base_uri": "https://localhost:8080/"
        },
        "id": "MmIQEGyRH2-n",
        "outputId": "ae00d166-bad6-485d-fa4d-0b6ba309598e"
      },
      "source": [
        "level_order_traversal(tree)"
      ],
      "execution_count": null,
      "outputs": [
        {
          "output_type": "execute_result",
          "data": {
            "text/plain": [
              "[[None]]"
            ]
          },
          "metadata": {
            "tags": []
          },
          "execution_count": 15
        }
      ]
    },
    {
      "cell_type": "markdown",
      "metadata": {
        "id": "dqMcGkldp3Nd"
      },
      "source": [
        "## Tree using Lists"
      ]
    },
    {
      "cell_type": "code",
      "metadata": {
        "id": "oMAyeX-Ip4wM"
      },
      "source": [
        "class Binary_Tree_List():\n",
        "  def __init__(self, max_size):\n",
        "    self.tree = max_size * [None]\n",
        "    self.last_index = 0\n",
        "    self.size = max_size\n",
        "  \n",
        "  def insert_in_tree(self,value):\n",
        "    if self.last_index == self.size - 1:\n",
        "      print('Tree is already full')\n",
        "    else:\n",
        "      self.tree[self.last_index + 1] = value\n",
        "      self.last_index += 1\n",
        "  \n",
        "  def search_in_tree(self,node_value):\n",
        "    for i,value in enumerate(self.tree):\n",
        "      if value == node_value:\n",
        "        message = 'Present at position ' + str(i)\n",
        "        return message\n",
        "    return 'Not Present'\n",
        "  \n",
        "  def pre_order_traversal(self, index):\n",
        "    if index >= self.size:\n",
        "      return \n",
        "    else:\n",
        "      if self.tree[index] != None:\n",
        "        print(self.tree[index])\n",
        "      self.pre_order_traversal(2*index)\n",
        "      self.pre_order_traversal(2*index + 1)\n",
        "  \n",
        "  def in_order_traversal(self, index):\n",
        "    if index >= self.size:\n",
        "      return \n",
        "    else:\n",
        "      self.in_order_traversal(2*index)\n",
        "      print(self.tree[index])\n",
        "      self.in_order_traversal(2*index + 1)\n",
        "\n",
        "  def post_order_traversal(self, index):\n",
        "    if index >= self.size:\n",
        "      return \n",
        "    else:\n",
        "      self.post_order_traversal(2*index)\n",
        "      self.post_order_traversal(2*index + 1)\n",
        "      print(self.tree[index])\n",
        "  \n",
        "  def level_order_traversal(self):\n",
        "    level = 0\n",
        "    list_to_return = []\n",
        "    list_indices = []\n",
        "    list_to_return.append([self.tree[0]])\n",
        "    list_indices.append([0])\n",
        "    \n",
        "    while list_to_return[level] != []:\n",
        "      temp_list = []\n",
        "      temp_indices = []\n",
        "\n",
        "      for value in list_indices[level]:\n",
        "        if 2*value < self.size:\n",
        "          if self.tree[2*value] != None:\n",
        "            temp_list.append(self.tree[2*value])\n",
        "            temp_indices.append(2*value)\n",
        "\n",
        "        if 2*value + 1 < self.size:\n",
        "          if self.tree[(2*value) + 1] != None:\n",
        "            temp_list.append(self.tree[(2*value) + 1])\n",
        "            temp_indices.append((2*value)+1)\n",
        "\n",
        "      list_to_return.append(temp_list)\n",
        "      list_indices.append(temp_indices)\n",
        "      level += 1\n",
        "    \n",
        "    return list_to_return[1:-1]\n",
        "\n",
        "  def delete_from_tree(self,node_value):\n",
        "    index = None\n",
        "    last_value = self.tree[self.last_index]\n",
        "    for i,value in enumerate(self.tree):\n",
        "      if value == node_value:\n",
        "        index = i\n",
        "        break\n",
        "    if index == None:\n",
        "      print('The value is not present in the Tree')\n",
        "    else:\n",
        "      self.tree[index] = last_value\n",
        "      self.tree[self.last_index] = None\n",
        "      self.last_index -= 1\n",
        "  \n",
        "  def delete_full_tree(self):\n",
        "    self.tree = self.size * [None]\n",
        "    self.last_index = 0\n",
        "\n"
      ],
      "execution_count": null,
      "outputs": []
    },
    {
      "cell_type": "code",
      "metadata": {
        "id": "mBaJacTkIO3i"
      },
      "source": [
        "tree = Binary_Tree_List(16)"
      ],
      "execution_count": null,
      "outputs": []
    },
    {
      "cell_type": "code",
      "metadata": {
        "id": "U8uwMwvwIRCQ"
      },
      "source": [
        "tree.insert_in_tree('Drinks')\n",
        "tree.insert_in_tree('Hot')\n",
        "tree.insert_in_tree('Cold')\n",
        "tree.insert_in_tree('Tea')\n",
        "tree.insert_in_tree('Coffee')\n",
        "tree.insert_in_tree('Pepsi')\n",
        "tree.insert_in_tree('Coke')\n",
        "\n",
        "tree.insert_in_tree('Green')\n",
        "tree.insert_in_tree('Black')\n",
        "tree.insert_in_tree('Espresso')\n",
        "tree.insert_in_tree('Cappuccino')\n",
        "tree.insert_in_tree('Can')\n",
        "tree.insert_in_tree('Bottle')\n",
        "tree.insert_in_tree('Glass Bottle')\n",
        "tree.insert_in_tree('Red Can')"
      ],
      "execution_count": null,
      "outputs": []
    },
    {
      "cell_type": "code",
      "metadata": {
        "colab": {
          "base_uri": "https://localhost:8080/"
        },
        "id": "X5ecM1d8KwnW",
        "outputId": "90625922-cd3a-4afc-da75-e7f16c5b3286"
      },
      "source": [
        "tree.tree"
      ],
      "execution_count": null,
      "outputs": [
        {
          "output_type": "execute_result",
          "data": {
            "text/plain": [
              "[None,\n",
              " 'Drinks',\n",
              " 'Hot',\n",
              " 'Cold',\n",
              " 'Tea',\n",
              " 'Coffee',\n",
              " 'Pepsi',\n",
              " 'Coke',\n",
              " 'Green',\n",
              " 'Black',\n",
              " 'Espresso',\n",
              " 'Cappuccino',\n",
              " 'Can',\n",
              " 'Bottle',\n",
              " 'Glass Bottle',\n",
              " 'Red Can']"
            ]
          },
          "metadata": {
            "tags": []
          },
          "execution_count": 213
        }
      ]
    },
    {
      "cell_type": "code",
      "metadata": {
        "colab": {
          "base_uri": "https://localhost:8080/"
        },
        "id": "7BX1cw1HLtCp",
        "outputId": "eac57c46-e6ac-4ea4-c0ec-fad47c20a2e4"
      },
      "source": [
        "tree.level_order_traversal()"
      ],
      "execution_count": null,
      "outputs": [
        {
          "output_type": "execute_result",
          "data": {
            "text/plain": [
              "[['Drinks'],\n",
              " ['Hot', 'Cold'],\n",
              " ['Tea', 'Coffee', 'Pepsi', 'Coke'],\n",
              " ['Green',\n",
              "  'Black',\n",
              "  'Espresso',\n",
              "  'Cappuccino',\n",
              "  'Can',\n",
              "  'Bottle',\n",
              "  'Glass Bottle',\n",
              "  'Red Can']]"
            ]
          },
          "metadata": {
            "tags": []
          },
          "execution_count": 214
        }
      ]
    },
    {
      "cell_type": "code",
      "metadata": {
        "id": "5q0QnqWqQnja"
      },
      "source": [
        "tree.delete_from_tree('Coffee')"
      ],
      "execution_count": null,
      "outputs": []
    },
    {
      "cell_type": "code",
      "metadata": {
        "colab": {
          "base_uri": "https://localhost:8080/"
        },
        "id": "GNxs7fM6aYqP",
        "outputId": "7d1eada1-05d5-4df4-c935-410db9406197"
      },
      "source": [
        "tree.level_order_traversal()"
      ],
      "execution_count": null,
      "outputs": [
        {
          "output_type": "execute_result",
          "data": {
            "text/plain": [
              "[['Drinks'],\n",
              " ['Hot', 'Cold'],\n",
              " ['Tea', 'Red Can', 'Pepsi', 'Coke'],\n",
              " ['Green', 'Black', 'Espresso', 'Cappuccino', 'Can', 'Bottle', 'Glass Bottle']]"
            ]
          },
          "metadata": {
            "tags": []
          },
          "execution_count": 216
        }
      ]
    },
    {
      "cell_type": "code",
      "metadata": {
        "id": "Th2k-ZTNeezm"
      },
      "source": [
        "tree.delete_full_tree()"
      ],
      "execution_count": null,
      "outputs": []
    },
    {
      "cell_type": "code",
      "metadata": {
        "colab": {
          "base_uri": "https://localhost:8080/"
        },
        "id": "4sl9CajvesjC",
        "outputId": "0c8a6ad6-49ce-41de-98bd-9c4b5305e61e"
      },
      "source": [
        "tree.level_order_traversal()"
      ],
      "execution_count": null,
      "outputs": [
        {
          "output_type": "execute_result",
          "data": {
            "text/plain": [
              "[]"
            ]
          },
          "metadata": {
            "tags": []
          },
          "execution_count": 218
        }
      ]
    },
    {
      "cell_type": "markdown",
      "metadata": {
        "id": "LTthkebwAO96"
      },
      "source": [
        "## Binary Search Tree"
      ]
    },
    {
      "cell_type": "code",
      "metadata": {
        "id": "1zye-4fnARSI"
      },
      "source": [
        "class Binary_Search_Tree():\n",
        "  def __init__(self,value = None):\n",
        "    self.value = value\n",
        "    self.left_child = None\n",
        "    self.right_child = None"
      ],
      "execution_count": null,
      "outputs": []
    },
    {
      "cell_type": "code",
      "metadata": {
        "id": "kZdZjyJGzMYE"
      },
      "source": [
        "## ------------------------------------------------------------##\n",
        "\n",
        "## Inserting in Binary Search Tree\n",
        "\n",
        "## ------------------------------------------------------------##\n",
        "\n",
        "def insert_in_binary_search_tree(rootNode, new_value):\n",
        "  if rootNode.value == None:\n",
        "    rootNode.value = new_value\n",
        "\n",
        "  elif new_value <= rootNode.value:\n",
        "    if rootNode.left_child == None:\n",
        "      rootNode.left_child = Binary_Search_Tree(new_value)\n",
        "    else:\n",
        "      insert_in_binary_search_tree(rootNode.left_child, new_value)\n",
        "  else:\n",
        "    if rootNode.right_child == None:\n",
        "      rootNode.right_child = Binary_Search_Tree(new_value)\n",
        "    else:\n",
        "      insert_in_binary_search_tree(rootNode.right_child, new_value)\n",
        "\n",
        "## ------------------------------------------------------------##\n",
        "\n",
        "## Traversing functions for Tree\n",
        "\n",
        "## ------------------------------------------------------------##\n",
        "def pre_order_traversal(rootNode):\n",
        "  if rootNode == None:\n",
        "    return None\n",
        "  else:\n",
        "    print(rootNode.value)\n",
        "    pre_order_traversal(rootNode.left_child)\n",
        "    pre_order_traversal(rootNode.right_child)\n",
        "\n",
        "## ------------------------------------------------------------##\n",
        "\n",
        "def in_order_traversal(rootNode):\n",
        "  if rootNode == None:\n",
        "    return None\n",
        "  in_order_traversal(rootNode.left_child)\n",
        "  if rootNode.value != None:\n",
        "    print(rootNode.value)\n",
        "  in_order_traversal(rootNode.right_child)\n",
        "\n",
        "## ------------------------------------------------------------##\n",
        "\n",
        "def post_order_traversal(rootNode):\n",
        "  if rootNode == None:\n",
        "    return None\n",
        "  post_order_traversal(rootNode.left_child)\n",
        "  post_order_traversal(rootNode.right_child)\n",
        "  if rootNode.value != None:\n",
        "    print(rootNode.value)\n",
        "\n",
        "## ------------------------------------------------------------##\n",
        "\n",
        "def level_order_traversal(rootNode, nodes_or_values = 1):\n",
        "  list_to_return = []\n",
        "  list_nodes = []\n",
        "  list_to_return.append([rootNode.value])\n",
        "  list_nodes.append([rootNode])\n",
        "\n",
        "  level = 0\n",
        "  \n",
        "  while list_nodes[level] != []:\n",
        "    list_nodes.append([])\n",
        "    list_to_return.append([])\n",
        "    temp_list_value = []\n",
        "    temp_list_node = []\n",
        "    for node in list_nodes[level]:\n",
        "      if node.left_child != None:\n",
        "        temp_list_value.append(node.left_child.value)\n",
        "        temp_list_node.append(node.left_child)\n",
        "      if node.right_child != None:\n",
        "        temp_list_value.append(node.right_child.value)\n",
        "        temp_list_node.append(node.right_child)\n",
        "    list_nodes[level+1] = temp_list_node\n",
        "    list_to_return[level+1] = temp_list_value\n",
        "    level +=1 \n",
        "\n",
        "  if nodes_or_values == 1:\n",
        "    return list_to_return[:-1]\n",
        "  else:\n",
        "    return list_nodes[:-1]\n",
        "\n",
        "## ------------------------------------------------------------##\n",
        "\n",
        "## Searching in Binary Tree\n",
        "\n",
        "## ------------------------------------------------------------##\n",
        "\n",
        "def search_for_node_in_tree(rootNode, search_value):\n",
        "  if rootNode.value == search_value:\n",
        "    print('Value is found')\n",
        "  elif rootNode.left_child != None and search_value <= rootNode.value: \n",
        "      search_for_node_in_tree(rootNode.left_child, search_value)\n",
        "\n",
        "  elif rootNode.right_child != None and search_value > rootNode.value:\n",
        "      search_for_node_in_tree(rootNode.right_child, search_value)  \n",
        "  \n",
        "  else:\n",
        "    print('Not found')\n",
        "\n",
        "## ------------------------------------------------------------##"
      ],
      "execution_count": null,
      "outputs": []
    },
    {
      "cell_type": "markdown",
      "metadata": {
        "id": "SOYsh67RTLiG"
      },
      "source": [
        "Deleting a node Algorithm methodology\n",
        "\n",
        "- We check if the value of the node we have matches the value we have to delete.\n",
        "- If not, we move to the left or right child of the tree depending on whether the value is greater or smaller.\n",
        "- When we reach the value, 4 cases can occur, the node is a leaf node, has only left node, only right node or both.\n",
        "> - If it is a leaf node, we just delete it right away and remove its reference from the parent node.\n",
        "> - If it has one node, the value of the node is replaced with its child's node value and the child is removed.\n",
        "> - If it has two children, the method is slightly more complex. First, we need to find its successor, i.e the smallest value that is larger than the value we want to delete. This done by first moving to the right child and then looping to find the deepest left child. \n",
        "> - If the deepest left child is a leaf node, we just replace the values and delete the deepest left child. In case the deepest left child has a right child, we delete the right child and its value is taken by the deepest left child whose original value replaces the value we need to delete.\n",
        "> - In case there are no left children for us to go to after taking the right child of the node we have to delete, we replace the node value with the right child value and delete the right child. This is why we maintain a variable called _moving_ which tells us whether we have moved to left children or not."
      ]
    },
    {
      "cell_type": "code",
      "metadata": {
        "id": "7y_XBQ0QPth8"
      },
      "source": [
        "def delete_node_from_tree(rootNode,val_delete,parent_node = None):\n",
        "  if rootNode.value == val_delete:\n",
        "    if rootNode.left_child == None and rootNode.right_child == None:\n",
        "      if parent_node != None and parent_node.left_child == rootNode:\n",
        "        parent_node.left_child = None \n",
        "      if parent_node != None and parent_node.right_child == rootNode:\n",
        "        parent_node.right_child = None \n",
        "      rootNode.value = None\n",
        "      print('Deleted')\n",
        "\n",
        "    elif rootNode.left_child == None and rootNode.right_child != None:\n",
        "      rootNode.value = rootNode.right_child.value\n",
        "      rootNode.right_child = None\n",
        "      print('Deleted')\n",
        "\n",
        "    elif rootNode.left_child != None and rootNode.right_child == None:\n",
        "      rootNode.value = rootNode.left_child.value\n",
        "      rootNode.left_child = None\n",
        "      print('Deleted')\n",
        "    \n",
        "    else:\n",
        "      temp_node = rootNode\n",
        "      parent_temp_node = temp_node\n",
        "      temp_node = temp_node.right_child\n",
        "      moving = 0\n",
        "\n",
        "      while temp_node.left_child != None:\n",
        "        parent_temp_node = temp_node\n",
        "        temp_node = temp_node.left_child\n",
        "        moving = 1\n",
        "\n",
        "      \n",
        "      if temp_node.right_child != None:\n",
        "        rootNode.value = temp_node.value\n",
        "        temp_node.value = temp_node.right_child.value\n",
        "        temp_node.right_child = None\n",
        "        print('Deleted')\n",
        "      else:\n",
        "        rootNode.value = temp_node.value\n",
        "        if moving == 1:\n",
        "          parent_temp_node.left_child = None\n",
        "        else:\n",
        "          parent_temp_node.right_child = None\n",
        "        temp_node.value = None\n",
        "        print('Deleted')\n",
        "    \n",
        "  elif rootNode.left_child != None and val_delete <= rootNode.value: \n",
        "      delete_node_from_tree(rootNode.left_child, val_delete, rootNode)\n",
        "\n",
        "  elif rootNode.right_child != None and val_delete > rootNode.value:\n",
        "      delete_node_from_tree(rootNode.right_child, val_delete, rootNode)  \n",
        "  \n",
        "  else:\n",
        "    print('Value not present in tree')"
      ],
      "execution_count": null,
      "outputs": []
    },
    {
      "cell_type": "code",
      "metadata": {
        "id": "svQqRzACGXat"
      },
      "source": [
        "tree = Binary_Search_Tree(70)"
      ],
      "execution_count": null,
      "outputs": []
    },
    {
      "cell_type": "code",
      "metadata": {
        "id": "9Y9nlMbUGa5C"
      },
      "source": [
        "insert_in_binary_search_tree(tree,50)\n",
        "insert_in_binary_search_tree(tree,90)\n",
        "insert_in_binary_search_tree(tree,30)\n",
        "insert_in_binary_search_tree(tree,60)\n",
        "insert_in_binary_search_tree(tree,80)\n",
        "insert_in_binary_search_tree(tree,100)\n",
        "insert_in_binary_search_tree(tree,20)\n",
        "insert_in_binary_search_tree(tree,40)\n",
        "insert_in_binary_search_tree(tree,85)\n",
        "insert_in_binary_search_tree(tree,75)\n",
        "insert_in_binary_search_tree(tree,72)\n",
        "insert_in_binary_search_tree(tree,76)\n",
        "insert_in_binary_search_tree(tree,73)"
      ],
      "execution_count": null,
      "outputs": []
    },
    {
      "cell_type": "code",
      "metadata": {
        "colab": {
          "base_uri": "https://localhost:8080/"
        },
        "id": "79N01f0IyEE-",
        "outputId": "76c32d23-a9b7-4356-986b-bdb1c897e777"
      },
      "source": [
        "search_for_node_in_tree(tree,60)"
      ],
      "execution_count": null,
      "outputs": [
        {
          "output_type": "stream",
          "text": [
            "Value is found\n"
          ],
          "name": "stdout"
        }
      ]
    },
    {
      "cell_type": "code",
      "metadata": {
        "id": "ipeC1rLK1m-u",
        "colab": {
          "base_uri": "https://localhost:8080/"
        },
        "outputId": "93fa6818-a101-4cc4-dfc9-2d03cb30de86"
      },
      "source": [
        "search_for_node_in_tree(tree,85)"
      ],
      "execution_count": null,
      "outputs": [
        {
          "output_type": "stream",
          "text": [
            "Value is found\n"
          ],
          "name": "stdout"
        }
      ]
    },
    {
      "cell_type": "code",
      "metadata": {
        "colab": {
          "base_uri": "https://localhost:8080/"
        },
        "id": "2JDkBM-kG8J6",
        "outputId": "2988e728-151b-4248-8767-f4deb91c5111"
      },
      "source": [
        "level_order_traversal(tree)"
      ],
      "execution_count": null,
      "outputs": [
        {
          "output_type": "execute_result",
          "data": {
            "text/plain": [
              "[[70], [50, 90], [30, 60, 80, 100], [20, 40, 75, 85], [72, 76], [73]]"
            ]
          },
          "metadata": {
            "tags": []
          },
          "execution_count": 72
        }
      ]
    },
    {
      "cell_type": "code",
      "metadata": {
        "colab": {
          "base_uri": "https://localhost:8080/"
        },
        "id": "ZXHjJMIgG_59",
        "outputId": "ff75d5c7-24eb-4155-c727-919536e42761"
      },
      "source": [
        "delete_node_from_tree2(tree,75)"
      ],
      "execution_count": null,
      "outputs": [
        {
          "output_type": "stream",
          "text": [
            "Deleted\n"
          ],
          "name": "stdout"
        }
      ]
    },
    {
      "cell_type": "code",
      "metadata": {
        "colab": {
          "base_uri": "https://localhost:8080/"
        },
        "id": "PM_IOjb1HCPD",
        "outputId": "17e00d4d-efa8-46dd-a33d-de838c278b5e"
      },
      "source": [
        "level_order_traversal(tree)"
      ],
      "execution_count": null,
      "outputs": [
        {
          "output_type": "execute_result",
          "data": {
            "text/plain": [
              "[[70], [50, 90], [30, 60, 80, 100], [20, 40, 76, 85], [72], [73]]"
            ]
          },
          "metadata": {
            "tags": []
          },
          "execution_count": 74
        }
      ]
    },
    {
      "cell_type": "markdown",
      "metadata": {
        "id": "tlszL2GZH88L"
      },
      "source": [
        "## AVL Tree"
      ]
    },
    {
      "cell_type": "code",
      "metadata": {
        "id": "4OoHYnBsH-JL"
      },
      "source": [
        "class AVL_Tree():\n",
        "  def __init__(self,value = None):\n",
        "    self.value = value\n",
        "    self.left_child = None\n",
        "    self.right_child = None\n",
        "    self.height = 1"
      ],
      "execution_count": null,
      "outputs": []
    },
    {
      "cell_type": "code",
      "metadata": {
        "id": "JVjKuqrqIPzd"
      },
      "source": [
        "## ------------------------------------------------------------##\n",
        "\n",
        "## Traversing functions for Tree\n",
        "\n",
        "## ------------------------------------------------------------##\n",
        "def pre_order_traversal(rootNode):\n",
        "  if rootNode == None:\n",
        "    return None\n",
        "  else:\n",
        "    print(rootNode.value)\n",
        "    pre_order_traversal(rootNode.left_child)\n",
        "    pre_order_traversal(rootNode.right_child)\n",
        "\n",
        "## ------------------------------------------------------------##\n",
        "\n",
        "def in_order_traversal(rootNode):\n",
        "  if rootNode == None:\n",
        "    return None\n",
        "  in_order_traversal(rootNode.left_child)\n",
        "  if rootNode.value != None:\n",
        "    print(rootNode.value)\n",
        "  in_order_traversal(rootNode.right_child)\n",
        "\n",
        "## ------------------------------------------------------------##\n",
        "\n",
        "def post_order_traversal(rootNode):\n",
        "  if rootNode == None:\n",
        "    return None\n",
        "  post_order_traversal(rootNode.left_child)\n",
        "  post_order_traversal(rootNode.right_child)\n",
        "  if rootNode.value != None:\n",
        "    print(rootNode.value)\n",
        "\n",
        "## ------------------------------------------------------------##\n",
        "\n",
        "def level_order_traversal(rootNode, nodes_or_values = 1):\n",
        "  list_to_return = []\n",
        "  list_nodes = []\n",
        "  list_to_return.append([rootNode.value])\n",
        "  list_nodes.append([rootNode])\n",
        "\n",
        "  level = 0\n",
        "  \n",
        "  while list_nodes[level] != []:\n",
        "    list_nodes.append([])\n",
        "    list_to_return.append([])\n",
        "    temp_list_value = []\n",
        "    temp_list_node = []\n",
        "    for node in list_nodes[level]:\n",
        "      if node.left_child != None:\n",
        "        temp_list_value.append(node.left_child.value)\n",
        "        temp_list_node.append(node.left_child)\n",
        "      if node.right_child != None:\n",
        "        temp_list_value.append(node.right_child.value)\n",
        "        temp_list_node.append(node.right_child)\n",
        "    list_nodes[level+1] = temp_list_node\n",
        "    list_to_return[level+1] = temp_list_value\n",
        "    level +=1 \n",
        "\n",
        "  if nodes_or_values == 1:\n",
        "    return list_to_return[:-1]\n",
        "  else:\n",
        "    return list_nodes[:-1]\n",
        "\n",
        "## ------------------------------------------------------------##\n",
        "\n",
        "## Searching in Binary Tree\n",
        "\n",
        "## ------------------------------------------------------------##\n",
        "\n",
        "def search_for_node_in_tree(rootNode, search_value):\n",
        "  if rootNode.value == search_value:\n",
        "    print('Value is found')\n",
        "  elif rootNode.left_child != None and search_value <= rootNode.value: \n",
        "      search_for_node_in_tree(rootNode.left_child, search_value)\n",
        "\n",
        "  elif rootNode.right_child != None and search_value > rootNode.value:\n",
        "      search_for_node_in_tree(rootNode.right_child, search_value)  \n",
        "  \n",
        "  else:\n",
        "    print('Not found')\n",
        "\n",
        "## ------------------------------------------------------------##"
      ],
      "execution_count": null,
      "outputs": []
    }
  ]
}
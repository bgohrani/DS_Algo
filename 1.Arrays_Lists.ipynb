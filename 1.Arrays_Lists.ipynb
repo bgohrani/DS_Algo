{
  "nbformat": 4,
  "nbformat_minor": 0,
  "metadata": {
    "colab": {
      "name": "Arrays_Lists.ipynb",
      "provenance": [],
      "authorship_tag": "ABX9TyPQXz8Kjj6CQ6WRhJeg9DWS",
      "include_colab_link": true
    },
    "kernelspec": {
      "name": "python3",
      "display_name": "Python 3"
    },
    "language_info": {
      "name": "python"
    }
  },
  "cells": [
    {
      "cell_type": "markdown",
      "metadata": {
        "id": "view-in-github",
        "colab_type": "text"
      },
      "source": [
        "<a href=\"https://colab.research.google.com/github/bgohrani/DS_Algo/blob/main/Arrays_Lists.ipynb\" target=\"_parent\"><img src=\"https://colab.research.google.com/assets/colab-badge.svg\" alt=\"Open In Colab\"/></a>"
      ]
    },
    {
      "cell_type": "code",
      "metadata": {
        "id": "U2yGwSCJkOv7"
      },
      "source": [
        "import numpy as np\n",
        "import pandas as pd\n",
        "import math\n",
        "\n",
        "#importing essential libraries"
      ],
      "execution_count": null,
      "outputs": []
    },
    {
      "cell_type": "markdown",
      "metadata": {
        "id": "z6rvdnlZSZQu"
      },
      "source": [
        "# 2. Arrays and Lists\n",
        "\n",
        "Common data structures used in programming, contiguous in memory and referenced by indices "
      ]
    },
    {
      "cell_type": "markdown",
      "metadata": {
        "id": "gwnmJ0PL_im6"
      },
      "source": [
        "## Simple example of the use of arrays"
      ]
    },
    {
      "cell_type": "code",
      "metadata": {
        "colab": {
          "base_uri": "https://localhost:8080/"
        },
        "id": "MG_K88uK7bhm",
        "outputId": "75b891a8-d1e4-40ca-9bf9-239dbda337ea"
      },
      "source": [
        "arr_size = input('How many days?')\n",
        "\n",
        "temp_array = np.zeros([int(arr_size)])\n",
        "\n",
        "for i in range(temp_array.shape[0]):\n",
        "  # print('Enter day',i+1,'s temperature')\n",
        "  temp_array[i] = input((\"Enter day %d's temperature\" %(i+1)))\n",
        "\n",
        "avg_temp = np.sum(temp_array)/temp_array.shape[0]\n",
        "print('Average temperature is',avg_temp)\n",
        "count = 0\n",
        "for i in range(temp_array.shape[0]):\n",
        "  if temp_array[i] >= avg_temp:\n",
        "    count += 1\n",
        "print(count)"
      ],
      "execution_count": null,
      "outputs": [
        {
          "output_type": "stream",
          "text": [
            "How many days?4\n",
            "Enter day 1's temperature1\n",
            "Enter day 2's temperature1\n",
            "Enter day 3's temperature1\n",
            "Enter day 4's temperature1\n",
            "Average temperature is 1.0\n",
            "4\n"
          ],
          "name": "stdout"
        }
      ]
    },
    {
      "cell_type": "markdown",
      "metadata": {
        "id": "VuYbslZt49wi"
      },
      "source": [
        "## 1. Find the missing number in a list"
      ]
    },
    {
      "cell_type": "code",
      "metadata": {
        "id": "wsCGjWts565d"
      },
      "source": [
        "def find_missing_no(arr):\n",
        "  start = arr[0]\n",
        "  end = arr[-1]\n",
        "  sum = 0\n",
        "  for i in range(start,end+1,1):\n",
        "    sum += i\n",
        "  ans = sum - np.sum(arr)\n",
        "  return ans"
      ],
      "execution_count": null,
      "outputs": []
    },
    {
      "cell_type": "code",
      "metadata": {
        "colab": {
          "base_uri": "https://localhost:8080/"
        },
        "id": "3boaeTwu7Lmn",
        "outputId": "1f013464-c0bf-4b15-a953-f4fc97f70f8c"
      },
      "source": [
        "a = []\n",
        "for i in range(500,601,1):\n",
        "  a.append(i)  \n",
        "a.pop(55)"
      ],
      "execution_count": null,
      "outputs": [
        {
          "output_type": "execute_result",
          "data": {
            "text/plain": [
              "555"
            ]
          },
          "metadata": {
            "tags": []
          },
          "execution_count": 73
        }
      ]
    },
    {
      "cell_type": "code",
      "metadata": {
        "colab": {
          "base_uri": "https://localhost:8080/"
        },
        "id": "GIKmfoGX8818",
        "outputId": "7497e685-3790-468c-a552-7e53745beb8b"
      },
      "source": [
        "find_missing_no(a)"
      ],
      "execution_count": null,
      "outputs": [
        {
          "output_type": "execute_result",
          "data": {
            "text/plain": [
              "555"
            ]
          },
          "metadata": {
            "tags": []
          },
          "execution_count": 74
        }
      ]
    },
    {
      "cell_type": "markdown",
      "metadata": {
        "id": "cJdlN4dK_hrl"
      },
      "source": [
        "## 2. Given an array of numbers and a target, find the two numbers from the array which would add up to give the target"
      ]
    },
    {
      "cell_type": "code",
      "metadata": {
        "id": "XWqPS_0zAQfw"
      },
      "source": [
        "def find_sum_pairs(list_nos,target):\n",
        "  ans = []\n",
        "  for number in list_nos:\n",
        "    if number > target:\n",
        "      continue\n",
        "    else:\n",
        "      number_to_search = (target - number)\n",
        "      try:\n",
        "        list_nos.index(number_to_search)\n",
        "        ans.append(list_nos.index(number))\n",
        "        ans.append(list_nos.index(number_to_search))\n",
        "        list_nos[list_nos.index(number)] += 0.5\n",
        "      except:\n",
        "        continue\n",
        "  return ans"
      ],
      "execution_count": null,
      "outputs": []
    },
    {
      "cell_type": "code",
      "metadata": {
        "id": "V8LftjOBBpEm"
      },
      "source": [
        "a = [6,4,23,14,9]\n",
        "target = 18"
      ],
      "execution_count": null,
      "outputs": []
    },
    {
      "cell_type": "code",
      "metadata": {
        "colab": {
          "base_uri": "https://localhost:8080/"
        },
        "id": "UpnMfw2iBRUe",
        "outputId": "f4caf196-5855-4569-a0a1-df72a26bbea3"
      },
      "source": [
        "find_sum_pairs(a,18)"
      ],
      "execution_count": null,
      "outputs": [
        {
          "output_type": "execute_result",
          "data": {
            "text/plain": [
              "[1, 3, 4, 4]"
            ]
          },
          "metadata": {
            "tags": []
          },
          "execution_count": 28
        }
      ]
    },
    {
      "cell_type": "markdown",
      "metadata": {
        "id": "pDlGFhlbCUxc"
      },
      "source": [
        "## 3. Finding a number in an array\n"
      ]
    },
    {
      "cell_type": "code",
      "metadata": {
        "id": "mY2I2cV0BVsc"
      },
      "source": [
        "def find_element_array(arr, element):\n",
        "  search_list = list(arr)\n",
        "  try:\n",
        "    print(search_list.index(element))\n",
        "  except:\n",
        "    print('Not')"
      ],
      "execution_count": null,
      "outputs": []
    },
    {
      "cell_type": "code",
      "metadata": {
        "id": "jd94UyiOE6YU"
      },
      "source": [
        "a= np.array([1,2,3,4,5,7,8,9,10])"
      ],
      "execution_count": null,
      "outputs": []
    },
    {
      "cell_type": "code",
      "metadata": {
        "colab": {
          "base_uri": "https://localhost:8080/"
        },
        "id": "PYBkKYPGEvwO",
        "outputId": "a89a3bfb-f332-4267-a2c6-5449ccf6a738"
      },
      "source": [
        "find_element_array(a,4)"
      ],
      "execution_count": null,
      "outputs": [
        {
          "output_type": "stream",
          "text": [
            "3\n"
          ],
          "name": "stdout"
        }
      ]
    },
    {
      "cell_type": "markdown",
      "metadata": {
        "id": "42Tyn1QSFbx8"
      },
      "source": [
        "## 4. Find max product of two integers in an array"
      ]
    },
    {
      "cell_type": "code",
      "metadata": {
        "id": "mKM6RGshFt0p"
      },
      "source": [
        "def find_max_product(arr):\n",
        "  search_list = list(arr)\n",
        "  num1 = max(search_list)\n",
        "  search_list.remove(num1)\n",
        "  num2 = max(search_list)\n",
        "  ans = num1 * num2\n",
        "  return ans"
      ],
      "execution_count": null,
      "outputs": []
    },
    {
      "cell_type": "code",
      "metadata": {
        "id": "MvlRkoFXGT1H"
      },
      "source": [
        "a = np.array([500,600,200,150,870,941,732,871])"
      ],
      "execution_count": null,
      "outputs": []
    },
    {
      "cell_type": "code",
      "metadata": {
        "colab": {
          "base_uri": "https://localhost:8080/"
        },
        "id": "mOiDgjmOF-Up",
        "outputId": "5277a77e-e7f2-4c3d-f90a-3332ee015f45"
      },
      "source": [
        "find_max_product(a)"
      ],
      "execution_count": null,
      "outputs": [
        {
          "output_type": "execute_result",
          "data": {
            "text/plain": [
              "819611"
            ]
          },
          "metadata": {
            "tags": []
          },
          "execution_count": 57
        }
      ]
    },
    {
      "cell_type": "markdown",
      "metadata": {
        "id": "7UXK3KQbILtD"
      },
      "source": [
        "## 5. Find if all elements in the list are unique"
      ]
    },
    {
      "cell_type": "code",
      "metadata": {
        "id": "DexhvPHXIXYX"
      },
      "source": [
        "def check_if_repeated(check_list):\n",
        "  for item in check_list:\n",
        "    check_list.remove(item)\n",
        "    try:\n",
        "      check_list.index(item)\n",
        "      print('All are not unique')\n",
        "      print(item,'is repeated')\n",
        "      break\n",
        "    except:\n",
        "      continue\n"
      ],
      "execution_count": null,
      "outputs": []
    },
    {
      "cell_type": "code",
      "metadata": {
        "id": "M1M7T1jwKICB"
      },
      "source": [
        "a = [1,2,3,4,5,6,7,8,9,9,10]"
      ],
      "execution_count": null,
      "outputs": []
    },
    {
      "cell_type": "code",
      "metadata": {
        "colab": {
          "base_uri": "https://localhost:8080/"
        },
        "id": "Sl5G3lGuKE7w",
        "outputId": "bca2cd5c-475d-46b7-8b15-f3a64aeb9f7a"
      },
      "source": [
        "check_if_repeated(a)"
      ],
      "execution_count": null,
      "outputs": [
        {
          "output_type": "stream",
          "text": [
            "All are not unique\n",
            "9 is repeated\n"
          ],
          "name": "stdout"
        }
      ]
    },
    {
      "cell_type": "markdown",
      "metadata": {
        "id": "gVJ4KTvGKbcs"
      },
      "source": [
        "## 6. Check if given string is permutation of another"
      ]
    },
    {
      "cell_type": "code",
      "metadata": {
        "id": "moDI9N8aKvFf"
      },
      "source": [
        "def check_list_permutation(list1, list2):\n",
        "  a = len(list1)\n",
        "  b = len(list2)\n",
        "  if a>=b:\n",
        "    for item in list1:\n",
        "      result = 1\n",
        "      try:\n",
        "        list2.index(item)\n",
        "      except:\n",
        "        result = 0\n",
        "        break\n",
        "    if result == 1:\n",
        "      print('They are permutations of each other')\n",
        "    else:\n",
        "      print('Not permutation')\n",
        "  else:\n",
        "    check_list_permutation(list2,list1)\n"
      ],
      "execution_count": null,
      "outputs": []
    },
    {
      "cell_type": "code",
      "metadata": {
        "id": "qRSCyZwlLovA"
      },
      "source": [
        "a = ['e','f','g','h']\n",
        "b = ['e','g','h','f','h']"
      ],
      "execution_count": null,
      "outputs": []
    },
    {
      "cell_type": "code",
      "metadata": {
        "colab": {
          "base_uri": "https://localhost:8080/"
        },
        "id": "mtiRMoCpLorY",
        "outputId": "fd2a2304-91a7-4f78-c109-87b26c028864"
      },
      "source": [
        "check_list_permutation(a,b)"
      ],
      "execution_count": null,
      "outputs": [
        {
          "output_type": "stream",
          "text": [
            "They are permutations of each other\n"
          ],
          "name": "stdout"
        }
      ]
    },
    {
      "cell_type": "markdown",
      "metadata": {
        "id": "BBrYkTmuN-AV"
      },
      "source": [
        "## 7. Rotate a matrix by 90 degrees"
      ]
    },
    {
      "cell_type": "code",
      "metadata": {
        "id": "zos0f9EMRgiV"
      },
      "source": [
        "def rotate_matrix_90(arr):\n",
        "  b = np.zeros([arr.shape[1],arr.shape[0]]).astype(int)\n",
        "  for i in range(arr.shape[0]):\n",
        "    b[:,i] = arr.transpose()[:,(arr.shape[0] -1 -i)]\n",
        "  return b"
      ],
      "execution_count": null,
      "outputs": []
    },
    {
      "cell_type": "code",
      "metadata": {
        "id": "-LgpEXmKOA2W"
      },
      "source": [
        "a = np.array([[1,2,3,4],[5,6,7,8],[9,10,11,12]])"
      ],
      "execution_count": null,
      "outputs": []
    },
    {
      "cell_type": "code",
      "metadata": {
        "id": "gfrlDDiQRihO"
      },
      "source": [
        "b = np.array([[1,2,3],[4,5,6],[7,8,9]])"
      ],
      "execution_count": null,
      "outputs": []
    },
    {
      "cell_type": "code",
      "metadata": {
        "colab": {
          "base_uri": "https://localhost:8080/"
        },
        "id": "QI16LPEQQaV-",
        "outputId": "f377df76-60e0-48a9-9b2a-c167429dd071"
      },
      "source": [
        "rotate_matrix_90(a)"
      ],
      "execution_count": null,
      "outputs": [
        {
          "output_type": "execute_result",
          "data": {
            "text/plain": [
              "array([[ 9,  5,  1],\n",
              "       [10,  6,  2],\n",
              "       [11,  7,  3],\n",
              "       [12,  8,  4]])"
            ]
          },
          "metadata": {
            "tags": []
          },
          "execution_count": 174
        }
      ]
    }
  ]
}

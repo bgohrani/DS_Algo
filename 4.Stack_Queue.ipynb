{
  "nbformat": 4,
  "nbformat_minor": 0,
  "metadata": {
    "colab": {
      "name": "Stack_Queue.ipynb",
      "provenance": [],
      "authorship_tag": "ABX9TyOr+6w0ht0EeAdO+kxtjYJ0",
      "include_colab_link": true
    },
    "kernelspec": {
      "name": "python3",
      "display_name": "Python 3"
    },
    "language_info": {
      "name": "python"
    }
  },
  "cells": [
    {
      "cell_type": "markdown",
      "metadata": {
        "id": "view-in-github",
        "colab_type": "text"
      },
      "source": [
        "<a href=\"https://colab.research.google.com/github/bgohrani/DS_Algo/blob/main/Stack_Queue.ipynb\" target=\"_parent\"><img src=\"https://colab.research.google.com/assets/colab-badge.svg\" alt=\"Open In Colab\"/></a>"
      ]
    },
    {
      "cell_type": "code",
      "metadata": {
        "id": "U2yGwSCJkOv7"
      },
      "source": [
        "import numpy as np\n",
        "import pandas as pd\n",
        "import math\n",
        "\n",
        "#importing essential libraries"
      ],
      "execution_count": null,
      "outputs": []
    },
    {
      "cell_type": "code",
      "metadata": {
        "id": "ju25KUFuoZWj"
      },
      "source": [
        ""
      ],
      "execution_count": null,
      "outputs": []
    },
    {
      "cell_type": "markdown",
      "metadata": {
        "id": "eeWqaR6oQLe9"
      },
      "source": [
        "# 4. Stack\n",
        "\n",
        "A data structure where data is placed on top of one another. Items can only be accessed after removing those placed after them, i.e. _First-In-Last-Out_"
      ]
    },
    {
      "cell_type": "markdown",
      "metadata": {
        "id": "l9Wj_sWSouIY"
      },
      "source": [
        "## Stack class with list"
      ]
    },
    {
      "cell_type": "code",
      "metadata": {
        "id": "abGG-dNkQMLw"
      },
      "source": [
        "class Stack():\n",
        "  def __init__(self):\n",
        "    self.list = []\n",
        "  \n",
        "  def __str__(self):\n",
        "    data = self.list.reverse()\n",
        "    data = [str(x) for x in self.list]\n",
        "    return '\\n'.join(data)\n",
        "  \n",
        "  def check_is_empty(self):\n",
        "    if self.list == []:\n",
        "      print('List is empty')\n",
        "    else:\n",
        "      print('False')\n",
        "  \n",
        "  def push(self, value):\n",
        "    self.list.append(value)\n",
        "  \n",
        "  def pop(self):\n",
        "    if self.list == []:\n",
        "      print('Stack is empty')\n",
        "    else:\n",
        "      return self.list.pop(0)\n",
        "  \n",
        "  def peek(self):\n",
        "    if self.list == []:\n",
        "      print('List is empty')\n",
        "    else:\n",
        "      return self.list[0]\n",
        "  \n",
        "  def delete_all(self):\n",
        "    self.list = []"
      ],
      "execution_count": null,
      "outputs": []
    },
    {
      "cell_type": "code",
      "metadata": {
        "id": "7Uf2BmGPcL4f"
      },
      "source": [
        "stack = Stack()\n",
        "stack.push(1)\n",
        "stack.push(2)\n",
        "stack.push(3)\n",
        "stack.push(4)"
      ],
      "execution_count": null,
      "outputs": []
    },
    {
      "cell_type": "markdown",
      "metadata": {
        "id": "7WBQZ4Kvozwf"
      },
      "source": [
        "## Stack class (list) with bounded size"
      ]
    },
    {
      "cell_type": "code",
      "metadata": {
        "id": "5Nnxc_lZnwnh"
      },
      "source": [
        "class Stack_limit():\n",
        "  def __init__(self,max_size):\n",
        "    self.max_size = max_size\n",
        "    self.list = []\n",
        "  \n",
        "  def __str__(self):\n",
        "    data = self.list.reverse()\n",
        "    data = [str(x) for x in self.list]\n",
        "    return '\\n'.join(data)\n",
        "  \n",
        "  def check_is_empty(self):\n",
        "    if self.list == []:\n",
        "      print('List is empty')\n",
        "    else:\n",
        "      print('False')\n",
        "  \n",
        "  def check_is_full(self):\n",
        "    if len(self.list) == self.max_size:\n",
        "      return True\n",
        "    else:\n",
        "      return False\n",
        "  \n",
        "  def push(self, value):\n",
        "    if self.check_is_full():\n",
        "      print('Not possible, max limit reached')\n",
        "    else:\n",
        "      self.list.append(value)\n",
        "  \n",
        "  def pop(self):\n",
        "    if self.list == []:\n",
        "      print('Stack is empty')\n",
        "    else:\n",
        "      return self.list.pop(0)\n",
        "  \n",
        "  def peek(self):\n",
        "    if self.list == []:\n",
        "      print('List is empty')\n",
        "    else:\n",
        "      return self.list[0]\n",
        "  \n",
        "  def delete_all(self):\n",
        "    self.list = []"
      ],
      "execution_count": null,
      "outputs": []
    },
    {
      "cell_type": "code",
      "metadata": {
        "id": "OOKCulYDpJZ_"
      },
      "source": [
        "stack = Stack_limit(2)"
      ],
      "execution_count": null,
      "outputs": []
    },
    {
      "cell_type": "code",
      "metadata": {
        "id": "eLlqAa2apc9u"
      },
      "source": [
        "stack.push(1)"
      ],
      "execution_count": null,
      "outputs": []
    },
    {
      "cell_type": "code",
      "metadata": {
        "id": "R_wZjJ0VpeT0"
      },
      "source": [
        "stack.push(2)"
      ],
      "execution_count": null,
      "outputs": []
    },
    {
      "cell_type": "code",
      "metadata": {
        "colab": {
          "base_uri": "https://localhost:8080/"
        },
        "id": "_gCuofFLppXx",
        "outputId": "532c3f62-a46f-44d2-de8b-87f72507874c"
      },
      "source": [
        "stack.push(7)"
      ],
      "execution_count": null,
      "outputs": [
        {
          "output_type": "stream",
          "text": [
            "Not possible, max limit reached\n"
          ],
          "name": "stdout"
        }
      ]
    },
    {
      "cell_type": "markdown",
      "metadata": {
        "id": "Bi7JWHACypAP"
      },
      "source": [
        "## Stack using Single Linked List\n",
        "\n",
        "- Class for Single Linked List\n",
        "- Class for Node\n",
        "- Class for Stack"
      ]
    },
    {
      "cell_type": "code",
      "metadata": {
        "id": "eO8TXsEOzL2S"
      },
      "source": [
        "class SingleLinkedList():  ## Initializing class for Single Linked List\n",
        "  def __init__(self):\n",
        "    self.head = None \n",
        "    self.tail = None\n",
        "  \n",
        "  def __iter__(self): ## Default iterating function, to print out elements of the list\n",
        "    node = self.head\n",
        "    while node != None:\n",
        "      yield node \n",
        "      node = node.next\n",
        "  \n",
        "  def __str__(self):\n",
        "    data = [str(node.value) for node in self]\n",
        "    return '->'.join(data)\n",
        "  \n",
        "  def insert_in_list(self,value,location): ## Function to insert a value in list\n",
        "    new_node = Node(value)\n",
        "    if self.head == None:  ## If the list is empty\n",
        "      self.head = new_node\n",
        "      self.tail = new_node\n",
        "    elif location == 0: ## If we want to insert node at the beginning\n",
        "      current_first = self.head\n",
        "      self.head = new_node\n",
        "      new_node.next = current_first\n",
        "    elif location == 1: ## If we want to insert node at the end\n",
        "      current_last = self.tail\n",
        "      current_last.next = new_node\n",
        "      self.tail = new_node\n",
        "    else: ## If we want to insert at any other position in the middle\n",
        "      node_prev = self.head\n",
        "      for i in range(0,location-1,1):\n",
        "        node_prev = node_prev.next\n",
        "      node_after = node_prev.next\n",
        "      node_prev.next = new_node\n",
        "      new_node.next = node_after\n",
        "  \n",
        "  def search_in_list(self,value): ## Check whether an element in present or not\n",
        "    if self.head == None:\n",
        "      print('List is empty')\n",
        "    else:\n",
        "      ref_node = self.head\n",
        "      while ref_node != None:\n",
        "        check = ref_node.value\n",
        "        if value == check:\n",
        "          return 'Present in list'\n",
        "          break\n",
        "        ref_node = ref_node.next\n",
        "    \n",
        "    return 'Not present'\n",
        "  \n",
        "  def delete_from_list(self,location):\n",
        "    if self.head == None:\n",
        "      print('Not possible, list is empty')\n",
        "    elif location == 0:\n",
        "      if self.head.next == None:\n",
        "        self.head = None\n",
        "        self.tail = None\n",
        "      else:\n",
        "        self.head = self.head.next\n",
        "    elif location == 1:\n",
        "      if self.head.next == None:\n",
        "        self.head = None\n",
        "        self.tail = None\n",
        "      else:\n",
        "        node = self.head\n",
        "        while node != None:\n",
        "          if node.next == self.tail:\n",
        "            break\n",
        "          else:\n",
        "            node = node.next\n",
        "        node.next = None\n",
        "        self.tail = node\n",
        "    else:\n",
        "      node = self.head\n",
        "      for i in range(0,location - 2):\n",
        "        node = node.next\n",
        "      node.next = node.next.next"
      ],
      "execution_count": null,
      "outputs": []
    },
    {
      "cell_type": "code",
      "metadata": {
        "id": "Pa3jhNFey7bY"
      },
      "source": [
        "class Node():\n",
        "  def __init__(self,value= None):\n",
        "    self.value = value\n",
        "    self.next = None"
      ],
      "execution_count": null,
      "outputs": []
    },
    {
      "cell_type": "code",
      "metadata": {
        "id": "W0SRaTf5yteo"
      },
      "source": [
        "class Stack_Linked_list():\n",
        "  def __init__(self):\n",
        "    self.list = SingleLinkedList()\n",
        "  \n",
        "  def __str__(self):\n",
        "    data = [str(node.value) for node in self.list]\n",
        "    return ' -> '.join(data)\n",
        "\n",
        "\n",
        "  def check_is_empty(self):\n",
        "    if self.list.head == None:\n",
        "      return True\n",
        "    else:\n",
        "      return False\n",
        "  \n",
        "  def push(self, value):\n",
        "    self.list.insert_in_list(value,0)\n",
        "  \n",
        "  def pop(self):\n",
        "    if self.list.head == None:\n",
        "      print('Stack is empty')\n",
        "    else:\n",
        "      print(self.list.head.value)\n",
        "      self.list.delete_from_list(0)\n",
        "  \n",
        "  def peek(self):\n",
        "    if self.list.head == None:\n",
        "      print('List is empty')\n",
        "    else:\n",
        "      return self.list.head.value\n",
        "  \n",
        "  def delete_all(self):\n",
        "    self.list.head = None\n",
        "    self.list.tail = None"
      ],
      "execution_count": null,
      "outputs": []
    },
    {
      "cell_type": "code",
      "metadata": {
        "id": "XgGtkuuf73xV"
      },
      "source": [
        "stack  = Stack_Linked_list()\n",
        "stack.push(4)\n",
        "stack.push(8)\n",
        "stack.push(12)\n",
        "stack.push(10)"
      ],
      "execution_count": null,
      "outputs": []
    },
    {
      "cell_type": "code",
      "metadata": {
        "colab": {
          "base_uri": "https://localhost:8080/"
        },
        "id": "pc23FE_98AUp",
        "outputId": "42b02f17-ab99-4c44-d916-67c15690edd3"
      },
      "source": [
        "print(stack)"
      ],
      "execution_count": null,
      "outputs": [
        {
          "output_type": "stream",
          "text": [
            "10 -> 12 -> 8 -> 4\n"
          ],
          "name": "stdout"
        }
      ]
    },
    {
      "cell_type": "code",
      "metadata": {
        "colab": {
          "base_uri": "https://localhost:8080/"
        },
        "id": "3exdzmuW8Chi",
        "outputId": "7511107b-2305-49f6-fd97-c31011cc138f"
      },
      "source": [
        "stack.pop()"
      ],
      "execution_count": null,
      "outputs": [
        {
          "output_type": "stream",
          "text": [
            "10\n"
          ],
          "name": "stdout"
        }
      ]
    },
    {
      "cell_type": "code",
      "metadata": {
        "colab": {
          "base_uri": "https://localhost:8080/"
        },
        "id": "Z57nTpHx8mjP",
        "outputId": "01d4bae8-ef86-4ad0-a480-7ed71cb118d2"
      },
      "source": [
        "print(stack)"
      ],
      "execution_count": null,
      "outputs": [
        {
          "output_type": "stream",
          "text": [
            "12 -> 8 -> 4\n"
          ],
          "name": "stdout"
        }
      ]
    },
    {
      "cell_type": "code",
      "metadata": {
        "colab": {
          "base_uri": "https://localhost:8080/"
        },
        "id": "jJNBKqEi8oAH",
        "outputId": "38f7b100-3c97-45bb-d888-3746862cae17"
      },
      "source": [
        "stack.peek()"
      ],
      "execution_count": null,
      "outputs": [
        {
          "output_type": "execute_result",
          "data": {
            "text/plain": [
              "12"
            ]
          },
          "metadata": {
            "tags": []
          },
          "execution_count": 38
        }
      ]
    },
    {
      "cell_type": "code",
      "metadata": {
        "colab": {
          "base_uri": "https://localhost:8080/"
        },
        "id": "JaMrePHr8qGK",
        "outputId": "efbc7722-48dd-455c-d90f-0a05f4ccaaa0"
      },
      "source": [
        "print(stack)"
      ],
      "execution_count": null,
      "outputs": [
        {
          "output_type": "stream",
          "text": [
            "12 -> 8 -> 4\n"
          ],
          "name": "stdout"
        }
      ]
    },
    {
      "cell_type": "code",
      "metadata": {
        "colab": {
          "base_uri": "https://localhost:8080/"
        },
        "id": "bmAD-bZP8rXj",
        "outputId": "72a66669-64a4-4ea0-dccd-0ae7cec68ea6"
      },
      "source": [
        "stack.delete_all()\n",
        "print(stack)"
      ],
      "execution_count": null,
      "outputs": [
        {
          "output_type": "stream",
          "text": [
            "\n"
          ],
          "name": "stdout"
        }
      ]
    },
    {
      "cell_type": "code",
      "metadata": {
        "id": "H230YK3T8uIt"
      },
      "source": [
        ""
      ],
      "execution_count": null,
      "outputs": []
    },
    {
      "cell_type": "markdown",
      "metadata": {
        "id": "Eeh6OfXJ3MXm"
      },
      "source": [
        "# 5. Queue\n",
        "\n",
        "A data structure where items are accessed in the order they were placed, i.e. _First-In-First-Out_"
      ]
    },
    {
      "cell_type": "markdown",
      "metadata": {
        "id": "Nh1nS0tM3iVb"
      },
      "source": [
        "## Queue using Python Lists"
      ]
    },
    {
      "cell_type": "code",
      "metadata": {
        "id": "ByH3qz-f3hTl"
      },
      "source": [
        "class Queue():\n",
        "  def __init__(self):\n",
        "    self.list = []\n",
        "\n",
        "  def __str__(self):\n",
        "    data = [str(x) for x in self.list]\n",
        "    return ' '.join(data)\n",
        "  \n",
        "  def check_is_empty(self):\n",
        "    if self.list == []:\n",
        "      return True\n",
        "    else:\n",
        "      return False\n",
        "  \n",
        "  def enqueue(self,value):\n",
        "    self.list.append(value)\n",
        "  \n",
        "  def dequeue(self):\n",
        "    if self.list == []:\n",
        "      print('Queue is empty')\n",
        "    else:\n",
        "      return self.list.pop(0)\n",
        "  \n",
        "  def peek(self):\n",
        "    if self.list == []:\n",
        "      print('Queue is empty')\n",
        "    else:\n",
        "      return self.list[0]\n",
        "  \n",
        "  def delete_all(self):\n",
        "    self.list = []\n",
        "  "
      ],
      "execution_count": null,
      "outputs": []
    },
    {
      "cell_type": "code",
      "metadata": {
        "id": "2VUjZaho4kWO"
      },
      "source": [
        "que = Queue()\n",
        "que.enqueue(1)\n",
        "que.enqueue(2)\n",
        "que.enqueue(3)\n",
        "que.enqueue(4)"
      ],
      "execution_count": null,
      "outputs": []
    },
    {
      "cell_type": "code",
      "metadata": {
        "colab": {
          "base_uri": "https://localhost:8080/"
        },
        "id": "aF2HNfHK4q5b",
        "outputId": "6f15b756-d447-4f8f-8916-48c0e11faccd"
      },
      "source": [
        "print(que)"
      ],
      "execution_count": null,
      "outputs": [
        {
          "output_type": "stream",
          "text": [
            "1 2 3 4\n"
          ],
          "name": "stdout"
        }
      ]
    },
    {
      "cell_type": "code",
      "metadata": {
        "colab": {
          "base_uri": "https://localhost:8080/"
        },
        "id": "uTPYOhfp4tTp",
        "outputId": "ba69e49a-85f7-484c-a514-152388f0f83e"
      },
      "source": [
        "que.dequeue()\n",
        "print(que)"
      ],
      "execution_count": null,
      "outputs": [
        {
          "output_type": "stream",
          "text": [
            "2 3 4\n"
          ],
          "name": "stdout"
        }
      ]
    },
    {
      "cell_type": "code",
      "metadata": {
        "id": "7QYgUN-w435H"
      },
      "source": [
        ""
      ],
      "execution_count": null,
      "outputs": []
    },
    {
      "cell_type": "markdown",
      "metadata": {
        "id": "s3jrx23ei8rA"
      },
      "source": [
        "## Circular Queue to avoid memory allocation problems"
      ]
    },
    {
      "cell_type": "code",
      "metadata": {
        "id": "fJHcz3HljA-x"
      },
      "source": [
        "class Circular_Queue():\n",
        "  def __init__(self,size):\n",
        "    self.list = size*[None]\n",
        "    self.size = size\n",
        "    self.top = -1\n",
        "    self.start = -1\n",
        "  \n",
        "  def __str__(self):\n",
        "    data = [str(x) for x in self.list]\n",
        "    return ' '.join(data)\n",
        "  \n",
        "  def check_is_full(self):\n",
        "    if self.top + 1 == self.size and self.start == 0:\n",
        "      return True\n",
        "    elif self.top + 1 == self.start:\n",
        "      return True\n",
        "    else:\n",
        "      return False\n",
        "  \n",
        "  def check_is_empty(self):\n",
        "    if self.top == -1 and self.start == -1:\n",
        "      return True\n",
        "    else:\n",
        "      return False\n",
        "  \n",
        "  def enqueue(self,value):\n",
        "    if self.check_is_full():\n",
        "      print('Full. Dequeue first')\n",
        "    else:\n",
        "      if self.top + 1 == self.size:\n",
        "        self.top = 0\n",
        "      elif self.top == -1 and self.start == -1:\n",
        "        self.top += 1\n",
        "        self.start += 1\n",
        "      else:\n",
        "        self.top += 1\n",
        "      self.list[self.top] = value\n",
        "\n",
        "\n",
        "  def dequeue(self):\n",
        "    if self.check_is_empty():\n",
        "      print('Not possible, queue is empty')\n",
        "    else:\n",
        "      print('Removing', self.list[self.start])\n",
        "      self.list[self.start] = None\n",
        "      self.start += 1\n",
        "    if self.start == self.size:\n",
        "      self.start = -1\n",
        "      self.top = -1\n",
        "  \n",
        "  def peek(self):\n",
        "    if self.check_is_empty():\n",
        "      print('Queue is empty')\n",
        "    else:\n",
        "      return self.list[self.start]\n",
        "  \n",
        "  def delete_all(self):\n",
        "    self.list = self.size * [None]\n",
        "\n",
        "\n"
      ],
      "execution_count": null,
      "outputs": []
    },
    {
      "cell_type": "code",
      "metadata": {
        "colab": {
          "base_uri": "https://localhost:8080/"
        },
        "id": "RjAxgW6OAd7r",
        "outputId": "e14bc27b-2182-48c2-bb73-81e7b042b999"
      },
      "source": [
        "cque = Circular_Queue(4)\n",
        "cque.check_is_empty()"
      ],
      "execution_count": null,
      "outputs": [
        {
          "output_type": "execute_result",
          "data": {
            "text/plain": [
              "True"
            ]
          },
          "metadata": {
            "tags": []
          },
          "execution_count": 214
        }
      ]
    },
    {
      "cell_type": "code",
      "metadata": {
        "id": "Y8CW49TwHgeW"
      },
      "source": [
        "cque.enqueue(1)\n",
        "cque.enqueue(2)\n",
        "cque.enqueue(3)\n",
        "cque.enqueue(4)"
      ],
      "execution_count": null,
      "outputs": []
    },
    {
      "cell_type": "markdown",
      "metadata": {
        "id": "yxAuGYPbrax7"
      },
      "source": [
        "## Queue using Linked List"
      ]
    },
    {
      "cell_type": "code",
      "metadata": {
        "id": "9xwpWBQJraLy"
      },
      "source": [
        "class Node():\n",
        "  def __init__(self,value= None):\n",
        "    self.value = value\n",
        "    self.next = None"
      ],
      "execution_count": null,
      "outputs": []
    },
    {
      "cell_type": "code",
      "metadata": {
        "id": "ZrAhJM3frVC9"
      },
      "source": [
        "class SingleLinkedList():  ## Initializing class for Single Linked List\n",
        "  def __init__(self):\n",
        "    self.head = None \n",
        "    self.tail = None\n",
        "  \n",
        "  def __iter__(self): ## Default iterating function, to print out elements of the list\n",
        "    node = self.head\n",
        "    while node != None:\n",
        "      yield node \n",
        "      node = node.next\n",
        "  \n",
        "  def __str__(self):\n",
        "    data = [str(node.value) for node in self]\n",
        "    return '->'.join(data)\n",
        "  \n",
        "  def insert_in_list(self,value,location): ## Function to insert a value in list\n",
        "    new_node = Node(value)\n",
        "    if self.head == None:  ## If the list is empty\n",
        "      self.head = new_node\n",
        "      self.tail = new_node\n",
        "    elif location == 0: ## If we want to insert node at the beginning\n",
        "      current_first = self.head\n",
        "      self.head = new_node\n",
        "      new_node.next = current_first\n",
        "    elif location == 1: ## If we want to insert node at the end\n",
        "      current_last = self.tail\n",
        "      current_last.next = new_node\n",
        "      self.tail = new_node\n",
        "    else: ## If we want to insert at any other position in the middle\n",
        "      node_prev = self.head\n",
        "      for i in range(0,location-1,1):\n",
        "        node_prev = node_prev.next\n",
        "      node_after = node_prev.next\n",
        "      node_prev.next = new_node\n",
        "      new_node.next = node_after\n",
        "  \n",
        "  def search_in_list(self,value): ## Check whether an element in present or not\n",
        "    if self.head == None:\n",
        "      print('List is empty')\n",
        "    else:\n",
        "      ref_node = self.head\n",
        "      while ref_node != None:\n",
        "        check = ref_node.value\n",
        "        if value == check:\n",
        "          return 'Present in list'\n",
        "          break\n",
        "        ref_node = ref_node.next\n",
        "    \n",
        "    return 'Not present'\n",
        "  \n",
        "  def delete_from_list(self,location):\n",
        "    if self.head == None:\n",
        "      print('Not possible, list is empty')\n",
        "    elif location == 0:\n",
        "      if self.head.next == None:\n",
        "        self.head = None\n",
        "        self.tail = None\n",
        "      else:\n",
        "        self.head = self.head.next\n",
        "    elif location == 1:\n",
        "      if self.head.next == None:\n",
        "        self.head = None\n",
        "        self.tail = None\n",
        "      else:\n",
        "        node = self.head\n",
        "        while node != None:\n",
        "          if node.next == self.tail:\n",
        "            break\n",
        "          else:\n",
        "            node = node.next\n",
        "        node.next = None\n",
        "        self.tail = node\n",
        "    else:\n",
        "      node = self.head\n",
        "      for i in range(0,location - 2):\n",
        "        node = node.next\n",
        "      node.next = node.next.next"
      ],
      "execution_count": null,
      "outputs": []
    },
    {
      "cell_type": "code",
      "metadata": {
        "id": "bp5__VOqrh03"
      },
      "source": [
        "class Queue_Linked_list():\n",
        "  def __init__(self):\n",
        "    self.list = SingleLinkedList()\n",
        "  \n",
        "  def __str__(self):\n",
        "    data = [str(node.value) for node in self.list]\n",
        "    return ' -> '.join(data)\n",
        "\n",
        "\n",
        "  def check_is_empty(self):\n",
        "    if self.list.head == None:\n",
        "      return True\n",
        "    else:\n",
        "      return False\n",
        "  \n",
        "  def enqueue(self, value):\n",
        "    self.list.insert_in_list(value,1)\n",
        "  \n",
        "  def dequeue(self):\n",
        "    if self.list.head == None:\n",
        "      print('Queue is empty')\n",
        "    else:\n",
        "      print(self.list.head.value)\n",
        "      self.list.delete_from_list(0)\n",
        "  \n",
        "  def peek(self):\n",
        "    if self.list.head == None:\n",
        "      print('List is empty')\n",
        "    else:\n",
        "      return self.list.head.value\n",
        "  \n",
        "  def delete_all(self):\n",
        "    self.list.head = None\n",
        "    self.list.tail = None"
      ],
      "execution_count": null,
      "outputs": []
    },
    {
      "cell_type": "markdown",
      "metadata": {
        "id": "gu5_8AlznvAr"
      },
      "source": [
        "## Queue using Python modules"
      ]
    },
    {
      "cell_type": "code",
      "metadata": {
        "id": "ClNd6wwQny0l"
      },
      "source": [
        "from collections import deque\n",
        "import queue as q"
      ],
      "execution_count": null,
      "outputs": []
    },
    {
      "cell_type": "code",
      "metadata": {
        "colab": {
          "base_uri": "https://localhost:8080/"
        },
        "id": "YyJCzQlmn3o5",
        "outputId": "fce886e7-600f-4cc2-91da-e1324efcc71b"
      },
      "source": [
        "que = deque(maxlen = 3)\n",
        "que.append(1)\n",
        "que.append(2)\n",
        "que.append(3)\n",
        "print(que)\n"
      ],
      "execution_count": null,
      "outputs": [
        {
          "output_type": "stream",
          "text": [
            "deque([1, 2, 3], maxlen=3)\n"
          ],
          "name": "stdout"
        }
      ]
    },
    {
      "cell_type": "code",
      "metadata": {
        "colab": {
          "base_uri": "https://localhost:8080/"
        },
        "id": "D_0A98uXo7yM",
        "outputId": "edfc3a45-027c-4696-e076-d791f9d1f186"
      },
      "source": [
        "que = q.Queue(maxsize=3)\n",
        "que.put(1)\n",
        "que.put(2)\n",
        "que.put(3)\n",
        "que.full()"
      ],
      "execution_count": null,
      "outputs": [
        {
          "output_type": "execute_result",
          "data": {
            "text/plain": [
              "True"
            ]
          },
          "metadata": {
            "tags": []
          },
          "execution_count": 12
        }
      ]
    },
    {
      "cell_type": "markdown",
      "metadata": {
        "id": "wbw_G7jTrnhA"
      },
      "source": [
        "# 6. Stack and Queue Questions"
      ]
    },
    {
      "cell_type": "markdown",
      "metadata": {
        "id": "gT9y1VQn21XL"
      },
      "source": [
        "## 1. Implementing 3 stacks in one list"
      ]
    },
    {
      "cell_type": "code",
      "metadata": {
        "id": "1Pt6NJposClA"
      },
      "source": [
        "# Make all in O(1) time complexity by creating another list\n",
        "\n",
        "class Stack_Partition():\n",
        "  def __init__(self,max_size):\n",
        "    self.max_size = max_size\n",
        "    self.partition_size = int(max_size/3)\n",
        "    self.list = max_size*[None]\n",
        "  \n",
        "  def print_stack(self, stack_no):\n",
        "    data = self.list[((stack_no-1)*self.partition_size):(stack_no*self.partition_size)]\n",
        "    data.reverse()\n",
        "    print(data)\n",
        "  \n",
        "  def check_is_empty(self,stack_no):\n",
        "    if self.list[(stack_no-1)*self.partition_size:stack_no*self.partition_size] == [None]*self.partition_size:\n",
        "      return True\n",
        "    else:\n",
        "      return False\n",
        "  \n",
        "  def check_is_full(self,stack_no):\n",
        "    try:\n",
        "      self.list[(stack_no-1)*self.partition_size:stack_no*self.partition_size].index(None)\n",
        "      return False\n",
        "    except:\n",
        "      return True\n",
        "  \n",
        "  def push(self, value,stack_no):\n",
        "    if self.check_is_full(stack_no):\n",
        "      print('Not possible, max limit reached')\n",
        "    else:\n",
        "      index = ((stack_no-1)*sself.partition_size) + self.list[(stack_no-1)*self.partition_size:stack_no*self.partition_size].index(None)\n",
        "      self.list[index] = value\n",
        "  \n",
        "  def pop(self,stack_no):\n",
        "    if self.check_is_empty(stack_no):\n",
        "      print('Stack is empty')\n",
        "    else:\n",
        "      data = self.list[(stack_no-1)*self.partition_size:stack_no*self.partition_size]\n",
        "      try:\n",
        "        index = data.index(None)\n",
        "        print(data[index - 1])\n",
        "        data[index - 1] = None\n",
        "        self.list[(stack_no-1)*self.partition_size:stack_no*self.partition_size] = data\n",
        "      except:\n",
        "        print(data[-1])\n",
        "        data[-1] = None\n",
        "        self.list[(stack_no-1)*self.partition_size:stack_no*self.partition_size] = data\n",
        "  \n",
        "  def peek(self,stack_no):\n",
        "    if self.check_is_empty(stack_no):\n",
        "      print('List is empty')\n",
        "    else:\n",
        "      data = self.list[(stack_no-1)*self.partition_size:stack_no*self.partition_size]\n",
        "      try:\n",
        "        index = data.index(None)\n",
        "        print(data[index - 1])\n",
        "      except:\n",
        "        print(data[-1])\n",
        "  \n",
        "  def delete_all(self,stack_no):\n",
        "    self.list[(stack_no-1)*self.partition_size:stack_no*self.partition_size] = [None]*self.partition_size"
      ],
      "execution_count": null,
      "outputs": []
    },
    {
      "cell_type": "code",
      "metadata": {
        "id": "d5wM5ay1xaDJ"
      },
      "source": [
        "stack = Stack_Partition(9)"
      ],
      "execution_count": null,
      "outputs": []
    },
    {
      "cell_type": "code",
      "metadata": {
        "id": "BH2aY4nez7-2"
      },
      "source": [
        "stack.push(1,1)\n",
        "stack.push(2,2)\n",
        "stack.push(3,3)\n",
        "stack.push(4,1)\n",
        "stack.push(5,2)\n",
        "stack.push(6,3)\n",
        "# stack.push(7,1)\n",
        "# stack.push(8,2)\n",
        "# stack.push(9,3)\n"
      ],
      "execution_count": null,
      "outputs": []
    },
    {
      "cell_type": "code",
      "metadata": {
        "colab": {
          "base_uri": "https://localhost:8080/"
        },
        "id": "196i8Iya2S5d",
        "outputId": "7958fe1c-0d40-43cb-a0dc-bdfe69e68390"
      },
      "source": [
        "stack.list"
      ],
      "execution_count": null,
      "outputs": [
        {
          "output_type": "execute_result",
          "data": {
            "text/plain": [
              "[1, 4, None, 2, 5, None, 3, 6, None]"
            ]
          },
          "metadata": {
            "tags": []
          },
          "execution_count": 192
        }
      ]
    },
    {
      "cell_type": "markdown",
      "metadata": {
        "id": "Zag_Z6vLph8p"
      },
      "source": [
        "## 2. Stack with minimum function"
      ]
    },
    {
      "cell_type": "code",
      "metadata": {
        "id": "epvc1urBq8TG"
      },
      "source": [
        "class Stack():\n",
        "  def __init__(self):  ## O(1)\n",
        "    self.list = []\n",
        "    self.min = []\n",
        "  \n",
        "  def __str__(self): \n",
        "    data = [str(x) for x in self.list] ## O(n)\n",
        "    data.reverse()  ## O(n)\n",
        "    return '\\n'.join(data)\n",
        "  \n",
        "  def check_is_empty(self):\n",
        "    if self.list == []: ## O(1)\n",
        "      return True\n",
        "    else:\n",
        "      return False\n",
        "  \n",
        "  def push(self, value):\n",
        "    if self.check_is_empty(): ## O(1)\n",
        "      self.min.append(value)\n",
        "    elif value < self.min[-1]: ##O(1)\n",
        "      self.min.append(value)\n",
        "    self.list.append(value)\n",
        "  \n",
        "  def pop(self):\n",
        "    if self.list == []: ## O(1)\n",
        "      print('Stack is empty')\n",
        "    else:\n",
        "      if self.list[-1] == self.min[-1]:\n",
        "        self.min.pop()\n",
        "      return self.list.pop()\n",
        "  \n",
        "  def peek(self):\n",
        "    if self.list == []:\n",
        "      print('List is empty')\n",
        "    else:\n",
        "      return self.list[-1]\n",
        "  \n",
        "  def delete_all(self):\n",
        "    self.list = []\n",
        "    self.min = []\n",
        "  \n",
        "  def find_minimum(self):\n",
        "    if self.check_is_empty():\n",
        "      print('Stack is empty')\n",
        "    else:\n",
        "      return self.min[-1]"
      ],
      "execution_count": null,
      "outputs": []
    },
    {
      "cell_type": "code",
      "metadata": {
        "id": "pICsbIt3ruMq"
      },
      "source": [
        "stack = Stack()"
      ],
      "execution_count": null,
      "outputs": []
    },
    {
      "cell_type": "code",
      "metadata": {
        "id": "JiYBPYECrvTL"
      },
      "source": [
        "stack.push(1)\n",
        "stack.push(2)\n",
        "stack.push(10)\n",
        "stack.push(0)\n",
        "stack.push(25)"
      ],
      "execution_count": null,
      "outputs": []
    },
    {
      "cell_type": "code",
      "metadata": {
        "colab": {
          "base_uri": "https://localhost:8080/"
        },
        "id": "Rg0WqU2Nr22r",
        "outputId": "3b9593b1-d121-44be-bacf-3bf57d908c66"
      },
      "source": [
        "print(stack)"
      ],
      "execution_count": null,
      "outputs": [
        {
          "output_type": "stream",
          "text": [
            "25\n",
            "0\n",
            "10\n",
            "2\n",
            "1\n"
          ],
          "name": "stdout"
        }
      ]
    },
    {
      "cell_type": "code",
      "metadata": {
        "colab": {
          "base_uri": "https://localhost:8080/"
        },
        "id": "JwQHVGKmsEBo",
        "outputId": "12198fb0-b136-4924-d716-2196f00cf8bc"
      },
      "source": [
        "stack.find_minimum()"
      ],
      "execution_count": null,
      "outputs": [
        {
          "output_type": "execute_result",
          "data": {
            "text/plain": [
              "0"
            ]
          },
          "metadata": {
            "tags": []
          },
          "execution_count": 41
        }
      ]
    },
    {
      "cell_type": "code",
      "metadata": {
        "colab": {
          "base_uri": "https://localhost:8080/"
        },
        "id": "8OtdfRDSsGiH",
        "outputId": "df661615-c71e-4e57-b7b7-8a9ab2064df0"
      },
      "source": [
        "stack.pop()\n",
        "stack.pop()"
      ],
      "execution_count": null,
      "outputs": [
        {
          "output_type": "execute_result",
          "data": {
            "text/plain": [
              "0"
            ]
          },
          "metadata": {
            "tags": []
          },
          "execution_count": 42
        }
      ]
    },
    {
      "cell_type": "code",
      "metadata": {
        "colab": {
          "base_uri": "https://localhost:8080/"
        },
        "id": "wNJJGSbZsaDN",
        "outputId": "f42d1bcf-d243-4fb7-fc0f-9649377ff488"
      },
      "source": [
        "print(stack)"
      ],
      "execution_count": null,
      "outputs": [
        {
          "output_type": "stream",
          "text": [
            "10\n",
            "2\n",
            "1\n"
          ],
          "name": "stdout"
        }
      ]
    },
    {
      "cell_type": "code",
      "metadata": {
        "colab": {
          "base_uri": "https://localhost:8080/"
        },
        "id": "MFQHQX7qulqF",
        "outputId": "3582cccb-60da-4829-813a-bbb7d983ec1c"
      },
      "source": [
        "stack.find_minimum()"
      ],
      "execution_count": null,
      "outputs": [
        {
          "output_type": "execute_result",
          "data": {
            "text/plain": [
              "1"
            ]
          },
          "metadata": {
            "tags": []
          },
          "execution_count": 44
        }
      ]
    },
    {
      "cell_type": "code",
      "metadata": {
        "id": "GLkhxDLawghh"
      },
      "source": [
        ""
      ],
      "execution_count": null,
      "outputs": []
    },
    {
      "cell_type": "markdown",
      "metadata": {
        "id": "cMVBOZBm51EB"
      },
      "source": [
        "## 3. Set of Stacks"
      ]
    },
    {
      "cell_type": "code",
      "metadata": {
        "id": "B05VTk5352fw"
      },
      "source": [
        "class Stack_Set():\n",
        "  def __init__(self, threshold):  ## O(1)\n",
        "    self.dict = {}\n",
        "    self.number = 0\n",
        "    self.limit = threshold\n",
        "  \n",
        "  def __str__(self): \n",
        "    data = []\n",
        "    for key in self.dict.keys():\n",
        "      data += self.dict[key]\n",
        "    data = [str(x) for x in data]\n",
        "    data.reverse()  ## O(n)\n",
        "    return '\\n'.join(data)\n",
        "  \n",
        "  def check_is_empty(self):\n",
        "    if self.dict == {}: ## O(1)\n",
        "      return True\n",
        "    else:\n",
        "      return False\n",
        "  \n",
        "  def push(self, value):\n",
        "    if self.check_is_empty(): ## O(1)\n",
        "      stack_list = []\n",
        "      stack_list.append(value)\n",
        "      self.dict[self.number] = stack_list\n",
        "    elif len(self.dict[self.number]) == self.limit:\n",
        "      stack_list = []\n",
        "      self.number += 1\n",
        "      stack_list.append(value)\n",
        "      self.dict[self.number] = stack_list\n",
        "    else:\n",
        "      self.dict[self.number].append(value)\n",
        "\n",
        "  def pop(self):\n",
        "    if self.dict == {}: ## O(1)\n",
        "      print('Stack is empty')\n",
        "    else:\n",
        "      keys = list(self.dict.keys())\n",
        "      return self.dict[keys[-1]].pop()\n",
        "  \n",
        "  def peek(self):\n",
        "    if self.dict == {}: ## O(1)\n",
        "      print('Stack is empty')\n",
        "    else:\n",
        "      keys = list(self.dict.keys())\n",
        "      return self.dict[keys[-1]]\n",
        "  \n",
        "  def delete_all(self):\n",
        "    self.dict = {}\n",
        "    self.number = 0\n",
        "  \n",
        "  def pop_At(self,stack_no):\n",
        "    if self.check_is_empty():\n",
        "      print('Stack is empty')\n",
        "    else:\n",
        "      return self.dict[stack_no-1].pop()\n",
        "  "
      ],
      "execution_count": null,
      "outputs": []
    },
    {
      "cell_type": "code",
      "metadata": {
        "id": "VTn_xX6266Vu"
      },
      "source": [
        "stack = Stack_Set(3)"
      ],
      "execution_count": null,
      "outputs": []
    },
    {
      "cell_type": "code",
      "metadata": {
        "id": "uznk_KvtAUbI"
      },
      "source": [
        "stack.push(1)\n",
        "stack.push(2)\n",
        "stack.push(3)\n",
        "stack.push(4)\n",
        "stack.push(5)\n",
        "stack.push(6)\n",
        "stack.push(7)"
      ],
      "execution_count": null,
      "outputs": []
    },
    {
      "cell_type": "markdown",
      "metadata": {
        "id": "06EOrAsH6IL2"
      },
      "source": [
        "## 4. Queue using two stacks"
      ]
    },
    {
      "cell_type": "code",
      "metadata": {
        "id": "4r_FkEXvBR4J"
      },
      "source": [
        "class Queue_Stack():\n",
        "  def __init__(self):\n",
        "    self.list = []\n",
        "    self.stack_2 = []\n",
        "  \n",
        "  def __str__(self):\n",
        "    data = [str(x) for x in self.list]\n",
        "    return '\\n'.join(data)\n",
        "  \n",
        "  def check_is_empty(self):\n",
        "    if self.list == []:\n",
        "      print('List is empty')\n",
        "    else:\n",
        "      print('False')\n",
        "  \n",
        "  def enqueue(self, value):\n",
        "    self.list.append(value)\n",
        "  \n",
        "  def dequeue(self):\n",
        "    if self.list == []:\n",
        "      print('Stack is empty')\n",
        "    else:\n",
        "      self.stack_2 = [self.list.pop(i) for i in range(len(self.list)-1,-1,-1)]\n",
        "      print(self.stack_2.pop())\n",
        "      self.list = [self.stack_2.pop(i) for i in range(len(self.stack_2)-1,-1,-1)]\n",
        "\n",
        "  def peek(self):\n",
        "    if self.list == []:\n",
        "      print('List is empty')\n",
        "    else:\n",
        "      self.stack_2 = [self.list.pop(i) for i in range(len(self.list)-1,-1,-1)]\n",
        "      print(self.stack_2[-1])\n",
        "      self.list = [self.stack_2.pop(i) for i in range(len(self.stack_2)-1,-1,-1)]\n",
        "  \n",
        "  def delete_all(self):\n",
        "    self.list = []\n",
        "    self.stack_2 = []"
      ],
      "execution_count": null,
      "outputs": []
    },
    {
      "cell_type": "code",
      "metadata": {
        "id": "c8nBUqaT6xXU"
      },
      "source": [
        "que = Queue_Stack()"
      ],
      "execution_count": null,
      "outputs": []
    },
    {
      "cell_type": "code",
      "metadata": {
        "id": "2I2d6GrD6zF8"
      },
      "source": [
        "que.enqueue(1)\n",
        "que.enqueue(2)\n",
        "que.enqueue(3)\n",
        "que.enqueue(4)"
      ],
      "execution_count": null,
      "outputs": []
    },
    {
      "cell_type": "code",
      "metadata": {
        "id": "1FGQWAlP-Frd"
      },
      "source": [
        "que.dequeue()\n",
        "print(que)"
      ],
      "execution_count": null,
      "outputs": []
    },
    {
      "cell_type": "markdown",
      "metadata": {
        "id": "IDaS2X6GA4eg"
      },
      "source": [
        "## 5. Animal Shelter:\n",
        "In a pet shelter, only dogs and cats are available for adoption, and the “first in, first out” rule is strictly enforced when adopted. If someone wants to adopt an animal from a shelter, he has only two choices: either choose to adopt the most senior of all animals (the older you arrive at the shelter, the sooner you are older), or choose to adopt a cat or dog ( Similarly, only the most senior one can be adopted. In other words, the adopter cannot choose a given animal at will. Please create a data structure that allows it to run the above rules and implement enqueue, dequeueAny, dequeueDog, and dequeueCat operations."
      ]
    },
    {
      "cell_type": "code",
      "metadata": {
        "id": "rhDugi0kBFNr"
      },
      "source": [
        "class Linked_List():  ## Initializing class for Single Linked List\n",
        "  def __init__(self):\n",
        "    self.head = None \n",
        "    self.tail = None\n",
        "  \n",
        "  def __iter__(self): ## Default iterating function, to print out elements of the list\n",
        "    node = self.head\n",
        "    while node != None:\n",
        "      yield node \n",
        "      node = node.next\n",
        "  \n",
        "  def __str__(self):\n",
        "    data = [str(node.value) for node in self]\n",
        "    return '->'.join(data)\n",
        "  \n",
        "  def insert_in_list(self,value): ## Function to insert a value in list\n",
        "    new_node = Node(value)\n",
        "    if self.head == None:  ## If the list is empty\n",
        "      self.head = new_node\n",
        "      self.tail = new_node\n",
        "    else: ## If we want to insert node at the end\n",
        "      current_last = self.tail\n",
        "      current_last.next = new_node\n",
        "      self.tail = new_node\n",
        "  \n",
        "  def delete_from_list(self):\n",
        "    if self.head == None:\n",
        "      print('Not possible, list is empty')\n",
        "    else:\n",
        "      if self.head.next == None:\n",
        "        self.head = None\n",
        "        self.tail = None\n",
        "      else:\n",
        "        self.head = self.head.next"
      ],
      "execution_count": null,
      "outputs": []
    },
    {
      "cell_type": "code",
      "metadata": {
        "id": "InQV9CXsCCQi"
      },
      "source": [
        "class Node():\n",
        "  def __init__(self,value= None):\n",
        "    self.value = value \n",
        "    self.next = None"
      ],
      "execution_count": null,
      "outputs": []
    },
    {
      "cell_type": "code",
      "metadata": {
        "id": "BYuHg3P0Dydu"
      },
      "source": [
        "class Queue_Animals():\n",
        "  def __init__(self):\n",
        "    self.all_animals = Linked_List()\n",
        "    self.dogs = []\n",
        "    self.cats = []\n",
        "    self.position = 0\n",
        "  \n",
        "  def __str__(self):\n",
        "    data = [str(node.value) for node in self.all_animals]\n",
        "    return ' -> '.join(data)\n",
        "\n",
        "  def check_is_empty(self):\n",
        "    if self.all_animals.head == None:\n",
        "      return True\n",
        "    else:\n",
        "      return False\n",
        "  \n",
        "  def enqueue(self, value, animal):\n",
        "    self.all_animals.insert_in_list(value)\n",
        "    if animal == 0:\n",
        "      self.cats.append(self.position)\n",
        "    else:\n",
        "      self.dogs.append(self.position)\n",
        "    self.position += 1\n",
        "  \n",
        "  def dequeue(self,animal=None):\n",
        "\n",
        "    if self.all_animals.head == None:  ## Checking if any animal has been put or not\n",
        "      print('Queue is empty')\n",
        "    if animal == 0 and self.cats == []:  ## Checking if all cats gone\n",
        "      print('All cats have been taken away')\n",
        "    elif animal == 1 and self.dogs == []: ## Checking if all dogs gone\n",
        "      print('All dogs have been taken away')  \n",
        "    elif self.dogs == [] and self.cats == []: ## Checking if all cats and all dogs gone\n",
        "      print('All animals are gone')\n",
        "    \n",
        "    else:  \n",
        "      if animal == None:  ## No animal specified by customer\n",
        "        node = self.all_animals.head\n",
        "        i = 0\n",
        "        while node.value == None: ## We find the next animal in the queue\n",
        "          node = node.next\n",
        "          i += 1\n",
        "        print(node.value)\n",
        "        node.value = None\n",
        "        if self.dogs[0] == i:\n",
        "          self.dogs.pop(0)\n",
        "        else:\n",
        "          self.cats.pop(0)\n",
        "\n",
        "\n",
        "      elif animal == 0: ## Cat is specified \n",
        "        position_to_go = self.cats[0] ## Find the location of the next available cat\n",
        "        self.cats.pop(0)\n",
        "        node = self.all_animals.head  \n",
        "        if position_to_go == 0:  ## Checking if the location is 0\n",
        "          print(self.all_animals.head.value)\n",
        "          self.all_animals.head.value = None\n",
        "        else:  ## Iterate over to the location and set the cat to None\n",
        "          for i in range(position_to_go-1):\n",
        "            node = node.next\n",
        "          print(node.next.value)\n",
        "          node.next.value = None\n",
        "\n",
        "\n",
        "      else:  ## Dog is specified\n",
        "        position_to_go = self.dogs[0]  ## Find the location of the next available dog\n",
        "        self.dogs.pop(0)\n",
        "        node = self.all_animals.head  ## Checking if the location is 0\n",
        "        if position_to_go == 0:\n",
        "          print(self.all_animals.head.value)\n",
        "          self.all_animals.head.value = None\n",
        "        else:  ## Iterate over the location and set the dog to None\n",
        "          for i in range(position_to_go-1):\n",
        "            node = node.next\n",
        "          print(node.next.value)\n",
        "          node.next.value = None\n",
        "\n",
        "  \n",
        "  def delete_all(self):\n",
        "    self.all_animals.head = None\n",
        "    self.all_animals.tail = None\n",
        "    self.cats = []\n",
        "    self.dogs = []"
      ],
      "execution_count": null,
      "outputs": []
    },
    {
      "cell_type": "code",
      "metadata": {
        "id": "bQIgmhz6Hlw6"
      },
      "source": [
        "que = Queue_Animals()"
      ],
      "execution_count": null,
      "outputs": []
    },
    {
      "cell_type": "code",
      "metadata": {
        "id": "rW8qZzSpHnZO"
      },
      "source": [
        "que.enqueue('dog1',1)\n",
        "que.enqueue('cat1',0)\n",
        "que.enqueue('dog2',1)\n",
        "que.enqueue('cat2',0)\n",
        "que.enqueue('dog3',1)\n",
        "que.enqueue('cat3',0)\n",
        "que.enqueue('dog4',1)\n",
        "que.enqueue('cat4',0)\n",
        "que.enqueue('dog5',1)"
      ],
      "execution_count": null,
      "outputs": []
    },
    {
      "cell_type": "code",
      "metadata": {
        "colab": {
          "base_uri": "https://localhost:8080/"
        },
        "id": "lAj9UTvUHqHd",
        "outputId": "81aef805-c852-42a4-ec90-6d7e29a74a0a"
      },
      "source": [
        "print(que)"
      ],
      "execution_count": null,
      "outputs": [
        {
          "output_type": "stream",
          "text": [
            "dog1 -> cat1 -> dog2 -> cat2 -> dog3 -> cat3 -> dog4 -> cat4 -> dog5\n"
          ],
          "name": "stdout"
        }
      ]
    },
    {
      "cell_type": "code",
      "metadata": {
        "colab": {
          "base_uri": "https://localhost:8080/"
        },
        "id": "PAaScr73NGHW",
        "outputId": "55c5449f-2dd6-49dd-a1bf-6f88e8582282"
      },
      "source": [
        "que.dequeue(0)"
      ],
      "execution_count": null,
      "outputs": [
        {
          "output_type": "stream",
          "text": [
            "cat1\n"
          ],
          "name": "stdout"
        }
      ]
    },
    {
      "cell_type": "code",
      "metadata": {
        "colab": {
          "base_uri": "https://localhost:8080/"
        },
        "id": "OTCttzY6NKeM",
        "outputId": "f1cdda93-1eba-4dd8-8297-efe9f0599cf6"
      },
      "source": [
        "que.dequeue(1)"
      ],
      "execution_count": null,
      "outputs": [
        {
          "output_type": "stream",
          "text": [
            "dog1\n"
          ],
          "name": "stdout"
        }
      ]
    },
    {
      "cell_type": "code",
      "metadata": {
        "colab": {
          "base_uri": "https://localhost:8080/"
        },
        "id": "sDQIPfwsOB3K",
        "outputId": "5cf9cc64-3aef-48f8-b310-6f11f9342d8b"
      },
      "source": [
        "print(que)"
      ],
      "execution_count": null,
      "outputs": [
        {
          "output_type": "stream",
          "text": [
            "None -> None -> dog2 -> cat2 -> dog3 -> cat3 -> dog4 -> cat4 -> dog5\n"
          ],
          "name": "stdout"
        }
      ]
    },
    {
      "cell_type": "code",
      "metadata": {
        "colab": {
          "base_uri": "https://localhost:8080/"
        },
        "id": "Ag2pwCqrOCZU",
        "outputId": "31c17933-902c-42b4-fdf1-82c2db411932"
      },
      "source": [
        "que.dequeue()"
      ],
      "execution_count": null,
      "outputs": [
        {
          "output_type": "stream",
          "text": [
            "dog2\n"
          ],
          "name": "stdout"
        }
      ]
    },
    {
      "cell_type": "code",
      "metadata": {
        "colab": {
          "base_uri": "https://localhost:8080/"
        },
        "id": "rB5AiQ3pOD8N",
        "outputId": "e1971ba9-792f-4ada-c28d-ef604db57b0d"
      },
      "source": [
        "print(que)"
      ],
      "execution_count": null,
      "outputs": [
        {
          "output_type": "stream",
          "text": [
            "None -> None -> None -> cat2 -> dog3 -> cat3 -> dog4 -> cat4 -> dog5\n"
          ],
          "name": "stdout"
        }
      ]
    },
    {
      "cell_type": "code",
      "metadata": {
        "colab": {
          "base_uri": "https://localhost:8080/"
        },
        "id": "T0r2eOR3O902",
        "outputId": "0769f465-7db8-4881-d0c9-7e572612907a"
      },
      "source": [
        "que.dequeue(1)"
      ],
      "execution_count": null,
      "outputs": [
        {
          "output_type": "stream",
          "text": [
            "dog3\n"
          ],
          "name": "stdout"
        }
      ]
    },
    {
      "cell_type": "code",
      "metadata": {
        "colab": {
          "base_uri": "https://localhost:8080/"
        },
        "id": "_LR3P-qkPCoJ",
        "outputId": "c82a4615-c75c-4990-806d-dde023984063"
      },
      "source": [
        "que.dequeue()"
      ],
      "execution_count": null,
      "outputs": [
        {
          "output_type": "stream",
          "text": [
            "cat2\n"
          ],
          "name": "stdout"
        }
      ]
    },
    {
      "cell_type": "code",
      "metadata": {
        "colab": {
          "base_uri": "https://localhost:8080/"
        },
        "id": "jZjrPOEAPETb",
        "outputId": "c3b76ec7-05ba-414a-853c-d918668f43ad"
      },
      "source": [
        "que.dequeue(0)"
      ],
      "execution_count": null,
      "outputs": [
        {
          "output_type": "stream",
          "text": [
            "cat3\n"
          ],
          "name": "stdout"
        }
      ]
    },
    {
      "cell_type": "code",
      "metadata": {
        "colab": {
          "base_uri": "https://localhost:8080/"
        },
        "id": "nt7o0py-PGOl",
        "outputId": "8bb1c798-ad9a-4677-ecd5-3bd37a651517"
      },
      "source": [
        "print(que)"
      ],
      "execution_count": null,
      "outputs": [
        {
          "output_type": "stream",
          "text": [
            "None -> None -> None -> None -> None -> None -> dog4 -> cat4 -> dog5\n"
          ],
          "name": "stdout"
        }
      ]
    },
    {
      "cell_type": "code",
      "metadata": {
        "colab": {
          "base_uri": "https://localhost:8080/"
        },
        "id": "fTR8rUr_PI4H",
        "outputId": "68c3a04f-f752-4438-ef90-d14a9d4819fa"
      },
      "source": [
        "que.dequeue()"
      ],
      "execution_count": null,
      "outputs": [
        {
          "output_type": "stream",
          "text": [
            "dog4\n"
          ],
          "name": "stdout"
        }
      ]
    },
    {
      "cell_type": "code",
      "metadata": {
        "colab": {
          "base_uri": "https://localhost:8080/"
        },
        "id": "0BiyeY72PKqZ",
        "outputId": "ccb960d4-2a42-499b-e890-4796b585d1eb"
      },
      "source": [
        "que.dequeue()"
      ],
      "execution_count": null,
      "outputs": [
        {
          "output_type": "stream",
          "text": [
            "cat4\n"
          ],
          "name": "stdout"
        }
      ]
    },
    {
      "cell_type": "code",
      "metadata": {
        "colab": {
          "base_uri": "https://localhost:8080/"
        },
        "id": "dN5ZoLdvPN0C",
        "outputId": "142e5408-91e7-4b98-dcce-c87ddfd8f6af"
      },
      "source": [
        "print(que)"
      ],
      "execution_count": null,
      "outputs": [
        {
          "output_type": "stream",
          "text": [
            "None -> None -> None -> None -> None -> None -> None -> None -> dog5\n"
          ],
          "name": "stdout"
        }
      ]
    },
    {
      "cell_type": "code",
      "metadata": {
        "colab": {
          "base_uri": "https://localhost:8080/"
        },
        "id": "sYIL1xQsPO3m",
        "outputId": "56b2e80d-3e6e-4bfc-9656-b62be068db8f"
      },
      "source": [
        "que.dequeue(1)"
      ],
      "execution_count": null,
      "outputs": [
        {
          "output_type": "stream",
          "text": [
            "dog5\n"
          ],
          "name": "stdout"
        }
      ]
    },
    {
      "cell_type": "code",
      "metadata": {
        "colab": {
          "base_uri": "https://localhost:8080/"
        },
        "id": "6uBUxTDBPQcf",
        "outputId": "ff982fb6-e68b-4b00-b1c6-f9db5262ba68"
      },
      "source": [
        "print(que)"
      ],
      "execution_count": null,
      "outputs": [
        {
          "output_type": "stream",
          "text": [
            "None -> None -> None -> None -> None -> None -> None -> None -> None\n"
          ],
          "name": "stdout"
        }
      ]
    },
    {
      "cell_type": "code",
      "metadata": {
        "colab": {
          "base_uri": "https://localhost:8080/"
        },
        "id": "T7Q9U52BPrnM",
        "outputId": "81b75e1e-8bd8-45fc-bbd6-0951783348ca"
      },
      "source": [
        "que.dequeue()"
      ],
      "execution_count": null,
      "outputs": [
        {
          "output_type": "stream",
          "text": [
            "All animals are gone\n"
          ],
          "name": "stdout"
        }
      ]
    },
    {
      "cell_type": "code",
      "metadata": {
        "colab": {
          "base_uri": "https://localhost:8080/"
        },
        "id": "VyMvfXjbPtY9",
        "outputId": "16cd2927-084e-4e27-f277-33cb447adf55"
      },
      "source": [
        "que.dequeue(0)"
      ],
      "execution_count": null,
      "outputs": [
        {
          "output_type": "stream",
          "text": [
            "All cats have been taken away\n"
          ],
          "name": "stdout"
        }
      ]
    },
    {
      "cell_type": "code",
      "metadata": {
        "colab": {
          "base_uri": "https://localhost:8080/"
        },
        "id": "1knThF_FP_4h",
        "outputId": "641e32d6-d14b-42d3-b9c5-5b548a38f448"
      },
      "source": [
        "que.dequeue(1)"
      ],
      "execution_count": null,
      "outputs": [
        {
          "output_type": "stream",
          "text": [
            "All dogs have been taken away\n"
          ],
          "name": "stdout"
        }
      ]
    }
  ]
}

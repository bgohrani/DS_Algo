{
  "nbformat": 4,
  "nbformat_minor": 0,
  "metadata": {
    "colab": {
      "name": "DSA_Notebook.ipynb",
      "provenance": [],
      "collapsed_sections": [
        "Y0VGTfNQKhs9",
        "MJ-_cUIsq4yQ",
        "B28EPr8Yw3pJ",
        "9e9v-b26EICY",
        "S0h_xws0JCyC",
        "z6rvdnlZSZQu",
        "gwnmJ0PL_im6",
        "VuYbslZt49wi",
        "cJdlN4dK_hrl",
        "pDlGFhlbCUxc",
        "42Tyn1QSFbx8",
        "7UXK3KQbILtD",
        "gVJ4KTvGKbcs",
        "BBrYkTmuN-AV",
        "p9erqoixvGh_",
        "bL4MHi7OvI2Q",
        "RE0TDQr6BwiL",
        "CDWCONEVKyIj",
        "L7qsp4JA-ak9",
        "OrMn0I0Kz3Tt",
        "9_W-36CP0EFc"
      ],
      "authorship_tag": "ABX9TyNo1CagqmPckCOJuydHMi2d"
    },
    "kernelspec": {
      "name": "python3",
      "display_name": "Python 3"
    },
    "language_info": {
      "name": "python"
    }
  },
  "cells": [
    {
      "cell_type": "code",
      "metadata": {
        "id": "U2yGwSCJkOv7"
      },
      "source": [
        "import numpy as np\n",
        "import pandas as pd\n",
        "import seaborn as sns\n",
        "import matplotlib.pyplot as plt\n",
        "from tqdm import tqdm_notebook\n",
        "import matplotlib.colors\n",
        "import math\n",
        "import copy\n",
        "\n",
        "#importing essential libraries"
      ],
      "execution_count": 127,
      "outputs": []
    },
    {
      "cell_type": "markdown",
      "metadata": {
        "id": "SDsMSRu7SeXn"
      },
      "source": [
        "## Big-O Notation\n",
        "\n",
        "Big O Notation is the language we use to describe the complexity of an algorithm. In other words, Big O Notation is the language we use for talking about how long an algorithm takes to run. It is how we compare the efficiency of different approaches to a problem. With Big O Notation we express the runtime in terms of — how quickly it grows relative to the input, as the input gets larger.\n",
        "\n",
        "###Common rules for Big-O notation\n",
        "\n",
        "Assignment Statements = $O(1)$\n",
        "\n",
        "Simple Loops = $O(n)$\n",
        "\n",
        "Nested loop = $O(n^2)$\n",
        "\n",
        "Loop with parameters divided by a number, a = $O(log_aN)$"
      ]
    },
    {
      "cell_type": "markdown",
      "metadata": {
        "id": "Y0VGTfNQKhs9"
      },
      "source": [
        "# Recursion\n",
        "Calling functions within themselves for problem solving"
      ]
    },
    {
      "cell_type": "markdown",
      "metadata": {
        "id": "MJ-_cUIsq4yQ"
      },
      "source": [
        "## 1. Sum of digits using recursion"
      ]
    },
    {
      "cell_type": "code",
      "metadata": {
        "id": "tL60s-KzkXYc"
      },
      "source": [
        "def sum_of_digits(n):\n",
        "  if n == 0:\n",
        "    return 0\n",
        "  elif n < 0:\n",
        "    print('negative is ignored')\n",
        "    return sum_of_digits(abs(n))\n",
        "  elif n != int(n):\n",
        "    print('not possible')\n",
        "  else:\n",
        "    intermediate = n/10\n",
        "    final = int(round((intermediate%1)*10))\n",
        "    return (final + sum_of_digits(int(intermediate)))\n"
      ],
      "execution_count": null,
      "outputs": []
    },
    {
      "cell_type": "code",
      "metadata": {
        "colab": {
          "base_uri": "https://localhost:8080/"
        },
        "id": "IkEsd-EDk2AI",
        "outputId": "fb290dd7-d79c-4487-9567-7a1b3ae92847"
      },
      "source": [
        "sum_of_digits(112)"
      ],
      "execution_count": null,
      "outputs": [
        {
          "output_type": "execute_result",
          "data": {
            "text/plain": [
              "4"
            ]
          },
          "metadata": {
            "tags": []
          },
          "execution_count": 72
        }
      ]
    },
    {
      "cell_type": "markdown",
      "metadata": {
        "id": "B28EPr8Yw3pJ"
      },
      "source": [
        "## 2. Power of number using recursion"
      ]
    },
    {
      "cell_type": "code",
      "metadata": {
        "id": "eDlvIiKLuOB8"
      },
      "source": [
        "def power_of_no(n,pow):\n",
        "  assert pow == int(pow), \"Not possible\"\n",
        "  if pow == 1:\n",
        "    return n\n",
        "  elif pow==0:\n",
        "    return 1\n",
        "  elif pow < 0:\n",
        "    ans = power_of_no(n,abs(pow))\n",
        "    return 1/ans\n",
        "  else:\n",
        "    return (n * power_of_no(n,(pow-1)))"
      ],
      "execution_count": null,
      "outputs": []
    },
    {
      "cell_type": "code",
      "metadata": {
        "colab": {
          "base_uri": "https://localhost:8080/"
        },
        "id": "OG2cZrjUu8RT",
        "outputId": "e38b19cd-d666-4f79-8922-ccc6f4c6ae79"
      },
      "source": [
        "power_of_no(2,-10)"
      ],
      "execution_count": null,
      "outputs": [
        {
          "output_type": "execute_result",
          "data": {
            "text/plain": [
              "0.0009765625"
            ]
          },
          "metadata": {
            "tags": []
          },
          "execution_count": 99
        }
      ]
    },
    {
      "cell_type": "markdown",
      "metadata": {
        "id": "9e9v-b26EICY"
      },
      "source": [
        "## 3. Greatest Common Divisor of 2 numbers using recursion"
      ]
    },
    {
      "cell_type": "code",
      "metadata": {
        "id": "WoJ755unC-Be"
      },
      "source": [
        "def gcd_2(n1,n2):\n",
        "  assert n1 > 0 and n2 > 0 and n1 == int(n1) and n2 == int(n2), 'Not Possible'\n",
        "  if n1>=n2:\n",
        "    a = n1%n2\n",
        "    if a == 0:\n",
        "      return n2\n",
        "    else:\n",
        "      return gcd_2(n2,a)\n",
        "  else:\n",
        "    return gcd_2(n2,n1)"
      ],
      "execution_count": null,
      "outputs": []
    },
    {
      "cell_type": "code",
      "metadata": {
        "colab": {
          "base_uri": "https://localhost:8080/"
        },
        "id": "xrjAHuFfDqj4",
        "outputId": "8c33c8b3-8f40-4924-fd37-85b99b292dc7"
      },
      "source": [
        "gcd_2(4278,8602)"
      ],
      "execution_count": null,
      "outputs": [
        {
          "output_type": "execute_result",
          "data": {
            "text/plain": [
              "46"
            ]
          },
          "metadata": {
            "tags": []
          },
          "execution_count": 125
        }
      ]
    },
    {
      "cell_type": "markdown",
      "metadata": {
        "id": "S0h_xws0JCyC"
      },
      "source": [
        "## 4. Conversion of Decimal into Binary using recursion"
      ]
    },
    {
      "cell_type": "code",
      "metadata": {
        "id": "p_l27uRsG-wJ"
      },
      "source": [
        "def dec_to_binary(n):\n",
        "  assert n == int(n), 'Decimal Part numbers have a different method'\n",
        "  if n < 0:\n",
        "    return ('-' + dec_to_binary(abs(n)))\n",
        "  elif n == 0 or n==1 :\n",
        "    return n\n",
        "  else:\n",
        "    a = int(n)%2\n",
        "    return  int(str(dec_to_binary(int(n/2))) + str(a))"
      ],
      "execution_count": null,
      "outputs": []
    },
    {
      "cell_type": "code",
      "metadata": {
        "colab": {
          "base_uri": "https://localhost:8080/"
        },
        "id": "6furqeyAHNhr",
        "outputId": "77f3968c-6d72-4aa3-b74d-2ae7ae3549c7"
      },
      "source": [
        "dec_to_binary(112)"
      ],
      "execution_count": null,
      "outputs": [
        {
          "output_type": "execute_result",
          "data": {
            "text/plain": [
              "1110000"
            ]
          },
          "metadata": {
            "tags": []
          },
          "execution_count": 146
        }
      ]
    },
    {
      "cell_type": "code",
      "metadata": {
        "id": "1AVDM3Y39aIB"
      },
      "source": [
        "#Add some examples to show Big-O notation"
      ],
      "execution_count": null,
      "outputs": []
    },
    {
      "cell_type": "markdown",
      "metadata": {
        "id": "z6rvdnlZSZQu"
      },
      "source": [
        "# Arrays and Lists\n",
        "\n",
        "Common data structures used in programming, contiguous in memory and referenced by indices "
      ]
    },
    {
      "cell_type": "markdown",
      "metadata": {
        "id": "gwnmJ0PL_im6"
      },
      "source": [
        "## Simple example of the use of arrays"
      ]
    },
    {
      "cell_type": "code",
      "metadata": {
        "colab": {
          "base_uri": "https://localhost:8080/"
        },
        "id": "MG_K88uK7bhm",
        "outputId": "75b891a8-d1e4-40ca-9bf9-239dbda337ea"
      },
      "source": [
        "arr_size = input('How many days?')\n",
        "\n",
        "temp_array = np.zeros([int(arr_size)])\n",
        "\n",
        "for i in range(temp_array.shape[0]):\n",
        "  # print('Enter day',i+1,'s temperature')\n",
        "  temp_array[i] = input((\"Enter day %d's temperature\" %(i+1)))\n",
        "\n",
        "avg_temp = np.sum(temp_array)/temp_array.shape[0]\n",
        "print('Average temperature is',avg_temp)\n",
        "count = 0\n",
        "for i in range(temp_array.shape[0]):\n",
        "  if temp_array[i] >= avg_temp:\n",
        "    count += 1\n",
        "print(count)"
      ],
      "execution_count": null,
      "outputs": [
        {
          "output_type": "stream",
          "text": [
            "How many days?4\n",
            "Enter day 1's temperature1\n",
            "Enter day 2's temperature1\n",
            "Enter day 3's temperature1\n",
            "Enter day 4's temperature1\n",
            "Average temperature is 1.0\n",
            "4\n"
          ],
          "name": "stdout"
        }
      ]
    },
    {
      "cell_type": "markdown",
      "metadata": {
        "id": "VuYbslZt49wi"
      },
      "source": [
        "## 5. Find the missing number in a list"
      ]
    },
    {
      "cell_type": "code",
      "metadata": {
        "id": "wsCGjWts565d"
      },
      "source": [
        "def find_missing_no(arr):\n",
        "  start = arr[0]\n",
        "  end = arr[-1]\n",
        "  sum = 0\n",
        "  for i in range(start,end+1,1):\n",
        "    sum += i\n",
        "  ans = sum - np.sum(arr)\n",
        "  return ans"
      ],
      "execution_count": null,
      "outputs": []
    },
    {
      "cell_type": "code",
      "metadata": {
        "colab": {
          "base_uri": "https://localhost:8080/"
        },
        "id": "3boaeTwu7Lmn",
        "outputId": "1f013464-c0bf-4b15-a953-f4fc97f70f8c"
      },
      "source": [
        "a = []\n",
        "for i in range(500,601,1):\n",
        "  a.append(i)  \n",
        "a.pop(55)"
      ],
      "execution_count": null,
      "outputs": [
        {
          "output_type": "execute_result",
          "data": {
            "text/plain": [
              "555"
            ]
          },
          "metadata": {
            "tags": []
          },
          "execution_count": 73
        }
      ]
    },
    {
      "cell_type": "code",
      "metadata": {
        "colab": {
          "base_uri": "https://localhost:8080/"
        },
        "id": "GIKmfoGX8818",
        "outputId": "7497e685-3790-468c-a552-7e53745beb8b"
      },
      "source": [
        "find_missing_no(a)"
      ],
      "execution_count": null,
      "outputs": [
        {
          "output_type": "execute_result",
          "data": {
            "text/plain": [
              "555"
            ]
          },
          "metadata": {
            "tags": []
          },
          "execution_count": 74
        }
      ]
    },
    {
      "cell_type": "markdown",
      "metadata": {
        "id": "cJdlN4dK_hrl"
      },
      "source": [
        "## 6. Given an array of numbers and a target, find the two numbers from the array which would add up to give the target"
      ]
    },
    {
      "cell_type": "code",
      "metadata": {
        "id": "XWqPS_0zAQfw"
      },
      "source": [
        "def find_sum_pairs(list_nos,target):\n",
        "  ans = []\n",
        "  for number in list_nos:\n",
        "    if number > target:\n",
        "      continue\n",
        "    else:\n",
        "      number_to_search = (target - number)\n",
        "      try:\n",
        "        list_nos.index(number_to_search)\n",
        "        ans.append(list_nos.index(number))\n",
        "        ans.append(list_nos.index(number_to_search))\n",
        "        list_nos[list_nos.index(number)] += 0.5\n",
        "      except:\n",
        "        continue\n",
        "  return ans"
      ],
      "execution_count": null,
      "outputs": []
    },
    {
      "cell_type": "code",
      "metadata": {
        "id": "V8LftjOBBpEm"
      },
      "source": [
        "a = [6,4,23,14,9]\n",
        "target = 18"
      ],
      "execution_count": null,
      "outputs": []
    },
    {
      "cell_type": "code",
      "metadata": {
        "colab": {
          "base_uri": "https://localhost:8080/"
        },
        "id": "UpnMfw2iBRUe",
        "outputId": "f4caf196-5855-4569-a0a1-df72a26bbea3"
      },
      "source": [
        "find_sum_pairs(a,18)"
      ],
      "execution_count": null,
      "outputs": [
        {
          "output_type": "execute_result",
          "data": {
            "text/plain": [
              "[1, 3, 4, 4]"
            ]
          },
          "metadata": {
            "tags": []
          },
          "execution_count": 28
        }
      ]
    },
    {
      "cell_type": "markdown",
      "metadata": {
        "id": "pDlGFhlbCUxc"
      },
      "source": [
        "## 7. Finding a number in an array\n"
      ]
    },
    {
      "cell_type": "code",
      "metadata": {
        "id": "mY2I2cV0BVsc"
      },
      "source": [
        "def find_element_array(arr, element):\n",
        "  search_list = list(arr)\n",
        "  try:\n",
        "    print(search_list.index(element))\n",
        "  except:\n",
        "    print('Not')"
      ],
      "execution_count": null,
      "outputs": []
    },
    {
      "cell_type": "code",
      "metadata": {
        "id": "jd94UyiOE6YU"
      },
      "source": [
        "a= np.array([1,2,3,4,5,7,8,9,10])"
      ],
      "execution_count": null,
      "outputs": []
    },
    {
      "cell_type": "code",
      "metadata": {
        "colab": {
          "base_uri": "https://localhost:8080/"
        },
        "id": "PYBkKYPGEvwO",
        "outputId": "a89a3bfb-f332-4267-a2c6-5449ccf6a738"
      },
      "source": [
        "find_element_array(a,4)"
      ],
      "execution_count": null,
      "outputs": [
        {
          "output_type": "stream",
          "text": [
            "3\n"
          ],
          "name": "stdout"
        }
      ]
    },
    {
      "cell_type": "markdown",
      "metadata": {
        "id": "42Tyn1QSFbx8"
      },
      "source": [
        "## 8. Find max product of two integers in an array"
      ]
    },
    {
      "cell_type": "code",
      "metadata": {
        "id": "mKM6RGshFt0p"
      },
      "source": [
        "def find_max_product(arr):\n",
        "  search_list = list(arr)\n",
        "  num1 = max(search_list)\n",
        "  search_list.remove(num1)\n",
        "  num2 = max(search_list)\n",
        "  ans = num1 * num2\n",
        "  return ans"
      ],
      "execution_count": null,
      "outputs": []
    },
    {
      "cell_type": "code",
      "metadata": {
        "id": "MvlRkoFXGT1H"
      },
      "source": [
        "a = np.array([500,600,200,150,870,941,732,871])"
      ],
      "execution_count": null,
      "outputs": []
    },
    {
      "cell_type": "code",
      "metadata": {
        "colab": {
          "base_uri": "https://localhost:8080/"
        },
        "id": "mOiDgjmOF-Up",
        "outputId": "5277a77e-e7f2-4c3d-f90a-3332ee015f45"
      },
      "source": [
        "find_max_product(a)"
      ],
      "execution_count": null,
      "outputs": [
        {
          "output_type": "execute_result",
          "data": {
            "text/plain": [
              "819611"
            ]
          },
          "metadata": {
            "tags": []
          },
          "execution_count": 57
        }
      ]
    },
    {
      "cell_type": "markdown",
      "metadata": {
        "id": "7UXK3KQbILtD"
      },
      "source": [
        "## 9. Find if all elements in the list are unique"
      ]
    },
    {
      "cell_type": "code",
      "metadata": {
        "id": "DexhvPHXIXYX"
      },
      "source": [
        "def check_if_repeated(check_list):\n",
        "  for item in check_list:\n",
        "    check_list.remove(item)\n",
        "    try:\n",
        "      check_list.index(item)\n",
        "      print('All are not unique')\n",
        "      print(item,'is repeated')\n",
        "      break\n",
        "    except:\n",
        "      continue\n"
      ],
      "execution_count": null,
      "outputs": []
    },
    {
      "cell_type": "code",
      "metadata": {
        "id": "M1M7T1jwKICB"
      },
      "source": [
        "a = [1,2,3,4,5,6,7,8,9,9,10]"
      ],
      "execution_count": null,
      "outputs": []
    },
    {
      "cell_type": "code",
      "metadata": {
        "colab": {
          "base_uri": "https://localhost:8080/"
        },
        "id": "Sl5G3lGuKE7w",
        "outputId": "bca2cd5c-475d-46b7-8b15-f3a64aeb9f7a"
      },
      "source": [
        "check_if_repeated(a)"
      ],
      "execution_count": null,
      "outputs": [
        {
          "output_type": "stream",
          "text": [
            "All are not unique\n",
            "9 is repeated\n"
          ],
          "name": "stdout"
        }
      ]
    },
    {
      "cell_type": "markdown",
      "metadata": {
        "id": "gVJ4KTvGKbcs"
      },
      "source": [
        "## 10. Check if given string is permutation of another"
      ]
    },
    {
      "cell_type": "code",
      "metadata": {
        "id": "moDI9N8aKvFf"
      },
      "source": [
        "def check_list_permutation(list1, list2):\n",
        "  a = len(list1)\n",
        "  b = len(list2)\n",
        "  if a>=b:\n",
        "    for item in list1:\n",
        "      result = 1\n",
        "      try:\n",
        "        list2.index(item)\n",
        "      except:\n",
        "        result = 0\n",
        "        break\n",
        "    if result == 1:\n",
        "      print('They are permutations of each other')\n",
        "    else:\n",
        "      print('Not permutation')\n",
        "  else:\n",
        "    check_list_permutation(list2,list1)\n"
      ],
      "execution_count": null,
      "outputs": []
    },
    {
      "cell_type": "code",
      "metadata": {
        "id": "qRSCyZwlLovA"
      },
      "source": [
        "a = ['e','f','g','h']\n",
        "b = ['e','g','h','f','h']"
      ],
      "execution_count": null,
      "outputs": []
    },
    {
      "cell_type": "code",
      "metadata": {
        "colab": {
          "base_uri": "https://localhost:8080/"
        },
        "id": "mtiRMoCpLorY",
        "outputId": "fd2a2304-91a7-4f78-c109-87b26c028864"
      },
      "source": [
        "check_list_permutation(a,b)"
      ],
      "execution_count": null,
      "outputs": [
        {
          "output_type": "stream",
          "text": [
            "They are permutations of each other\n"
          ],
          "name": "stdout"
        }
      ]
    },
    {
      "cell_type": "markdown",
      "metadata": {
        "id": "BBrYkTmuN-AV"
      },
      "source": [
        "## 11. Rotate a matrix by 90 degrees"
      ]
    },
    {
      "cell_type": "code",
      "metadata": {
        "id": "zos0f9EMRgiV"
      },
      "source": [
        "def rotate_matrix_90(arr):\n",
        "  b = np.zeros([arr.shape[1],arr.shape[0]]).astype(int)\n",
        "  for i in range(arr.shape[0]):\n",
        "    b[:,i] = arr.transpose()[:,(arr.shape[0] -1 -i)]\n",
        "  return b"
      ],
      "execution_count": null,
      "outputs": []
    },
    {
      "cell_type": "code",
      "metadata": {
        "id": "-LgpEXmKOA2W"
      },
      "source": [
        "a = np.array([[1,2,3,4],[5,6,7,8],[9,10,11,12]])"
      ],
      "execution_count": null,
      "outputs": []
    },
    {
      "cell_type": "code",
      "metadata": {
        "id": "gfrlDDiQRihO"
      },
      "source": [
        "b = np.array([[1,2,3],[4,5,6],[7,8,9]])"
      ],
      "execution_count": null,
      "outputs": []
    },
    {
      "cell_type": "code",
      "metadata": {
        "colab": {
          "base_uri": "https://localhost:8080/"
        },
        "id": "QI16LPEQQaV-",
        "outputId": "f377df76-60e0-48a9-9b2a-c167429dd071"
      },
      "source": [
        "rotate_matrix_90(a)"
      ],
      "execution_count": null,
      "outputs": [
        {
          "output_type": "execute_result",
          "data": {
            "text/plain": [
              "array([[ 9,  5,  1],\n",
              "       [10,  6,  2],\n",
              "       [11,  7,  3],\n",
              "       [12,  8,  4]])"
            ]
          },
          "metadata": {
            "tags": []
          },
          "execution_count": 174
        }
      ]
    },
    {
      "cell_type": "markdown",
      "metadata": {
        "id": "ka3_OzdDfwV5"
      },
      "source": [
        "# Linked List\n",
        "\n",
        "Data structure that is not contiguous in memory, with nodes linked to one another."
      ]
    },
    {
      "cell_type": "markdown",
      "metadata": {
        "id": "p9erqoixvGh_"
      },
      "source": [
        "## Single Linked List"
      ]
    },
    {
      "cell_type": "code",
      "metadata": {
        "id": "w0gWrlbefyHM"
      },
      "source": [
        "class SingleLinkedList():  ## Initializing class for Single Linked List\n",
        "  def __init__(self):\n",
        "    self.head = None \n",
        "    self.tail = None\n",
        "  \n",
        "  def __iter__(self): ## Default iterating function, to print out elements of the list\n",
        "    node = self.head\n",
        "    while node != None:\n",
        "      yield node \n",
        "      node = node.next\n",
        "  \n",
        "  def insert_in_list(self,value,location): ## Function to insert a value in list\n",
        "    new_node = Node(value)\n",
        "    if self.head == None:  ## If the list is empty\n",
        "      self.head = new_node\n",
        "      self.tail = new_node\n",
        "    elif location == 0: ## If we want to insert node at the beginning\n",
        "      current_first = self.head\n",
        "      self.head = new_node\n",
        "      new_node.next = current_first\n",
        "    elif location == 1: ## If we want to insert node at the end\n",
        "      current_last = self.tail\n",
        "      current_last.next = new_node\n",
        "      self.tail = new_node\n",
        "    else: ## If we want to insert at any other position in the middle\n",
        "      node_prev = self.head\n",
        "      for i in range(0,location-1,1):\n",
        "        node_prev = node_prev.next\n",
        "      node_after = node_prev.next\n",
        "      node_prev.next = new_node\n",
        "      new_node.next = node_after\n",
        "  \n",
        "  def search_in_list(self,value): ## Check whether an element in present or not\n",
        "    if self.head == None:\n",
        "      print('List is empty')\n",
        "    else:\n",
        "      ref_node = self.head\n",
        "      while ref_node != None:\n",
        "        check = ref_node.value\n",
        "        if value == check:\n",
        "          return 'Present in list'\n",
        "          break\n",
        "        ref_node = ref_node.next\n",
        "    \n",
        "    return 'Not present'\n",
        "  \n",
        "  def delete_from_list(self,location):\n",
        "    if self.head == None:\n",
        "      print('Not possible, list is empty')\n",
        "    elif location == 0:\n",
        "      if self.head.next == None:\n",
        "        self.head = None\n",
        "        self.tail = None\n",
        "      else:\n",
        "        self.head = self.head.next\n",
        "    elif location == 1:\n",
        "      if self.head.next == None:\n",
        "        self.head = None\n",
        "        self.tail = None\n",
        "      else:\n",
        "        node = self.head\n",
        "        while node != None:\n",
        "          if node.next == self.tail:\n",
        "            break\n",
        "          else:\n",
        "            node = node.next\n",
        "        node.next = None\n",
        "        self.tail = node\n",
        "    else:\n",
        "      node = self.head\n",
        "      for i in range(0,location - 2):\n",
        "        node = node.next\n",
        "      node.next = node.next.next\n",
        "\n"
      ],
      "execution_count": null,
      "outputs": []
    },
    {
      "cell_type": "code",
      "metadata": {
        "id": "QTpe6Dtef59k"
      },
      "source": [
        "class Node(): ## Class for creating node\n",
        "  def __init__(self,value=None):\n",
        "    self.value = value\n",
        "    self.next = None"
      ],
      "execution_count": null,
      "outputs": []
    },
    {
      "cell_type": "code",
      "metadata": {
        "id": "jK5p_7l3gHcq"
      },
      "source": [
        "l1 = SingleLinkedList()\n",
        "node1 = Node(1)\n",
        "l1.head = node1\n",
        "node2 = Node(2)\n",
        "l1.head.next = node2\n",
        "l1.tail = node2"
      ],
      "execution_count": null,
      "outputs": []
    },
    {
      "cell_type": "code",
      "metadata": {
        "id": "x5COWV0zEpo4",
        "colab": {
          "base_uri": "https://localhost:8080/"
        },
        "outputId": "74473ffd-e305-42c1-9ee3-1a7df429e45f"
      },
      "source": [
        "l1.insert_in_list(12,0)\n",
        "l1.insert_in_list(4,1)\n",
        "l1.insert_in_list(5,2)\n",
        "for node in l1:\n",
        "  print(node.value)\n",
        "l1.delete_from_list(3)\n",
        "for node in l1:\n",
        "  print(node.value)"
      ],
      "execution_count": null,
      "outputs": [
        {
          "output_type": "stream",
          "text": [
            "12\n",
            "1\n",
            "5\n",
            "2\n",
            "4\n",
            "12\n",
            "1\n",
            "2\n",
            "4\n"
          ],
          "name": "stdout"
        }
      ]
    },
    {
      "cell_type": "markdown",
      "metadata": {
        "id": "bL4MHi7OvI2Q"
      },
      "source": [
        "## Circular Single Linked List"
      ]
    },
    {
      "cell_type": "code",
      "metadata": {
        "id": "jRGV5_VdZ24p"
      },
      "source": [
        "class Circular_Single_Linked_List():  ## Initializing class for Single Linked List\n",
        "  def __init__(self):\n",
        "    self.head = None \n",
        "    self.tail = None\n",
        "  \n",
        "  def __iter__(self): ## Default iterating function, to print out elements of the list\n",
        "    node = self.head\n",
        "    while node != None:\n",
        "      yield node \n",
        "      if node.next == self.tail.next:\n",
        "        break\n",
        "      node = node.next\n",
        "\n",
        "  \n",
        "  def create_C_SLL(self,value):\n",
        "    new_node = Node(value)\n",
        "    self.head = new_node\n",
        "    self.tail = new_node\n",
        "    self.tail.next = new_node\n",
        "\n",
        "\n",
        "\n",
        "  def insert_in_list(self,value,location): ## Function to insert a value in list\n",
        "    new_node = Node(value)\n",
        "    if self.head == None:  ## If the list is empty\n",
        "      self.head = new_node\n",
        "      self.tail = new_node\n",
        "      self.tail.next = new_node\n",
        "    elif location == 0: ## If we want to insert node at the beginning\n",
        "      new_node.next = self.head\n",
        "      self.head = new_node\n",
        "      self.tail.next = new_node\n",
        "    elif location == 1: ## If we want to insert node at the end\n",
        "      new_node.next = self.tail.next\n",
        "      self.tail.next = new_node\n",
        "      self.tail = new_node\n",
        "    else: ## If we want to insert at any other position in the middle\n",
        "      node_prev = self.head\n",
        "      for i in range(0,location-2,1):\n",
        "        node_prev = node_prev.next\n",
        "      node_after = node_prev.next\n",
        "      node_prev.next = new_node\n",
        "      new_node.next = node_after\n",
        "  \n",
        "  def search_in_list(self,value): ## Check whether an element in present or not\n",
        "    if self.head == None:\n",
        "      print('List is empty')\n",
        "    else:\n",
        "      node = self.head\n",
        "      while node != None:\n",
        "        check = node.value\n",
        "        if value == check:\n",
        "          return 'Present in list'\n",
        "          break\n",
        "        if node.next == self.tail.next:\n",
        "          break\n",
        "        node = node.next\n",
        "    \n",
        "    return 'Not present'\n",
        "  \n",
        "  def delete_from_list(self,location):  ## Yet to modify\n",
        "    if self.head == None:\n",
        "      print('Not possible, list is empty')\n",
        "    elif location == 0:\n",
        "      if self.head.next == self.head:\n",
        "        self.head.next = None\n",
        "        self.head = None\n",
        "        self.tail = None\n",
        "      else:\n",
        "        self.tail.next = self.head.next\n",
        "        self.head = self.head.next\n",
        "    elif location == 1:\n",
        "      if self.head.next == self.head:\n",
        "        self.head.next = None\n",
        "        self.head = None\n",
        "        self.tail = None\n",
        "      else:\n",
        "        node = self.head\n",
        "        while node != None:\n",
        "          if node.next == self.tail:\n",
        "            break\n",
        "          node = node.next\n",
        "        node.next = self.tail.next\n",
        "        self.tail = node\n",
        "    else:\n",
        "      node = self.head\n",
        "      for i in range(0,location - 2):\n",
        "        node = node.next\n",
        "      node.next = node.next.next\n",
        "  \n",
        "  def traverse(self):\n",
        "    if self.head == None:\n",
        "      print('List is empty')\n",
        "    else:\n",
        "      node = self.head\n",
        "      while node != None:\n",
        "        print(node.value)\n",
        "        if node.next == self.tail.next:\n",
        "          break\n",
        "        else:\n",
        "          node = node.next\n",
        "  \n",
        "  def delete_whole_list(self):\n",
        "    if self.head == None:\n",
        "      print('Already Empty')\n",
        "    else:\n",
        "      self.head = None\n",
        "      self.tail.next = None\n",
        "      self.tail = None"
      ],
      "execution_count": null,
      "outputs": []
    },
    {
      "cell_type": "code",
      "metadata": {
        "id": "BrJhwOswyF0R"
      },
      "source": [
        "csll = Circular_Single_Linked_List()\n",
        "csll.insert_in_list(4,0)\n",
        "csll.insert_in_list(5,1)\n",
        "csll.insert_in_list(7,2)\n",
        "csll.insert_in_list(8,3)\n",
        "csll.insert_in_list(25,1)"
      ],
      "execution_count": null,
      "outputs": []
    },
    {
      "cell_type": "code",
      "metadata": {
        "colab": {
          "base_uri": "https://localhost:8080/"
        },
        "id": "NLhQdClJyMMD",
        "outputId": "e87f12af-50ae-4a77-d25b-67a9731dbbd9"
      },
      "source": [
        "csll.traverse()"
      ],
      "execution_count": null,
      "outputs": [
        {
          "output_type": "stream",
          "text": [
            "4\n",
            "7\n",
            "8\n",
            "5\n",
            "25\n"
          ],
          "name": "stdout"
        }
      ]
    },
    {
      "cell_type": "code",
      "metadata": {
        "colab": {
          "base_uri": "https://localhost:8080/"
        },
        "id": "2Rt7mhaLzyHr",
        "outputId": "c74f8355-10c7-45a6-827d-2d7ec6419002"
      },
      "source": [
        "csll.delete_from_list(0)\n",
        "csll.traverse()"
      ],
      "execution_count": null,
      "outputs": [
        {
          "output_type": "stream",
          "text": [
            "7\n",
            "8\n",
            "5\n",
            "25\n"
          ],
          "name": "stdout"
        }
      ]
    },
    {
      "cell_type": "code",
      "metadata": {
        "id": "Bw-hteGnYMDT",
        "colab": {
          "base_uri": "https://localhost:8080/"
        },
        "outputId": "88b0ff9d-ac35-423a-da3a-cbdf93970d02"
      },
      "source": [
        "csll.tail.next.value"
      ],
      "execution_count": null,
      "outputs": [
        {
          "output_type": "execute_result",
          "data": {
            "text/plain": [
              "7"
            ]
          },
          "metadata": {
            "tags": []
          },
          "execution_count": 107
        }
      ]
    },
    {
      "cell_type": "markdown",
      "metadata": {
        "id": "RE0TDQr6BwiL"
      },
      "source": [
        "## Double Linked List"
      ]
    },
    {
      "cell_type": "code",
      "metadata": {
        "id": "piFlKXo2j8z_"
      },
      "source": [
        "class DNode():\n",
        "  def __init__(self,value = None):\n",
        "    self.value = value\n",
        "    self.next  = None\n",
        "    self.prev = None"
      ],
      "execution_count": null,
      "outputs": []
    },
    {
      "cell_type": "code",
      "metadata": {
        "id": "uoqimvGdCBY0"
      },
      "source": [
        "class Double_Linked_List():\n",
        "  def __init__(self): \n",
        "    self.head = None\n",
        "    self.tail = None\n",
        "  \n",
        "  def __iter__(self):\n",
        "    if self.head == None:\n",
        "      print('List is empty')\n",
        "    else:\n",
        "      node = self.head \n",
        "      while node != None:\n",
        "        yield node\n",
        "        node = node.next\n",
        "  \n",
        "  def insert_in_list(self,value,location): ## Function to insert a value in list\n",
        "    new_node = DNode(value)\n",
        "    if self.head == None:  ## If the list is empty\n",
        "      self.head = new_node\n",
        "      self.tail = new_node      \n",
        "    elif location == 0: ## If we want to insert node at the beginning\n",
        "      current_first = self.head\n",
        "      current_first.prev = new_node\n",
        "      new_node.next = current_first\n",
        "      self.head = new_node\n",
        "    elif location == 1: ## If we want to insert node at the end\n",
        "      current_last = self.tail\n",
        "      current_last.next = new_node\n",
        "      new_node.prev = current_last\n",
        "      self.tail = new_node\n",
        "    else: ## If we want to insert at any other position in the middle\n",
        "      node = self.head\n",
        "      for i in range(0,location-2,1):\n",
        "        node = node.next\n",
        "      node_after = node.next\n",
        "      node.next = new_node\n",
        "      new_node.prev = node\n",
        "      new_node.next = node_after\n",
        "      node_after.prev = new_node\n",
        "  \n",
        "  def traverse(self,direction = 0):\n",
        "    if self.head == None:\n",
        "      print('List is empty')\n",
        "    else:\n",
        "      if direction == 0:\n",
        "        node = self.head\n",
        "      else:\n",
        "        node = self.tail\n",
        "      while node != None:\n",
        "        print(node.value)\n",
        "        if direction == 0:\n",
        "          node = node.next\n",
        "        else:\n",
        "          if node == self.head:\n",
        "            break\n",
        "          node = node.prev\n",
        "\n",
        "  def search_in_list(self,value): ## Check whether an element in present or not\n",
        "    if self.head == None:\n",
        "      print('List is empty')\n",
        "    else:\n",
        "      node = self.head\n",
        "      while node != None:\n",
        "        check = node.value\n",
        "        if value == check:\n",
        "          return 'Present in list'\n",
        "          break\n",
        "        node = node.next\n",
        "    \n",
        "    return 'Not present'\n",
        "\n",
        "  def delete_from_list(self,location):  ## Yet to modify\n",
        "    if self.head == None:\n",
        "      print('Not possible, list is empty')\n",
        "    elif location == 0:\n",
        "      if self.head.next == None:\n",
        "        self.head = None\n",
        "        self.tail = None\n",
        "      else:\n",
        "        current_first = self.head\n",
        "        self.head = current_first.next\n",
        "        current_first.next = None\n",
        "        self.head.prev = None\n",
        "    elif location == 1:\n",
        "      if self.head.next == None:\n",
        "        self.head = None\n",
        "        self.tail = None\n",
        "      else:\n",
        "        current_last = self.tail\n",
        "        self.tail = current_last.prev\n",
        "        self.tail.next = None\n",
        "        current_last.prev = None\n",
        "    else:\n",
        "      node = self.head\n",
        "      for i in range(0,location - 2):\n",
        "        node = node.next\n",
        "      current_before = node\n",
        "      current_after = node.next.next\n",
        "      current_before.next = current_after\n",
        "      current_after.prev = current_before\n",
        "\n"
      ],
      "execution_count": null,
      "outputs": []
    },
    {
      "cell_type": "code",
      "metadata": {
        "id": "rYKJsyWkCX3p"
      },
      "source": [
        "dll = Double_Linked_List()\n",
        "node1 = DNode(2)\n",
        "dll.head = node1\n",
        "dll.tail = node1"
      ],
      "execution_count": null,
      "outputs": []
    },
    {
      "cell_type": "code",
      "metadata": {
        "colab": {
          "base_uri": "https://localhost:8080/"
        },
        "id": "ozt0dhGwChD-",
        "outputId": "02c513ce-92c7-4322-d3b3-97d301db77cf"
      },
      "source": [
        "dll.insert_in_list(3,1)\n",
        "dll.insert_in_list(4,2)\n",
        "dll.insert_in_list(7,2)\n",
        "dll.insert_in_list(9,3)\n",
        "dll.traverse(1)"
      ],
      "execution_count": null,
      "outputs": [
        {
          "output_type": "stream",
          "text": [
            "3\n",
            "4\n",
            "9\n",
            "7\n",
            "2\n"
          ],
          "name": "stdout"
        }
      ]
    },
    {
      "cell_type": "code",
      "metadata": {
        "colab": {
          "base_uri": "https://localhost:8080/"
        },
        "id": "TWjF9vTem2Dq",
        "outputId": "4c81fa81-6c1d-4f77-e522-735ac61ba3ae"
      },
      "source": [
        "dll.traverse(0)"
      ],
      "execution_count": null,
      "outputs": [
        {
          "output_type": "stream",
          "text": [
            "2\n",
            "7\n",
            "9\n",
            "4\n",
            "3\n"
          ],
          "name": "stdout"
        }
      ]
    },
    {
      "cell_type": "markdown",
      "metadata": {
        "id": "CDWCONEVKyIj"
      },
      "source": [
        "## Circular Double Linked List"
      ]
    },
    {
      "cell_type": "code",
      "metadata": {
        "id": "rkCNMzXSK0Dq"
      },
      "source": [
        "class Circular_Double_Linked_list():\n",
        "  def __init__(self):\n",
        "    self.head = None\n",
        "    self.tail = None\n",
        "  \n",
        "  def __iter__(self):\n",
        "    if self.head == None:\n",
        "      print('List is empty')\n",
        "    else:\n",
        "      node = self.head\n",
        "      while node != None:\n",
        "        yield node\n",
        "        if node.next == self.tail.next:\n",
        "          break\n",
        "        node = node.next\n",
        "  \n",
        "  def insert_in_list(self,value,location): ## Function to insert a value in list\n",
        "    new_node = DNode(value)\n",
        "    if self.head == None:  ## If the list is empty\n",
        "      self.head = new_node\n",
        "      self.tail = new_node\n",
        "      new_node.prev = new_node\n",
        "      new_node.next = new_node      \n",
        "    elif location == 0: ## If we want to insert node at the beginning\n",
        "      current_first = self.head\n",
        "      current_first.prev = new_node\n",
        "      new_node.next = current_first\n",
        "      new_node.prev = self.tail.next\n",
        "      self.tail.next = new_node\n",
        "      self.head = new_node\n",
        "    elif location == 1: ## If we want to insert node at the end\n",
        "      current_last = self.tail\n",
        "      new_node.next = self.tail.next\n",
        "      current_last.next = new_node\n",
        "      new_node.prev = current_last \n",
        "      self.head.prev = new_node\n",
        "      self.tail = new_node\n",
        "    else: ## If we want to insert at any other position in the middle\n",
        "      node = self.head\n",
        "      for i in range(0,location-2,1):\n",
        "        node = node.next\n",
        "      node_after = node.next\n",
        "      node.next = new_node\n",
        "      new_node.prev = node\n",
        "      new_node.next = node_after\n",
        "      node_after.prev = new_node\n",
        "\n",
        "\n",
        "  def traverse(self,direction = 0):\n",
        "    if self.head == None:\n",
        "      print('List is empty')\n",
        "    else:\n",
        "      if direction == 0:\n",
        "        node = self.head\n",
        "      else:\n",
        "        node = self.tail\n",
        "      while node != None:\n",
        "        print(node.value)\n",
        "        if direction == 0:\n",
        "          if node.next == self.tail.next:\n",
        "            break\n",
        "          node = node.next\n",
        "        else:\n",
        "          if node == self.tail.next:\n",
        "            break\n",
        "          node = node.prev\n",
        "\n",
        "\n",
        "  def search_in_list(self,value): ## Check whether an element in present or not\n",
        "    if self.head == None:\n",
        "      print('List is empty')\n",
        "    else:\n",
        "      node = self.head\n",
        "      while node != None:\n",
        "        check = node.value\n",
        "        if value == check:\n",
        "          return 'Present in list'\n",
        "          break\n",
        "        if node.next == self.tail.next:\n",
        "          break\n",
        "        node = node.next\n",
        "\n",
        "    return 'Not present'\n",
        "\n",
        "\n",
        "  def delete_from_list(self,location):  ## Yet to modify\n",
        "    if self.head == None:\n",
        "      print('Not possible, list is empty')\n",
        "    elif location == 0:\n",
        "      if self.head.next == self.head:\n",
        "        self.head = None\n",
        "        self.tail = None\n",
        "        self.head.next = None\n",
        "      else:\n",
        "        current_second = self.head.next\n",
        "        self.head = current_second\n",
        "        current_second.prev = self.tail\n",
        "        self.tail.next = current_second\n",
        "    elif location == 1:\n",
        "      if self.head.next == self.head:\n",
        "        self.head = None\n",
        "        self.tail = None\n",
        "        self.head.next = None\n",
        "      else:\n",
        "        current_secondlast = self.tail.prev\n",
        "        current_secondlast.next = self.tail.next\n",
        "        self.tail = current_secondlast\n",
        "    else:\n",
        "      node = self.head\n",
        "      for i in range(0,location - 2):\n",
        "        node = node.next\n",
        "      current_before = node\n",
        "      current_after = node.next.next\n",
        "      current_before.next = current_after\n",
        "      current_after.prev = current_before\n",
        "\n"
      ],
      "execution_count": null,
      "outputs": []
    },
    {
      "cell_type": "code",
      "metadata": {
        "colab": {
          "base_uri": "https://localhost:8080/"
        },
        "id": "g86eE-b7LKi0",
        "outputId": "369eb9f7-0d83-4bfa-cbfe-a6a6fda812e9"
      },
      "source": [
        "cdll = Circular_Double_Linked_list()\n",
        "cdll.insert_in_list(4,0)\n",
        "cdll.insert_in_list(6,1)\n",
        "cdll.insert_in_list(9,2)\n",
        "cdll.insert_in_list(8,1)\n",
        "cdll.insert_in_list(7,3)\n",
        "cdll.traverse()"
      ],
      "execution_count": null,
      "outputs": [
        {
          "output_type": "stream",
          "text": [
            "4\n",
            "9\n",
            "7\n",
            "6\n",
            "8\n"
          ],
          "name": "stdout"
        }
      ]
    },
    {
      "cell_type": "code",
      "metadata": {
        "colab": {
          "base_uri": "https://localhost:8080/",
          "height": 35
        },
        "id": "hWIndF3piaHC",
        "outputId": "f979c61b-3cb8-4cd0-e54c-35b8c64fedae"
      },
      "source": [
        "cdll.search_in_list(8)"
      ],
      "execution_count": null,
      "outputs": [
        {
          "output_type": "execute_result",
          "data": {
            "application/vnd.google.colaboratory.intrinsic+json": {
              "type": "string"
            },
            "text/plain": [
              "'Present in list'"
            ]
          },
          "metadata": {
            "tags": []
          },
          "execution_count": 115
        }
      ]
    },
    {
      "cell_type": "code",
      "metadata": {
        "colab": {
          "base_uri": "https://localhost:8080/"
        },
        "id": "b4LEDxpLotM_",
        "outputId": "35e070f2-71fa-47f7-f619-0bb7c31f8e3b"
      },
      "source": [
        "cdll.delete_from_list(3)\n",
        "cdll.traverse()"
      ],
      "execution_count": null,
      "outputs": [
        {
          "output_type": "stream",
          "text": [
            "4\n",
            "9\n",
            "6\n",
            "8\n"
          ],
          "name": "stdout"
        }
      ]
    },
    {
      "cell_type": "code",
      "metadata": {
        "colab": {
          "base_uri": "https://localhost:8080/"
        },
        "id": "_G-OAN7Soyhu",
        "outputId": "b6c326b7-63f7-4f51-c1a9-1d682f808df8"
      },
      "source": [
        "cdll.traverse(1)"
      ],
      "execution_count": null,
      "outputs": [
        {
          "output_type": "stream",
          "text": [
            "8\n",
            "6\n",
            "9\n",
            "4\n"
          ],
          "name": "stdout"
        }
      ]
    },
    {
      "cell_type": "markdown",
      "metadata": {
        "id": "NsFc_8yH-YpF"
      },
      "source": [
        "# Linked List Questions"
      ]
    },
    {
      "cell_type": "markdown",
      "metadata": {
        "id": "L7qsp4JA-ak9"
      },
      "source": [
        "## Class to use for solving"
      ]
    },
    {
      "cell_type": "code",
      "metadata": {
        "id": "irv_pQyK-aBa"
      },
      "source": [
        "class Node():\n",
        "  def __init__(self, value = None):\n",
        "    self.value = value\n",
        "    self.next = None\n",
        "    self.prev = None\n",
        "  \n",
        "  def __str__(self):\n",
        "    return str(self.value)"
      ],
      "execution_count": 3,
      "outputs": []
    },
    {
      "cell_type": "code",
      "metadata": {
        "id": "_1hSiRxs_YKv"
      },
      "source": [
        "class LinkedList():\n",
        "  def __init__(self):\n",
        "    self.head = None\n",
        "    self.tail = None\n",
        "  \n",
        "  def __str__(self):\n",
        "    list_nodes = [str(node.value) for node in self]\n",
        "    return ' -> '.join(list_nodes)\n",
        "\n",
        "  def __iter__(self):\n",
        "    if self.head == None:\n",
        "      print('list is empty')\n",
        "    else:\n",
        "      node = self.head\n",
        "      while node != None:\n",
        "        yield node\n",
        "        node = node.next\n",
        "  \n",
        "  def __len__(self):\n",
        "    length = 0\n",
        "    node = self.head\n",
        "    while node != None:\n",
        "      length += 1\n",
        "      node = node.next\n",
        "    return length\n",
        "  \n",
        "  def insert(self,value):\n",
        "    node = Node(value)\n",
        "    if self.head == None:\n",
        "      self.head = node\n",
        "      self.tail = node\n",
        "    else:\n",
        "      self.tail.next = node\n",
        "      self.tail = node\n",
        "  \n",
        "  def generate(self,n,low,high):\n",
        "    for i in range(n):\n",
        "      num = np.random.randint(low,high)\n",
        "      self.insert(num)\n",
        "  "
      ],
      "execution_count": 4,
      "outputs": []
    },
    {
      "cell_type": "markdown",
      "metadata": {
        "id": "OrMn0I0Kz3Tt"
      },
      "source": [
        "## Remove Duplicate elements from a linked list"
      ]
    },
    {
      "cell_type": "code",
      "metadata": {
        "id": "pjQ6GQZqBL6m"
      },
      "source": [
        "ll = LinkedList()\n",
        "ll.insert(7)\n",
        "ll.insert(8)\n",
        "ll.insert(9)\n",
        "ll.generate(30,1,75)\n",
        "ll.insert(7)"
      ],
      "execution_count": 5,
      "outputs": []
    },
    {
      "cell_type": "code",
      "metadata": {
        "colab": {
          "base_uri": "https://localhost:8080/"
        },
        "id": "XUQnqvBksYLF",
        "outputId": "51d4bdb9-f0e5-4bae-d923-ae665a704daf"
      },
      "source": [
        "print(ll)\n",
        "print(len(ll))"
      ],
      "execution_count": 6,
      "outputs": [
        {
          "output_type": "stream",
          "text": [
            "7 -> 8 -> 9 -> 35 -> 25 -> 45 -> 19 -> 36 -> 12 -> 40 -> 6 -> 38 -> 61 -> 36 -> 49 -> 8 -> 1 -> 15 -> 48 -> 23 -> 63 -> 9 -> 55 -> 29 -> 47 -> 10 -> 56 -> 31 -> 15 -> 14 -> 69 -> 7 -> 33 -> 7\n",
            "34\n"
          ],
          "name": "stdout"
        }
      ]
    },
    {
      "cell_type": "code",
      "metadata": {
        "id": "9JsgLYP8u5dE"
      },
      "source": [
        "all_values = []\n",
        "node = ll.head\n",
        "all_values.append(ll.head.value)\n",
        "while node.next != None:\n",
        "  try:\n",
        "    all_values.index(node.next.value)\n",
        "    node.next = node.next.next\n",
        "  except:\n",
        "    all_values.append(node.next.value)\n",
        "    node = node.next"
      ],
      "execution_count": 7,
      "outputs": []
    },
    {
      "cell_type": "code",
      "metadata": {
        "colab": {
          "base_uri": "https://localhost:8080/"
        },
        "id": "ohuFjO83v6Bz",
        "outputId": "8672a30a-bf5c-4ca8-9867-befc1b4db4f7"
      },
      "source": [
        "print(len(ll))\n",
        "print(ll)\n",
        "print(len(all_values))"
      ],
      "execution_count": 8,
      "outputs": [
        {
          "output_type": "stream",
          "text": [
            "28\n",
            "7 -> 8 -> 9 -> 35 -> 25 -> 45 -> 19 -> 36 -> 12 -> 40 -> 6 -> 38 -> 61 -> 49 -> 1 -> 15 -> 48 -> 23 -> 63 -> 55 -> 29 -> 47 -> 10 -> 56 -> 31 -> 14 -> 69 -> 33\n",
            "28\n"
          ],
          "name": "stdout"
        }
      ]
    },
    {
      "cell_type": "markdown",
      "metadata": {
        "id": "9_W-36CP0EFc"
      },
      "source": [
        "## Print nth to last element of a linked list"
      ]
    },
    {
      "cell_type": "code",
      "metadata": {
        "id": "vzOgl8sz0GSw"
      },
      "source": [
        "ll = LinkedList()\n",
        "ll.insert(7)\n",
        "ll.insert(8)\n",
        "ll.insert(9)\n",
        "ll.generate(30,1,75)"
      ],
      "execution_count": 9,
      "outputs": []
    },
    {
      "cell_type": "code",
      "metadata": {
        "colab": {
          "base_uri": "https://localhost:8080/"
        },
        "id": "CH9rWlVJ0QAp",
        "outputId": "2e58cae6-c34c-4b45-9738-8a96368b2249"
      },
      "source": [
        "print(ll)\n",
        "print(len(ll))"
      ],
      "execution_count": 10,
      "outputs": [
        {
          "output_type": "stream",
          "text": [
            "7 -> 8 -> 9 -> 37 -> 70 -> 37 -> 30 -> 63 -> 30 -> 8 -> 70 -> 38 -> 41 -> 28 -> 61 -> 1 -> 15 -> 35 -> 70 -> 29 -> 68 -> 42 -> 5 -> 58 -> 52 -> 5 -> 72 -> 31 -> 51 -> 21 -> 36 -> 7 -> 44\n",
            "33\n"
          ],
          "name": "stdout"
        }
      ]
    },
    {
      "cell_type": "code",
      "metadata": {
        "id": "0SmrLXSW0TDr"
      },
      "source": [
        "def print_n_2_last(ll,nth):\n",
        "  first_node = ll.head  \n",
        "  end_node = ll.head\n",
        "  for i in range(nth): #--> O(n)\n",
        "    end_node = end_node.next\n",
        "  while end_node.next != None: #--> O(n)\n",
        "    first_node = first_node.next\n",
        "    end_node = end_node.next\n",
        "  list_to_return =  []\n",
        "  while first_node != None: #--> O(n)\n",
        "    list_to_return.append(first_node.value)\n",
        "    first_node = first_node.next\n",
        "  list_to_return.pop(0)\n",
        "  return list_to_return"
      ],
      "execution_count": 11,
      "outputs": []
    },
    {
      "cell_type": "code",
      "metadata": {
        "colab": {
          "base_uri": "https://localhost:8080/"
        },
        "id": "DdBzDU691Mw0",
        "outputId": "77f0c269-04ed-4cc5-88dc-fd11a80613e6"
      },
      "source": [
        "len(print_n_2_last(ll,20))"
      ],
      "execution_count": 12,
      "outputs": [
        {
          "output_type": "execute_result",
          "data": {
            "text/plain": [
              "20"
            ]
          },
          "metadata": {
            "tags": []
          },
          "execution_count": 12
        }
      ]
    },
    {
      "cell_type": "code",
      "metadata": {
        "colab": {
          "base_uri": "https://localhost:8080/"
        },
        "id": "lBo4NKtL3kmd",
        "outputId": "c22e4e78-5629-4d58-d85e-9fafb9fdb68e"
      },
      "source": [
        "print_n_2_last(ll,5)"
      ],
      "execution_count": 13,
      "outputs": [
        {
          "output_type": "execute_result",
          "data": {
            "text/plain": [
              "[51, 21, 36, 7, 44]"
            ]
          },
          "metadata": {
            "tags": []
          },
          "execution_count": 13
        }
      ]
    },
    {
      "cell_type": "markdown",
      "metadata": {
        "id": "yLYe3iYOIW_S"
      },
      "source": [
        "## Partition of a Linked List around any given value\n",
        "\n",
        "Time Complexity = $O(n)$\n",
        "\n",
        "Space Complexity = $O(1)$"
      ]
    },
    {
      "cell_type": "code",
      "metadata": {
        "colab": {
          "base_uri": "https://localhost:8080/"
        },
        "id": "1wFu8VOUIblA",
        "outputId": "1319d874-083d-4cbe-e598-d5908dc1738f"
      },
      "source": [
        "ll = LinkedList()\n",
        "ll.generate(12,1,50)\n",
        "print(ll)\n",
        "print(len(ll))"
      ],
      "execution_count": 122,
      "outputs": [
        {
          "output_type": "stream",
          "text": [
            "3 -> 22 -> 43 -> 17 -> 32 -> 12 -> 45 -> 6 -> 4 -> 12 -> 42 -> 41\n",
            "12\n"
          ],
          "name": "stdout"
        }
      ]
    },
    {
      "cell_type": "code",
      "metadata": {
        "id": "U6zPTYjROvPk"
      },
      "source": [
        "def partition_ll(ll,value):\n",
        "  node = ll.head\n",
        "  node_last = ll.tail\n",
        "  while node.next != None:\n",
        "    if node.next == node_last:\n",
        "      break\n",
        "    if node.next.value >= value:\n",
        "      ll.insert(node.next.value)\n",
        "      node.next = node.next.next\n",
        "    else:\n",
        "      node = node.next\n",
        "  if ll.head.value >= value:\n",
        "    ll.insert(ll.head.value)\n",
        "    ll.head = ll.head.next"
      ],
      "execution_count": 112,
      "outputs": []
    },
    {
      "cell_type": "code",
      "metadata": {
        "colab": {
          "base_uri": "https://localhost:8080/"
        },
        "id": "o4ZH3-j1JLek",
        "outputId": "fc17f43e-15d9-453f-b4b6-df79d8b71d49"
      },
      "source": [
        "partition_ll(ll,17)"
      ],
      "execution_count": 123,
      "outputs": [
        {
          "output_type": "stream",
          "text": [
            "22\n",
            "43\n",
            "17\n",
            "32\n",
            "45\n",
            "42\n"
          ],
          "name": "stdout"
        }
      ]
    },
    {
      "cell_type": "code",
      "metadata": {
        "colab": {
          "base_uri": "https://localhost:8080/"
        },
        "id": "3NN-ei7ZNfGF",
        "outputId": "1ac543fd-ad52-49ed-d3fb-f120a8da6445"
      },
      "source": [
        "print(ll)\n",
        "print(len(ll))"
      ],
      "execution_count": 126,
      "outputs": [
        {
          "output_type": "stream",
          "text": [
            "3 -> 12 -> 6 -> 4 -> 12 -> 41 -> 22 -> 43 -> 17 -> 32 -> 45 -> 42\n",
            "12\n"
          ],
          "name": "stdout"
        }
      ]
    },
    {
      "cell_type": "markdown",
      "metadata": {
        "id": "55YhO3_ImC-L"
      },
      "source": [
        "## Sum of linked list digits"
      ]
    },
    {
      "cell_type": "code",
      "metadata": {
        "id": "BxmWuASTmFRM"
      },
      "source": [
        "ll1 = LinkedList()\n",
        "ll2 = LinkedList()\n",
        "ll1.insert(5)\n",
        "ll1.insert(1)\n",
        "ll1.insert(2)\n",
        "ll2.insert(5)\n",
        "ll2.insert(7)\n",
        "ll2.insert(8)"
      ],
      "execution_count": 224,
      "outputs": []
    },
    {
      "cell_type": "code",
      "metadata": {
        "id": "h771IBkAqLsm"
      },
      "source": [
        "def sum_lists(ll1,ll2):\n",
        "  count = 0\n",
        "  sum = 0\n",
        "  for node1,node2 in  zip(ll1,ll2):\n",
        "    sum += (node1.value + node2.value)*(10**count)\n",
        "    count += 1\n",
        "  print(sum)\n",
        "  ll3 = LinkedList()\n",
        "  count = 0\n",
        "  while sum!= 0:\n",
        "    val = sum%(10**(count+1))\n",
        "    sum -= val \n",
        "    ll3.insert(int((val/(10**count))))\n",
        "    count += 1\n",
        "  return ll3\n",
        "  \n"
      ],
      "execution_count": 225,
      "outputs": []
    },
    {
      "cell_type": "code",
      "metadata": {
        "colab": {
          "base_uri": "https://localhost:8080/"
        },
        "id": "1vId12IbqXcL",
        "outputId": "8c38bd83-4df1-4960-cde4-ddd606a44266"
      },
      "source": [
        "print(sum_lists(ll1,ll2))"
      ],
      "execution_count": 226,
      "outputs": [
        {
          "output_type": "stream",
          "text": [
            "1090\n",
            "0 -> 9 -> 0 -> 1\n"
          ],
          "name": "stdout"
        }
      ]
    },
    {
      "cell_type": "markdown",
      "metadata": {
        "id": "lH6X8xwUuFES"
      },
      "source": [
        "## Determine if two linked lists intersect, i.e. they have the same reference"
      ]
    },
    {
      "cell_type": "code",
      "metadata": {
        "id": "SP576hxiuJrm"
      },
      "source": [
        "def find_intersection(ll1,ll2):\n",
        "  if ll1.tail == ll2.tail:\n",
        "\n",
        "    l1 = len(ll1)\n",
        "    l2 = len(ll2)\n",
        "\n",
        "    node1 = ll1.head\n",
        "    if l1 > l2:\n",
        "      for i in range(l1-l2):\n",
        "        node1 = node1.next\n",
        "    elif l2 > l1:\n",
        "      find_intersection(ll2,ll1)\n",
        "\n",
        "    node2 = ll2.head\n",
        "    while node1 != None:\n",
        "      if node1 == node2:\n",
        "        print('Intersection point is value',node1.value)\n",
        "        break\n",
        "      node1 = node1.next\n",
        "      node2 = node2.next\n",
        "\n",
        "  else:\n",
        "    print('Lists do not intersect')\n",
        "\n"
      ],
      "execution_count": 307,
      "outputs": []
    },
    {
      "cell_type": "code",
      "metadata": {
        "colab": {
          "base_uri": "https://localhost:8080/"
        },
        "id": "ya4WlSbqwk12",
        "outputId": "418d668f-fc9a-4ff6-be1b-5791c1f0dac8"
      },
      "source": [
        "ll1 = LinkedList()\n",
        "ll2 = LinkedList()\n",
        "ll3 = LinkedList()\n",
        "ll1.generate(4,1,78)\n",
        "print(ll1)"
      ],
      "execution_count": 318,
      "outputs": [
        {
          "output_type": "stream",
          "text": [
            "27 -> 45 -> 28 -> 57\n"
          ],
          "name": "stdout"
        }
      ]
    },
    {
      "cell_type": "code",
      "metadata": {
        "colab": {
          "base_uri": "https://localhost:8080/"
        },
        "id": "9yeK_dL_ww04",
        "outputId": "d3fec405-c0de-4e84-926a-083a26237751"
      },
      "source": [
        "ll2.generate(5,1,35)\n",
        "ll3.generate(7,1,40)\n",
        "ll2.tail.next = ll1.head\n",
        "ll3.tail.next = ll1.head\n",
        "ll2.tail = ll1.tail\n",
        "ll3.tail = ll1.tail\n",
        "print(ll2)\n",
        "print(ll3)"
      ],
      "execution_count": 319,
      "outputs": [
        {
          "output_type": "stream",
          "text": [
            "17 -> 9 -> 6 -> 28 -> 26 -> 27 -> 45 -> 28 -> 57\n",
            "38 -> 8 -> 21 -> 36 -> 15 -> 10 -> 18 -> 27 -> 45 -> 28 -> 57\n"
          ],
          "name": "stdout"
        }
      ]
    },
    {
      "cell_type": "code",
      "metadata": {
        "colab": {
          "base_uri": "https://localhost:8080/"
        },
        "id": "BLBdJCLax7y1",
        "outputId": "67d9db72-9200-41ed-9a60-e18196fdf110"
      },
      "source": [
        "find_intersection(ll2,ll3)"
      ],
      "execution_count": 320,
      "outputs": [
        {
          "output_type": "stream",
          "text": [
            "Intersection point is value 27\n"
          ],
          "name": "stdout"
        }
      ]
    }
  ]
}
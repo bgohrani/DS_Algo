{
  "nbformat": 4,
  "nbformat_minor": 0,
  "metadata": {
    "colab": {
      "name": "DSA_Notebook.ipynb",
      "provenance": [],
      "collapsed_sections": [
        "Y0VGTfNQKhs9",
        "MJ-_cUIsq4yQ",
        "B28EPr8Yw3pJ",
        "9e9v-b26EICY",
        "S0h_xws0JCyC",
        "z6rvdnlZSZQu",
        "gwnmJ0PL_im6",
        "VuYbslZt49wi",
        "cJdlN4dK_hrl",
        "pDlGFhlbCUxc",
        "42Tyn1QSFbx8",
        "7UXK3KQbILtD",
        "gVJ4KTvGKbcs",
        "BBrYkTmuN-AV",
        "p9erqoixvGh_",
        "bL4MHi7OvI2Q"
      ],
      "authorship_tag": "ABX9TyOFqmSDAELdxU6CWZgFgZB3",
      "include_colab_link": true
    },
    "kernelspec": {
      "name": "python3",
      "display_name": "Python 3"
    },
    "language_info": {
      "name": "python"
    }
  },
  "cells": [
    {
      "cell_type": "markdown",
      "metadata": {
        "id": "view-in-github",
        "colab_type": "text"
      },
      "source": [
        "<a href=\"https://colab.research.google.com/github/bgohrani/DS_Algo/blob/main/DSA_Notebook.ipynb\" target=\"_parent\"><img src=\"https://colab.research.google.com/assets/colab-badge.svg\" alt=\"Open In Colab\"/></a>"
      ]
    },
    {
      "cell_type": "code",
      "metadata": {
        "id": "U2yGwSCJkOv7"
      },
      "source": [
        "import numpy as np\n",
        "import pandas as pd\n",
        "import seaborn as sns\n",
        "import matplotlib.pyplot as plt\n",
        "from tqdm import tqdm_notebook\n",
        "import matplotlib.colors\n",
        "import math\n",
        "import copy\n",
        "\n",
        "#importing essential libraries"
      ],
      "execution_count": 1,
      "outputs": []
    },
    {
      "cell_type": "markdown",
      "metadata": {
        "id": "SDsMSRu7SeXn"
      },
      "source": [
        "## Big-O Notation\n",
        "\n",
        "Big O Notation is the language we use to describe the complexity of an algorithm. In other words, Big O Notation is the language we use for talking about how long an algorithm takes to run. It is how we compare the efficiency of different approaches to a problem. With Big O Notation we express the runtime in terms of — how quickly it grows relative to the input, as the input gets larger.\n",
        "\n",
        "###Common rules for Big-O notation\n",
        "\n",
        "Assignment Statements = $O(1)$\n",
        "\n",
        "Simple Loops = $O(n)$\n",
        "\n",
        "Nested loop = $O(n^2)$\n",
        "\n",
        "Loop with parameters divided by a number, a = $O(log_aN)$"
      ]
    },
    {
      "cell_type": "markdown",
      "metadata": {
        "id": "Y0VGTfNQKhs9"
      },
      "source": [
        "# Recursion\n",
        "Calling functions within themselves for problem solving"
      ]
    },
    {
      "cell_type": "markdown",
      "metadata": {
        "id": "MJ-_cUIsq4yQ"
      },
      "source": [
        "## 1. Sum of digits using recursion"
      ]
    },
    {
      "cell_type": "code",
      "metadata": {
        "id": "tL60s-KzkXYc"
      },
      "source": [
        "def sum_of_digits(n):\n",
        "  if n == 0:\n",
        "    return 0\n",
        "  elif n < 0:\n",
        "    print('negative is ignored')\n",
        "    return sum_of_digits(abs(n))\n",
        "  elif n != int(n):\n",
        "    print('not possible')\n",
        "  else:\n",
        "    intermediate = n/10\n",
        "    final = int(round((intermediate%1)*10))\n",
        "    return (final + sum_of_digits(int(intermediate)))\n"
      ],
      "execution_count": null,
      "outputs": []
    },
    {
      "cell_type": "code",
      "metadata": {
        "colab": {
          "base_uri": "https://localhost:8080/"
        },
        "id": "IkEsd-EDk2AI",
        "outputId": "fb290dd7-d79c-4487-9567-7a1b3ae92847"
      },
      "source": [
        "sum_of_digits(112)"
      ],
      "execution_count": null,
      "outputs": [
        {
          "output_type": "execute_result",
          "data": {
            "text/plain": [
              "4"
            ]
          },
          "metadata": {
            "tags": []
          },
          "execution_count": 72
        }
      ]
    },
    {
      "cell_type": "markdown",
      "metadata": {
        "id": "B28EPr8Yw3pJ"
      },
      "source": [
        "## 2. Power of number using recursion"
      ]
    },
    {
      "cell_type": "code",
      "metadata": {
        "id": "eDlvIiKLuOB8"
      },
      "source": [
        "def power_of_no(n,pow):\n",
        "  assert pow == int(pow), \"Not possible\"\n",
        "  if pow == 1:\n",
        "    return n\n",
        "  elif pow==0:\n",
        "    return 1\n",
        "  elif pow < 0:\n",
        "    ans = power_of_no(n,abs(pow))\n",
        "    return 1/ans\n",
        "  else:\n",
        "    return (n * power_of_no(n,(pow-1)))"
      ],
      "execution_count": null,
      "outputs": []
    },
    {
      "cell_type": "code",
      "metadata": {
        "colab": {
          "base_uri": "https://localhost:8080/"
        },
        "id": "OG2cZrjUu8RT",
        "outputId": "e38b19cd-d666-4f79-8922-ccc6f4c6ae79"
      },
      "source": [
        "power_of_no(2,-10)"
      ],
      "execution_count": null,
      "outputs": [
        {
          "output_type": "execute_result",
          "data": {
            "text/plain": [
              "0.0009765625"
            ]
          },
          "metadata": {
            "tags": []
          },
          "execution_count": 99
        }
      ]
    },
    {
      "cell_type": "markdown",
      "metadata": {
        "id": "9e9v-b26EICY"
      },
      "source": [
        "## 3. Greatest Common Divisor of 2 numbers using recursion"
      ]
    },
    {
      "cell_type": "code",
      "metadata": {
        "id": "WoJ755unC-Be"
      },
      "source": [
        "def gcd_2(n1,n2):\n",
        "  assert n1 > 0 and n2 > 0 and n1 == int(n1) and n2 == int(n2), 'Not Possible'\n",
        "  if n1>=n2:\n",
        "    a = n1%n2\n",
        "    if a == 0:\n",
        "      return n2\n",
        "    else:\n",
        "      return gcd_2(n2,a)\n",
        "  else:\n",
        "    return gcd_2(n2,n1)"
      ],
      "execution_count": null,
      "outputs": []
    },
    {
      "cell_type": "code",
      "metadata": {
        "colab": {
          "base_uri": "https://localhost:8080/"
        },
        "id": "xrjAHuFfDqj4",
        "outputId": "8c33c8b3-8f40-4924-fd37-85b99b292dc7"
      },
      "source": [
        "gcd_2(4278,8602)"
      ],
      "execution_count": null,
      "outputs": [
        {
          "output_type": "execute_result",
          "data": {
            "text/plain": [
              "46"
            ]
          },
          "metadata": {
            "tags": []
          },
          "execution_count": 125
        }
      ]
    },
    {
      "cell_type": "markdown",
      "metadata": {
        "id": "S0h_xws0JCyC"
      },
      "source": [
        "## 4. Conversion of Decimal into Binary using recursion"
      ]
    },
    {
      "cell_type": "code",
      "metadata": {
        "id": "p_l27uRsG-wJ"
      },
      "source": [
        "def dec_to_binary(n):\n",
        "  assert n == int(n), 'Decimal Part numbers have a different method'\n",
        "  if n < 0:\n",
        "    return ('-' + dec_to_binary(abs(n)))\n",
        "  elif n == 0 or n==1 :\n",
        "    return n\n",
        "  else:\n",
        "    a = int(n)%2\n",
        "    return  int(str(dec_to_binary(int(n/2))) + str(a))"
      ],
      "execution_count": null,
      "outputs": []
    },
    {
      "cell_type": "code",
      "metadata": {
        "colab": {
          "base_uri": "https://localhost:8080/"
        },
        "id": "6furqeyAHNhr",
        "outputId": "77f3968c-6d72-4aa3-b74d-2ae7ae3549c7"
      },
      "source": [
        "dec_to_binary(112)"
      ],
      "execution_count": null,
      "outputs": [
        {
          "output_type": "execute_result",
          "data": {
            "text/plain": [
              "1110000"
            ]
          },
          "metadata": {
            "tags": []
          },
          "execution_count": 146
        }
      ]
    },
    {
      "cell_type": "code",
      "metadata": {
        "id": "1AVDM3Y39aIB"
      },
      "source": [
        "#Add some examples to show Big-O notation"
      ],
      "execution_count": null,
      "outputs": []
    },
    {
      "cell_type": "markdown",
      "metadata": {
        "id": "z6rvdnlZSZQu"
      },
      "source": [
        "# Arrays and Lists\n",
        "\n",
        "Common data structures used in programming, contiguous in memory and referenced by indices "
      ]
    },
    {
      "cell_type": "markdown",
      "metadata": {
        "id": "gwnmJ0PL_im6"
      },
      "source": [
        "## Simple example of the use of arrays"
      ]
    },
    {
      "cell_type": "code",
      "metadata": {
        "colab": {
          "base_uri": "https://localhost:8080/"
        },
        "id": "MG_K88uK7bhm",
        "outputId": "75b891a8-d1e4-40ca-9bf9-239dbda337ea"
      },
      "source": [
        "arr_size = input('How many days?')\n",
        "\n",
        "temp_array = np.zeros([int(arr_size)])\n",
        "\n",
        "for i in range(temp_array.shape[0]):\n",
        "  # print('Enter day',i+1,'s temperature')\n",
        "  temp_array[i] = input((\"Enter day %d's temperature\" %(i+1)))\n",
        "\n",
        "avg_temp = np.sum(temp_array)/temp_array.shape[0]\n",
        "print('Average temperature is',avg_temp)\n",
        "count = 0\n",
        "for i in range(temp_array.shape[0]):\n",
        "  if temp_array[i] >= avg_temp:\n",
        "    count += 1\n",
        "print(count)"
      ],
      "execution_count": null,
      "outputs": [
        {
          "output_type": "stream",
          "text": [
            "How many days?4\n",
            "Enter day 1's temperature1\n",
            "Enter day 2's temperature1\n",
            "Enter day 3's temperature1\n",
            "Enter day 4's temperature1\n",
            "Average temperature is 1.0\n",
            "4\n"
          ],
          "name": "stdout"
        }
      ]
    },
    {
      "cell_type": "markdown",
      "metadata": {
        "id": "VuYbslZt49wi"
      },
      "source": [
        "## 5. Find the missing number in a list"
      ]
    },
    {
      "cell_type": "code",
      "metadata": {
        "id": "wsCGjWts565d"
      },
      "source": [
        "def find_missing_no(arr):\n",
        "  start = arr[0]\n",
        "  end = arr[-1]\n",
        "  sum = 0\n",
        "  for i in range(start,end+1,1):\n",
        "    sum += i\n",
        "  ans = sum - np.sum(arr)\n",
        "  return ans"
      ],
      "execution_count": null,
      "outputs": []
    },
    {
      "cell_type": "code",
      "metadata": {
        "colab": {
          "base_uri": "https://localhost:8080/"
        },
        "id": "3boaeTwu7Lmn",
        "outputId": "1f013464-c0bf-4b15-a953-f4fc97f70f8c"
      },
      "source": [
        "a = []\n",
        "for i in range(500,601,1):\n",
        "  a.append(i)  \n",
        "a.pop(55)"
      ],
      "execution_count": null,
      "outputs": [
        {
          "output_type": "execute_result",
          "data": {
            "text/plain": [
              "555"
            ]
          },
          "metadata": {
            "tags": []
          },
          "execution_count": 73
        }
      ]
    },
    {
      "cell_type": "code",
      "metadata": {
        "colab": {
          "base_uri": "https://localhost:8080/"
        },
        "id": "GIKmfoGX8818",
        "outputId": "7497e685-3790-468c-a552-7e53745beb8b"
      },
      "source": [
        "find_missing_no(a)"
      ],
      "execution_count": null,
      "outputs": [
        {
          "output_type": "execute_result",
          "data": {
            "text/plain": [
              "555"
            ]
          },
          "metadata": {
            "tags": []
          },
          "execution_count": 74
        }
      ]
    },
    {
      "cell_type": "markdown",
      "metadata": {
        "id": "cJdlN4dK_hrl"
      },
      "source": [
        "## 6. Given an array of numbers and a target, find the two numbers from the array which would add up to give the target"
      ]
    },
    {
      "cell_type": "code",
      "metadata": {
        "id": "XWqPS_0zAQfw"
      },
      "source": [
        "def find_sum_pairs(list_nos,target):\n",
        "  ans = []\n",
        "  for number in list_nos:\n",
        "    if number > target:\n",
        "      continue\n",
        "    else:\n",
        "      number_to_search = (target - number)\n",
        "      try:\n",
        "        list_nos.index(number_to_search)\n",
        "        ans.append(list_nos.index(number))\n",
        "        ans.append(list_nos.index(number_to_search))\n",
        "        list_nos[list_nos.index(number)] += 0.5\n",
        "      except:\n",
        "        continue\n",
        "  return ans"
      ],
      "execution_count": null,
      "outputs": []
    },
    {
      "cell_type": "code",
      "metadata": {
        "id": "V8LftjOBBpEm"
      },
      "source": [
        "a = [6,4,23,14,9]\n",
        "target = 18"
      ],
      "execution_count": null,
      "outputs": []
    },
    {
      "cell_type": "code",
      "metadata": {
        "colab": {
          "base_uri": "https://localhost:8080/"
        },
        "id": "UpnMfw2iBRUe",
        "outputId": "f4caf196-5855-4569-a0a1-df72a26bbea3"
      },
      "source": [
        "find_sum_pairs(a,18)"
      ],
      "execution_count": null,
      "outputs": [
        {
          "output_type": "execute_result",
          "data": {
            "text/plain": [
              "[1, 3, 4, 4]"
            ]
          },
          "metadata": {
            "tags": []
          },
          "execution_count": 28
        }
      ]
    },
    {
      "cell_type": "markdown",
      "metadata": {
        "id": "pDlGFhlbCUxc"
      },
      "source": [
        "## 7. Finding a number in an array\n"
      ]
    },
    {
      "cell_type": "code",
      "metadata": {
        "id": "mY2I2cV0BVsc"
      },
      "source": [
        "def find_element_array(arr, element):\n",
        "  search_list = list(arr)\n",
        "  try:\n",
        "    print(search_list.index(element))\n",
        "  except:\n",
        "    print('Not')"
      ],
      "execution_count": null,
      "outputs": []
    },
    {
      "cell_type": "code",
      "metadata": {
        "id": "jd94UyiOE6YU"
      },
      "source": [
        "a= np.array([1,2,3,4,5,7,8,9,10])"
      ],
      "execution_count": null,
      "outputs": []
    },
    {
      "cell_type": "code",
      "metadata": {
        "colab": {
          "base_uri": "https://localhost:8080/"
        },
        "id": "PYBkKYPGEvwO",
        "outputId": "a89a3bfb-f332-4267-a2c6-5449ccf6a738"
      },
      "source": [
        "find_element_array(a,4)"
      ],
      "execution_count": null,
      "outputs": [
        {
          "output_type": "stream",
          "text": [
            "3\n"
          ],
          "name": "stdout"
        }
      ]
    },
    {
      "cell_type": "markdown",
      "metadata": {
        "id": "42Tyn1QSFbx8"
      },
      "source": [
        "## 8. Find max product of two integers in an array"
      ]
    },
    {
      "cell_type": "code",
      "metadata": {
        "id": "mKM6RGshFt0p"
      },
      "source": [
        "def find_max_product(arr):\n",
        "  search_list = list(arr)\n",
        "  num1 = max(search_list)\n",
        "  search_list.remove(num1)\n",
        "  num2 = max(search_list)\n",
        "  ans = num1 * num2\n",
        "  return ans"
      ],
      "execution_count": null,
      "outputs": []
    },
    {
      "cell_type": "code",
      "metadata": {
        "id": "MvlRkoFXGT1H"
      },
      "source": [
        "a = np.array([500,600,200,150,870,941,732,871])"
      ],
      "execution_count": null,
      "outputs": []
    },
    {
      "cell_type": "code",
      "metadata": {
        "colab": {
          "base_uri": "https://localhost:8080/"
        },
        "id": "mOiDgjmOF-Up",
        "outputId": "5277a77e-e7f2-4c3d-f90a-3332ee015f45"
      },
      "source": [
        "find_max_product(a)"
      ],
      "execution_count": null,
      "outputs": [
        {
          "output_type": "execute_result",
          "data": {
            "text/plain": [
              "819611"
            ]
          },
          "metadata": {
            "tags": []
          },
          "execution_count": 57
        }
      ]
    },
    {
      "cell_type": "markdown",
      "metadata": {
        "id": "7UXK3KQbILtD"
      },
      "source": [
        "## 9. Find if all elements in the list are unique"
      ]
    },
    {
      "cell_type": "code",
      "metadata": {
        "id": "DexhvPHXIXYX"
      },
      "source": [
        "def check_if_repeated(check_list):\n",
        "  for item in check_list:\n",
        "    check_list.remove(item)\n",
        "    try:\n",
        "      check_list.index(item)\n",
        "      print('All are not unique')\n",
        "      print(item,'is repeated')\n",
        "      break\n",
        "    except:\n",
        "      continue\n"
      ],
      "execution_count": null,
      "outputs": []
    },
    {
      "cell_type": "code",
      "metadata": {
        "id": "M1M7T1jwKICB"
      },
      "source": [
        "a = [1,2,3,4,5,6,7,8,9,9,10]"
      ],
      "execution_count": null,
      "outputs": []
    },
    {
      "cell_type": "code",
      "metadata": {
        "colab": {
          "base_uri": "https://localhost:8080/"
        },
        "id": "Sl5G3lGuKE7w",
        "outputId": "bca2cd5c-475d-46b7-8b15-f3a64aeb9f7a"
      },
      "source": [
        "check_if_repeated(a)"
      ],
      "execution_count": null,
      "outputs": [
        {
          "output_type": "stream",
          "text": [
            "All are not unique\n",
            "9 is repeated\n"
          ],
          "name": "stdout"
        }
      ]
    },
    {
      "cell_type": "markdown",
      "metadata": {
        "id": "gVJ4KTvGKbcs"
      },
      "source": [
        "## 10. Check if given string is permutation of another"
      ]
    },
    {
      "cell_type": "code",
      "metadata": {
        "id": "moDI9N8aKvFf"
      },
      "source": [
        "def check_list_permutation(list1, list2):\n",
        "  a = len(list1)\n",
        "  b = len(list2)\n",
        "  if a>=b:\n",
        "    for item in list1:\n",
        "      result = 1\n",
        "      try:\n",
        "        list2.index(item)\n",
        "      except:\n",
        "        result = 0\n",
        "        break\n",
        "    if result == 1:\n",
        "      print('They are permutations of each other')\n",
        "    else:\n",
        "      print('Not permutation')\n",
        "  else:\n",
        "    check_list_permutation(list2,list1)\n"
      ],
      "execution_count": null,
      "outputs": []
    },
    {
      "cell_type": "code",
      "metadata": {
        "id": "qRSCyZwlLovA"
      },
      "source": [
        "a = ['e','f','g','h']\n",
        "b = ['e','g','h','f','h']"
      ],
      "execution_count": null,
      "outputs": []
    },
    {
      "cell_type": "code",
      "metadata": {
        "colab": {
          "base_uri": "https://localhost:8080/"
        },
        "id": "mtiRMoCpLorY",
        "outputId": "fd2a2304-91a7-4f78-c109-87b26c028864"
      },
      "source": [
        "check_list_permutation(a,b)"
      ],
      "execution_count": null,
      "outputs": [
        {
          "output_type": "stream",
          "text": [
            "They are permutations of each other\n"
          ],
          "name": "stdout"
        }
      ]
    },
    {
      "cell_type": "markdown",
      "metadata": {
        "id": "BBrYkTmuN-AV"
      },
      "source": [
        "## 11. Rotate a matrix by 90 degrees"
      ]
    },
    {
      "cell_type": "code",
      "metadata": {
        "id": "zos0f9EMRgiV"
      },
      "source": [
        "def rotate_matrix_90(arr):\n",
        "  b = np.zeros([arr.shape[1],arr.shape[0]]).astype(int)\n",
        "  for i in range(arr.shape[0]):\n",
        "    b[:,i] = arr.transpose()[:,(arr.shape[0] -1 -i)]\n",
        "  return b"
      ],
      "execution_count": null,
      "outputs": []
    },
    {
      "cell_type": "code",
      "metadata": {
        "id": "-LgpEXmKOA2W"
      },
      "source": [
        "a = np.array([[1,2,3,4],[5,6,7,8],[9,10,11,12]])"
      ],
      "execution_count": null,
      "outputs": []
    },
    {
      "cell_type": "code",
      "metadata": {
        "id": "gfrlDDiQRihO"
      },
      "source": [
        "b = np.array([[1,2,3],[4,5,6],[7,8,9]])"
      ],
      "execution_count": null,
      "outputs": []
    },
    {
      "cell_type": "code",
      "metadata": {
        "colab": {
          "base_uri": "https://localhost:8080/"
        },
        "id": "QI16LPEQQaV-",
        "outputId": "f377df76-60e0-48a9-9b2a-c167429dd071"
      },
      "source": [
        "rotate_matrix_90(a)"
      ],
      "execution_count": null,
      "outputs": [
        {
          "output_type": "execute_result",
          "data": {
            "text/plain": [
              "array([[ 9,  5,  1],\n",
              "       [10,  6,  2],\n",
              "       [11,  7,  3],\n",
              "       [12,  8,  4]])"
            ]
          },
          "metadata": {
            "tags": []
          },
          "execution_count": 174
        }
      ]
    },
    {
      "cell_type": "markdown",
      "metadata": {
        "id": "ka3_OzdDfwV5"
      },
      "source": [
        "# Linked List\n",
        "\n",
        "Data structure that is not contiguous in memory, with nodes linked to one another."
      ]
    },
    {
      "cell_type": "markdown",
      "metadata": {
        "id": "p9erqoixvGh_"
      },
      "source": [
        "## Single Linked List"
      ]
    },
    {
      "cell_type": "code",
      "metadata": {
        "id": "w0gWrlbefyHM"
      },
      "source": [
        "class SingleLinkedList():  ## Initializing class for Single Linked List\n",
        "  def __init__(self):\n",
        "    self.head = None \n",
        "    self.tail = None\n",
        "  \n",
        "  def __iter__(self): ## Default iterating function, to print out elements of the list\n",
        "    node = self.head\n",
        "    while node != None:\n",
        "      yield node \n",
        "      node = node.next\n",
        "  \n",
        "  def insert_in_list(self,value,location): ## Function to insert a value in list\n",
        "    new_node = Node(value)\n",
        "    if self.head == None:  ## If the list is empty\n",
        "      self.head = new_node\n",
        "      self.tail = new_node\n",
        "    elif location == 0: ## If we want to insert node at the beginning\n",
        "      current_first = self.head\n",
        "      self.head = new_node\n",
        "      new_node.next = current_first\n",
        "    elif location == 1: ## If we want to insert node at the end\n",
        "      current_last = self.tail\n",
        "      current_last.next = new_node\n",
        "      self.tail = new_node\n",
        "    else: ## If we want to insert at any other position in the middle\n",
        "      node_prev = self.head\n",
        "      for i in range(0,location-1,1):\n",
        "        node_prev = node_prev.next\n",
        "      node_after = node_prev.next\n",
        "      node_prev.next = new_node\n",
        "      new_node.next = node_after\n",
        "  \n",
        "  def search_in_list(self,value): ## Check whether an element in present or not\n",
        "    if self.head == None:\n",
        "      print('List is empty')\n",
        "    else:\n",
        "      ref_node = self.head\n",
        "      while ref_node != None:\n",
        "        check = ref_node.value\n",
        "        if value == check:\n",
        "          return 'Present in list'\n",
        "          break\n",
        "        ref_node = ref_node.next\n",
        "    \n",
        "    return 'Not present'\n",
        "  \n",
        "  def delete_from_list(self,location):\n",
        "    if self.head == None:\n",
        "      print('Not possible, list is empty')\n",
        "    elif location == 0:\n",
        "      if self.head.next == None:\n",
        "        self.head = None\n",
        "        self.tail = None\n",
        "      else:\n",
        "        self.head = self.head.next\n",
        "    elif location == 1:\n",
        "      if self.head.next == None:\n",
        "        self.head = None\n",
        "        self.tail = None\n",
        "      else:\n",
        "        node = self.head\n",
        "        while node != None:\n",
        "          if node.next == self.tail:\n",
        "            break\n",
        "          else:\n",
        "            node = node.next\n",
        "        node.next = None\n",
        "        self.tail = node\n",
        "    else:\n",
        "      node = self.head\n",
        "      for i in range(0,location - 2):\n",
        "        node = node.next\n",
        "      node.next = node.next.next\n",
        "\n"
      ],
      "execution_count": 2,
      "outputs": []
    },
    {
      "cell_type": "code",
      "metadata": {
        "id": "QTpe6Dtef59k"
      },
      "source": [
        "class Node(): ## Class for creating node\n",
        "  def __init__(self,value=None):\n",
        "    self.value = value\n",
        "    self.next = None"
      ],
      "execution_count": 3,
      "outputs": []
    },
    {
      "cell_type": "code",
      "metadata": {
        "id": "jK5p_7l3gHcq"
      },
      "source": [
        "l1 = SingleLinkedList()\n",
        "node1 = Node(1)\n",
        "l1.head = node1\n",
        "node2 = Node(2)\n",
        "l1.head.next = node2\n",
        "l1.tail = node2"
      ],
      "execution_count": 4,
      "outputs": []
    },
    {
      "cell_type": "code",
      "metadata": {
        "id": "x5COWV0zEpo4",
        "colab": {
          "base_uri": "https://localhost:8080/"
        },
        "outputId": "0915e1d9-cc71-4841-c8ec-4e0f0f237e25"
      },
      "source": [
        "l1.insert_in_list(12,0)\n",
        "l1.insert_in_list(4,1)\n",
        "l1.insert_in_list(5,2)\n",
        "for node in l1:\n",
        "  print(node.value)\n",
        "l1.delete_from_list(3)\n",
        "for node in l1:\n",
        "  print(node.value)"
      ],
      "execution_count": 5,
      "outputs": [
        {
          "output_type": "stream",
          "text": [
            "12\n",
            "1\n",
            "5\n",
            "2\n",
            "4\n",
            "12\n",
            "1\n",
            "2\n",
            "4\n"
          ],
          "name": "stdout"
        }
      ]
    },
    {
      "cell_type": "markdown",
      "metadata": {
        "id": "bL4MHi7OvI2Q"
      },
      "source": [
        "## Circular Single Linked List"
      ]
    },
    {
      "cell_type": "code",
      "metadata": {
        "id": "jRGV5_VdZ24p"
      },
      "source": [
        "class Circular_Single_Linked_List():  ## Initializing class for Single Linked List\n",
        "  def __init__(self):\n",
        "    self.head = None \n",
        "    self.tail = None\n",
        "  \n",
        "  def __iter__(self): ## Default iterating function, to print out elements of the list\n",
        "    node = self.head\n",
        "    while node != None:\n",
        "      yield node \n",
        "      if node.next == self.tail.next:\n",
        "        break\n",
        "      node = node.next\n",
        "\n",
        "  \n",
        "  def create_C_SLL(self,value):\n",
        "    new_node = Node(value)\n",
        "    self.head = new_node\n",
        "    self.tail = new_node\n",
        "    self.tail.next = new_node\n",
        "\n",
        "\n",
        "\n",
        "  def insert_in_list(self,value,location): ## Function to insert a value in list\n",
        "    new_node = Node(value)\n",
        "    if self.head == None:  ## If the list is empty\n",
        "      self.head = new_node\n",
        "      self.tail = new_node\n",
        "      self.tail.next = new_node\n",
        "    elif location == 0: ## If we want to insert node at the beginning\n",
        "      new_node.next = self.head\n",
        "      self.head = new_node\n",
        "      self.tail.next = new_node\n",
        "    elif location == 1: ## If we want to insert node at the end\n",
        "      new_node.next = self.tail.next\n",
        "      self.tail.next = new_node\n",
        "      self.tail = new_node\n",
        "    else: ## If we want to insert at any other position in the middle\n",
        "      node_prev = self.head\n",
        "      for i in range(0,location-2,1):\n",
        "        node_prev = node_prev.next\n",
        "      node_after = node_prev.next\n",
        "      node_prev.next = new_node\n",
        "      new_node.next = node_after\n",
        "  \n",
        "  def search_in_list(self,value): ## Check whether an element in present or not\n",
        "    if self.head == None:\n",
        "      print('List is empty')\n",
        "    else:\n",
        "      node = self.head\n",
        "      while node != None:\n",
        "        check = node.value\n",
        "        if value == check:\n",
        "          return 'Present in list'\n",
        "          break\n",
        "        if node.next == self.tail.next:\n",
        "          break\n",
        "        node = node.next\n",
        "    \n",
        "    return 'Not present'\n",
        "  \n",
        "  def delete_from_list(self,location):  ## Yet to modify\n",
        "    if self.head == None:\n",
        "      print('Not possible, list is empty')\n",
        "    elif location == 0:\n",
        "      if self.head.next == self.head:\n",
        "        self.head.next = None\n",
        "        self.head = None\n",
        "        self.tail = None\n",
        "      else:\n",
        "        self.tail.next = self.head.next\n",
        "        self.head = self.head.next\n",
        "    elif location == 1:\n",
        "      if self.head.next == self.head:\n",
        "        self.head.next = None\n",
        "        self.head = None\n",
        "        self.tail = None\n",
        "      else:\n",
        "        node = self.head\n",
        "        while node != None:\n",
        "          if node.next == self.tail:\n",
        "            break\n",
        "          node = node.next\n",
        "        node.next = self.tail.next\n",
        "        self.tail = node\n",
        "    else:\n",
        "      node = self.head\n",
        "      for i in range(0,location - 2):\n",
        "        node = node.next\n",
        "      node.next = node.next.next\n",
        "  \n",
        "  def traverse(self):\n",
        "    if self.head == None:\n",
        "      print('List is empty')\n",
        "    else:\n",
        "      node = self.head\n",
        "      while node != None:\n",
        "        print(node.value)\n",
        "        if node.next == self.tail.next:\n",
        "          break\n",
        "        else:\n",
        "          node = node.next\n",
        "  \n",
        "  def delete_whole_list(self):\n",
        "    if self.head == None:\n",
        "      print('Already Empty')\n",
        "    else:\n",
        "      self.head = None\n",
        "      self.tail.next = None\n",
        "      self.tail = None"
      ],
      "execution_count": 6,
      "outputs": []
    },
    {
      "cell_type": "code",
      "metadata": {
        "id": "BrJhwOswyF0R"
      },
      "source": [
        "csll = Circular_Single_Linked_List()\n",
        "csll.insert_in_list(4,0)\n",
        "csll.insert_in_list(5,1)\n",
        "csll.insert_in_list(7,2)\n",
        "csll.insert_in_list(8,3)\n",
        "csll.insert_in_list(25,1)"
      ],
      "execution_count": 7,
      "outputs": []
    },
    {
      "cell_type": "code",
      "metadata": {
        "colab": {
          "base_uri": "https://localhost:8080/"
        },
        "id": "NLhQdClJyMMD",
        "outputId": "d754f3fa-2e70-413a-8099-39cfea848107"
      },
      "source": [
        "csll.traverse()"
      ],
      "execution_count": 8,
      "outputs": [
        {
          "output_type": "stream",
          "text": [
            "4\n",
            "7\n",
            "8\n",
            "5\n",
            "25\n"
          ],
          "name": "stdout"
        }
      ]
    },
    {
      "cell_type": "code",
      "metadata": {
        "colab": {
          "base_uri": "https://localhost:8080/"
        },
        "id": "2Rt7mhaLzyHr",
        "outputId": "193f15b3-77e6-4847-a99c-76f4235d8454"
      },
      "source": [
        "csll.delete_from_list(0)\n",
        "csll.traverse()"
      ],
      "execution_count": 9,
      "outputs": [
        {
          "output_type": "stream",
          "text": [
            "7\n",
            "8\n",
            "5\n",
            "25\n"
          ],
          "name": "stdout"
        }
      ]
    },
    {
      "cell_type": "code",
      "metadata": {
        "id": "Bw-hteGnYMDT",
        "colab": {
          "base_uri": "https://localhost:8080/"
        },
        "outputId": "12aff9a4-a5bb-45a3-c410-a5eccd3e4f30"
      },
      "source": [
        "csll.tail.next.value"
      ],
      "execution_count": 10,
      "outputs": [
        {
          "output_type": "execute_result",
          "data": {
            "text/plain": [
              "7"
            ]
          },
          "metadata": {
            "tags": []
          },
          "execution_count": 10
        }
      ]
    },
    {
      "cell_type": "markdown",
      "metadata": {
        "id": "RE0TDQr6BwiL"
      },
      "source": [
        "## Double Linked List"
      ]
    },
    {
      "cell_type": "code",
      "metadata": {
        "id": "piFlKXo2j8z_"
      },
      "source": [
        "class DNode():\n",
        "  def __init__(self,value = None):\n",
        "    self.value = value\n",
        "    self.next  = None\n",
        "    self.prev = None"
      ],
      "execution_count": 11,
      "outputs": []
    },
    {
      "cell_type": "code",
      "metadata": {
        "id": "uoqimvGdCBY0"
      },
      "source": [
        "class Double_Linked_List():\n",
        "  def __init__(self): \n",
        "    self.head = None\n",
        "    self.tail = None\n",
        "  \n",
        "  def __iter__(self):\n",
        "    if self.head == None:\n",
        "      print('List is empty')\n",
        "    else:\n",
        "      node = self.head \n",
        "      while node != None:\n",
        "        yield node\n",
        "        node = node.next\n",
        "  \n",
        "  def insert_in_list(self,value,location): ## Function to insert a value in list\n",
        "    new_node = DNode(value)\n",
        "    if self.head == None:  ## If the list is empty\n",
        "      self.head = new_node\n",
        "      self.tail = new_node      \n",
        "    elif location == 0: ## If we want to insert node at the beginning\n",
        "      current_first = self.head\n",
        "      current_first.prev = new_node\n",
        "      new_node.next = current_first\n",
        "      self.head = new_node\n",
        "    elif location == 1: ## If we want to insert node at the end\n",
        "      current_last = self.tail\n",
        "      current_last.next = new_node\n",
        "      new_node.prev = current_last\n",
        "      self.tail = new_node\n",
        "    else: ## If we want to insert at any other position in the middle\n",
        "      node = self.head\n",
        "      for i in range(0,location-2,1):\n",
        "        node = node.next\n",
        "      node_after = node.next\n",
        "      node.next = new_node\n",
        "      new_node.prev = node\n",
        "      new_node.next = node_after\n",
        "      node_after.prev = new_node\n",
        "  \n",
        "  def traverse(self,direction = 0):\n",
        "    if self.head == None:\n",
        "      print('List is empty')\n",
        "    else:\n",
        "      if direction == 0:\n",
        "        node = self.head\n",
        "      else:\n",
        "        node = self.tail\n",
        "      while node != None:\n",
        "        print(node.value)\n",
        "        if direction == 0:\n",
        "          node = node.next\n",
        "        else:\n",
        "          if node == self.head:\n",
        "            break\n",
        "          node = node.prev\n",
        "\n",
        "  def search_in_list(self,value): ## Check whether an element in present or not\n",
        "    if self.head == None:\n",
        "      print('List is empty')\n",
        "    else:\n",
        "      node = self.head\n",
        "      while node != None:\n",
        "        check = node.value\n",
        "        if value == check:\n",
        "          return 'Present in list'\n",
        "          break\n",
        "        node = node.next\n",
        "    \n",
        "    return 'Not present'\n",
        "\n",
        "  def delete_from_list(self,location):  ## Yet to modify\n",
        "    if self.head == None:\n",
        "      print('Not possible, list is empty')\n",
        "    elif location == 0:\n",
        "      if self.head.next == None:\n",
        "        self.head = None\n",
        "        self.tail = None\n",
        "      else:\n",
        "        current_first = self.head\n",
        "        self.head = current_first.next\n",
        "        current_first.next = None\n",
        "        self.head.prev = None\n",
        "    elif location == 1:\n",
        "      if self.head.next == None:\n",
        "        self.head = None\n",
        "        self.tail = None\n",
        "      else:\n",
        "        current_last = self.tail\n",
        "        self.tail = current_last.prev\n",
        "        self.tail.next = None\n",
        "        current_last.prev = None\n",
        "    else:\n",
        "      node = self.head\n",
        "      for i in range(0,location - 2):\n",
        "        node = node.next\n",
        "      current_before = node\n",
        "      current_after = node.next.next\n",
        "      current_before.next = current_after\n",
        "      current_after.prev = current_before\n",
        "\n"
      ],
      "execution_count": 12,
      "outputs": []
    },
    {
      "cell_type": "code",
      "metadata": {
        "id": "rYKJsyWkCX3p"
      },
      "source": [
        "dll = Double_Linked_List()\n",
        "node1 = DNode(2)\n",
        "dll.head = node1\n",
        "dll.tail = node1"
      ],
      "execution_count": 13,
      "outputs": []
    },
    {
      "cell_type": "code",
      "metadata": {
        "colab": {
          "base_uri": "https://localhost:8080/"
        },
        "id": "ozt0dhGwChD-",
        "outputId": "670ec2b5-bfc4-4865-a7f9-1c4ff8809506"
      },
      "source": [
        "dll.insert_in_list(3,1)\n",
        "dll.insert_in_list(4,2)\n",
        "dll.insert_in_list(7,2)\n",
        "dll.insert_in_list(9,3)\n",
        "dll.traverse(1)"
      ],
      "execution_count": 14,
      "outputs": [
        {
          "output_type": "stream",
          "text": [
            "3\n",
            "4\n",
            "9\n",
            "7\n",
            "2\n"
          ],
          "name": "stdout"
        }
      ]
    },
    {
      "cell_type": "code",
      "metadata": {
        "colab": {
          "base_uri": "https://localhost:8080/"
        },
        "id": "TWjF9vTem2Dq",
        "outputId": "d2217df0-504a-4d41-b75f-cfa4b432cb95"
      },
      "source": [
        "dll.traverse(0)"
      ],
      "execution_count": 15,
      "outputs": [
        {
          "output_type": "stream",
          "text": [
            "2\n",
            "7\n",
            "9\n",
            "4\n",
            "3\n"
          ],
          "name": "stdout"
        }
      ]
    },
    {
      "cell_type": "markdown",
      "metadata": {
        "id": "CDWCONEVKyIj"
      },
      "source": [
        "## Circular Double Linked List"
      ]
    },
    {
      "cell_type": "code",
      "metadata": {
        "id": "rkCNMzXSK0Dq"
      },
      "source": [
        "class Circular_Double_Linked_list():\n",
        "  def __init__(self):\n",
        "    self.head = None\n",
        "    self.tail = None\n",
        "  \n",
        "  def __iter__(self):\n",
        "    if self.head == None:\n",
        "      print('List is empty')\n",
        "    else:\n",
        "      node = self.head\n",
        "      while node != None:\n",
        "        yield node\n",
        "        if node.next == self.tail.next:\n",
        "          break\n",
        "        node = node.next\n",
        "  \n",
        "  def insert_in_list(self,value,location): ## Function to insert a value in list\n",
        "    new_node = DNode(value)\n",
        "    if self.head == None:  ## If the list is empty\n",
        "      self.head = new_node\n",
        "      self.tail = new_node\n",
        "      new_node.prev = new_node\n",
        "      new_node.next = new_node      \n",
        "    elif location == 0: ## If we want to insert node at the beginning\n",
        "      current_first = self.head\n",
        "      current_first.prev = new_node\n",
        "      new_node.next = current_first\n",
        "      new_node.prev = self.tail.next\n",
        "      self.tail.next = new_node\n",
        "      self.head = new_node\n",
        "    elif location == 1: ## If we want to insert node at the end\n",
        "      current_last = self.tail\n",
        "      new_node.next = self.tail.next\n",
        "      current_last.next = new_node\n",
        "      new_node.prev = current_last \n",
        "      self.head.prev = new_node\n",
        "      self.tail = new_node\n",
        "    else: ## If we want to insert at any other position in the middle\n",
        "      node = self.head\n",
        "      for i in range(0,location-2,1):\n",
        "        node = node.next\n",
        "      node_after = node.next\n",
        "      node.next = new_node\n",
        "      new_node.prev = node\n",
        "      new_node.next = node_after\n",
        "      node_after.prev = new_node\n",
        "\n",
        "\n",
        "  def traverse(self,direction = 0):\n",
        "    if self.head == None:\n",
        "      print('List is empty')\n",
        "    else:\n",
        "      if direction == 0:\n",
        "        node = self.head\n",
        "      else:\n",
        "        node = self.tail\n",
        "      while node != None:\n",
        "        print(node.value)\n",
        "        if direction == 0:\n",
        "          if node.next == self.tail.next:\n",
        "            break\n",
        "          node = node.next\n",
        "        else:\n",
        "          if node == self.tail.next:\n",
        "            break\n",
        "          node = node.prev\n",
        "\n",
        "\n",
        "  def search_in_list(self,value): ## Check whether an element in present or not\n",
        "    if self.head == None:\n",
        "      print('List is empty')\n",
        "    else:\n",
        "      node = self.head\n",
        "      while node != None:\n",
        "        check = node.value\n",
        "        if value == check:\n",
        "          return 'Present in list'\n",
        "          break\n",
        "        if node.next == self.tail.next:\n",
        "          break\n",
        "        node = node.next\n",
        "\n",
        "    return 'Not present'\n",
        "\n",
        "\n",
        "  def delete_from_list(self,location):  ## Yet to modify\n",
        "    if self.head == None:\n",
        "      print('Not possible, list is empty')\n",
        "    elif location == 0:\n",
        "      if self.head.next == self.head:\n",
        "        self.head = None\n",
        "        self.tail = None\n",
        "        self.head.next = None\n",
        "      else:\n",
        "        current_second = self.head.next\n",
        "        self.head = current_second\n",
        "        current_second.prev = self.tail\n",
        "        self.tail.next = current_second\n",
        "    elif location == 1:\n",
        "      if self.head.next == self.head:\n",
        "        self.head = None\n",
        "        self.tail = None\n",
        "        self.head.next = None\n",
        "      else:\n",
        "        current_secondlast = self.tail.prev\n",
        "        current_secondlast.next = self.tail.next\n",
        "        self.tail = current_secondlast\n",
        "    else:\n",
        "      node = self.head\n",
        "      for i in range(0,location - 2):\n",
        "        node = node.next\n",
        "      current_before = node\n",
        "      current_after = node.next.next\n",
        "      current_before.next = current_after\n",
        "      current_after.prev = current_before\n",
        "\n"
      ],
      "execution_count": 102,
      "outputs": []
    },
    {
      "cell_type": "code",
      "metadata": {
        "colab": {
          "base_uri": "https://localhost:8080/"
        },
        "id": "g86eE-b7LKi0",
        "outputId": "dfbc2972-bd87-405a-c5ed-abadf2296376"
      },
      "source": [
        "cdll = Circular_Double_Linked_list()\n",
        "cdll.insert_in_list(4,0)\n",
        "cdll.insert_in_list(6,1)\n",
        "cdll.insert_in_list(9,2)\n",
        "cdll.insert_in_list(8,1)\n",
        "cdll.insert_in_list(7,3)\n",
        "cdll.traverse()"
      ],
      "execution_count": 110,
      "outputs": [
        {
          "output_type": "stream",
          "text": [
            "4\n",
            "9\n",
            "7\n",
            "6\n",
            "8\n"
          ],
          "name": "stdout"
        }
      ]
    },
    {
      "cell_type": "code",
      "metadata": {
        "colab": {
          "base_uri": "https://localhost:8080/",
          "height": 35
        },
        "id": "hWIndF3piaHC",
        "outputId": "db0c0a16-4804-4676-c8ba-3a67615c7302"
      },
      "source": [
        "cdll.search_in_list(8)"
      ],
      "execution_count": 111,
      "outputs": [
        {
          "output_type": "execute_result",
          "data": {
            "application/vnd.google.colaboratory.intrinsic+json": {
              "type": "string"
            },
            "text/plain": [
              "'Present in list'"
            ]
          },
          "metadata": {
            "tags": []
          },
          "execution_count": 111
        }
      ]
    },
    {
      "cell_type": "code",
      "metadata": {
        "colab": {
          "base_uri": "https://localhost:8080/"
        },
        "id": "b4LEDxpLotM_",
        "outputId": "3b61b286-8137-4e43-a5c7-7434627982d0"
      },
      "source": [
        "cdll.delete_from_list(3)\n",
        "cdll.traverse()"
      ],
      "execution_count": 112,
      "outputs": [
        {
          "output_type": "stream",
          "text": [
            "4\n",
            "9\n",
            "6\n",
            "8\n"
          ],
          "name": "stdout"
        }
      ]
    },
    {
      "cell_type": "code",
      "metadata": {
        "colab": {
          "base_uri": "https://localhost:8080/"
        },
        "id": "_G-OAN7Soyhu",
        "outputId": "3e538ab6-aa7f-46da-9b2e-36417e28a0fe"
      },
      "source": [
        "cdll.traverse(1)"
      ],
      "execution_count": 113,
      "outputs": [
        {
          "output_type": "stream",
          "text": [
            "8\n",
            "6\n",
            "9\n",
            "4\n"
          ],
          "name": "stdout"
        }
      ]
    },
    {
      "cell_type": "code",
      "metadata": {
        "id": "rrMj38OWo0DP"
      },
      "source": [
        ""
      ],
      "execution_count": null,
      "outputs": []
    }
  ]
}
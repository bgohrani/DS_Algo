{
  "nbformat": 4,
  "nbformat_minor": 0,
  "metadata": {
    "colab": {
      "name": "DSA_Notebook.ipynb",
      "provenance": [],
      "collapsed_sections": [
        "Y0VGTfNQKhs9",
        "MJ-_cUIsq4yQ",
        "B28EPr8Yw3pJ",
        "9e9v-b26EICY",
        "S0h_xws0JCyC",
        "z6rvdnlZSZQu",
        "gwnmJ0PL_im6",
        "VuYbslZt49wi",
        "cJdlN4dK_hrl",
        "pDlGFhlbCUxc",
        "42Tyn1QSFbx8",
        "7UXK3KQbILtD",
        "gVJ4KTvGKbcs",
        "BBrYkTmuN-AV",
        "ka3_OzdDfwV5",
        "p9erqoixvGh_",
        "bL4MHi7OvI2Q",
        "RE0TDQr6BwiL",
        "CDWCONEVKyIj",
        "NsFc_8yH-YpF",
        "OrMn0I0Kz3Tt",
        "9_W-36CP0EFc",
        "yLYe3iYOIW_S",
        "55YhO3_ImC-L",
        "lH6X8xwUuFES",
        "eeWqaR6oQLe9",
        "l9Wj_sWSouIY",
        "7WBQZ4Kvozwf",
        "Bi7JWHACypAP",
        "Eeh6OfXJ3MXm",
        "Nh1nS0tM3iVb",
        "s3jrx23ei8rA",
        "yxAuGYPbrax7",
        "gu5_8AlznvAr",
        "wbw_G7jTrnhA",
        "gT9y1VQn21XL",
        "Zag_Z6vLph8p",
        "cMVBOZBm51EB",
        "06EOrAsH6IL2",
        "IDaS2X6GA4eg",
        "DlpndOD2zs2A",
        "gBIvcJ4qKglH",
        "n0CDjHOGKkf5",
        "dqMcGkldp3Nd"
      ],
      "authorship_tag": "ABX9TyM+Lf98d4Fx3SoIgLRRZpZA",
      "include_colab_link": true
    },
    "kernelspec": {
      "name": "python3",
      "display_name": "Python 3"
    },
    "language_info": {
      "name": "python"
    }
  },
  "cells": [
    {
      "cell_type": "markdown",
      "metadata": {
        "id": "view-in-github",
        "colab_type": "text"
      },
      "source": [
        "<a href=\"https://colab.research.google.com/github/bgohrani/DS_Algo/blob/main/DSA_Notebook.ipynb\" target=\"_parent\"><img src=\"https://colab.research.google.com/assets/colab-badge.svg\" alt=\"Open In Colab\"/></a>"
      ]
    },
    {
      "cell_type": "code",
      "metadata": {
        "id": "U2yGwSCJkOv7"
      },
      "source": [
        "import numpy as np\n",
        "import pandas as pd\n",
        "import math\n",
        "\n",
        "#importing essential libraries"
      ],
      "execution_count": 3,
      "outputs": []
    },
    {
      "cell_type": "markdown",
      "metadata": {
        "id": "Y0VGTfNQKhs9"
      },
      "source": [
        "# 1. Recursion\n",
        "Calling functions within themselves for problem solving"
      ]
    },
    {
      "cell_type": "markdown",
      "metadata": {
        "id": "MJ-_cUIsq4yQ"
      },
      "source": [
        "## 1. Sum of digits using recursion"
      ]
    },
    {
      "cell_type": "code",
      "metadata": {
        "id": "tL60s-KzkXYc"
      },
      "source": [
        "def sum_of_digits(n):\n",
        "  if n == 0:\n",
        "    return 0\n",
        "  elif n < 0:\n",
        "    print('negative is ignored')\n",
        "    return sum_of_digits(abs(n))\n",
        "  elif n != int(n):\n",
        "    print('not possible')\n",
        "  else:\n",
        "    intermediate = n/10\n",
        "    final = int(round((intermediate%1)*10))\n",
        "    return (final + sum_of_digits(int(intermediate)))\n"
      ],
      "execution_count": null,
      "outputs": []
    },
    {
      "cell_type": "code",
      "metadata": {
        "colab": {
          "base_uri": "https://localhost:8080/"
        },
        "id": "IkEsd-EDk2AI",
        "outputId": "fb290dd7-d79c-4487-9567-7a1b3ae92847"
      },
      "source": [
        "sum_of_digits(112)"
      ],
      "execution_count": null,
      "outputs": [
        {
          "output_type": "execute_result",
          "data": {
            "text/plain": [
              "4"
            ]
          },
          "metadata": {
            "tags": []
          },
          "execution_count": 72
        }
      ]
    },
    {
      "cell_type": "markdown",
      "metadata": {
        "id": "B28EPr8Yw3pJ"
      },
      "source": [
        "## 2. Power of number using recursion"
      ]
    },
    {
      "cell_type": "code",
      "metadata": {
        "id": "eDlvIiKLuOB8"
      },
      "source": [
        "def power_of_no(n,pow):\n",
        "  assert pow == int(pow), \"Not possible\"\n",
        "  if pow == 1:\n",
        "    return n\n",
        "  elif pow==0:\n",
        "    return 1\n",
        "  elif pow < 0:\n",
        "    ans = power_of_no(n,abs(pow))\n",
        "    return 1/ans\n",
        "  else:\n",
        "    return (n * power_of_no(n,(pow-1)))"
      ],
      "execution_count": null,
      "outputs": []
    },
    {
      "cell_type": "code",
      "metadata": {
        "colab": {
          "base_uri": "https://localhost:8080/"
        },
        "id": "OG2cZrjUu8RT",
        "outputId": "e38b19cd-d666-4f79-8922-ccc6f4c6ae79"
      },
      "source": [
        "power_of_no(2,-10)"
      ],
      "execution_count": null,
      "outputs": [
        {
          "output_type": "execute_result",
          "data": {
            "text/plain": [
              "0.0009765625"
            ]
          },
          "metadata": {
            "tags": []
          },
          "execution_count": 99
        }
      ]
    },
    {
      "cell_type": "markdown",
      "metadata": {
        "id": "9e9v-b26EICY"
      },
      "source": [
        "## 3. Greatest Common Divisor of 2 numbers using recursion"
      ]
    },
    {
      "cell_type": "code",
      "metadata": {
        "id": "WoJ755unC-Be"
      },
      "source": [
        "def gcd_2(n1,n2):\n",
        "  assert n1 > 0 and n2 > 0 and n1 == int(n1) and n2 == int(n2), 'Not Possible'\n",
        "  if n1>=n2:\n",
        "    a = n1%n2\n",
        "    if a == 0:\n",
        "      return n2\n",
        "    else:\n",
        "      return gcd_2(n2,a)\n",
        "  else:\n",
        "    return gcd_2(n2,n1)"
      ],
      "execution_count": null,
      "outputs": []
    },
    {
      "cell_type": "code",
      "metadata": {
        "colab": {
          "base_uri": "https://localhost:8080/"
        },
        "id": "xrjAHuFfDqj4",
        "outputId": "8c33c8b3-8f40-4924-fd37-85b99b292dc7"
      },
      "source": [
        "gcd_2(4278,8602)"
      ],
      "execution_count": null,
      "outputs": [
        {
          "output_type": "execute_result",
          "data": {
            "text/plain": [
              "46"
            ]
          },
          "metadata": {
            "tags": []
          },
          "execution_count": 125
        }
      ]
    },
    {
      "cell_type": "markdown",
      "metadata": {
        "id": "S0h_xws0JCyC"
      },
      "source": [
        "## 4. Conversion of Decimal into Binary using recursion"
      ]
    },
    {
      "cell_type": "code",
      "metadata": {
        "id": "p_l27uRsG-wJ"
      },
      "source": [
        "def dec_to_binary(n):\n",
        "  assert n == int(n), 'Decimal Part numbers have a different method'\n",
        "  if n < 0:\n",
        "    return ('-' + dec_to_binary(abs(n)))\n",
        "  elif n == 0 or n==1 :\n",
        "    return n\n",
        "  else:\n",
        "    a = int(n)%2\n",
        "    return  int(str(dec_to_binary(int(n/2))) + str(a))"
      ],
      "execution_count": null,
      "outputs": []
    },
    {
      "cell_type": "code",
      "metadata": {
        "colab": {
          "base_uri": "https://localhost:8080/"
        },
        "id": "6furqeyAHNhr",
        "outputId": "77f3968c-6d72-4aa3-b74d-2ae7ae3549c7"
      },
      "source": [
        "dec_to_binary(112)"
      ],
      "execution_count": null,
      "outputs": [
        {
          "output_type": "execute_result",
          "data": {
            "text/plain": [
              "1110000"
            ]
          },
          "metadata": {
            "tags": []
          },
          "execution_count": 146
        }
      ]
    },
    {
      "cell_type": "code",
      "metadata": {
        "id": "1AVDM3Y39aIB"
      },
      "source": [
        "#Add some examples to show Big-O notation"
      ],
      "execution_count": null,
      "outputs": []
    },
    {
      "cell_type": "markdown",
      "metadata": {
        "id": "z6rvdnlZSZQu"
      },
      "source": [
        "# 2. Arrays and Lists\n",
        "\n",
        "Common data structures used in programming, contiguous in memory and referenced by indices "
      ]
    },
    {
      "cell_type": "markdown",
      "metadata": {
        "id": "gwnmJ0PL_im6"
      },
      "source": [
        "## Simple example of the use of arrays"
      ]
    },
    {
      "cell_type": "code",
      "metadata": {
        "colab": {
          "base_uri": "https://localhost:8080/"
        },
        "id": "MG_K88uK7bhm",
        "outputId": "75b891a8-d1e4-40ca-9bf9-239dbda337ea"
      },
      "source": [
        "arr_size = input('How many days?')\n",
        "\n",
        "temp_array = np.zeros([int(arr_size)])\n",
        "\n",
        "for i in range(temp_array.shape[0]):\n",
        "  # print('Enter day',i+1,'s temperature')\n",
        "  temp_array[i] = input((\"Enter day %d's temperature\" %(i+1)))\n",
        "\n",
        "avg_temp = np.sum(temp_array)/temp_array.shape[0]\n",
        "print('Average temperature is',avg_temp)\n",
        "count = 0\n",
        "for i in range(temp_array.shape[0]):\n",
        "  if temp_array[i] >= avg_temp:\n",
        "    count += 1\n",
        "print(count)"
      ],
      "execution_count": null,
      "outputs": [
        {
          "output_type": "stream",
          "text": [
            "How many days?4\n",
            "Enter day 1's temperature1\n",
            "Enter day 2's temperature1\n",
            "Enter day 3's temperature1\n",
            "Enter day 4's temperature1\n",
            "Average temperature is 1.0\n",
            "4\n"
          ],
          "name": "stdout"
        }
      ]
    },
    {
      "cell_type": "markdown",
      "metadata": {
        "id": "VuYbslZt49wi"
      },
      "source": [
        "## 5. Find the missing number in a list"
      ]
    },
    {
      "cell_type": "code",
      "metadata": {
        "id": "wsCGjWts565d"
      },
      "source": [
        "def find_missing_no(arr):\n",
        "  start = arr[0]\n",
        "  end = arr[-1]\n",
        "  sum = 0\n",
        "  for i in range(start,end+1,1):\n",
        "    sum += i\n",
        "  ans = sum - np.sum(arr)\n",
        "  return ans"
      ],
      "execution_count": null,
      "outputs": []
    },
    {
      "cell_type": "code",
      "metadata": {
        "colab": {
          "base_uri": "https://localhost:8080/"
        },
        "id": "3boaeTwu7Lmn",
        "outputId": "1f013464-c0bf-4b15-a953-f4fc97f70f8c"
      },
      "source": [
        "a = []\n",
        "for i in range(500,601,1):\n",
        "  a.append(i)  \n",
        "a.pop(55)"
      ],
      "execution_count": null,
      "outputs": [
        {
          "output_type": "execute_result",
          "data": {
            "text/plain": [
              "555"
            ]
          },
          "metadata": {
            "tags": []
          },
          "execution_count": 73
        }
      ]
    },
    {
      "cell_type": "code",
      "metadata": {
        "colab": {
          "base_uri": "https://localhost:8080/"
        },
        "id": "GIKmfoGX8818",
        "outputId": "7497e685-3790-468c-a552-7e53745beb8b"
      },
      "source": [
        "find_missing_no(a)"
      ],
      "execution_count": null,
      "outputs": [
        {
          "output_type": "execute_result",
          "data": {
            "text/plain": [
              "555"
            ]
          },
          "metadata": {
            "tags": []
          },
          "execution_count": 74
        }
      ]
    },
    {
      "cell_type": "markdown",
      "metadata": {
        "id": "cJdlN4dK_hrl"
      },
      "source": [
        "## 6. Given an array of numbers and a target, find the two numbers from the array which would add up to give the target"
      ]
    },
    {
      "cell_type": "code",
      "metadata": {
        "id": "XWqPS_0zAQfw"
      },
      "source": [
        "def find_sum_pairs(list_nos,target):\n",
        "  ans = []\n",
        "  for number in list_nos:\n",
        "    if number > target:\n",
        "      continue\n",
        "    else:\n",
        "      number_to_search = (target - number)\n",
        "      try:\n",
        "        list_nos.index(number_to_search)\n",
        "        ans.append(list_nos.index(number))\n",
        "        ans.append(list_nos.index(number_to_search))\n",
        "        list_nos[list_nos.index(number)] += 0.5\n",
        "      except:\n",
        "        continue\n",
        "  return ans"
      ],
      "execution_count": null,
      "outputs": []
    },
    {
      "cell_type": "code",
      "metadata": {
        "id": "V8LftjOBBpEm"
      },
      "source": [
        "a = [6,4,23,14,9]\n",
        "target = 18"
      ],
      "execution_count": null,
      "outputs": []
    },
    {
      "cell_type": "code",
      "metadata": {
        "colab": {
          "base_uri": "https://localhost:8080/"
        },
        "id": "UpnMfw2iBRUe",
        "outputId": "f4caf196-5855-4569-a0a1-df72a26bbea3"
      },
      "source": [
        "find_sum_pairs(a,18)"
      ],
      "execution_count": null,
      "outputs": [
        {
          "output_type": "execute_result",
          "data": {
            "text/plain": [
              "[1, 3, 4, 4]"
            ]
          },
          "metadata": {
            "tags": []
          },
          "execution_count": 28
        }
      ]
    },
    {
      "cell_type": "markdown",
      "metadata": {
        "id": "pDlGFhlbCUxc"
      },
      "source": [
        "## 7. Finding a number in an array\n"
      ]
    },
    {
      "cell_type": "code",
      "metadata": {
        "id": "mY2I2cV0BVsc"
      },
      "source": [
        "def find_element_array(arr, element):\n",
        "  search_list = list(arr)\n",
        "  try:\n",
        "    print(search_list.index(element))\n",
        "  except:\n",
        "    print('Not')"
      ],
      "execution_count": null,
      "outputs": []
    },
    {
      "cell_type": "code",
      "metadata": {
        "id": "jd94UyiOE6YU"
      },
      "source": [
        "a= np.array([1,2,3,4,5,7,8,9,10])"
      ],
      "execution_count": null,
      "outputs": []
    },
    {
      "cell_type": "code",
      "metadata": {
        "colab": {
          "base_uri": "https://localhost:8080/"
        },
        "id": "PYBkKYPGEvwO",
        "outputId": "a89a3bfb-f332-4267-a2c6-5449ccf6a738"
      },
      "source": [
        "find_element_array(a,4)"
      ],
      "execution_count": null,
      "outputs": [
        {
          "output_type": "stream",
          "text": [
            "3\n"
          ],
          "name": "stdout"
        }
      ]
    },
    {
      "cell_type": "markdown",
      "metadata": {
        "id": "42Tyn1QSFbx8"
      },
      "source": [
        "## 8. Find max product of two integers in an array"
      ]
    },
    {
      "cell_type": "code",
      "metadata": {
        "id": "mKM6RGshFt0p"
      },
      "source": [
        "def find_max_product(arr):\n",
        "  search_list = list(arr)\n",
        "  num1 = max(search_list)\n",
        "  search_list.remove(num1)\n",
        "  num2 = max(search_list)\n",
        "  ans = num1 * num2\n",
        "  return ans"
      ],
      "execution_count": null,
      "outputs": []
    },
    {
      "cell_type": "code",
      "metadata": {
        "id": "MvlRkoFXGT1H"
      },
      "source": [
        "a = np.array([500,600,200,150,870,941,732,871])"
      ],
      "execution_count": null,
      "outputs": []
    },
    {
      "cell_type": "code",
      "metadata": {
        "colab": {
          "base_uri": "https://localhost:8080/"
        },
        "id": "mOiDgjmOF-Up",
        "outputId": "5277a77e-e7f2-4c3d-f90a-3332ee015f45"
      },
      "source": [
        "find_max_product(a)"
      ],
      "execution_count": null,
      "outputs": [
        {
          "output_type": "execute_result",
          "data": {
            "text/plain": [
              "819611"
            ]
          },
          "metadata": {
            "tags": []
          },
          "execution_count": 57
        }
      ]
    },
    {
      "cell_type": "markdown",
      "metadata": {
        "id": "7UXK3KQbILtD"
      },
      "source": [
        "## 9. Find if all elements in the list are unique"
      ]
    },
    {
      "cell_type": "code",
      "metadata": {
        "id": "DexhvPHXIXYX"
      },
      "source": [
        "def check_if_repeated(check_list):\n",
        "  for item in check_list:\n",
        "    check_list.remove(item)\n",
        "    try:\n",
        "      check_list.index(item)\n",
        "      print('All are not unique')\n",
        "      print(item,'is repeated')\n",
        "      break\n",
        "    except:\n",
        "      continue\n"
      ],
      "execution_count": null,
      "outputs": []
    },
    {
      "cell_type": "code",
      "metadata": {
        "id": "M1M7T1jwKICB"
      },
      "source": [
        "a = [1,2,3,4,5,6,7,8,9,9,10]"
      ],
      "execution_count": null,
      "outputs": []
    },
    {
      "cell_type": "code",
      "metadata": {
        "colab": {
          "base_uri": "https://localhost:8080/"
        },
        "id": "Sl5G3lGuKE7w",
        "outputId": "bca2cd5c-475d-46b7-8b15-f3a64aeb9f7a"
      },
      "source": [
        "check_if_repeated(a)"
      ],
      "execution_count": null,
      "outputs": [
        {
          "output_type": "stream",
          "text": [
            "All are not unique\n",
            "9 is repeated\n"
          ],
          "name": "stdout"
        }
      ]
    },
    {
      "cell_type": "markdown",
      "metadata": {
        "id": "gVJ4KTvGKbcs"
      },
      "source": [
        "## 10. Check if given string is permutation of another"
      ]
    },
    {
      "cell_type": "code",
      "metadata": {
        "id": "moDI9N8aKvFf"
      },
      "source": [
        "def check_list_permutation(list1, list2):\n",
        "  a = len(list1)\n",
        "  b = len(list2)\n",
        "  if a>=b:\n",
        "    for item in list1:\n",
        "      result = 1\n",
        "      try:\n",
        "        list2.index(item)\n",
        "      except:\n",
        "        result = 0\n",
        "        break\n",
        "    if result == 1:\n",
        "      print('They are permutations of each other')\n",
        "    else:\n",
        "      print('Not permutation')\n",
        "  else:\n",
        "    check_list_permutation(list2,list1)\n"
      ],
      "execution_count": null,
      "outputs": []
    },
    {
      "cell_type": "code",
      "metadata": {
        "id": "qRSCyZwlLovA"
      },
      "source": [
        "a = ['e','f','g','h']\n",
        "b = ['e','g','h','f','h']"
      ],
      "execution_count": null,
      "outputs": []
    },
    {
      "cell_type": "code",
      "metadata": {
        "colab": {
          "base_uri": "https://localhost:8080/"
        },
        "id": "mtiRMoCpLorY",
        "outputId": "fd2a2304-91a7-4f78-c109-87b26c028864"
      },
      "source": [
        "check_list_permutation(a,b)"
      ],
      "execution_count": null,
      "outputs": [
        {
          "output_type": "stream",
          "text": [
            "They are permutations of each other\n"
          ],
          "name": "stdout"
        }
      ]
    },
    {
      "cell_type": "markdown",
      "metadata": {
        "id": "BBrYkTmuN-AV"
      },
      "source": [
        "## 11. Rotate a matrix by 90 degrees"
      ]
    },
    {
      "cell_type": "code",
      "metadata": {
        "id": "zos0f9EMRgiV"
      },
      "source": [
        "def rotate_matrix_90(arr):\n",
        "  b = np.zeros([arr.shape[1],arr.shape[0]]).astype(int)\n",
        "  for i in range(arr.shape[0]):\n",
        "    b[:,i] = arr.transpose()[:,(arr.shape[0] -1 -i)]\n",
        "  return b"
      ],
      "execution_count": null,
      "outputs": []
    },
    {
      "cell_type": "code",
      "metadata": {
        "id": "-LgpEXmKOA2W"
      },
      "source": [
        "a = np.array([[1,2,3,4],[5,6,7,8],[9,10,11,12]])"
      ],
      "execution_count": null,
      "outputs": []
    },
    {
      "cell_type": "code",
      "metadata": {
        "id": "gfrlDDiQRihO"
      },
      "source": [
        "b = np.array([[1,2,3],[4,5,6],[7,8,9]])"
      ],
      "execution_count": null,
      "outputs": []
    },
    {
      "cell_type": "code",
      "metadata": {
        "colab": {
          "base_uri": "https://localhost:8080/"
        },
        "id": "QI16LPEQQaV-",
        "outputId": "f377df76-60e0-48a9-9b2a-c167429dd071"
      },
      "source": [
        "rotate_matrix_90(a)"
      ],
      "execution_count": null,
      "outputs": [
        {
          "output_type": "execute_result",
          "data": {
            "text/plain": [
              "array([[ 9,  5,  1],\n",
              "       [10,  6,  2],\n",
              "       [11,  7,  3],\n",
              "       [12,  8,  4]])"
            ]
          },
          "metadata": {
            "tags": []
          },
          "execution_count": 174
        }
      ]
    },
    {
      "cell_type": "markdown",
      "metadata": {
        "id": "ka3_OzdDfwV5"
      },
      "source": [
        "# 3. Linked List\n",
        "\n",
        "Data structure that is not contiguous in memory, with nodes linked to one another."
      ]
    },
    {
      "cell_type": "markdown",
      "metadata": {
        "id": "p9erqoixvGh_"
      },
      "source": [
        "## Single Linked List"
      ]
    },
    {
      "cell_type": "code",
      "metadata": {
        "id": "w0gWrlbefyHM"
      },
      "source": [
        "class SingleLinkedList():  ## Initializing class for Single Linked List\n",
        "  def __init__(self):\n",
        "    self.head = None \n",
        "    self.tail = None\n",
        "  \n",
        "  def __iter__(self): ## Default iterating function, to print out elements of the list\n",
        "    node = self.head\n",
        "    while node != None:\n",
        "      yield node \n",
        "      node = node.next\n",
        "  \n",
        "  def insert_in_list(self,value,location): ## Function to insert a value in list\n",
        "    new_node = Node(value)\n",
        "    if self.head == None:  ## If the list is empty\n",
        "      self.head = new_node\n",
        "      self.tail = new_node\n",
        "    elif location == 0: ## If we want to insert node at the beginning\n",
        "      current_first = self.head\n",
        "      self.head = new_node\n",
        "      new_node.next = current_first\n",
        "    elif location == 1: ## If we want to insert node at the end\n",
        "      current_last = self.tail\n",
        "      current_last.next = new_node\n",
        "      self.tail = new_node\n",
        "    else: ## If we want to insert at any other position in the middle\n",
        "      node_prev = self.head\n",
        "      for i in range(0,location-1,1):\n",
        "        node_prev = node_prev.next\n",
        "      node_after = node_prev.next\n",
        "      node_prev.next = new_node\n",
        "      new_node.next = node_after\n",
        "  \n",
        "  def search_in_list(self,value): ## Check whether an element in present or not\n",
        "    if self.head == None:\n",
        "      print('List is empty')\n",
        "    else:\n",
        "      ref_node = self.head\n",
        "      while ref_node != None:\n",
        "        check = ref_node.value\n",
        "        if value == check:\n",
        "          return 'Present in list'\n",
        "          break\n",
        "        ref_node = ref_node.next\n",
        "    \n",
        "    return 'Not present'\n",
        "  \n",
        "  def delete_from_list(self,location):\n",
        "    if self.head == None:\n",
        "      print('Not possible, list is empty')\n",
        "    elif location == 0:\n",
        "      if self.head.next == None:\n",
        "        self.head = None\n",
        "        self.tail = None\n",
        "      else:\n",
        "        self.head = self.head.next\n",
        "    elif location == 1:\n",
        "      if self.head.next == None:\n",
        "        self.head = None\n",
        "        self.tail = None\n",
        "      else:\n",
        "        node = self.head\n",
        "        while node != None:\n",
        "          if node.next == self.tail:\n",
        "            break\n",
        "          else:\n",
        "            node = node.next\n",
        "        node.next = None\n",
        "        self.tail = node\n",
        "    else:\n",
        "      node = self.head\n",
        "      for i in range(0,location - 2):\n",
        "        node = node.next\n",
        "      node.next = node.next.next\n",
        "\n"
      ],
      "execution_count": null,
      "outputs": []
    },
    {
      "cell_type": "code",
      "metadata": {
        "id": "QTpe6Dtef59k"
      },
      "source": [
        "class Node(): ## Class for creating node\n",
        "  def __init__(self,value=None):\n",
        "    self.value = value\n",
        "    self.next = None"
      ],
      "execution_count": null,
      "outputs": []
    },
    {
      "cell_type": "code",
      "metadata": {
        "id": "jK5p_7l3gHcq"
      },
      "source": [
        "l1 = SingleLinkedList()\n",
        "node1 = Node(1)\n",
        "l1.head = node1\n",
        "node2 = Node(2)\n",
        "l1.head.next = node2\n",
        "l1.tail = node2"
      ],
      "execution_count": null,
      "outputs": []
    },
    {
      "cell_type": "code",
      "metadata": {
        "id": "x5COWV0zEpo4",
        "colab": {
          "base_uri": "https://localhost:8080/"
        },
        "outputId": "74473ffd-e305-42c1-9ee3-1a7df429e45f"
      },
      "source": [
        "l1.insert_in_list(12,0)\n",
        "l1.insert_in_list(4,1)\n",
        "l1.insert_in_list(5,2)\n",
        "for node in l1:\n",
        "  print(node.value)\n",
        "l1.delete_from_list(3)\n",
        "for node in l1:\n",
        "  print(node.value)"
      ],
      "execution_count": null,
      "outputs": [
        {
          "output_type": "stream",
          "text": [
            "12\n",
            "1\n",
            "5\n",
            "2\n",
            "4\n",
            "12\n",
            "1\n",
            "2\n",
            "4\n"
          ],
          "name": "stdout"
        }
      ]
    },
    {
      "cell_type": "markdown",
      "metadata": {
        "id": "bL4MHi7OvI2Q"
      },
      "source": [
        "## Circular Single Linked List"
      ]
    },
    {
      "cell_type": "code",
      "metadata": {
        "id": "jRGV5_VdZ24p"
      },
      "source": [
        "class Circular_Single_Linked_List():  ## Initializing class for Single Linked List\n",
        "  def __init__(self):\n",
        "    self.head = None \n",
        "    self.tail = None\n",
        "  \n",
        "  def __iter__(self): ## Default iterating function, to print out elements of the list\n",
        "    node = self.head\n",
        "    while node != None:\n",
        "      yield node \n",
        "      if node.next == self.tail.next:\n",
        "        break\n",
        "      node = node.next\n",
        "\n",
        "  \n",
        "  def create_C_SLL(self,value):\n",
        "    new_node = Node(value)\n",
        "    self.head = new_node\n",
        "    self.tail = new_node\n",
        "    self.tail.next = new_node\n",
        "\n",
        "\n",
        "\n",
        "  def insert_in_list(self,value,location): ## Function to insert a value in list\n",
        "    new_node = Node(value)\n",
        "    if self.head == None:  ## If the list is empty\n",
        "      self.head = new_node\n",
        "      self.tail = new_node\n",
        "      self.tail.next = new_node\n",
        "    elif location == 0: ## If we want to insert node at the beginning\n",
        "      new_node.next = self.head\n",
        "      self.head = new_node\n",
        "      self.tail.next = new_node\n",
        "    elif location == 1: ## If we want to insert node at the end\n",
        "      new_node.next = self.tail.next\n",
        "      self.tail.next = new_node\n",
        "      self.tail = new_node\n",
        "    else: ## If we want to insert at any other position in the middle\n",
        "      node_prev = self.head\n",
        "      for i in range(0,location-2,1):\n",
        "        node_prev = node_prev.next\n",
        "      node_after = node_prev.next\n",
        "      node_prev.next = new_node\n",
        "      new_node.next = node_after\n",
        "  \n",
        "  def search_in_list(self,value): ## Check whether an element in present or not\n",
        "    if self.head == None:\n",
        "      print('List is empty')\n",
        "    else:\n",
        "      node = self.head\n",
        "      while node != None:\n",
        "        check = node.value\n",
        "        if value == check:\n",
        "          return 'Present in list'\n",
        "          break\n",
        "        if node.next == self.tail.next:\n",
        "          break\n",
        "        node = node.next\n",
        "    \n",
        "    return 'Not present'\n",
        "  \n",
        "  def delete_from_list(self,location):  ## Yet to modify\n",
        "    if self.head == None:\n",
        "      print('Not possible, list is empty')\n",
        "    elif location == 0:\n",
        "      if self.head.next == self.head:\n",
        "        self.head.next = None\n",
        "        self.head = None\n",
        "        self.tail = None\n",
        "      else:\n",
        "        self.tail.next = self.head.next\n",
        "        self.head = self.head.next\n",
        "    elif location == 1:\n",
        "      if self.head.next == self.head:\n",
        "        self.head.next = None\n",
        "        self.head = None\n",
        "        self.tail = None\n",
        "      else:\n",
        "        node = self.head\n",
        "        while node != None:\n",
        "          if node.next == self.tail:\n",
        "            break\n",
        "          node = node.next\n",
        "        node.next = self.tail.next\n",
        "        self.tail = node\n",
        "    else:\n",
        "      node = self.head\n",
        "      for i in range(0,location - 2):\n",
        "        node = node.next\n",
        "      node.next = node.next.next\n",
        "  \n",
        "  def traverse(self):\n",
        "    if self.head == None:\n",
        "      print('List is empty')\n",
        "    else:\n",
        "      node = self.head\n",
        "      while node != None:\n",
        "        print(node.value)\n",
        "        if node.next == self.tail.next:\n",
        "          break\n",
        "        else:\n",
        "          node = node.next\n",
        "  \n",
        "  def delete_whole_list(self):\n",
        "    if self.head == None:\n",
        "      print('Already Empty')\n",
        "    else:\n",
        "      self.head = None\n",
        "      self.tail.next = None\n",
        "      self.tail = None"
      ],
      "execution_count": null,
      "outputs": []
    },
    {
      "cell_type": "code",
      "metadata": {
        "id": "BrJhwOswyF0R"
      },
      "source": [
        "csll = Circular_Single_Linked_List()\n",
        "csll.insert_in_list(4,0)\n",
        "csll.insert_in_list(5,1)\n",
        "csll.insert_in_list(7,2)\n",
        "csll.insert_in_list(8,3)\n",
        "csll.insert_in_list(25,1)"
      ],
      "execution_count": null,
      "outputs": []
    },
    {
      "cell_type": "code",
      "metadata": {
        "colab": {
          "base_uri": "https://localhost:8080/"
        },
        "id": "NLhQdClJyMMD",
        "outputId": "e87f12af-50ae-4a77-d25b-67a9731dbbd9"
      },
      "source": [
        "csll.traverse()"
      ],
      "execution_count": null,
      "outputs": [
        {
          "output_type": "stream",
          "text": [
            "4\n",
            "7\n",
            "8\n",
            "5\n",
            "25\n"
          ],
          "name": "stdout"
        }
      ]
    },
    {
      "cell_type": "code",
      "metadata": {
        "colab": {
          "base_uri": "https://localhost:8080/"
        },
        "id": "2Rt7mhaLzyHr",
        "outputId": "c74f8355-10c7-45a6-827d-2d7ec6419002"
      },
      "source": [
        "csll.delete_from_list(0)\n",
        "csll.traverse()"
      ],
      "execution_count": null,
      "outputs": [
        {
          "output_type": "stream",
          "text": [
            "7\n",
            "8\n",
            "5\n",
            "25\n"
          ],
          "name": "stdout"
        }
      ]
    },
    {
      "cell_type": "code",
      "metadata": {
        "id": "Bw-hteGnYMDT",
        "colab": {
          "base_uri": "https://localhost:8080/"
        },
        "outputId": "88b0ff9d-ac35-423a-da3a-cbdf93970d02"
      },
      "source": [
        "csll.tail.next.value"
      ],
      "execution_count": null,
      "outputs": [
        {
          "output_type": "execute_result",
          "data": {
            "text/plain": [
              "7"
            ]
          },
          "metadata": {
            "tags": []
          },
          "execution_count": 107
        }
      ]
    },
    {
      "cell_type": "markdown",
      "metadata": {
        "id": "RE0TDQr6BwiL"
      },
      "source": [
        "## Double Linked List"
      ]
    },
    {
      "cell_type": "code",
      "metadata": {
        "id": "piFlKXo2j8z_"
      },
      "source": [
        "class DNode():\n",
        "  def __init__(self,value = None):\n",
        "    self.value = value\n",
        "    self.next  = None\n",
        "    self.prev = None"
      ],
      "execution_count": null,
      "outputs": []
    },
    {
      "cell_type": "code",
      "metadata": {
        "id": "uoqimvGdCBY0"
      },
      "source": [
        "class Double_Linked_List():\n",
        "  def __init__(self): \n",
        "    self.head = None\n",
        "    self.tail = None\n",
        "  \n",
        "  def __iter__(self):\n",
        "    if self.head == None:\n",
        "      print('List is empty')\n",
        "    else:\n",
        "      node = self.head \n",
        "      while node != None:\n",
        "        yield node\n",
        "        node = node.next\n",
        "  \n",
        "  def insert_in_list(self,value,location): ## Function to insert a value in list\n",
        "    new_node = DNode(value)\n",
        "    if self.head == None:  ## If the list is empty\n",
        "      self.head = new_node\n",
        "      self.tail = new_node      \n",
        "    elif location == 0: ## If we want to insert node at the beginning\n",
        "      current_first = self.head\n",
        "      current_first.prev = new_node\n",
        "      new_node.next = current_first\n",
        "      self.head = new_node\n",
        "    elif location == 1: ## If we want to insert node at the end\n",
        "      current_last = self.tail\n",
        "      current_last.next = new_node\n",
        "      new_node.prev = current_last\n",
        "      self.tail = new_node\n",
        "    else: ## If we want to insert at any other position in the middle\n",
        "      node = self.head\n",
        "      for i in range(0,location-2,1):\n",
        "        node = node.next\n",
        "      node_after = node.next\n",
        "      node.next = new_node\n",
        "      new_node.prev = node\n",
        "      new_node.next = node_after\n",
        "      node_after.prev = new_node\n",
        "  \n",
        "  def traverse(self,direction = 0):\n",
        "    if self.head == None:\n",
        "      print('List is empty')\n",
        "    else:\n",
        "      if direction == 0:\n",
        "        node = self.head\n",
        "      else:\n",
        "        node = self.tail\n",
        "      while node != None:\n",
        "        print(node.value)\n",
        "        if direction == 0:\n",
        "          node = node.next\n",
        "        else:\n",
        "          if node == self.head:\n",
        "            break\n",
        "          node = node.prev\n",
        "\n",
        "  def search_in_list(self,value): ## Check whether an element in present or not\n",
        "    if self.head == None:\n",
        "      print('List is empty')\n",
        "    else:\n",
        "      node = self.head\n",
        "      while node != None:\n",
        "        check = node.value\n",
        "        if value == check:\n",
        "          return 'Present in list'\n",
        "          break\n",
        "        node = node.next\n",
        "    \n",
        "    return 'Not present'\n",
        "\n",
        "  def delete_from_list(self,location):  ## Yet to modify\n",
        "    if self.head == None:\n",
        "      print('Not possible, list is empty')\n",
        "    elif location == 0:\n",
        "      if self.head.next == None:\n",
        "        self.head = None\n",
        "        self.tail = None\n",
        "      else:\n",
        "        current_first = self.head\n",
        "        self.head = current_first.next\n",
        "        current_first.next = None\n",
        "        self.head.prev = None\n",
        "    elif location == 1:\n",
        "      if self.head.next == None:\n",
        "        self.head = None\n",
        "        self.tail = None\n",
        "      else:\n",
        "        current_last = self.tail\n",
        "        self.tail = current_last.prev\n",
        "        self.tail.next = None\n",
        "        current_last.prev = None\n",
        "    else:\n",
        "      node = self.head\n",
        "      for i in range(0,location - 2):\n",
        "        node = node.next\n",
        "      current_before = node\n",
        "      current_after = node.next.next\n",
        "      current_before.next = current_after\n",
        "      current_after.prev = current_before\n",
        "\n"
      ],
      "execution_count": null,
      "outputs": []
    },
    {
      "cell_type": "code",
      "metadata": {
        "id": "rYKJsyWkCX3p"
      },
      "source": [
        "dll = Double_Linked_List()\n",
        "node1 = DNode(2)\n",
        "dll.head = node1\n",
        "dll.tail = node1"
      ],
      "execution_count": null,
      "outputs": []
    },
    {
      "cell_type": "code",
      "metadata": {
        "colab": {
          "base_uri": "https://localhost:8080/"
        },
        "id": "ozt0dhGwChD-",
        "outputId": "02c513ce-92c7-4322-d3b3-97d301db77cf"
      },
      "source": [
        "dll.insert_in_list(3,1)\n",
        "dll.insert_in_list(4,2)\n",
        "dll.insert_in_list(7,2)\n",
        "dll.insert_in_list(9,3)\n",
        "dll.traverse(1)"
      ],
      "execution_count": null,
      "outputs": [
        {
          "output_type": "stream",
          "text": [
            "3\n",
            "4\n",
            "9\n",
            "7\n",
            "2\n"
          ],
          "name": "stdout"
        }
      ]
    },
    {
      "cell_type": "code",
      "metadata": {
        "colab": {
          "base_uri": "https://localhost:8080/"
        },
        "id": "TWjF9vTem2Dq",
        "outputId": "4c81fa81-6c1d-4f77-e522-735ac61ba3ae"
      },
      "source": [
        "dll.traverse(0)"
      ],
      "execution_count": null,
      "outputs": [
        {
          "output_type": "stream",
          "text": [
            "2\n",
            "7\n",
            "9\n",
            "4\n",
            "3\n"
          ],
          "name": "stdout"
        }
      ]
    },
    {
      "cell_type": "markdown",
      "metadata": {
        "id": "CDWCONEVKyIj"
      },
      "source": [
        "## Circular Double Linked List"
      ]
    },
    {
      "cell_type": "code",
      "metadata": {
        "id": "rkCNMzXSK0Dq"
      },
      "source": [
        "class Circular_Double_Linked_list():\n",
        "  def __init__(self):\n",
        "    self.head = None\n",
        "    self.tail = None\n",
        "  \n",
        "  def __iter__(self):\n",
        "    if self.head == None:\n",
        "      print('List is empty')\n",
        "    else:\n",
        "      node = self.head\n",
        "      while node != None:\n",
        "        yield node\n",
        "        if node.next == self.tail.next:\n",
        "          break\n",
        "        node = node.next\n",
        "  \n",
        "  def insert_in_list(self,value,location): ## Function to insert a value in list\n",
        "    new_node = DNode(value)\n",
        "    if self.head == None:  ## If the list is empty\n",
        "      self.head = new_node\n",
        "      self.tail = new_node\n",
        "      new_node.prev = new_node\n",
        "      new_node.next = new_node      \n",
        "    elif location == 0: ## If we want to insert node at the beginning\n",
        "      current_first = self.head\n",
        "      current_first.prev = new_node\n",
        "      new_node.next = current_first\n",
        "      new_node.prev = self.tail.next\n",
        "      self.tail.next = new_node\n",
        "      self.head = new_node\n",
        "    elif location == 1: ## If we want to insert node at the end\n",
        "      current_last = self.tail\n",
        "      new_node.next = self.tail.next\n",
        "      current_last.next = new_node\n",
        "      new_node.prev = current_last \n",
        "      self.head.prev = new_node\n",
        "      self.tail = new_node\n",
        "    else: ## If we want to insert at any other position in the middle\n",
        "      node = self.head\n",
        "      for i in range(0,location-2,1):\n",
        "        node = node.next\n",
        "      node_after = node.next\n",
        "      node.next = new_node\n",
        "      new_node.prev = node\n",
        "      new_node.next = node_after\n",
        "      node_after.prev = new_node\n",
        "\n",
        "\n",
        "  def traverse(self,direction = 0):\n",
        "    if self.head == None:\n",
        "      print('List is empty')\n",
        "    else:\n",
        "      if direction == 0:\n",
        "        node = self.head\n",
        "      else:\n",
        "        node = self.tail\n",
        "      while node != None:\n",
        "        print(node.value)\n",
        "        if direction == 0:\n",
        "          if node.next == self.tail.next:\n",
        "            break\n",
        "          node = node.next\n",
        "        else:\n",
        "          if node == self.tail.next:\n",
        "            break\n",
        "          node = node.prev\n",
        "\n",
        "\n",
        "  def search_in_list(self,value): ## Check whether an element in present or not\n",
        "    if self.head == None:\n",
        "      print('List is empty')\n",
        "    else:\n",
        "      node = self.head\n",
        "      while node != None:\n",
        "        check = node.value\n",
        "        if value == check:\n",
        "          return 'Present in list'\n",
        "          break\n",
        "        if node.next == self.tail.next:\n",
        "          break\n",
        "        node = node.next\n",
        "\n",
        "    return 'Not present'\n",
        "\n",
        "\n",
        "  def delete_from_list(self,location):  ## Yet to modify\n",
        "    if self.head == None:\n",
        "      print('Not possible, list is empty')\n",
        "    elif location == 0:\n",
        "      if self.head.next == self.head:\n",
        "        self.head = None\n",
        "        self.tail = None\n",
        "        self.head.next = None\n",
        "      else:\n",
        "        current_second = self.head.next\n",
        "        self.head = current_second\n",
        "        current_second.prev = self.tail\n",
        "        self.tail.next = current_second\n",
        "    elif location == 1:\n",
        "      if self.head.next == self.head:\n",
        "        self.head = None\n",
        "        self.tail = None\n",
        "        self.head.next = None\n",
        "      else:\n",
        "        current_secondlast = self.tail.prev\n",
        "        current_secondlast.next = self.tail.next\n",
        "        self.tail = current_secondlast\n",
        "    else:\n",
        "      node = self.head\n",
        "      for i in range(0,location - 2):\n",
        "        node = node.next\n",
        "      current_before = node\n",
        "      current_after = node.next.next\n",
        "      current_before.next = current_after\n",
        "      current_after.prev = current_before\n",
        "\n"
      ],
      "execution_count": null,
      "outputs": []
    },
    {
      "cell_type": "code",
      "metadata": {
        "colab": {
          "base_uri": "https://localhost:8080/"
        },
        "id": "g86eE-b7LKi0",
        "outputId": "369eb9f7-0d83-4bfa-cbfe-a6a6fda812e9"
      },
      "source": [
        "cdll = Circular_Double_Linked_list()\n",
        "cdll.insert_in_list(4,0)\n",
        "cdll.insert_in_list(6,1)\n",
        "cdll.insert_in_list(9,2)\n",
        "cdll.insert_in_list(8,1)\n",
        "cdll.insert_in_list(7,3)\n",
        "cdll.traverse()"
      ],
      "execution_count": null,
      "outputs": [
        {
          "output_type": "stream",
          "text": [
            "4\n",
            "9\n",
            "7\n",
            "6\n",
            "8\n"
          ],
          "name": "stdout"
        }
      ]
    },
    {
      "cell_type": "code",
      "metadata": {
        "colab": {
          "base_uri": "https://localhost:8080/",
          "height": 35
        },
        "id": "hWIndF3piaHC",
        "outputId": "f979c61b-3cb8-4cd0-e54c-35b8c64fedae"
      },
      "source": [
        "cdll.search_in_list(8)"
      ],
      "execution_count": null,
      "outputs": [
        {
          "output_type": "execute_result",
          "data": {
            "application/vnd.google.colaboratory.intrinsic+json": {
              "type": "string"
            },
            "text/plain": [
              "'Present in list'"
            ]
          },
          "metadata": {
            "tags": []
          },
          "execution_count": 115
        }
      ]
    },
    {
      "cell_type": "code",
      "metadata": {
        "colab": {
          "base_uri": "https://localhost:8080/"
        },
        "id": "b4LEDxpLotM_",
        "outputId": "35e070f2-71fa-47f7-f619-0bb7c31f8e3b"
      },
      "source": [
        "cdll.delete_from_list(3)\n",
        "cdll.traverse()"
      ],
      "execution_count": null,
      "outputs": [
        {
          "output_type": "stream",
          "text": [
            "4\n",
            "9\n",
            "6\n",
            "8\n"
          ],
          "name": "stdout"
        }
      ]
    },
    {
      "cell_type": "code",
      "metadata": {
        "colab": {
          "base_uri": "https://localhost:8080/"
        },
        "id": "_G-OAN7Soyhu",
        "outputId": "b6c326b7-63f7-4f51-c1a9-1d682f808df8"
      },
      "source": [
        "cdll.traverse(1)"
      ],
      "execution_count": null,
      "outputs": [
        {
          "output_type": "stream",
          "text": [
            "8\n",
            "6\n",
            "9\n",
            "4\n"
          ],
          "name": "stdout"
        }
      ]
    },
    {
      "cell_type": "markdown",
      "metadata": {
        "id": "NsFc_8yH-YpF"
      },
      "source": [
        "# Linked List Questions"
      ]
    },
    {
      "cell_type": "markdown",
      "metadata": {
        "id": "L7qsp4JA-ak9"
      },
      "source": [
        "## Class to use for solving"
      ]
    },
    {
      "cell_type": "code",
      "metadata": {
        "id": "irv_pQyK-aBa"
      },
      "source": [
        "class Node():\n",
        "  def __init__(self, value = None):\n",
        "    self.value = value\n",
        "    self.next = None\n",
        "    self.prev = None\n",
        "  \n",
        "  def __str__(self):\n",
        "    return str(self.value)"
      ],
      "execution_count": null,
      "outputs": []
    },
    {
      "cell_type": "code",
      "metadata": {
        "id": "_1hSiRxs_YKv"
      },
      "source": [
        "class LinkedList():\n",
        "  def __init__(self):\n",
        "    self.head = None\n",
        "    self.tail = None\n",
        "  \n",
        "  def __str__(self):\n",
        "    list_nodes = [str(node.value) for node in self]\n",
        "    return ' -> '.join(list_nodes)\n",
        "\n",
        "  def __iter__(self):\n",
        "    if self.head == None:\n",
        "      print('list is empty')\n",
        "    else:\n",
        "      node = self.head\n",
        "      while node != None:\n",
        "        yield node\n",
        "        node = node.next\n",
        "  \n",
        "  def __len__(self):\n",
        "    length = 0\n",
        "    node = self.head\n",
        "    while node != None:\n",
        "      length += 1\n",
        "      node = node.next\n",
        "    return length\n",
        "  \n",
        "  def insert(self,value):\n",
        "    node = Node(value)\n",
        "    if self.head == None:\n",
        "      self.head = node\n",
        "      self.tail = node\n",
        "    else:\n",
        "      self.tail.next = node\n",
        "      self.tail = node\n",
        "  \n",
        "  def generate(self,n,low,high):\n",
        "    for i in range(n):\n",
        "      num = np.random.randint(low,high)\n",
        "      self.insert(num)\n",
        "  "
      ],
      "execution_count": null,
      "outputs": []
    },
    {
      "cell_type": "markdown",
      "metadata": {
        "id": "OrMn0I0Kz3Tt"
      },
      "source": [
        "## Remove Duplicate elements from a linked list"
      ]
    },
    {
      "cell_type": "code",
      "metadata": {
        "id": "pjQ6GQZqBL6m"
      },
      "source": [
        "ll = LinkedList()\n",
        "ll.insert(7)\n",
        "ll.insert(8)\n",
        "ll.insert(9)\n",
        "ll.generate(30,1,75)\n",
        "ll.insert(7)"
      ],
      "execution_count": null,
      "outputs": []
    },
    {
      "cell_type": "code",
      "metadata": {
        "colab": {
          "base_uri": "https://localhost:8080/"
        },
        "id": "XUQnqvBksYLF",
        "outputId": "51d4bdb9-f0e5-4bae-d923-ae665a704daf"
      },
      "source": [
        "print(ll)\n",
        "print(len(ll))"
      ],
      "execution_count": null,
      "outputs": [
        {
          "output_type": "stream",
          "text": [
            "7 -> 8 -> 9 -> 35 -> 25 -> 45 -> 19 -> 36 -> 12 -> 40 -> 6 -> 38 -> 61 -> 36 -> 49 -> 8 -> 1 -> 15 -> 48 -> 23 -> 63 -> 9 -> 55 -> 29 -> 47 -> 10 -> 56 -> 31 -> 15 -> 14 -> 69 -> 7 -> 33 -> 7\n",
            "34\n"
          ],
          "name": "stdout"
        }
      ]
    },
    {
      "cell_type": "code",
      "metadata": {
        "id": "9JsgLYP8u5dE"
      },
      "source": [
        "all_values = []\n",
        "node = ll.head\n",
        "all_values.append(ll.head.value)\n",
        "while node.next != None:\n",
        "  try:\n",
        "    all_values.index(node.next.value)\n",
        "    node.next = node.next.next\n",
        "  except:\n",
        "    all_values.append(node.next.value)\n",
        "    node = node.next"
      ],
      "execution_count": null,
      "outputs": []
    },
    {
      "cell_type": "code",
      "metadata": {
        "colab": {
          "base_uri": "https://localhost:8080/"
        },
        "id": "ohuFjO83v6Bz",
        "outputId": "8672a30a-bf5c-4ca8-9867-befc1b4db4f7"
      },
      "source": [
        "print(len(ll))\n",
        "print(ll)\n",
        "print(len(all_values))"
      ],
      "execution_count": null,
      "outputs": [
        {
          "output_type": "stream",
          "text": [
            "28\n",
            "7 -> 8 -> 9 -> 35 -> 25 -> 45 -> 19 -> 36 -> 12 -> 40 -> 6 -> 38 -> 61 -> 49 -> 1 -> 15 -> 48 -> 23 -> 63 -> 55 -> 29 -> 47 -> 10 -> 56 -> 31 -> 14 -> 69 -> 33\n",
            "28\n"
          ],
          "name": "stdout"
        }
      ]
    },
    {
      "cell_type": "markdown",
      "metadata": {
        "id": "9_W-36CP0EFc"
      },
      "source": [
        "## Print nth to last element of a linked list"
      ]
    },
    {
      "cell_type": "code",
      "metadata": {
        "id": "vzOgl8sz0GSw"
      },
      "source": [
        "ll = LinkedList()\n",
        "ll.insert(7)\n",
        "ll.insert(8)\n",
        "ll.insert(9)\n",
        "ll.generate(30,1,75)"
      ],
      "execution_count": null,
      "outputs": []
    },
    {
      "cell_type": "code",
      "metadata": {
        "colab": {
          "base_uri": "https://localhost:8080/"
        },
        "id": "CH9rWlVJ0QAp",
        "outputId": "2e58cae6-c34c-4b45-9738-8a96368b2249"
      },
      "source": [
        "print(ll)\n",
        "print(len(ll))"
      ],
      "execution_count": null,
      "outputs": [
        {
          "output_type": "stream",
          "text": [
            "7 -> 8 -> 9 -> 37 -> 70 -> 37 -> 30 -> 63 -> 30 -> 8 -> 70 -> 38 -> 41 -> 28 -> 61 -> 1 -> 15 -> 35 -> 70 -> 29 -> 68 -> 42 -> 5 -> 58 -> 52 -> 5 -> 72 -> 31 -> 51 -> 21 -> 36 -> 7 -> 44\n",
            "33\n"
          ],
          "name": "stdout"
        }
      ]
    },
    {
      "cell_type": "code",
      "metadata": {
        "id": "0SmrLXSW0TDr"
      },
      "source": [
        "def print_n_2_last(ll,nth):\n",
        "  first_node = ll.head  \n",
        "  end_node = ll.head\n",
        "  for i in range(nth): #--> O(n)\n",
        "    end_node = end_node.next\n",
        "  while end_node.next != None: #--> O(n)\n",
        "    first_node = first_node.next\n",
        "    end_node = end_node.next\n",
        "  list_to_return =  []\n",
        "  while first_node != None: #--> O(n)\n",
        "    list_to_return.append(first_node.value)\n",
        "    first_node = first_node.next\n",
        "  list_to_return.pop(0)\n",
        "  return list_to_return"
      ],
      "execution_count": null,
      "outputs": []
    },
    {
      "cell_type": "code",
      "metadata": {
        "colab": {
          "base_uri": "https://localhost:8080/"
        },
        "id": "DdBzDU691Mw0",
        "outputId": "77f0c269-04ed-4cc5-88dc-fd11a80613e6"
      },
      "source": [
        "len(print_n_2_last(ll,20))"
      ],
      "execution_count": null,
      "outputs": [
        {
          "output_type": "execute_result",
          "data": {
            "text/plain": [
              "20"
            ]
          },
          "metadata": {
            "tags": []
          },
          "execution_count": 12
        }
      ]
    },
    {
      "cell_type": "code",
      "metadata": {
        "colab": {
          "base_uri": "https://localhost:8080/"
        },
        "id": "lBo4NKtL3kmd",
        "outputId": "c22e4e78-5629-4d58-d85e-9fafb9fdb68e"
      },
      "source": [
        "print_n_2_last(ll,5)"
      ],
      "execution_count": null,
      "outputs": [
        {
          "output_type": "execute_result",
          "data": {
            "text/plain": [
              "[51, 21, 36, 7, 44]"
            ]
          },
          "metadata": {
            "tags": []
          },
          "execution_count": 13
        }
      ]
    },
    {
      "cell_type": "markdown",
      "metadata": {
        "id": "yLYe3iYOIW_S"
      },
      "source": [
        "## Partition of a Linked List around any given value\n",
        "\n",
        "Time Complexity = $O(n)$\n",
        "\n",
        "Space Complexity = $O(1)$"
      ]
    },
    {
      "cell_type": "code",
      "metadata": {
        "colab": {
          "base_uri": "https://localhost:8080/"
        },
        "id": "1wFu8VOUIblA",
        "outputId": "1319d874-083d-4cbe-e598-d5908dc1738f"
      },
      "source": [
        "ll = LinkedList()\n",
        "ll.generate(12,1,50)\n",
        "print(ll)\n",
        "print(len(ll))"
      ],
      "execution_count": null,
      "outputs": [
        {
          "output_type": "stream",
          "text": [
            "3 -> 22 -> 43 -> 17 -> 32 -> 12 -> 45 -> 6 -> 4 -> 12 -> 42 -> 41\n",
            "12\n"
          ],
          "name": "stdout"
        }
      ]
    },
    {
      "cell_type": "code",
      "metadata": {
        "id": "U6zPTYjROvPk"
      },
      "source": [
        "def partition_ll(ll,value):\n",
        "  node = ll.head\n",
        "  node_last = ll.tail\n",
        "  while node.next != None:\n",
        "    if node.next == node_last:\n",
        "      break\n",
        "    if node.next.value >= value:\n",
        "      ll.insert(node.next.value)\n",
        "      node.next = node.next.next\n",
        "    else:\n",
        "      node = node.next\n",
        "  if ll.head.value >= value:\n",
        "    ll.insert(ll.head.value)\n",
        "    ll.head = ll.head.next"
      ],
      "execution_count": null,
      "outputs": []
    },
    {
      "cell_type": "code",
      "metadata": {
        "colab": {
          "base_uri": "https://localhost:8080/"
        },
        "id": "o4ZH3-j1JLek",
        "outputId": "fc17f43e-15d9-453f-b4b6-df79d8b71d49"
      },
      "source": [
        "partition_ll(ll,17)"
      ],
      "execution_count": null,
      "outputs": [
        {
          "output_type": "stream",
          "text": [
            "22\n",
            "43\n",
            "17\n",
            "32\n",
            "45\n",
            "42\n"
          ],
          "name": "stdout"
        }
      ]
    },
    {
      "cell_type": "code",
      "metadata": {
        "colab": {
          "base_uri": "https://localhost:8080/"
        },
        "id": "3NN-ei7ZNfGF",
        "outputId": "1ac543fd-ad52-49ed-d3fb-f120a8da6445"
      },
      "source": [
        "print(ll)\n",
        "print(len(ll))"
      ],
      "execution_count": null,
      "outputs": [
        {
          "output_type": "stream",
          "text": [
            "3 -> 12 -> 6 -> 4 -> 12 -> 41 -> 22 -> 43 -> 17 -> 32 -> 45 -> 42\n",
            "12\n"
          ],
          "name": "stdout"
        }
      ]
    },
    {
      "cell_type": "markdown",
      "metadata": {
        "id": "55YhO3_ImC-L"
      },
      "source": [
        "## Sum of linked list digits"
      ]
    },
    {
      "cell_type": "code",
      "metadata": {
        "id": "BxmWuASTmFRM"
      },
      "source": [
        "ll1 = LinkedList()\n",
        "ll2 = LinkedList()\n",
        "ll1.insert(5)\n",
        "ll1.insert(1)\n",
        "ll1.insert(2)\n",
        "ll2.insert(5)\n",
        "ll2.insert(7)\n",
        "ll2.insert(8)"
      ],
      "execution_count": null,
      "outputs": []
    },
    {
      "cell_type": "code",
      "metadata": {
        "id": "h771IBkAqLsm"
      },
      "source": [
        "def sum_lists(ll1,ll2):\n",
        "  count = 0\n",
        "  sum = 0\n",
        "  for node1,node2 in  zip(ll1,ll2):\n",
        "    sum += (node1.value + node2.value)*(10**count)\n",
        "    count += 1\n",
        "  print(sum)\n",
        "  ll3 = LinkedList()\n",
        "  count = 0\n",
        "  while sum!= 0:\n",
        "    val = sum%(10**(count+1))\n",
        "    sum -= val \n",
        "    ll3.insert(int((val/(10**count))))\n",
        "    count += 1\n",
        "  return ll3\n",
        "  \n"
      ],
      "execution_count": null,
      "outputs": []
    },
    {
      "cell_type": "code",
      "metadata": {
        "colab": {
          "base_uri": "https://localhost:8080/"
        },
        "id": "1vId12IbqXcL",
        "outputId": "8c38bd83-4df1-4960-cde4-ddd606a44266"
      },
      "source": [
        "print(sum_lists(ll1,ll2))"
      ],
      "execution_count": null,
      "outputs": [
        {
          "output_type": "stream",
          "text": [
            "1090\n",
            "0 -> 9 -> 0 -> 1\n"
          ],
          "name": "stdout"
        }
      ]
    },
    {
      "cell_type": "markdown",
      "metadata": {
        "id": "lH6X8xwUuFES"
      },
      "source": [
        "## Determine if two linked lists intersect, i.e. they have the same reference"
      ]
    },
    {
      "cell_type": "code",
      "metadata": {
        "id": "SP576hxiuJrm"
      },
      "source": [
        "def find_intersection(ll1,ll2):\n",
        "  if ll1.tail == ll2.tail:\n",
        "\n",
        "    l1 = len(ll1)\n",
        "    l2 = len(ll2)\n",
        "\n",
        "    node1 = ll1.head\n",
        "    if l1 > l2:\n",
        "      for i in range(l1-l2):\n",
        "        node1 = node1.next\n",
        "    elif l2 > l1:\n",
        "      find_intersection(ll2,ll1)\n",
        "\n",
        "    node2 = ll2.head\n",
        "    while node1 != None:\n",
        "      if node1 == node2:\n",
        "        print('Intersection point is value',node1.value)\n",
        "        break\n",
        "      node1 = node1.next\n",
        "      node2 = node2.next\n",
        "\n",
        "  else:\n",
        "    print('Lists do not intersect')\n",
        "\n"
      ],
      "execution_count": null,
      "outputs": []
    },
    {
      "cell_type": "code",
      "metadata": {
        "colab": {
          "base_uri": "https://localhost:8080/"
        },
        "id": "ya4WlSbqwk12",
        "outputId": "418d668f-fc9a-4ff6-be1b-5791c1f0dac8"
      },
      "source": [
        "ll1 = LinkedList()\n",
        "ll2 = LinkedList()\n",
        "ll3 = LinkedList()\n",
        "ll1.generate(4,1,78)\n",
        "print(ll1)"
      ],
      "execution_count": null,
      "outputs": [
        {
          "output_type": "stream",
          "text": [
            "27 -> 45 -> 28 -> 57\n"
          ],
          "name": "stdout"
        }
      ]
    },
    {
      "cell_type": "code",
      "metadata": {
        "colab": {
          "base_uri": "https://localhost:8080/"
        },
        "id": "9yeK_dL_ww04",
        "outputId": "d3fec405-c0de-4e84-926a-083a26237751"
      },
      "source": [
        "ll2.generate(5,1,35)\n",
        "ll3.generate(7,1,40)\n",
        "ll2.tail.next = ll1.head\n",
        "ll3.tail.next = ll1.head\n",
        "ll2.tail = ll1.tail\n",
        "ll3.tail = ll1.tail\n",
        "print(ll2)\n",
        "print(ll3)"
      ],
      "execution_count": null,
      "outputs": [
        {
          "output_type": "stream",
          "text": [
            "17 -> 9 -> 6 -> 28 -> 26 -> 27 -> 45 -> 28 -> 57\n",
            "38 -> 8 -> 21 -> 36 -> 15 -> 10 -> 18 -> 27 -> 45 -> 28 -> 57\n"
          ],
          "name": "stdout"
        }
      ]
    },
    {
      "cell_type": "code",
      "metadata": {
        "colab": {
          "base_uri": "https://localhost:8080/"
        },
        "id": "BLBdJCLax7y1",
        "outputId": "67d9db72-9200-41ed-9a60-e18196fdf110"
      },
      "source": [
        "find_intersection(ll2,ll3)"
      ],
      "execution_count": null,
      "outputs": [
        {
          "output_type": "stream",
          "text": [
            "Intersection point is value 27\n"
          ],
          "name": "stdout"
        }
      ]
    },
    {
      "cell_type": "markdown",
      "metadata": {
        "id": "eeWqaR6oQLe9"
      },
      "source": [
        "# 4. Stack\n",
        "\n",
        "A data structure where data is placed on top of one another. Items can only be accessed after removing those placed after them, i.e. _First-In-Last-Out_"
      ]
    },
    {
      "cell_type": "markdown",
      "metadata": {
        "id": "l9Wj_sWSouIY"
      },
      "source": [
        "## Stack class with list"
      ]
    },
    {
      "cell_type": "code",
      "metadata": {
        "id": "abGG-dNkQMLw"
      },
      "source": [
        "class Stack():\n",
        "  def __init__(self):\n",
        "    self.list = []\n",
        "  \n",
        "  def __str__(self):\n",
        "    data = self.list.reverse()\n",
        "    data = [str(x) for x in self.list]\n",
        "    return '\\n'.join(data)\n",
        "  \n",
        "  def check_is_empty(self):\n",
        "    if self.list == []:\n",
        "      print('List is empty')\n",
        "    else:\n",
        "      print('False')\n",
        "  \n",
        "  def push(self, value):\n",
        "    self.list.append(value)\n",
        "  \n",
        "  def pop(self):\n",
        "    if self.list == []:\n",
        "      print('Stack is empty')\n",
        "    else:\n",
        "      return self.list.pop(0)\n",
        "  \n",
        "  def peek(self):\n",
        "    if self.list == []:\n",
        "      print('List is empty')\n",
        "    else:\n",
        "      return self.list[0]\n",
        "  \n",
        "  def delete_all(self):\n",
        "    self.list = []"
      ],
      "execution_count": null,
      "outputs": []
    },
    {
      "cell_type": "code",
      "metadata": {
        "id": "7Uf2BmGPcL4f"
      },
      "source": [
        "stack = Stack()\n",
        "stack.push(1)\n",
        "stack.push(2)\n",
        "stack.push(3)\n",
        "stack.push(4)"
      ],
      "execution_count": null,
      "outputs": []
    },
    {
      "cell_type": "markdown",
      "metadata": {
        "id": "7WBQZ4Kvozwf"
      },
      "source": [
        "## Stack class (list) with bounded size"
      ]
    },
    {
      "cell_type": "code",
      "metadata": {
        "id": "5Nnxc_lZnwnh"
      },
      "source": [
        "class Stack_limit():\n",
        "  def __init__(self,max_size):\n",
        "    self.max_size = max_size\n",
        "    self.list = []\n",
        "  \n",
        "  def __str__(self):\n",
        "    data = self.list.reverse()\n",
        "    data = [str(x) for x in self.list]\n",
        "    return '\\n'.join(data)\n",
        "  \n",
        "  def check_is_empty(self):\n",
        "    if self.list == []:\n",
        "      print('List is empty')\n",
        "    else:\n",
        "      print('False')\n",
        "  \n",
        "  def check_is_full(self):\n",
        "    if len(self.list) == self.max_size:\n",
        "      return True\n",
        "    else:\n",
        "      return False\n",
        "  \n",
        "  def push(self, value):\n",
        "    if self.check_is_full():\n",
        "      print('Not possible, max limit reached')\n",
        "    else:\n",
        "      self.list.append(value)\n",
        "  \n",
        "  def pop(self):\n",
        "    if self.list == []:\n",
        "      print('Stack is empty')\n",
        "    else:\n",
        "      return self.list.pop(0)\n",
        "  \n",
        "  def peek(self):\n",
        "    if self.list == []:\n",
        "      print('List is empty')\n",
        "    else:\n",
        "      return self.list[0]\n",
        "  \n",
        "  def delete_all(self):\n",
        "    self.list = []"
      ],
      "execution_count": null,
      "outputs": []
    },
    {
      "cell_type": "code",
      "metadata": {
        "id": "OOKCulYDpJZ_"
      },
      "source": [
        "stack = Stack_limit(2)"
      ],
      "execution_count": null,
      "outputs": []
    },
    {
      "cell_type": "code",
      "metadata": {
        "id": "eLlqAa2apc9u"
      },
      "source": [
        "stack.push(1)"
      ],
      "execution_count": null,
      "outputs": []
    },
    {
      "cell_type": "code",
      "metadata": {
        "id": "R_wZjJ0VpeT0"
      },
      "source": [
        "stack.push(2)"
      ],
      "execution_count": null,
      "outputs": []
    },
    {
      "cell_type": "code",
      "metadata": {
        "colab": {
          "base_uri": "https://localhost:8080/"
        },
        "id": "_gCuofFLppXx",
        "outputId": "532c3f62-a46f-44d2-de8b-87f72507874c"
      },
      "source": [
        "stack.push(7)"
      ],
      "execution_count": null,
      "outputs": [
        {
          "output_type": "stream",
          "text": [
            "Not possible, max limit reached\n"
          ],
          "name": "stdout"
        }
      ]
    },
    {
      "cell_type": "markdown",
      "metadata": {
        "id": "Bi7JWHACypAP"
      },
      "source": [
        "## Stack using Single Linked List\n",
        "\n",
        "- Class for Single Linked List\n",
        "- Class for Node\n",
        "- Class for Stack"
      ]
    },
    {
      "cell_type": "code",
      "metadata": {
        "id": "eO8TXsEOzL2S"
      },
      "source": [
        "class SingleLinkedList():  ## Initializing class for Single Linked List\n",
        "  def __init__(self):\n",
        "    self.head = None \n",
        "    self.tail = None\n",
        "  \n",
        "  def __iter__(self): ## Default iterating function, to print out elements of the list\n",
        "    node = self.head\n",
        "    while node != None:\n",
        "      yield node \n",
        "      node = node.next\n",
        "  \n",
        "  def __str__(self):\n",
        "    data = [str(node.value) for node in self]\n",
        "    return '->'.join(data)\n",
        "  \n",
        "  def insert_in_list(self,value,location): ## Function to insert a value in list\n",
        "    new_node = Node(value)\n",
        "    if self.head == None:  ## If the list is empty\n",
        "      self.head = new_node\n",
        "      self.tail = new_node\n",
        "    elif location == 0: ## If we want to insert node at the beginning\n",
        "      current_first = self.head\n",
        "      self.head = new_node\n",
        "      new_node.next = current_first\n",
        "    elif location == 1: ## If we want to insert node at the end\n",
        "      current_last = self.tail\n",
        "      current_last.next = new_node\n",
        "      self.tail = new_node\n",
        "    else: ## If we want to insert at any other position in the middle\n",
        "      node_prev = self.head\n",
        "      for i in range(0,location-1,1):\n",
        "        node_prev = node_prev.next\n",
        "      node_after = node_prev.next\n",
        "      node_prev.next = new_node\n",
        "      new_node.next = node_after\n",
        "  \n",
        "  def search_in_list(self,value): ## Check whether an element in present or not\n",
        "    if self.head == None:\n",
        "      print('List is empty')\n",
        "    else:\n",
        "      ref_node = self.head\n",
        "      while ref_node != None:\n",
        "        check = ref_node.value\n",
        "        if value == check:\n",
        "          return 'Present in list'\n",
        "          break\n",
        "        ref_node = ref_node.next\n",
        "    \n",
        "    return 'Not present'\n",
        "  \n",
        "  def delete_from_list(self,location):\n",
        "    if self.head == None:\n",
        "      print('Not possible, list is empty')\n",
        "    elif location == 0:\n",
        "      if self.head.next == None:\n",
        "        self.head = None\n",
        "        self.tail = None\n",
        "      else:\n",
        "        self.head = self.head.next\n",
        "    elif location == 1:\n",
        "      if self.head.next == None:\n",
        "        self.head = None\n",
        "        self.tail = None\n",
        "      else:\n",
        "        node = self.head\n",
        "        while node != None:\n",
        "          if node.next == self.tail:\n",
        "            break\n",
        "          else:\n",
        "            node = node.next\n",
        "        node.next = None\n",
        "        self.tail = node\n",
        "    else:\n",
        "      node = self.head\n",
        "      for i in range(0,location - 2):\n",
        "        node = node.next\n",
        "      node.next = node.next.next"
      ],
      "execution_count": null,
      "outputs": []
    },
    {
      "cell_type": "code",
      "metadata": {
        "id": "Pa3jhNFey7bY"
      },
      "source": [
        "class Node():\n",
        "  def __init__(self,value= None):\n",
        "    self.value = value\n",
        "    self.next = None"
      ],
      "execution_count": null,
      "outputs": []
    },
    {
      "cell_type": "code",
      "metadata": {
        "id": "W0SRaTf5yteo"
      },
      "source": [
        "class Stack_Linked_list():\n",
        "  def __init__(self):\n",
        "    self.list = SingleLinkedList()\n",
        "  \n",
        "  def __str__(self):\n",
        "    data = [str(node.value) for node in self.list]\n",
        "    return ' -> '.join(data)\n",
        "\n",
        "\n",
        "  def check_is_empty(self):\n",
        "    if self.list.head == None:\n",
        "      return True\n",
        "    else:\n",
        "      return False\n",
        "  \n",
        "  def push(self, value):\n",
        "    self.list.insert_in_list(value,0)\n",
        "  \n",
        "  def pop(self):\n",
        "    if self.list.head == None:\n",
        "      print('Stack is empty')\n",
        "    else:\n",
        "      print(self.list.head.value)\n",
        "      self.list.delete_from_list(0)\n",
        "  \n",
        "  def peek(self):\n",
        "    if self.list.head == None:\n",
        "      print('List is empty')\n",
        "    else:\n",
        "      return self.list.head.value\n",
        "  \n",
        "  def delete_all(self):\n",
        "    self.list.head = None\n",
        "    self.list.tail = None"
      ],
      "execution_count": null,
      "outputs": []
    },
    {
      "cell_type": "code",
      "metadata": {
        "id": "XgGtkuuf73xV"
      },
      "source": [
        "stack  = Stack_Linked_list()\n",
        "stack.push(4)\n",
        "stack.push(8)\n",
        "stack.push(12)\n",
        "stack.push(10)"
      ],
      "execution_count": null,
      "outputs": []
    },
    {
      "cell_type": "code",
      "metadata": {
        "colab": {
          "base_uri": "https://localhost:8080/"
        },
        "id": "pc23FE_98AUp",
        "outputId": "42b02f17-ab99-4c44-d916-67c15690edd3"
      },
      "source": [
        "print(stack)"
      ],
      "execution_count": null,
      "outputs": [
        {
          "output_type": "stream",
          "text": [
            "10 -> 12 -> 8 -> 4\n"
          ],
          "name": "stdout"
        }
      ]
    },
    {
      "cell_type": "code",
      "metadata": {
        "colab": {
          "base_uri": "https://localhost:8080/"
        },
        "id": "3exdzmuW8Chi",
        "outputId": "7511107b-2305-49f6-fd97-c31011cc138f"
      },
      "source": [
        "stack.pop()"
      ],
      "execution_count": null,
      "outputs": [
        {
          "output_type": "stream",
          "text": [
            "10\n"
          ],
          "name": "stdout"
        }
      ]
    },
    {
      "cell_type": "code",
      "metadata": {
        "colab": {
          "base_uri": "https://localhost:8080/"
        },
        "id": "Z57nTpHx8mjP",
        "outputId": "01d4bae8-ef86-4ad0-a480-7ed71cb118d2"
      },
      "source": [
        "print(stack)"
      ],
      "execution_count": null,
      "outputs": [
        {
          "output_type": "stream",
          "text": [
            "12 -> 8 -> 4\n"
          ],
          "name": "stdout"
        }
      ]
    },
    {
      "cell_type": "code",
      "metadata": {
        "colab": {
          "base_uri": "https://localhost:8080/"
        },
        "id": "jJNBKqEi8oAH",
        "outputId": "38f7b100-3c97-45bb-d888-3746862cae17"
      },
      "source": [
        "stack.peek()"
      ],
      "execution_count": null,
      "outputs": [
        {
          "output_type": "execute_result",
          "data": {
            "text/plain": [
              "12"
            ]
          },
          "metadata": {
            "tags": []
          },
          "execution_count": 38
        }
      ]
    },
    {
      "cell_type": "code",
      "metadata": {
        "colab": {
          "base_uri": "https://localhost:8080/"
        },
        "id": "JaMrePHr8qGK",
        "outputId": "efbc7722-48dd-455c-d90f-0a05f4ccaaa0"
      },
      "source": [
        "print(stack)"
      ],
      "execution_count": null,
      "outputs": [
        {
          "output_type": "stream",
          "text": [
            "12 -> 8 -> 4\n"
          ],
          "name": "stdout"
        }
      ]
    },
    {
      "cell_type": "code",
      "metadata": {
        "colab": {
          "base_uri": "https://localhost:8080/"
        },
        "id": "bmAD-bZP8rXj",
        "outputId": "72a66669-64a4-4ea0-dccd-0ae7cec68ea6"
      },
      "source": [
        "stack.delete_all()\n",
        "print(stack)"
      ],
      "execution_count": null,
      "outputs": [
        {
          "output_type": "stream",
          "text": [
            "\n"
          ],
          "name": "stdout"
        }
      ]
    },
    {
      "cell_type": "code",
      "metadata": {
        "id": "H230YK3T8uIt"
      },
      "source": [
        ""
      ],
      "execution_count": null,
      "outputs": []
    },
    {
      "cell_type": "markdown",
      "metadata": {
        "id": "Eeh6OfXJ3MXm"
      },
      "source": [
        "# 5. Queue\n",
        "\n",
        "A data structure where items are accessed in the order they were placed, i.e. _First-In-First-Out_"
      ]
    },
    {
      "cell_type": "markdown",
      "metadata": {
        "id": "Nh1nS0tM3iVb"
      },
      "source": [
        "## Queue using Python Lists"
      ]
    },
    {
      "cell_type": "code",
      "metadata": {
        "id": "ByH3qz-f3hTl"
      },
      "source": [
        "class Queue():\n",
        "  def __init__(self):\n",
        "    self.list = []\n",
        "\n",
        "  def __str__(self):\n",
        "    data = [str(x) for x in self.list]\n",
        "    return ' '.join(data)\n",
        "  \n",
        "  def check_is_empty(self):\n",
        "    if self.list == []:\n",
        "      return True\n",
        "    else:\n",
        "      return False\n",
        "  \n",
        "  def enqueue(self,value):\n",
        "    self.list.append(value)\n",
        "  \n",
        "  def dequeue(self):\n",
        "    if self.list == []:\n",
        "      print('Queue is empty')\n",
        "    else:\n",
        "      return self.list.pop(0)\n",
        "  \n",
        "  def peek(self):\n",
        "    if self.list == []:\n",
        "      print('Queue is empty')\n",
        "    else:\n",
        "      return self.list[0]\n",
        "  \n",
        "  def delete_all(self):\n",
        "    self.list = []\n",
        "  "
      ],
      "execution_count": null,
      "outputs": []
    },
    {
      "cell_type": "code",
      "metadata": {
        "id": "2VUjZaho4kWO"
      },
      "source": [
        "que = Queue()\n",
        "que.enqueue(1)\n",
        "que.enqueue(2)\n",
        "que.enqueue(3)\n",
        "que.enqueue(4)"
      ],
      "execution_count": null,
      "outputs": []
    },
    {
      "cell_type": "code",
      "metadata": {
        "colab": {
          "base_uri": "https://localhost:8080/"
        },
        "id": "aF2HNfHK4q5b",
        "outputId": "6f15b756-d447-4f8f-8916-48c0e11faccd"
      },
      "source": [
        "print(que)"
      ],
      "execution_count": null,
      "outputs": [
        {
          "output_type": "stream",
          "text": [
            "1 2 3 4\n"
          ],
          "name": "stdout"
        }
      ]
    },
    {
      "cell_type": "code",
      "metadata": {
        "colab": {
          "base_uri": "https://localhost:8080/"
        },
        "id": "uTPYOhfp4tTp",
        "outputId": "ba69e49a-85f7-484c-a514-152388f0f83e"
      },
      "source": [
        "que.dequeue()\n",
        "print(que)"
      ],
      "execution_count": null,
      "outputs": [
        {
          "output_type": "stream",
          "text": [
            "2 3 4\n"
          ],
          "name": "stdout"
        }
      ]
    },
    {
      "cell_type": "code",
      "metadata": {
        "id": "7QYgUN-w435H"
      },
      "source": [
        ""
      ],
      "execution_count": null,
      "outputs": []
    },
    {
      "cell_type": "markdown",
      "metadata": {
        "id": "s3jrx23ei8rA"
      },
      "source": [
        "## Circular Queue to avoid memory allocation problems"
      ]
    },
    {
      "cell_type": "code",
      "metadata": {
        "id": "fJHcz3HljA-x"
      },
      "source": [
        "class Circular_Queue():\n",
        "  def __init__(self,size):\n",
        "    self.list = size*[None]\n",
        "    self.size = size\n",
        "    self.top = -1\n",
        "    self.start = -1\n",
        "  \n",
        "  def __str__(self):\n",
        "    data = [str(x) for x in self.list]\n",
        "    return ' '.join(data)\n",
        "  \n",
        "  def check_is_full(self):\n",
        "    if self.top + 1 == self.size and self.start == 0:\n",
        "      return True\n",
        "    elif self.top + 1 == self.start:\n",
        "      return True\n",
        "    else:\n",
        "      return False\n",
        "  \n",
        "  def check_is_empty(self):\n",
        "    if self.top == -1 and self.start == -1:\n",
        "      return True\n",
        "    else:\n",
        "      return False\n",
        "  \n",
        "  def enqueue(self,value):\n",
        "    if self.check_is_full():\n",
        "      print('Full. Dequeue first')\n",
        "    else:\n",
        "      if self.top + 1 == self.size:\n",
        "        self.top = 0\n",
        "      elif self.top == -1 and self.start == -1:\n",
        "        self.top += 1\n",
        "        self.start += 1\n",
        "      else:\n",
        "        self.top += 1\n",
        "      self.list[self.top] = value\n",
        "\n",
        "\n",
        "  def dequeue(self):\n",
        "    if self.check_is_empty():\n",
        "      print('Not possible, queue is empty')\n",
        "    else:\n",
        "      print('Removing', self.list[self.start])\n",
        "      self.list[self.start] = None\n",
        "      self.start += 1\n",
        "    if self.start == self.size:\n",
        "      self.start = -1\n",
        "      self.top = -1\n",
        "  \n",
        "  def peek(self):\n",
        "    if self.check_is_empty():\n",
        "      print('Queue is empty')\n",
        "    else:\n",
        "      return self.list[self.start]\n",
        "  \n",
        "  def delete_all(self):\n",
        "    self.list = self.size * [None]\n",
        "\n",
        "\n"
      ],
      "execution_count": null,
      "outputs": []
    },
    {
      "cell_type": "code",
      "metadata": {
        "colab": {
          "base_uri": "https://localhost:8080/"
        },
        "id": "RjAxgW6OAd7r",
        "outputId": "e14bc27b-2182-48c2-bb73-81e7b042b999"
      },
      "source": [
        "cque = Circular_Queue(4)\n",
        "cque.check_is_empty()"
      ],
      "execution_count": null,
      "outputs": [
        {
          "output_type": "execute_result",
          "data": {
            "text/plain": [
              "True"
            ]
          },
          "metadata": {
            "tags": []
          },
          "execution_count": 214
        }
      ]
    },
    {
      "cell_type": "code",
      "metadata": {
        "id": "Y8CW49TwHgeW"
      },
      "source": [
        "cque.enqueue(1)\n",
        "cque.enqueue(2)\n",
        "cque.enqueue(3)\n",
        "cque.enqueue(4)"
      ],
      "execution_count": null,
      "outputs": []
    },
    {
      "cell_type": "markdown",
      "metadata": {
        "id": "yxAuGYPbrax7"
      },
      "source": [
        "## Queue using Linked List"
      ]
    },
    {
      "cell_type": "code",
      "metadata": {
        "id": "9xwpWBQJraLy"
      },
      "source": [
        "class Node():\n",
        "  def __init__(self,value= None):\n",
        "    self.value = value\n",
        "    self.next = None"
      ],
      "execution_count": null,
      "outputs": []
    },
    {
      "cell_type": "code",
      "metadata": {
        "id": "ZrAhJM3frVC9"
      },
      "source": [
        "class SingleLinkedList():  ## Initializing class for Single Linked List\n",
        "  def __init__(self):\n",
        "    self.head = None \n",
        "    self.tail = None\n",
        "  \n",
        "  def __iter__(self): ## Default iterating function, to print out elements of the list\n",
        "    node = self.head\n",
        "    while node != None:\n",
        "      yield node \n",
        "      node = node.next\n",
        "  \n",
        "  def __str__(self):\n",
        "    data = [str(node.value) for node in self]\n",
        "    return '->'.join(data)\n",
        "  \n",
        "  def insert_in_list(self,value,location): ## Function to insert a value in list\n",
        "    new_node = Node(value)\n",
        "    if self.head == None:  ## If the list is empty\n",
        "      self.head = new_node\n",
        "      self.tail = new_node\n",
        "    elif location == 0: ## If we want to insert node at the beginning\n",
        "      current_first = self.head\n",
        "      self.head = new_node\n",
        "      new_node.next = current_first\n",
        "    elif location == 1: ## If we want to insert node at the end\n",
        "      current_last = self.tail\n",
        "      current_last.next = new_node\n",
        "      self.tail = new_node\n",
        "    else: ## If we want to insert at any other position in the middle\n",
        "      node_prev = self.head\n",
        "      for i in range(0,location-1,1):\n",
        "        node_prev = node_prev.next\n",
        "      node_after = node_prev.next\n",
        "      node_prev.next = new_node\n",
        "      new_node.next = node_after\n",
        "  \n",
        "  def search_in_list(self,value): ## Check whether an element in present or not\n",
        "    if self.head == None:\n",
        "      print('List is empty')\n",
        "    else:\n",
        "      ref_node = self.head\n",
        "      while ref_node != None:\n",
        "        check = ref_node.value\n",
        "        if value == check:\n",
        "          return 'Present in list'\n",
        "          break\n",
        "        ref_node = ref_node.next\n",
        "    \n",
        "    return 'Not present'\n",
        "  \n",
        "  def delete_from_list(self,location):\n",
        "    if self.head == None:\n",
        "      print('Not possible, list is empty')\n",
        "    elif location == 0:\n",
        "      if self.head.next == None:\n",
        "        self.head = None\n",
        "        self.tail = None\n",
        "      else:\n",
        "        self.head = self.head.next\n",
        "    elif location == 1:\n",
        "      if self.head.next == None:\n",
        "        self.head = None\n",
        "        self.tail = None\n",
        "      else:\n",
        "        node = self.head\n",
        "        while node != None:\n",
        "          if node.next == self.tail:\n",
        "            break\n",
        "          else:\n",
        "            node = node.next\n",
        "        node.next = None\n",
        "        self.tail = node\n",
        "    else:\n",
        "      node = self.head\n",
        "      for i in range(0,location - 2):\n",
        "        node = node.next\n",
        "      node.next = node.next.next"
      ],
      "execution_count": null,
      "outputs": []
    },
    {
      "cell_type": "code",
      "metadata": {
        "id": "bp5__VOqrh03"
      },
      "source": [
        "class Queue_Linked_list():\n",
        "  def __init__(self):\n",
        "    self.list = SingleLinkedList()\n",
        "  \n",
        "  def __str__(self):\n",
        "    data = [str(node.value) for node in self.list]\n",
        "    return ' -> '.join(data)\n",
        "\n",
        "\n",
        "  def check_is_empty(self):\n",
        "    if self.list.head == None:\n",
        "      return True\n",
        "    else:\n",
        "      return False\n",
        "  \n",
        "  def enqueue(self, value):\n",
        "    self.list.insert_in_list(value,1)\n",
        "  \n",
        "  def dequeue(self):\n",
        "    if self.list.head == None:\n",
        "      print('Queue is empty')\n",
        "    else:\n",
        "      print(self.list.head.value)\n",
        "      self.list.delete_from_list(0)\n",
        "  \n",
        "  def peek(self):\n",
        "    if self.list.head == None:\n",
        "      print('List is empty')\n",
        "    else:\n",
        "      return self.list.head.value\n",
        "  \n",
        "  def delete_all(self):\n",
        "    self.list.head = None\n",
        "    self.list.tail = None"
      ],
      "execution_count": null,
      "outputs": []
    },
    {
      "cell_type": "markdown",
      "metadata": {
        "id": "gu5_8AlznvAr"
      },
      "source": [
        "## Queue using Python modules"
      ]
    },
    {
      "cell_type": "code",
      "metadata": {
        "id": "ClNd6wwQny0l"
      },
      "source": [
        "from collections import deque\n",
        "import queue as q"
      ],
      "execution_count": null,
      "outputs": []
    },
    {
      "cell_type": "code",
      "metadata": {
        "colab": {
          "base_uri": "https://localhost:8080/"
        },
        "id": "YyJCzQlmn3o5",
        "outputId": "fce886e7-600f-4cc2-91da-e1324efcc71b"
      },
      "source": [
        "que = deque(maxlen = 3)\n",
        "que.append(1)\n",
        "que.append(2)\n",
        "que.append(3)\n",
        "print(que)\n"
      ],
      "execution_count": null,
      "outputs": [
        {
          "output_type": "stream",
          "text": [
            "deque([1, 2, 3], maxlen=3)\n"
          ],
          "name": "stdout"
        }
      ]
    },
    {
      "cell_type": "code",
      "metadata": {
        "colab": {
          "base_uri": "https://localhost:8080/"
        },
        "id": "D_0A98uXo7yM",
        "outputId": "edfc3a45-027c-4696-e076-d791f9d1f186"
      },
      "source": [
        "que = q.Queue(maxsize=3)\n",
        "que.put(1)\n",
        "que.put(2)\n",
        "que.put(3)\n",
        "que.full()"
      ],
      "execution_count": null,
      "outputs": [
        {
          "output_type": "execute_result",
          "data": {
            "text/plain": [
              "True"
            ]
          },
          "metadata": {
            "tags": []
          },
          "execution_count": 12
        }
      ]
    },
    {
      "cell_type": "markdown",
      "metadata": {
        "id": "wbw_G7jTrnhA"
      },
      "source": [
        "# 6. Stack and Queue Questions"
      ]
    },
    {
      "cell_type": "markdown",
      "metadata": {
        "id": "gT9y1VQn21XL"
      },
      "source": [
        "## Implementing 3 stacks in one list"
      ]
    },
    {
      "cell_type": "code",
      "metadata": {
        "id": "1Pt6NJposClA"
      },
      "source": [
        "# Make all in O(1) time complexity by creating another list\n",
        "\n",
        "class Stack_Partition():\n",
        "  def __init__(self,max_size):\n",
        "    self.max_size = max_size\n",
        "    self.partition_size = int(max_size/3)\n",
        "    self.list = max_size*[None]\n",
        "  \n",
        "  def print_stack(self, stack_no):\n",
        "    data = self.list[((stack_no-1)*self.partition_size):(stack_no*self.partition_size)]\n",
        "    data.reverse()\n",
        "    print(data)\n",
        "  \n",
        "  def check_is_empty(self,stack_no):\n",
        "    if self.list[(stack_no-1)*self.partition_size:stack_no*self.partition_size] == [None]*self.partition_size:\n",
        "      return True\n",
        "    else:\n",
        "      return False\n",
        "  \n",
        "  def check_is_full(self,stack_no):\n",
        "    try:\n",
        "      self.list[(stack_no-1)*self.partition_size:stack_no*self.partition_size].index(None)\n",
        "      return False\n",
        "    except:\n",
        "      return True\n",
        "  \n",
        "  def push(self, value,stack_no):\n",
        "    if self.check_is_full(stack_no):\n",
        "      print('Not possible, max limit reached')\n",
        "    else:\n",
        "      index = ((stack_no-1)*sself.partition_size) + self.list[(stack_no-1)*self.partition_size:stack_no*self.partition_size].index(None)\n",
        "      self.list[index] = value\n",
        "  \n",
        "  def pop(self,stack_no):\n",
        "    if self.check_is_empty(stack_no):\n",
        "      print('Stack is empty')\n",
        "    else:\n",
        "      data = self.list[(stack_no-1)*self.partition_size:stack_no*self.partition_size]\n",
        "      try:\n",
        "        index = data.index(None)\n",
        "        print(data[index - 1])\n",
        "        data[index - 1] = None\n",
        "        self.list[(stack_no-1)*self.partition_size:stack_no*self.partition_size] = data\n",
        "      except:\n",
        "        print(data[-1])\n",
        "        data[-1] = None\n",
        "        self.list[(stack_no-1)*self.partition_size:stack_no*self.partition_size] = data\n",
        "  \n",
        "  def peek(self,stack_no):\n",
        "    if self.check_is_empty(stack_no):\n",
        "      print('List is empty')\n",
        "    else:\n",
        "      data = self.list[(stack_no-1)*self.partition_size:stack_no*self.partition_size]\n",
        "      try:\n",
        "        index = data.index(None)\n",
        "        print(data[index - 1])\n",
        "      except:\n",
        "        print(data[-1])\n",
        "  \n",
        "  def delete_all(self,stack_no):\n",
        "    self.list[(stack_no-1)*self.partition_size:stack_no*self.partition_size] = [None]*self.partition_size"
      ],
      "execution_count": null,
      "outputs": []
    },
    {
      "cell_type": "code",
      "metadata": {
        "id": "d5wM5ay1xaDJ"
      },
      "source": [
        "stack = Stack_Partition(9)"
      ],
      "execution_count": null,
      "outputs": []
    },
    {
      "cell_type": "code",
      "metadata": {
        "id": "BH2aY4nez7-2"
      },
      "source": [
        "stack.push(1,1)\n",
        "stack.push(2,2)\n",
        "stack.push(3,3)\n",
        "stack.push(4,1)\n",
        "stack.push(5,2)\n",
        "stack.push(6,3)\n",
        "# stack.push(7,1)\n",
        "# stack.push(8,2)\n",
        "# stack.push(9,3)\n"
      ],
      "execution_count": null,
      "outputs": []
    },
    {
      "cell_type": "code",
      "metadata": {
        "colab": {
          "base_uri": "https://localhost:8080/"
        },
        "id": "196i8Iya2S5d",
        "outputId": "7958fe1c-0d40-43cb-a0dc-bdfe69e68390"
      },
      "source": [
        "stack.list"
      ],
      "execution_count": null,
      "outputs": [
        {
          "output_type": "execute_result",
          "data": {
            "text/plain": [
              "[1, 4, None, 2, 5, None, 3, 6, None]"
            ]
          },
          "metadata": {
            "tags": []
          },
          "execution_count": 192
        }
      ]
    },
    {
      "cell_type": "markdown",
      "metadata": {
        "id": "Zag_Z6vLph8p"
      },
      "source": [
        "## Stack with minimum function"
      ]
    },
    {
      "cell_type": "code",
      "metadata": {
        "id": "epvc1urBq8TG"
      },
      "source": [
        "class Stack():\n",
        "  def __init__(self):  ## O(1)\n",
        "    self.list = []\n",
        "    self.min = []\n",
        "  \n",
        "  def __str__(self): \n",
        "    data = [str(x) for x in self.list] ## O(n)\n",
        "    data.reverse()  ## O(n)\n",
        "    return '\\n'.join(data)\n",
        "  \n",
        "  def check_is_empty(self):\n",
        "    if self.list == []: ## O(1)\n",
        "      return True\n",
        "    else:\n",
        "      return False\n",
        "  \n",
        "  def push(self, value):\n",
        "    if self.check_is_empty(): ## O(1)\n",
        "      self.min.append(value)\n",
        "    elif value < self.min[-1]: ##O(1)\n",
        "      self.min.append(value)\n",
        "    self.list.append(value)\n",
        "  \n",
        "  def pop(self):\n",
        "    if self.list == []: ## O(1)\n",
        "      print('Stack is empty')\n",
        "    else:\n",
        "      if self.list[-1] == self.min[-1]:\n",
        "        self.min.pop()\n",
        "      return self.list.pop()\n",
        "  \n",
        "  def peek(self):\n",
        "    if self.list == []:\n",
        "      print('List is empty')\n",
        "    else:\n",
        "      return self.list[-1]\n",
        "  \n",
        "  def delete_all(self):\n",
        "    self.list = []\n",
        "    self.min = []\n",
        "  \n",
        "  def find_minimum(self):\n",
        "    if self.check_is_empty():\n",
        "      print('Stack is empty')\n",
        "    else:\n",
        "      return self.min[-1]"
      ],
      "execution_count": null,
      "outputs": []
    },
    {
      "cell_type": "code",
      "metadata": {
        "id": "pICsbIt3ruMq"
      },
      "source": [
        "stack = Stack()"
      ],
      "execution_count": null,
      "outputs": []
    },
    {
      "cell_type": "code",
      "metadata": {
        "id": "JiYBPYECrvTL"
      },
      "source": [
        "stack.push(1)\n",
        "stack.push(2)\n",
        "stack.push(10)\n",
        "stack.push(0)\n",
        "stack.push(25)"
      ],
      "execution_count": null,
      "outputs": []
    },
    {
      "cell_type": "code",
      "metadata": {
        "colab": {
          "base_uri": "https://localhost:8080/"
        },
        "id": "Rg0WqU2Nr22r",
        "outputId": "3b9593b1-d121-44be-bacf-3bf57d908c66"
      },
      "source": [
        "print(stack)"
      ],
      "execution_count": null,
      "outputs": [
        {
          "output_type": "stream",
          "text": [
            "25\n",
            "0\n",
            "10\n",
            "2\n",
            "1\n"
          ],
          "name": "stdout"
        }
      ]
    },
    {
      "cell_type": "code",
      "metadata": {
        "colab": {
          "base_uri": "https://localhost:8080/"
        },
        "id": "JwQHVGKmsEBo",
        "outputId": "12198fb0-b136-4924-d716-2196f00cf8bc"
      },
      "source": [
        "stack.find_minimum()"
      ],
      "execution_count": null,
      "outputs": [
        {
          "output_type": "execute_result",
          "data": {
            "text/plain": [
              "0"
            ]
          },
          "metadata": {
            "tags": []
          },
          "execution_count": 41
        }
      ]
    },
    {
      "cell_type": "code",
      "metadata": {
        "colab": {
          "base_uri": "https://localhost:8080/"
        },
        "id": "8OtdfRDSsGiH",
        "outputId": "df661615-c71e-4e57-b7b7-8a9ab2064df0"
      },
      "source": [
        "stack.pop()\n",
        "stack.pop()"
      ],
      "execution_count": null,
      "outputs": [
        {
          "output_type": "execute_result",
          "data": {
            "text/plain": [
              "0"
            ]
          },
          "metadata": {
            "tags": []
          },
          "execution_count": 42
        }
      ]
    },
    {
      "cell_type": "code",
      "metadata": {
        "colab": {
          "base_uri": "https://localhost:8080/"
        },
        "id": "wNJJGSbZsaDN",
        "outputId": "f42d1bcf-d243-4fb7-fc0f-9649377ff488"
      },
      "source": [
        "print(stack)"
      ],
      "execution_count": null,
      "outputs": [
        {
          "output_type": "stream",
          "text": [
            "10\n",
            "2\n",
            "1\n"
          ],
          "name": "stdout"
        }
      ]
    },
    {
      "cell_type": "code",
      "metadata": {
        "colab": {
          "base_uri": "https://localhost:8080/"
        },
        "id": "MFQHQX7qulqF",
        "outputId": "3582cccb-60da-4829-813a-bbb7d983ec1c"
      },
      "source": [
        "stack.find_minimum()"
      ],
      "execution_count": null,
      "outputs": [
        {
          "output_type": "execute_result",
          "data": {
            "text/plain": [
              "1"
            ]
          },
          "metadata": {
            "tags": []
          },
          "execution_count": 44
        }
      ]
    },
    {
      "cell_type": "code",
      "metadata": {
        "id": "GLkhxDLawghh"
      },
      "source": [
        ""
      ],
      "execution_count": null,
      "outputs": []
    },
    {
      "cell_type": "markdown",
      "metadata": {
        "id": "cMVBOZBm51EB"
      },
      "source": [
        "## Set of Stacks"
      ]
    },
    {
      "cell_type": "code",
      "metadata": {
        "id": "B05VTk5352fw"
      },
      "source": [
        "class Stack_Set():\n",
        "  def __init__(self, threshold):  ## O(1)\n",
        "    self.dict = {}\n",
        "    self.number = 0\n",
        "    self.limit = threshold\n",
        "  \n",
        "  def __str__(self): \n",
        "    data = []\n",
        "    for key in self.dict.keys():\n",
        "      data += self.dict[key]\n",
        "    data = [str(x) for x in data]\n",
        "    data.reverse()  ## O(n)\n",
        "    return '\\n'.join(data)\n",
        "  \n",
        "  def check_is_empty(self):\n",
        "    if self.dict == {}: ## O(1)\n",
        "      return True\n",
        "    else:\n",
        "      return False\n",
        "  \n",
        "  def push(self, value):\n",
        "    if self.check_is_empty(): ## O(1)\n",
        "      stack_list = []\n",
        "      stack_list.append(value)\n",
        "      self.dict[self.number] = stack_list\n",
        "    elif len(self.dict[self.number]) == self.limit:\n",
        "      stack_list = []\n",
        "      self.number += 1\n",
        "      stack_list.append(value)\n",
        "      self.dict[self.number] = stack_list\n",
        "    else:\n",
        "      self.dict[self.number].append(value)\n",
        "\n",
        "  def pop(self):\n",
        "    if self.dict == {}: ## O(1)\n",
        "      print('Stack is empty')\n",
        "    else:\n",
        "      keys = list(self.dict.keys())\n",
        "      return self.dict[keys[-1]].pop()\n",
        "  \n",
        "  def peek(self):\n",
        "    if self.dict == {}: ## O(1)\n",
        "      print('Stack is empty')\n",
        "    else:\n",
        "      keys = list(self.dict.keys())\n",
        "      return self.dict[keys[-1]]\n",
        "  \n",
        "  def delete_all(self):\n",
        "    self.dict = {}\n",
        "    self.number = 0\n",
        "  \n",
        "  def pop_At(self,stack_no):\n",
        "    if self.check_is_empty():\n",
        "      print('Stack is empty')\n",
        "    else:\n",
        "      return self.dict[stack_no-1].pop()\n",
        "  "
      ],
      "execution_count": null,
      "outputs": []
    },
    {
      "cell_type": "code",
      "metadata": {
        "id": "VTn_xX6266Vu"
      },
      "source": [
        "stack = Stack_Set(3)"
      ],
      "execution_count": null,
      "outputs": []
    },
    {
      "cell_type": "code",
      "metadata": {
        "id": "uznk_KvtAUbI"
      },
      "source": [
        "stack.push(1)\n",
        "stack.push(2)\n",
        "stack.push(3)\n",
        "stack.push(4)\n",
        "stack.push(5)\n",
        "stack.push(6)\n",
        "stack.push(7)"
      ],
      "execution_count": null,
      "outputs": []
    },
    {
      "cell_type": "markdown",
      "metadata": {
        "id": "06EOrAsH6IL2"
      },
      "source": [
        "## Queue using two stacks"
      ]
    },
    {
      "cell_type": "code",
      "metadata": {
        "id": "4r_FkEXvBR4J"
      },
      "source": [
        "class Queue_Stack():\n",
        "  def __init__(self):\n",
        "    self.list = []\n",
        "    self.stack_2 = []\n",
        "  \n",
        "  def __str__(self):\n",
        "    data = [str(x) for x in self.list]\n",
        "    return '\\n'.join(data)\n",
        "  \n",
        "  def check_is_empty(self):\n",
        "    if self.list == []:\n",
        "      print('List is empty')\n",
        "    else:\n",
        "      print('False')\n",
        "  \n",
        "  def enqueue(self, value):\n",
        "    self.list.append(value)\n",
        "  \n",
        "  def dequeue(self):\n",
        "    if self.list == []:\n",
        "      print('Stack is empty')\n",
        "    else:\n",
        "      self.stack_2 = [self.list.pop(i) for i in range(len(self.list)-1,-1,-1)]\n",
        "      print(self.stack_2.pop())\n",
        "      self.list = [self.stack_2.pop(i) for i in range(len(self.stack_2)-1,-1,-1)]\n",
        "\n",
        "  def peek(self):\n",
        "    if self.list == []:\n",
        "      print('List is empty')\n",
        "    else:\n",
        "      self.stack_2 = [self.list.pop(i) for i in range(len(self.list)-1,-1,-1)]\n",
        "      print(self.stack_2[-1])\n",
        "      self.list = [self.stack_2.pop(i) for i in range(len(self.stack_2)-1,-1,-1)]\n",
        "  \n",
        "  def delete_all(self):\n",
        "    self.list = []\n",
        "    self.stack_2 = []"
      ],
      "execution_count": null,
      "outputs": []
    },
    {
      "cell_type": "code",
      "metadata": {
        "id": "c8nBUqaT6xXU"
      },
      "source": [
        "que = Queue_Stack()"
      ],
      "execution_count": null,
      "outputs": []
    },
    {
      "cell_type": "code",
      "metadata": {
        "id": "2I2d6GrD6zF8"
      },
      "source": [
        "que.enqueue(1)\n",
        "que.enqueue(2)\n",
        "que.enqueue(3)\n",
        "que.enqueue(4)"
      ],
      "execution_count": null,
      "outputs": []
    },
    {
      "cell_type": "code",
      "metadata": {
        "id": "1FGQWAlP-Frd"
      },
      "source": [
        "que.dequeue()\n",
        "print(que)"
      ],
      "execution_count": null,
      "outputs": []
    },
    {
      "cell_type": "markdown",
      "metadata": {
        "id": "IDaS2X6GA4eg"
      },
      "source": [
        "## Animal Shelter:\n",
        "In a pet shelter, only dogs and cats are available for adoption, and the “first in, first out” rule is strictly enforced when adopted. If someone wants to adopt an animal from a shelter, he has only two choices: either choose to adopt the most senior of all animals (the older you arrive at the shelter, the sooner you are older), or choose to adopt a cat or dog ( Similarly, only the most senior one can be adopted. In other words, the adopter cannot choose a given animal at will. Please create a data structure that allows it to run the above rules and implement enqueue, dequeueAny, dequeueDog, and dequeueCat operations."
      ]
    },
    {
      "cell_type": "code",
      "metadata": {
        "id": "rhDugi0kBFNr"
      },
      "source": [
        "class Linked_List():  ## Initializing class for Single Linked List\n",
        "  def __init__(self):\n",
        "    self.head = None \n",
        "    self.tail = None\n",
        "  \n",
        "  def __iter__(self): ## Default iterating function, to print out elements of the list\n",
        "    node = self.head\n",
        "    while node != None:\n",
        "      yield node \n",
        "      node = node.next\n",
        "  \n",
        "  def __str__(self):\n",
        "    data = [str(node.value) for node in self]\n",
        "    return '->'.join(data)\n",
        "  \n",
        "  def insert_in_list(self,value): ## Function to insert a value in list\n",
        "    new_node = Node(value)\n",
        "    if self.head == None:  ## If the list is empty\n",
        "      self.head = new_node\n",
        "      self.tail = new_node\n",
        "    else: ## If we want to insert node at the end\n",
        "      current_last = self.tail\n",
        "      current_last.next = new_node\n",
        "      self.tail = new_node\n",
        "  \n",
        "  def delete_from_list(self):\n",
        "    if self.head == None:\n",
        "      print('Not possible, list is empty')\n",
        "    else:\n",
        "      if self.head.next == None:\n",
        "        self.head = None\n",
        "        self.tail = None\n",
        "      else:\n",
        "        self.head = self.head.next"
      ],
      "execution_count": null,
      "outputs": []
    },
    {
      "cell_type": "code",
      "metadata": {
        "id": "InQV9CXsCCQi"
      },
      "source": [
        "class Node():\n",
        "  def __init__(self,value= None):\n",
        "    self.value = value \n",
        "    self.next = None"
      ],
      "execution_count": null,
      "outputs": []
    },
    {
      "cell_type": "code",
      "metadata": {
        "id": "BYuHg3P0Dydu"
      },
      "source": [
        "class Queue_Animals():\n",
        "  def __init__(self):\n",
        "    self.all_animals = Linked_List()\n",
        "    self.dogs = []\n",
        "    self.cats = []\n",
        "    self.position = 0\n",
        "  \n",
        "  def __str__(self):\n",
        "    data = [str(node.value) for node in self.all_animals]\n",
        "    return ' -> '.join(data)\n",
        "\n",
        "  def check_is_empty(self):\n",
        "    if self.all_animals.head == None:\n",
        "      return True\n",
        "    else:\n",
        "      return False\n",
        "  \n",
        "  def enqueue(self, value, animal):\n",
        "    self.all_animals.insert_in_list(value)\n",
        "    if animal == 0:\n",
        "      self.cats.append(self.position)\n",
        "    else:\n",
        "      self.dogs.append(self.position)\n",
        "    self.position += 1\n",
        "  \n",
        "  def dequeue(self,animal=None):\n",
        "\n",
        "    if self.all_animals.head == None:  ## Checking if any animal has been put or not\n",
        "      print('Queue is empty')\n",
        "    if animal == 0 and self.cats == []:  ## Checking if all cats gone\n",
        "      print('All cats have been taken away')\n",
        "    elif animal == 1 and self.dogs == []: ## Checking if all dogs gone\n",
        "      print('All dogs have been taken away')  \n",
        "    elif self.dogs == [] and self.cats == []: ## Checking if all cats and all dogs gone\n",
        "      print('All animals are gone')\n",
        "    \n",
        "    else:  \n",
        "      if animal == None:  ## No animal specified by customer\n",
        "        node = self.all_animals.head\n",
        "        i = 0\n",
        "        while node.value == None: ## We find the next animal in the queue\n",
        "          node = node.next\n",
        "          i += 1\n",
        "        print(node.value)\n",
        "        node.value = None\n",
        "        if self.dogs[0] == i:\n",
        "          self.dogs.pop(0)\n",
        "        else:\n",
        "          self.cats.pop(0)\n",
        "\n",
        "\n",
        "      elif animal == 0: ## Cat is specified \n",
        "        position_to_go = self.cats[0] ## Find the location of the next available cat\n",
        "        self.cats.pop(0)\n",
        "        node = self.all_animals.head  \n",
        "        if position_to_go == 0:  ## Checking if the location is 0\n",
        "          print(self.all_animals.head.value)\n",
        "          self.all_animals.head.value = None\n",
        "        else:  ## Iterate over to the location and set the cat to None\n",
        "          for i in range(position_to_go-1):\n",
        "            node = node.next\n",
        "          print(node.next.value)\n",
        "          node.next.value = None\n",
        "\n",
        "\n",
        "      else:  ## Dog is specified\n",
        "        position_to_go = self.dogs[0]  ## Find the location of the next available dog\n",
        "        self.dogs.pop(0)\n",
        "        node = self.all_animals.head  ## Checking if the location is 0\n",
        "        if position_to_go == 0:\n",
        "          print(self.all_animals.head.value)\n",
        "          self.all_animals.head.value = None\n",
        "        else:  ## Iterate over the location and set the dog to None\n",
        "          for i in range(position_to_go-1):\n",
        "            node = node.next\n",
        "          print(node.next.value)\n",
        "          node.next.value = None\n",
        "\n",
        "  \n",
        "  def delete_all(self):\n",
        "    self.all_animals.head = None\n",
        "    self.all_animals.tail = None\n",
        "    self.cats = []\n",
        "    self.dogs = []"
      ],
      "execution_count": null,
      "outputs": []
    },
    {
      "cell_type": "code",
      "metadata": {
        "id": "bQIgmhz6Hlw6"
      },
      "source": [
        "que = Queue_Animals()"
      ],
      "execution_count": null,
      "outputs": []
    },
    {
      "cell_type": "code",
      "metadata": {
        "id": "rW8qZzSpHnZO"
      },
      "source": [
        "que.enqueue('dog1',1)\n",
        "que.enqueue('cat1',0)\n",
        "que.enqueue('dog2',1)\n",
        "que.enqueue('cat2',0)\n",
        "que.enqueue('dog3',1)\n",
        "que.enqueue('cat3',0)\n",
        "que.enqueue('dog4',1)\n",
        "que.enqueue('cat4',0)\n",
        "que.enqueue('dog5',1)"
      ],
      "execution_count": null,
      "outputs": []
    },
    {
      "cell_type": "code",
      "metadata": {
        "colab": {
          "base_uri": "https://localhost:8080/"
        },
        "id": "lAj9UTvUHqHd",
        "outputId": "81aef805-c852-42a4-ec90-6d7e29a74a0a"
      },
      "source": [
        "print(que)"
      ],
      "execution_count": null,
      "outputs": [
        {
          "output_type": "stream",
          "text": [
            "dog1 -> cat1 -> dog2 -> cat2 -> dog3 -> cat3 -> dog4 -> cat4 -> dog5\n"
          ],
          "name": "stdout"
        }
      ]
    },
    {
      "cell_type": "code",
      "metadata": {
        "colab": {
          "base_uri": "https://localhost:8080/"
        },
        "id": "PAaScr73NGHW",
        "outputId": "55c5449f-2dd6-49dd-a1bf-6f88e8582282"
      },
      "source": [
        "que.dequeue(0)"
      ],
      "execution_count": null,
      "outputs": [
        {
          "output_type": "stream",
          "text": [
            "cat1\n"
          ],
          "name": "stdout"
        }
      ]
    },
    {
      "cell_type": "code",
      "metadata": {
        "colab": {
          "base_uri": "https://localhost:8080/"
        },
        "id": "OTCttzY6NKeM",
        "outputId": "f1cdda93-1eba-4dd8-8297-efe9f0599cf6"
      },
      "source": [
        "que.dequeue(1)"
      ],
      "execution_count": null,
      "outputs": [
        {
          "output_type": "stream",
          "text": [
            "dog1\n"
          ],
          "name": "stdout"
        }
      ]
    },
    {
      "cell_type": "code",
      "metadata": {
        "colab": {
          "base_uri": "https://localhost:8080/"
        },
        "id": "sDQIPfwsOB3K",
        "outputId": "5cf9cc64-3aef-48f8-b310-6f11f9342d8b"
      },
      "source": [
        "print(que)"
      ],
      "execution_count": null,
      "outputs": [
        {
          "output_type": "stream",
          "text": [
            "None -> None -> dog2 -> cat2 -> dog3 -> cat3 -> dog4 -> cat4 -> dog5\n"
          ],
          "name": "stdout"
        }
      ]
    },
    {
      "cell_type": "code",
      "metadata": {
        "colab": {
          "base_uri": "https://localhost:8080/"
        },
        "id": "Ag2pwCqrOCZU",
        "outputId": "31c17933-902c-42b4-fdf1-82c2db411932"
      },
      "source": [
        "que.dequeue()"
      ],
      "execution_count": null,
      "outputs": [
        {
          "output_type": "stream",
          "text": [
            "dog2\n"
          ],
          "name": "stdout"
        }
      ]
    },
    {
      "cell_type": "code",
      "metadata": {
        "colab": {
          "base_uri": "https://localhost:8080/"
        },
        "id": "rB5AiQ3pOD8N",
        "outputId": "e1971ba9-792f-4ada-c28d-ef604db57b0d"
      },
      "source": [
        "print(que)"
      ],
      "execution_count": null,
      "outputs": [
        {
          "output_type": "stream",
          "text": [
            "None -> None -> None -> cat2 -> dog3 -> cat3 -> dog4 -> cat4 -> dog5\n"
          ],
          "name": "stdout"
        }
      ]
    },
    {
      "cell_type": "code",
      "metadata": {
        "colab": {
          "base_uri": "https://localhost:8080/"
        },
        "id": "T0r2eOR3O902",
        "outputId": "0769f465-7db8-4881-d0c9-7e572612907a"
      },
      "source": [
        "que.dequeue(1)"
      ],
      "execution_count": null,
      "outputs": [
        {
          "output_type": "stream",
          "text": [
            "dog3\n"
          ],
          "name": "stdout"
        }
      ]
    },
    {
      "cell_type": "code",
      "metadata": {
        "colab": {
          "base_uri": "https://localhost:8080/"
        },
        "id": "_LR3P-qkPCoJ",
        "outputId": "c82a4615-c75c-4990-806d-dde023984063"
      },
      "source": [
        "que.dequeue()"
      ],
      "execution_count": null,
      "outputs": [
        {
          "output_type": "stream",
          "text": [
            "cat2\n"
          ],
          "name": "stdout"
        }
      ]
    },
    {
      "cell_type": "code",
      "metadata": {
        "colab": {
          "base_uri": "https://localhost:8080/"
        },
        "id": "jZjrPOEAPETb",
        "outputId": "c3b76ec7-05ba-414a-853c-d918668f43ad"
      },
      "source": [
        "que.dequeue(0)"
      ],
      "execution_count": null,
      "outputs": [
        {
          "output_type": "stream",
          "text": [
            "cat3\n"
          ],
          "name": "stdout"
        }
      ]
    },
    {
      "cell_type": "code",
      "metadata": {
        "colab": {
          "base_uri": "https://localhost:8080/"
        },
        "id": "nt7o0py-PGOl",
        "outputId": "8bb1c798-ad9a-4677-ecd5-3bd37a651517"
      },
      "source": [
        "print(que)"
      ],
      "execution_count": null,
      "outputs": [
        {
          "output_type": "stream",
          "text": [
            "None -> None -> None -> None -> None -> None -> dog4 -> cat4 -> dog5\n"
          ],
          "name": "stdout"
        }
      ]
    },
    {
      "cell_type": "code",
      "metadata": {
        "colab": {
          "base_uri": "https://localhost:8080/"
        },
        "id": "fTR8rUr_PI4H",
        "outputId": "68c3a04f-f752-4438-ef90-d14a9d4819fa"
      },
      "source": [
        "que.dequeue()"
      ],
      "execution_count": null,
      "outputs": [
        {
          "output_type": "stream",
          "text": [
            "dog4\n"
          ],
          "name": "stdout"
        }
      ]
    },
    {
      "cell_type": "code",
      "metadata": {
        "colab": {
          "base_uri": "https://localhost:8080/"
        },
        "id": "0BiyeY72PKqZ",
        "outputId": "ccb960d4-2a42-499b-e890-4796b585d1eb"
      },
      "source": [
        "que.dequeue()"
      ],
      "execution_count": null,
      "outputs": [
        {
          "output_type": "stream",
          "text": [
            "cat4\n"
          ],
          "name": "stdout"
        }
      ]
    },
    {
      "cell_type": "code",
      "metadata": {
        "colab": {
          "base_uri": "https://localhost:8080/"
        },
        "id": "dN5ZoLdvPN0C",
        "outputId": "142e5408-91e7-4b98-dcce-c87ddfd8f6af"
      },
      "source": [
        "print(que)"
      ],
      "execution_count": null,
      "outputs": [
        {
          "output_type": "stream",
          "text": [
            "None -> None -> None -> None -> None -> None -> None -> None -> dog5\n"
          ],
          "name": "stdout"
        }
      ]
    },
    {
      "cell_type": "code",
      "metadata": {
        "colab": {
          "base_uri": "https://localhost:8080/"
        },
        "id": "sYIL1xQsPO3m",
        "outputId": "56b2e80d-3e6e-4bfc-9656-b62be068db8f"
      },
      "source": [
        "que.dequeue(1)"
      ],
      "execution_count": null,
      "outputs": [
        {
          "output_type": "stream",
          "text": [
            "dog5\n"
          ],
          "name": "stdout"
        }
      ]
    },
    {
      "cell_type": "code",
      "metadata": {
        "colab": {
          "base_uri": "https://localhost:8080/"
        },
        "id": "6uBUxTDBPQcf",
        "outputId": "ff982fb6-e68b-4b00-b1c6-f9db5262ba68"
      },
      "source": [
        "print(que)"
      ],
      "execution_count": null,
      "outputs": [
        {
          "output_type": "stream",
          "text": [
            "None -> None -> None -> None -> None -> None -> None -> None -> None\n"
          ],
          "name": "stdout"
        }
      ]
    },
    {
      "cell_type": "code",
      "metadata": {
        "colab": {
          "base_uri": "https://localhost:8080/"
        },
        "id": "T7Q9U52BPrnM",
        "outputId": "81b75e1e-8bd8-45fc-bbd6-0951783348ca"
      },
      "source": [
        "que.dequeue()"
      ],
      "execution_count": null,
      "outputs": [
        {
          "output_type": "stream",
          "text": [
            "All animals are gone\n"
          ],
          "name": "stdout"
        }
      ]
    },
    {
      "cell_type": "code",
      "metadata": {
        "colab": {
          "base_uri": "https://localhost:8080/"
        },
        "id": "VyMvfXjbPtY9",
        "outputId": "16cd2927-084e-4e27-f277-33cb447adf55"
      },
      "source": [
        "que.dequeue(0)"
      ],
      "execution_count": null,
      "outputs": [
        {
          "output_type": "stream",
          "text": [
            "All cats have been taken away\n"
          ],
          "name": "stdout"
        }
      ]
    },
    {
      "cell_type": "code",
      "metadata": {
        "colab": {
          "base_uri": "https://localhost:8080/"
        },
        "id": "1knThF_FP_4h",
        "outputId": "641e32d6-d14b-42d3-b9c5-5b548a38f448"
      },
      "source": [
        "que.dequeue(1)"
      ],
      "execution_count": null,
      "outputs": [
        {
          "output_type": "stream",
          "text": [
            "All dogs have been taken away\n"
          ],
          "name": "stdout"
        }
      ]
    },
    {
      "cell_type": "code",
      "metadata": {
        "id": "EeNDpLfRQBWn"
      },
      "source": [
        ""
      ],
      "execution_count": null,
      "outputs": []
    },
    {
      "cell_type": "markdown",
      "metadata": {
        "id": "DlpndOD2zs2A"
      },
      "source": [
        "# 7. Tree Data Structure"
      ]
    },
    {
      "cell_type": "markdown",
      "metadata": {
        "id": "gBIvcJ4qKglH"
      },
      "source": [
        "## Simple Tree Data Structure"
      ]
    },
    {
      "cell_type": "code",
      "metadata": {
        "id": "g6h2bLC0zvWp"
      },
      "source": [
        "class TreeNode():\n",
        "  def __init__(self,value, children = []):\n",
        "    self.value = value\n",
        "    self.children = children\n",
        "\n",
        "  ## Print Tree function\n",
        "  \n",
        "  def __str__(self,level = 0):\n",
        "    ret = ' ' * level + str(self.value) + '\\n'\n",
        "    for child in self.children:\n",
        "      ret += child.__str__(level + 1)\n",
        "    return ret\n",
        "\n",
        "\n",
        "  def addchild(self,TreeNode):\n",
        "    self.children.append(TreeNode)\n"
      ],
      "execution_count": null,
      "outputs": []
    },
    {
      "cell_type": "code",
      "metadata": {
        "id": "0kt1ufS_1QoT"
      },
      "source": [
        "tree = TreeNode('Drinks', [])\n",
        "cold = TreeNode('Cold',[])\n",
        "hot = TreeNode('Hot',[])\n",
        "tea = TreeNode('Tea',[])\n",
        "coffee = TreeNode('Coffee',[])\n",
        "pepsi = TreeNode('Pepsi',[])\n",
        "coke = TreeNode('Coke',[])"
      ],
      "execution_count": null,
      "outputs": []
    },
    {
      "cell_type": "code",
      "metadata": {
        "id": "OsnvG1PW18y0"
      },
      "source": [
        "cold.addchild(pepsi)\n",
        "cold.addchild(coke)\n",
        "hot.addchild(tea)\n",
        "hot.addchild(coffee)\n",
        "tree.addchild(cold)\n",
        "tree.addchild(hot)"
      ],
      "execution_count": null,
      "outputs": []
    },
    {
      "cell_type": "code",
      "metadata": {
        "colab": {
          "base_uri": "https://localhost:8080/"
        },
        "id": "wHa8QjDR9pp3",
        "outputId": "31c79f60-04d5-4adb-8afa-69835293bfdc"
      },
      "source": [
        "print(tree)"
      ],
      "execution_count": null,
      "outputs": [
        {
          "output_type": "stream",
          "text": [
            "Drinks\n",
            " Cold\n",
            "  Pepsi\n",
            "  Coke\n",
            " Hot\n",
            "  Tea\n",
            "  Coffee\n",
            "\n"
          ],
          "name": "stdout"
        }
      ]
    },
    {
      "cell_type": "markdown",
      "metadata": {
        "id": "n0CDjHOGKkf5"
      },
      "source": [
        "## Binary Tree"
      ]
    },
    {
      "cell_type": "code",
      "metadata": {
        "id": "AtPXi-4K9qYF"
      },
      "source": [
        "class Binary_Tree():\n",
        "  def __init__(self, value=None):\n",
        "    self.value = value \n",
        "    self.prev_child = None\n",
        "    self.next_child = None"
      ],
      "execution_count": null,
      "outputs": []
    },
    {
      "cell_type": "code",
      "metadata": {
        "id": "sj-oS2TDLAQA"
      },
      "source": [
        "## Traversing functions for Tree\n",
        "\n",
        "## ------------------------------------------------------------##\n",
        "def pre_order_traversal(rootNode):\n",
        "  if rootNode == None:\n",
        "    return None\n",
        "  else:\n",
        "    print(rootNode.value)\n",
        "    pre_order_traversal(rootNode.prev_child)\n",
        "    pre_order_traversal(rootNode.next_child)\n",
        "\n",
        "## ------------------------------------------------------------##\n",
        "\n",
        "def in_order_traversal(rootNode):\n",
        "  if rootNode == None:\n",
        "    return None\n",
        "  in_order_traversal(rootNode.prev_child)\n",
        "  if rootNode.value != None:\n",
        "    print(rootNode.value)\n",
        "  in_order_traversal(rootNode.next_child)\n",
        "\n",
        "## ------------------------------------------------------------##\n",
        "\n",
        "def post_order_traversal(rootNode):\n",
        "  if rootNode == None:\n",
        "    return None\n",
        "  post_order_traversal(rootNode.prev_child)\n",
        "  post_order_traversal(rootNode.next_child)\n",
        "  if rootNode.value != None:\n",
        "    print(rootNode.value)\n",
        "\n",
        "## ------------------------------------------------------------##\n",
        "\n",
        "def level_order_traversal(rootNode, nodes_or_values = 1):\n",
        "  list_to_return = []\n",
        "  list_nodes = []\n",
        "  list_to_return.append([rootNode.value])\n",
        "  list_nodes.append([rootNode])\n",
        "\n",
        "  level = 0\n",
        "  \n",
        "  while list_nodes[level] != []:\n",
        "    list_nodes.append([])\n",
        "    list_to_return.append([])\n",
        "    temp_list_value = []\n",
        "    temp_list_node = []\n",
        "    for node in list_nodes[level]:\n",
        "      if node.prev_child != None:\n",
        "        temp_list_value.append(node.prev_child.value)\n",
        "        temp_list_node.append(node.prev_child)\n",
        "      if node.next_child != None:\n",
        "        temp_list_value.append(node.next_child.value)\n",
        "        temp_list_node.append(node.next_child)\n",
        "    list_nodes[level+1] = temp_list_node\n",
        "    list_to_return[level+1] = temp_list_value\n",
        "    level +=1 \n",
        "\n",
        "  if nodes_or_values == 1:\n",
        "    return list_to_return[:-1]\n",
        "  else:\n",
        "    return list_nodes[:-1]\n",
        "\n",
        "## ------------------------------------------------------------##\n",
        "\n"
      ],
      "execution_count": null,
      "outputs": []
    },
    {
      "cell_type": "code",
      "metadata": {
        "id": "1G_47BJjGrDf"
      },
      "source": [
        "## ------------------------------------------------------------##\n",
        "\n",
        "def insert_in_tree(rootNode,value):\n",
        "  list_nodes = level_order_traversal(rootNode,0)\n",
        "  node_to_insert = Binary_Tree(value)\n",
        "  missing = 0\n",
        "\n",
        "  for i in range(len(list_nodes)):\n",
        "    a = i\n",
        "    if len(list_nodes[i]) != 2**i:\n",
        "      missing = 1\n",
        "      break\n",
        "    \n",
        "  if missing == 1:\n",
        "    list_to_check = list_nodes[a-1]\n",
        "    for node in list_to_check:\n",
        "      if node.prev_child == None:\n",
        "        node.prev_child = node_to_insert\n",
        "        break\n",
        "      if node.next_child == None:\n",
        "        node.next_child = node_to_insert\n",
        "        break\n",
        "  \n",
        "  else:\n",
        "    list_nodes[a][0].prev_child = node_to_insert\n",
        "\n",
        "## ------------------------------------------------------------##\n",
        "\n",
        "def delete_node_from_tree(tree,nodeValue):\n",
        "  tree_values = level_order_traversal(tree)\n",
        "  tree_nodes = level_order_traversal(tree,0)\n",
        "\n",
        "  val_to_remove = tree_values[-1][-1]\n",
        "\n",
        "  tree_values_new = list(np.concatenate(tree_values))\n",
        "  tree_nodes_new = list(np.concatenate(tree_nodes))\n",
        "  print(tree_nodes)\n",
        "\n",
        "  index_to_remove = tree_values_new.index(nodeValue)\n",
        "  tree_nodes_new[index_to_remove].value = val_to_remove\n",
        "\n",
        "  for node in tree_nodes[-2]:\n",
        "    if node.prev_child != None:\n",
        "      if node.prev_child.value == val_to_remove:\n",
        "        node.prev_child = None\n",
        "        break\n",
        "    if node.next_child != None:\n",
        "      if node.next_child.value == val_to_remove:\n",
        "        node.next_child = None\n",
        "        break\n",
        "\n",
        "## ------------------------------------------------------------##\n",
        "\n",
        "def delete_entire_tree(rootNode):\n",
        "  if rootNode == None:\n",
        "    return \n",
        "  else:\n",
        "    rootNode.value = None\n",
        "    rootNode.prev_child = None\n",
        "    rootNode.next_child = None\n",
        "\n",
        "## ------------------------------------------------------------##\n"
      ],
      "execution_count": null,
      "outputs": []
    },
    {
      "cell_type": "code",
      "metadata": {
        "id": "qWKjsHCaKxbD"
      },
      "source": [
        "tree = Binary_Tree('Drinks')\n",
        "hot = Binary_Tree('Hot')\n",
        "cold = Binary_Tree('Cold')\n",
        "tea = Binary_Tree('Tea')\n",
        "coffee = Binary_Tree('Coffee')\n",
        "pepsi = Binary_Tree('Pepsi')\n",
        "coke = Binary_Tree('Coke')\n",
        "diet = Binary_Tree('Diet')\n",
        "zero = Binary_Tree('Zero')\n",
        "red = Binary_Tree('Red')\n",
        "\n",
        "tree.prev_child = hot\n",
        "tree.next_child = cold\n",
        "\n",
        "hot.prev_child = tea\n",
        "hot.next_child = coffee\n",
        "\n",
        "cold.prev_child = pepsi\n",
        "cold.next_child = coke\n",
        "\n",
        "pepsi.prev_child = diet\n",
        "pepsi.next_child = zero\n",
        "\n",
        "tea.prev_child = red"
      ],
      "execution_count": null,
      "outputs": []
    },
    {
      "cell_type": "code",
      "metadata": {
        "colab": {
          "base_uri": "https://localhost:8080/"
        },
        "id": "m3rsOCLEXd8s",
        "outputId": "89758b37-0d3b-47f8-e531-9119d20dfde5"
      },
      "source": [
        "pre_order_traversal(tree)"
      ],
      "execution_count": null,
      "outputs": [
        {
          "output_type": "stream",
          "text": [
            "Drinks\n",
            "Hot\n",
            "Tea\n",
            "Red\n",
            "Coffee\n",
            "Cold\n",
            "Pepsi\n",
            "Diet\n",
            "Zero\n",
            "Coke\n"
          ],
          "name": "stdout"
        }
      ]
    },
    {
      "cell_type": "code",
      "metadata": {
        "colab": {
          "base_uri": "https://localhost:8080/"
        },
        "id": "1Ts9OPH4dDNo",
        "outputId": "c7a5f7aa-d73b-4f8a-ed4a-23d7c62b599d"
      },
      "source": [
        "in_order_traversal(tree)"
      ],
      "execution_count": null,
      "outputs": [
        {
          "output_type": "stream",
          "text": [
            "Red\n",
            "Tea\n",
            "Hot\n",
            "Coffee\n",
            "Drinks\n",
            "Diet\n",
            "Pepsi\n",
            "Zero\n",
            "Cold\n",
            "Coke\n"
          ],
          "name": "stdout"
        }
      ]
    },
    {
      "cell_type": "code",
      "metadata": {
        "colab": {
          "base_uri": "https://localhost:8080/"
        },
        "id": "qvu8HIA6hNHX",
        "outputId": "bf7a389a-8057-4939-cce5-26b248358e21"
      },
      "source": [
        "post_order_traversal(tree)"
      ],
      "execution_count": null,
      "outputs": [
        {
          "output_type": "stream",
          "text": [
            "Red\n",
            "Tea\n",
            "Coffee\n",
            "Hot\n",
            "Diet\n",
            "Zero\n",
            "Pepsi\n",
            "Coke\n",
            "Cold\n",
            "Drinks\n"
          ],
          "name": "stdout"
        }
      ]
    },
    {
      "cell_type": "code",
      "metadata": {
        "colab": {
          "base_uri": "https://localhost:8080/"
        },
        "id": "lz3_w0QiN1O2",
        "outputId": "b8e92ed7-c15a-4280-8c7d-3dabd22fb4d3"
      },
      "source": [
        "level_order_traversal(tree)"
      ],
      "execution_count": null,
      "outputs": [
        {
          "output_type": "execute_result",
          "data": {
            "text/plain": [
              "[['Drinks'],\n",
              " ['Hot', 'Cold'],\n",
              " ['Tea', 'Coffee', 'Pepsi', 'Coke'],\n",
              " ['Red', 'Diet', 'Zero']]"
            ]
          },
          "metadata": {
            "tags": []
          },
          "execution_count": 9
        }
      ]
    },
    {
      "cell_type": "code",
      "metadata": {
        "id": "E_vHMEFcPlGL"
      },
      "source": [
        "insert_in_tree(tree, 'Green')"
      ],
      "execution_count": null,
      "outputs": []
    },
    {
      "cell_type": "code",
      "metadata": {
        "colab": {
          "base_uri": "https://localhost:8080/"
        },
        "id": "lgDFa4p-PqRx",
        "outputId": "58294aca-33ae-42f4-c2ce-35b70ebe7935"
      },
      "source": [
        "level_order_traversal(tree)"
      ],
      "execution_count": null,
      "outputs": [
        {
          "output_type": "execute_result",
          "data": {
            "text/plain": [
              "[['Drinks'],\n",
              " ['Hot', 'Cold'],\n",
              " ['Tea', 'Coffee', 'Pepsi', 'Coke'],\n",
              " ['Red', 'Green', 'Diet', 'Zero']]"
            ]
          },
          "metadata": {
            "tags": []
          },
          "execution_count": 11
        }
      ]
    },
    {
      "cell_type": "code",
      "metadata": {
        "colab": {
          "base_uri": "https://localhost:8080/"
        },
        "id": "et9BFB97n9D7",
        "outputId": "3a320fcd-f43d-4865-f407-99a37865cee1"
      },
      "source": [
        "delete_node_from_tree(tree,'Coke')"
      ],
      "execution_count": null,
      "outputs": [
        {
          "output_type": "stream",
          "text": [
            "[[<__main__.Binary_Tree object at 0x7f2da86b3710>], [<__main__.Binary_Tree object at 0x7f2da86b36d0>, <__main__.Binary_Tree object at 0x7f2da86b3750>], [<__main__.Binary_Tree object at 0x7f2da86b3790>, <__main__.Binary_Tree object at 0x7f2da86b37d0>, <__main__.Binary_Tree object at 0x7f2da86b3810>, <__main__.Binary_Tree object at 0x7f2da86b3850>], [<__main__.Binary_Tree object at 0x7f2da86b3910>, <__main__.Binary_Tree object at 0x7f2da869b490>, <__main__.Binary_Tree object at 0x7f2da86b3890>, <__main__.Binary_Tree object at 0x7f2da86b38d0>]]\n"
          ],
          "name": "stdout"
        }
      ]
    },
    {
      "cell_type": "code",
      "metadata": {
        "id": "ft3cKslXpK56",
        "colab": {
          "base_uri": "https://localhost:8080/"
        },
        "outputId": "2f408a25-d224-4784-dff3-14e6ac85741d"
      },
      "source": [
        "level_order_traversal(tree)"
      ],
      "execution_count": null,
      "outputs": [
        {
          "output_type": "execute_result",
          "data": {
            "text/plain": [
              "[['Drinks'],\n",
              " ['Hot', 'Cold'],\n",
              " ['Tea', 'Coffee', 'Pepsi', 'Zero'],\n",
              " ['Red', 'Green', 'Diet']]"
            ]
          },
          "metadata": {
            "tags": []
          },
          "execution_count": 13
        }
      ]
    },
    {
      "cell_type": "code",
      "metadata": {
        "id": "wHymnNfFH0sl"
      },
      "source": [
        "delete_entire_tree(tree)"
      ],
      "execution_count": null,
      "outputs": []
    },
    {
      "cell_type": "code",
      "metadata": {
        "colab": {
          "base_uri": "https://localhost:8080/"
        },
        "id": "MmIQEGyRH2-n",
        "outputId": "ae00d166-bad6-485d-fa4d-0b6ba309598e"
      },
      "source": [
        "level_order_traversal(tree)"
      ],
      "execution_count": null,
      "outputs": [
        {
          "output_type": "execute_result",
          "data": {
            "text/plain": [
              "[[None]]"
            ]
          },
          "metadata": {
            "tags": []
          },
          "execution_count": 15
        }
      ]
    },
    {
      "cell_type": "markdown",
      "metadata": {
        "id": "dqMcGkldp3Nd"
      },
      "source": [
        "## Tree using Lists"
      ]
    },
    {
      "cell_type": "code",
      "metadata": {
        "id": "oMAyeX-Ip4wM"
      },
      "source": [
        "class Binary_Tree_List():\n",
        "  def __init__(self, max_size):\n",
        "    self.tree = max_size * [None]\n",
        "    self.last_index = 0\n",
        "    self.size = max_size\n",
        "  \n",
        "  def insert_in_tree(self,value):\n",
        "    if self.last_index == self.size - 1:\n",
        "      print('Tree is already full')\n",
        "    else:\n",
        "      self.tree[self.last_index + 1] = value\n",
        "      self.last_index += 1\n",
        "  \n",
        "  def search_in_tree(self,node_value):\n",
        "    for i,value in enumerate(self.tree):\n",
        "      if value == node_value:\n",
        "        message = 'Present at position ' + str(i)\n",
        "        return message\n",
        "    return 'Not Present'\n",
        "  \n",
        "  def pre_order_traversal(self, index):\n",
        "    if index >= self.size:\n",
        "      return \n",
        "    else:\n",
        "      if self.tree[index] != None:\n",
        "        print(self.tree[index])\n",
        "      self.pre_order_traversal(2*index)\n",
        "      self.pre_order_traversal(2*index + 1)\n",
        "  \n",
        "  def in_order_traversal(self, index):\n",
        "    if index >= self.size:\n",
        "      return \n",
        "    else:\n",
        "      self.in_order_traversal(2*index)\n",
        "      print(self.tree[index])\n",
        "      self.in_order_traversal(2*index + 1)\n",
        "\n",
        "  def post_order_traversal(self, index):\n",
        "    if index >= self.size:\n",
        "      return \n",
        "    else:\n",
        "      self.post_order_traversal(2*index)\n",
        "      self.post_order_traversal(2*index + 1)\n",
        "      print(self.tree[index])\n",
        "  \n",
        "  def level_order_traversal(self):\n",
        "    level = 0\n",
        "    list_to_return = []\n",
        "    list_indices = []\n",
        "    list_to_return.append([self.tree[0]])\n",
        "    list_indices.append([0])\n",
        "    \n",
        "    while list_to_return[level] != []:\n",
        "      temp_list = []\n",
        "      temp_indices = []\n",
        "\n",
        "      for value in list_indices[level]:\n",
        "        if 2*value < self.size:\n",
        "          if self.tree[2*value] != None:\n",
        "            temp_list.append(self.tree[2*value])\n",
        "            temp_indices.append(2*value)\n",
        "\n",
        "        if 2*value + 1 < self.size:\n",
        "          if self.tree[(2*value) + 1] != None:\n",
        "            temp_list.append(self.tree[(2*value) + 1])\n",
        "            temp_indices.append((2*value)+1)\n",
        "\n",
        "      list_to_return.append(temp_list)\n",
        "      list_indices.append(temp_indices)\n",
        "      level += 1\n",
        "    \n",
        "    return list_to_return[1:-1]\n",
        "\n",
        "  def delete_from_tree(self,node_value):\n",
        "    index = None\n",
        "    last_value = self.tree[self.last_index]\n",
        "    for i,value in enumerate(self.tree):\n",
        "      if value == node_value:\n",
        "        index = i\n",
        "        break\n",
        "    if index == None:\n",
        "      print('The value is not present in the Tree')\n",
        "    else:\n",
        "      self.tree[index] = last_value\n",
        "      self.tree[self.last_index] = None\n",
        "      self.last_index -= 1\n",
        "  \n",
        "  def delete_full_tree(self):\n",
        "    self.tree = self.size * [None]\n",
        "    self.last_index = 0\n",
        "\n"
      ],
      "execution_count": null,
      "outputs": []
    },
    {
      "cell_type": "code",
      "metadata": {
        "id": "mBaJacTkIO3i"
      },
      "source": [
        "tree = Binary_Tree_List(16)"
      ],
      "execution_count": null,
      "outputs": []
    },
    {
      "cell_type": "code",
      "metadata": {
        "id": "U8uwMwvwIRCQ"
      },
      "source": [
        "tree.insert_in_tree('Drinks')\n",
        "tree.insert_in_tree('Hot')\n",
        "tree.insert_in_tree('Cold')\n",
        "tree.insert_in_tree('Tea')\n",
        "tree.insert_in_tree('Coffee')\n",
        "tree.insert_in_tree('Pepsi')\n",
        "tree.insert_in_tree('Coke')\n",
        "\n",
        "tree.insert_in_tree('Green')\n",
        "tree.insert_in_tree('Black')\n",
        "tree.insert_in_tree('Espresso')\n",
        "tree.insert_in_tree('Cappuccino')\n",
        "tree.insert_in_tree('Can')\n",
        "tree.insert_in_tree('Bottle')\n",
        "tree.insert_in_tree('Glass Bottle')\n",
        "tree.insert_in_tree('Red Can')"
      ],
      "execution_count": null,
      "outputs": []
    },
    {
      "cell_type": "code",
      "metadata": {
        "colab": {
          "base_uri": "https://localhost:8080/"
        },
        "id": "X5ecM1d8KwnW",
        "outputId": "90625922-cd3a-4afc-da75-e7f16c5b3286"
      },
      "source": [
        "tree.tree"
      ],
      "execution_count": null,
      "outputs": [
        {
          "output_type": "execute_result",
          "data": {
            "text/plain": [
              "[None,\n",
              " 'Drinks',\n",
              " 'Hot',\n",
              " 'Cold',\n",
              " 'Tea',\n",
              " 'Coffee',\n",
              " 'Pepsi',\n",
              " 'Coke',\n",
              " 'Green',\n",
              " 'Black',\n",
              " 'Espresso',\n",
              " 'Cappuccino',\n",
              " 'Can',\n",
              " 'Bottle',\n",
              " 'Glass Bottle',\n",
              " 'Red Can']"
            ]
          },
          "metadata": {
            "tags": []
          },
          "execution_count": 213
        }
      ]
    },
    {
      "cell_type": "code",
      "metadata": {
        "colab": {
          "base_uri": "https://localhost:8080/"
        },
        "id": "7BX1cw1HLtCp",
        "outputId": "eac57c46-e6ac-4ea4-c0ec-fad47c20a2e4"
      },
      "source": [
        "tree.level_order_traversal()"
      ],
      "execution_count": null,
      "outputs": [
        {
          "output_type": "execute_result",
          "data": {
            "text/plain": [
              "[['Drinks'],\n",
              " ['Hot', 'Cold'],\n",
              " ['Tea', 'Coffee', 'Pepsi', 'Coke'],\n",
              " ['Green',\n",
              "  'Black',\n",
              "  'Espresso',\n",
              "  'Cappuccino',\n",
              "  'Can',\n",
              "  'Bottle',\n",
              "  'Glass Bottle',\n",
              "  'Red Can']]"
            ]
          },
          "metadata": {
            "tags": []
          },
          "execution_count": 214
        }
      ]
    },
    {
      "cell_type": "code",
      "metadata": {
        "id": "5q0QnqWqQnja"
      },
      "source": [
        "tree.delete_from_tree('Coffee')"
      ],
      "execution_count": null,
      "outputs": []
    },
    {
      "cell_type": "code",
      "metadata": {
        "colab": {
          "base_uri": "https://localhost:8080/"
        },
        "id": "GNxs7fM6aYqP",
        "outputId": "7d1eada1-05d5-4df4-c935-410db9406197"
      },
      "source": [
        "tree.level_order_traversal()"
      ],
      "execution_count": null,
      "outputs": [
        {
          "output_type": "execute_result",
          "data": {
            "text/plain": [
              "[['Drinks'],\n",
              " ['Hot', 'Cold'],\n",
              " ['Tea', 'Red Can', 'Pepsi', 'Coke'],\n",
              " ['Green', 'Black', 'Espresso', 'Cappuccino', 'Can', 'Bottle', 'Glass Bottle']]"
            ]
          },
          "metadata": {
            "tags": []
          },
          "execution_count": 216
        }
      ]
    },
    {
      "cell_type": "code",
      "metadata": {
        "id": "Th2k-ZTNeezm"
      },
      "source": [
        "tree.delete_full_tree()"
      ],
      "execution_count": null,
      "outputs": []
    },
    {
      "cell_type": "code",
      "metadata": {
        "colab": {
          "base_uri": "https://localhost:8080/"
        },
        "id": "4sl9CajvesjC",
        "outputId": "0c8a6ad6-49ce-41de-98bd-9c4b5305e61e"
      },
      "source": [
        "tree.level_order_traversal()"
      ],
      "execution_count": null,
      "outputs": [
        {
          "output_type": "execute_result",
          "data": {
            "text/plain": [
              "[]"
            ]
          },
          "metadata": {
            "tags": []
          },
          "execution_count": 218
        }
      ]
    },
    {
      "cell_type": "markdown",
      "metadata": {
        "id": "LTthkebwAO96"
      },
      "source": [
        "## Binary Search Tree"
      ]
    },
    {
      "cell_type": "code",
      "metadata": {
        "id": "1zye-4fnARSI"
      },
      "source": [
        "class Binary_Search_Tree():\n",
        "  def __init__(self,value = None):\n",
        "    self.value = value\n",
        "    self.left_child = None\n",
        "    self.right_child = None"
      ],
      "execution_count": 178,
      "outputs": []
    },
    {
      "cell_type": "code",
      "metadata": {
        "id": "JuIzkUvoBIMn"
      },
      "source": [
        "def insert_in_binary_search_tree(rootNode, new_value):\n",
        "  if rootNode.value == None:\n",
        "    rootNode.value = new_value\n",
        "\n",
        "  elif new_value <= rootNode.value:\n",
        "    if rootNode.left_child == None:\n",
        "      rootNode.left_child = Binary_Search_Tree(new_value)\n",
        "    else:\n",
        "      insert_in_binary_search_tree(rootNode.left_child, new_value)\n",
        "  else:\n",
        "    if rootNode.right_child == None:\n",
        "      rootNode.right_child = Binary_Search_Tree(new_value)\n",
        "    else:\n",
        "      insert_in_binary_search_tree(rootNode.right_child, new_value)"
      ],
      "execution_count": 182,
      "outputs": []
    },
    {
      "cell_type": "code",
      "metadata": {
        "id": "svQqRzACGXat"
      },
      "source": [
        "tree = Binary_Search_Tree(50)"
      ],
      "execution_count": 183,
      "outputs": []
    },
    {
      "cell_type": "code",
      "metadata": {
        "id": "9Y9nlMbUGa5C"
      },
      "source": [
        "insert_in_binary_search_tree(tree,10)"
      ],
      "execution_count": 184,
      "outputs": []
    },
    {
      "cell_type": "code",
      "metadata": {
        "colab": {
          "base_uri": "https://localhost:8080/"
        },
        "id": "BAqBj8F_H5BB",
        "outputId": "202a8ba7-85c9-4d8c-e63e-ad68115fdef3"
      },
      "source": [
        "tree.left_child"
      ],
      "execution_count": 185,
      "outputs": [
        {
          "output_type": "execute_result",
          "data": {
            "text/plain": [
              "<__main__.Binary_Search_Tree at 0x7f26b86ff2d0>"
            ]
          },
          "metadata": {
            "tags": []
          },
          "execution_count": 185
        }
      ]
    },
    {
      "cell_type": "code",
      "metadata": {
        "id": "N1SEEug5H8nA"
      },
      "source": [
        ""
      ],
      "execution_count": null,
      "outputs": []
    }
  ]
}
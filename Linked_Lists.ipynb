{
  "nbformat": 4,
  "nbformat_minor": 0,
  "metadata": {
    "colab": {
      "name": "Linked_Lists.ipynb",
      "provenance": [],
      "authorship_tag": "ABX9TyMmXfmnWDlM6balcMMM17ut",
      "include_colab_link": true
    },
    "kernelspec": {
      "name": "python3",
      "display_name": "Python 3"
    },
    "language_info": {
      "name": "python"
    }
  },
  "cells": [
    {
      "cell_type": "markdown",
      "metadata": {
        "id": "view-in-github",
        "colab_type": "text"
      },
      "source": [
        "<a href=\"https://colab.research.google.com/github/bgohrani/DS_Algo/blob/main/Linked_Lists.ipynb\" target=\"_parent\"><img src=\"https://colab.research.google.com/assets/colab-badge.svg\" alt=\"Open In Colab\"/></a>"
      ]
    },
    {
      "cell_type": "code",
      "metadata": {
        "id": "U2yGwSCJkOv7"
      },
      "source": [
        "import numpy as np\n",
        "import pandas as pd\n",
        "import math\n",
        "\n",
        "#importing essential libraries"
      ],
      "execution_count": null,
      "outputs": []
    },
    {
      "cell_type": "markdown",
      "metadata": {
        "id": "ka3_OzdDfwV5"
      },
      "source": [
        "# 3. Linked List\n",
        "\n",
        "Data structure that is not contiguous in memory, with nodes linked to one another."
      ]
    },
    {
      "cell_type": "markdown",
      "metadata": {
        "id": "p9erqoixvGh_"
      },
      "source": [
        "## Single Linked List"
      ]
    },
    {
      "cell_type": "code",
      "metadata": {
        "id": "w0gWrlbefyHM"
      },
      "source": [
        "class SingleLinkedList():  ## Initializing class for Single Linked List\n",
        "  def __init__(self):\n",
        "    self.head = None \n",
        "    self.tail = None\n",
        "  \n",
        "  def __iter__(self): ## Default iterating function, to print out elements of the list\n",
        "    node = self.head\n",
        "    while node != None:\n",
        "      yield node \n",
        "      node = node.next\n",
        "  \n",
        "  def insert_in_list(self,value,location): ## Function to insert a value in list\n",
        "    new_node = Node(value)\n",
        "    if self.head == None:  ## If the list is empty\n",
        "      self.head = new_node\n",
        "      self.tail = new_node\n",
        "    elif location == 0: ## If we want to insert node at the beginning\n",
        "      current_first = self.head\n",
        "      self.head = new_node\n",
        "      new_node.next = current_first\n",
        "    elif location == 1: ## If we want to insert node at the end\n",
        "      current_last = self.tail\n",
        "      current_last.next = new_node\n",
        "      self.tail = new_node\n",
        "    else: ## If we want to insert at any other position in the middle\n",
        "      node_prev = self.head\n",
        "      for i in range(0,location-1,1):\n",
        "        node_prev = node_prev.next\n",
        "      node_after = node_prev.next\n",
        "      node_prev.next = new_node\n",
        "      new_node.next = node_after\n",
        "  \n",
        "  def search_in_list(self,value): ## Check whether an element in present or not\n",
        "    if self.head == None:\n",
        "      print('List is empty')\n",
        "    else:\n",
        "      ref_node = self.head\n",
        "      while ref_node != None:\n",
        "        check = ref_node.value\n",
        "        if value == check:\n",
        "          return 'Present in list'\n",
        "          break\n",
        "        ref_node = ref_node.next\n",
        "    \n",
        "    return 'Not present'\n",
        "  \n",
        "  def delete_from_list(self,location):\n",
        "    if self.head == None:\n",
        "      print('Not possible, list is empty')\n",
        "    elif location == 0:\n",
        "      if self.head.next == None:\n",
        "        self.head = None\n",
        "        self.tail = None\n",
        "      else:\n",
        "        self.head = self.head.next\n",
        "    elif location == 1:\n",
        "      if self.head.next == None:\n",
        "        self.head = None\n",
        "        self.tail = None\n",
        "      else:\n",
        "        node = self.head\n",
        "        while node != None:\n",
        "          if node.next == self.tail:\n",
        "            break\n",
        "          else:\n",
        "            node = node.next\n",
        "        node.next = None\n",
        "        self.tail = node\n",
        "    else:\n",
        "      node = self.head\n",
        "      for i in range(0,location - 2):\n",
        "        node = node.next\n",
        "      node.next = node.next.next\n",
        "\n"
      ],
      "execution_count": null,
      "outputs": []
    },
    {
      "cell_type": "code",
      "metadata": {
        "id": "QTpe6Dtef59k"
      },
      "source": [
        "class Node(): ## Class for creating node\n",
        "  def __init__(self,value=None):\n",
        "    self.value = value\n",
        "    self.next = None"
      ],
      "execution_count": null,
      "outputs": []
    },
    {
      "cell_type": "code",
      "metadata": {
        "id": "jK5p_7l3gHcq"
      },
      "source": [
        "l1 = SingleLinkedList()\n",
        "node1 = Node(1)\n",
        "l1.head = node1\n",
        "node2 = Node(2)\n",
        "l1.head.next = node2\n",
        "l1.tail = node2"
      ],
      "execution_count": null,
      "outputs": []
    },
    {
      "cell_type": "code",
      "metadata": {
        "id": "x5COWV0zEpo4",
        "colab": {
          "base_uri": "https://localhost:8080/"
        },
        "outputId": "74473ffd-e305-42c1-9ee3-1a7df429e45f"
      },
      "source": [
        "l1.insert_in_list(12,0)\n",
        "l1.insert_in_list(4,1)\n",
        "l1.insert_in_list(5,2)\n",
        "for node in l1:\n",
        "  print(node.value)\n",
        "l1.delete_from_list(3)\n",
        "for node in l1:\n",
        "  print(node.value)"
      ],
      "execution_count": null,
      "outputs": [
        {
          "output_type": "stream",
          "text": [
            "12\n",
            "1\n",
            "5\n",
            "2\n",
            "4\n",
            "12\n",
            "1\n",
            "2\n",
            "4\n"
          ],
          "name": "stdout"
        }
      ]
    },
    {
      "cell_type": "markdown",
      "metadata": {
        "id": "bL4MHi7OvI2Q"
      },
      "source": [
        "## Circular Single Linked List"
      ]
    },
    {
      "cell_type": "code",
      "metadata": {
        "id": "jRGV5_VdZ24p"
      },
      "source": [
        "class Circular_Single_Linked_List():  ## Initializing class for Single Linked List\n",
        "  def __init__(self):\n",
        "    self.head = None \n",
        "    self.tail = None\n",
        "  \n",
        "  def __iter__(self): ## Default iterating function, to print out elements of the list\n",
        "    node = self.head\n",
        "    while node != None:\n",
        "      yield node \n",
        "      if node.next == self.tail.next:\n",
        "        break\n",
        "      node = node.next\n",
        "\n",
        "  \n",
        "  def create_C_SLL(self,value):\n",
        "    new_node = Node(value)\n",
        "    self.head = new_node\n",
        "    self.tail = new_node\n",
        "    self.tail.next = new_node\n",
        "\n",
        "\n",
        "\n",
        "  def insert_in_list(self,value,location): ## Function to insert a value in list\n",
        "    new_node = Node(value)\n",
        "    if self.head == None:  ## If the list is empty\n",
        "      self.head = new_node\n",
        "      self.tail = new_node\n",
        "      self.tail.next = new_node\n",
        "    elif location == 0: ## If we want to insert node at the beginning\n",
        "      new_node.next = self.head\n",
        "      self.head = new_node\n",
        "      self.tail.next = new_node\n",
        "    elif location == 1: ## If we want to insert node at the end\n",
        "      new_node.next = self.tail.next\n",
        "      self.tail.next = new_node\n",
        "      self.tail = new_node\n",
        "    else: ## If we want to insert at any other position in the middle\n",
        "      node_prev = self.head\n",
        "      for i in range(0,location-2,1):\n",
        "        node_prev = node_prev.next\n",
        "      node_after = node_prev.next\n",
        "      node_prev.next = new_node\n",
        "      new_node.next = node_after\n",
        "  \n",
        "  def search_in_list(self,value): ## Check whether an element in present or not\n",
        "    if self.head == None:\n",
        "      print('List is empty')\n",
        "    else:\n",
        "      node = self.head\n",
        "      while node != None:\n",
        "        check = node.value\n",
        "        if value == check:\n",
        "          return 'Present in list'\n",
        "          break\n",
        "        if node.next == self.tail.next:\n",
        "          break\n",
        "        node = node.next\n",
        "    \n",
        "    return 'Not present'\n",
        "  \n",
        "  def delete_from_list(self,location):  ## Yet to modify\n",
        "    if self.head == None:\n",
        "      print('Not possible, list is empty')\n",
        "    elif location == 0:\n",
        "      if self.head.next == self.head:\n",
        "        self.head.next = None\n",
        "        self.head = None\n",
        "        self.tail = None\n",
        "      else:\n",
        "        self.tail.next = self.head.next\n",
        "        self.head = self.head.next\n",
        "    elif location == 1:\n",
        "      if self.head.next == self.head:\n",
        "        self.head.next = None\n",
        "        self.head = None\n",
        "        self.tail = None\n",
        "      else:\n",
        "        node = self.head\n",
        "        while node != None:\n",
        "          if node.next == self.tail:\n",
        "            break\n",
        "          node = node.next\n",
        "        node.next = self.tail.next\n",
        "        self.tail = node\n",
        "    else:\n",
        "      node = self.head\n",
        "      for i in range(0,location - 2):\n",
        "        node = node.next\n",
        "      node.next = node.next.next\n",
        "  \n",
        "  def traverse(self):\n",
        "    if self.head == None:\n",
        "      print('List is empty')\n",
        "    else:\n",
        "      node = self.head\n",
        "      while node != None:\n",
        "        print(node.value)\n",
        "        if node.next == self.tail.next:\n",
        "          break\n",
        "        else:\n",
        "          node = node.next\n",
        "  \n",
        "  def delete_whole_list(self):\n",
        "    if self.head == None:\n",
        "      print('Already Empty')\n",
        "    else:\n",
        "      self.head = None\n",
        "      self.tail.next = None\n",
        "      self.tail = None"
      ],
      "execution_count": null,
      "outputs": []
    },
    {
      "cell_type": "code",
      "metadata": {
        "id": "BrJhwOswyF0R"
      },
      "source": [
        "csll = Circular_Single_Linked_List()\n",
        "csll.insert_in_list(4,0)\n",
        "csll.insert_in_list(5,1)\n",
        "csll.insert_in_list(7,2)\n",
        "csll.insert_in_list(8,3)\n",
        "csll.insert_in_list(25,1)"
      ],
      "execution_count": null,
      "outputs": []
    },
    {
      "cell_type": "code",
      "metadata": {
        "colab": {
          "base_uri": "https://localhost:8080/"
        },
        "id": "NLhQdClJyMMD",
        "outputId": "e87f12af-50ae-4a77-d25b-67a9731dbbd9"
      },
      "source": [
        "csll.traverse()"
      ],
      "execution_count": null,
      "outputs": [
        {
          "output_type": "stream",
          "text": [
            "4\n",
            "7\n",
            "8\n",
            "5\n",
            "25\n"
          ],
          "name": "stdout"
        }
      ]
    },
    {
      "cell_type": "code",
      "metadata": {
        "colab": {
          "base_uri": "https://localhost:8080/"
        },
        "id": "2Rt7mhaLzyHr",
        "outputId": "c74f8355-10c7-45a6-827d-2d7ec6419002"
      },
      "source": [
        "csll.delete_from_list(0)\n",
        "csll.traverse()"
      ],
      "execution_count": null,
      "outputs": [
        {
          "output_type": "stream",
          "text": [
            "7\n",
            "8\n",
            "5\n",
            "25\n"
          ],
          "name": "stdout"
        }
      ]
    },
    {
      "cell_type": "code",
      "metadata": {
        "id": "Bw-hteGnYMDT",
        "colab": {
          "base_uri": "https://localhost:8080/"
        },
        "outputId": "88b0ff9d-ac35-423a-da3a-cbdf93970d02"
      },
      "source": [
        "csll.tail.next.value"
      ],
      "execution_count": null,
      "outputs": [
        {
          "output_type": "execute_result",
          "data": {
            "text/plain": [
              "7"
            ]
          },
          "metadata": {
            "tags": []
          },
          "execution_count": 107
        }
      ]
    },
    {
      "cell_type": "markdown",
      "metadata": {
        "id": "RE0TDQr6BwiL"
      },
      "source": [
        "## Double Linked List"
      ]
    },
    {
      "cell_type": "code",
      "metadata": {
        "id": "piFlKXo2j8z_"
      },
      "source": [
        "class DNode():\n",
        "  def __init__(self,value = None):\n",
        "    self.value = value\n",
        "    self.next  = None\n",
        "    self.prev = None"
      ],
      "execution_count": null,
      "outputs": []
    },
    {
      "cell_type": "code",
      "metadata": {
        "id": "uoqimvGdCBY0"
      },
      "source": [
        "class Double_Linked_List():\n",
        "  def __init__(self): \n",
        "    self.head = None\n",
        "    self.tail = None\n",
        "  \n",
        "  def __iter__(self):\n",
        "    if self.head == None:\n",
        "      print('List is empty')\n",
        "    else:\n",
        "      node = self.head \n",
        "      while node != None:\n",
        "        yield node\n",
        "        node = node.next\n",
        "  \n",
        "  def insert_in_list(self,value,location): ## Function to insert a value in list\n",
        "    new_node = DNode(value)\n",
        "    if self.head == None:  ## If the list is empty\n",
        "      self.head = new_node\n",
        "      self.tail = new_node      \n",
        "    elif location == 0: ## If we want to insert node at the beginning\n",
        "      current_first = self.head\n",
        "      current_first.prev = new_node\n",
        "      new_node.next = current_first\n",
        "      self.head = new_node\n",
        "    elif location == 1: ## If we want to insert node at the end\n",
        "      current_last = self.tail\n",
        "      current_last.next = new_node\n",
        "      new_node.prev = current_last\n",
        "      self.tail = new_node\n",
        "    else: ## If we want to insert at any other position in the middle\n",
        "      node = self.head\n",
        "      for i in range(0,location-2,1):\n",
        "        node = node.next\n",
        "      node_after = node.next\n",
        "      node.next = new_node\n",
        "      new_node.prev = node\n",
        "      new_node.next = node_after\n",
        "      node_after.prev = new_node\n",
        "  \n",
        "  def traverse(self,direction = 0):\n",
        "    if self.head == None:\n",
        "      print('List is empty')\n",
        "    else:\n",
        "      if direction == 0:\n",
        "        node = self.head\n",
        "      else:\n",
        "        node = self.tail\n",
        "      while node != None:\n",
        "        print(node.value)\n",
        "        if direction == 0:\n",
        "          node = node.next\n",
        "        else:\n",
        "          if node == self.head:\n",
        "            break\n",
        "          node = node.prev\n",
        "\n",
        "  def search_in_list(self,value): ## Check whether an element in present or not\n",
        "    if self.head == None:\n",
        "      print('List is empty')\n",
        "    else:\n",
        "      node = self.head\n",
        "      while node != None:\n",
        "        check = node.value\n",
        "        if value == check:\n",
        "          return 'Present in list'\n",
        "          break\n",
        "        node = node.next\n",
        "    \n",
        "    return 'Not present'\n",
        "\n",
        "  def delete_from_list(self,location):  ## Yet to modify\n",
        "    if self.head == None:\n",
        "      print('Not possible, list is empty')\n",
        "    elif location == 0:\n",
        "      if self.head.next == None:\n",
        "        self.head = None\n",
        "        self.tail = None\n",
        "      else:\n",
        "        current_first = self.head\n",
        "        self.head = current_first.next\n",
        "        current_first.next = None\n",
        "        self.head.prev = None\n",
        "    elif location == 1:\n",
        "      if self.head.next == None:\n",
        "        self.head = None\n",
        "        self.tail = None\n",
        "      else:\n",
        "        current_last = self.tail\n",
        "        self.tail = current_last.prev\n",
        "        self.tail.next = None\n",
        "        current_last.prev = None\n",
        "    else:\n",
        "      node = self.head\n",
        "      for i in range(0,location - 2):\n",
        "        node = node.next\n",
        "      current_before = node\n",
        "      current_after = node.next.next\n",
        "      current_before.next = current_after\n",
        "      current_after.prev = current_before\n",
        "\n"
      ],
      "execution_count": null,
      "outputs": []
    },
    {
      "cell_type": "code",
      "metadata": {
        "id": "rYKJsyWkCX3p"
      },
      "source": [
        "dll = Double_Linked_List()\n",
        "node1 = DNode(2)\n",
        "dll.head = node1\n",
        "dll.tail = node1"
      ],
      "execution_count": null,
      "outputs": []
    },
    {
      "cell_type": "code",
      "metadata": {
        "colab": {
          "base_uri": "https://localhost:8080/"
        },
        "id": "ozt0dhGwChD-",
        "outputId": "02c513ce-92c7-4322-d3b3-97d301db77cf"
      },
      "source": [
        "dll.insert_in_list(3,1)\n",
        "dll.insert_in_list(4,2)\n",
        "dll.insert_in_list(7,2)\n",
        "dll.insert_in_list(9,3)\n",
        "dll.traverse(1)"
      ],
      "execution_count": null,
      "outputs": [
        {
          "output_type": "stream",
          "text": [
            "3\n",
            "4\n",
            "9\n",
            "7\n",
            "2\n"
          ],
          "name": "stdout"
        }
      ]
    },
    {
      "cell_type": "code",
      "metadata": {
        "colab": {
          "base_uri": "https://localhost:8080/"
        },
        "id": "TWjF9vTem2Dq",
        "outputId": "4c81fa81-6c1d-4f77-e522-735ac61ba3ae"
      },
      "source": [
        "dll.traverse(0)"
      ],
      "execution_count": null,
      "outputs": [
        {
          "output_type": "stream",
          "text": [
            "2\n",
            "7\n",
            "9\n",
            "4\n",
            "3\n"
          ],
          "name": "stdout"
        }
      ]
    },
    {
      "cell_type": "markdown",
      "metadata": {
        "id": "CDWCONEVKyIj"
      },
      "source": [
        "## Circular Double Linked List"
      ]
    },
    {
      "cell_type": "code",
      "metadata": {
        "id": "rkCNMzXSK0Dq"
      },
      "source": [
        "class Circular_Double_Linked_list():\n",
        "  def __init__(self):\n",
        "    self.head = None\n",
        "    self.tail = None\n",
        "  \n",
        "  def __iter__(self):\n",
        "    if self.head == None:\n",
        "      print('List is empty')\n",
        "    else:\n",
        "      node = self.head\n",
        "      while node != None:\n",
        "        yield node\n",
        "        if node.next == self.tail.next:\n",
        "          break\n",
        "        node = node.next\n",
        "  \n",
        "  def insert_in_list(self,value,location): ## Function to insert a value in list\n",
        "    new_node = DNode(value)\n",
        "    if self.head == None:  ## If the list is empty\n",
        "      self.head = new_node\n",
        "      self.tail = new_node\n",
        "      new_node.prev = new_node\n",
        "      new_node.next = new_node      \n",
        "    elif location == 0: ## If we want to insert node at the beginning\n",
        "      current_first = self.head\n",
        "      current_first.prev = new_node\n",
        "      new_node.next = current_first\n",
        "      new_node.prev = self.tail.next\n",
        "      self.tail.next = new_node\n",
        "      self.head = new_node\n",
        "    elif location == 1: ## If we want to insert node at the end\n",
        "      current_last = self.tail\n",
        "      new_node.next = self.tail.next\n",
        "      current_last.next = new_node\n",
        "      new_node.prev = current_last \n",
        "      self.head.prev = new_node\n",
        "      self.tail = new_node\n",
        "    else: ## If we want to insert at any other position in the middle\n",
        "      node = self.head\n",
        "      for i in range(0,location-2,1):\n",
        "        node = node.next\n",
        "      node_after = node.next\n",
        "      node.next = new_node\n",
        "      new_node.prev = node\n",
        "      new_node.next = node_after\n",
        "      node_after.prev = new_node\n",
        "\n",
        "\n",
        "  def traverse(self,direction = 0):\n",
        "    if self.head == None:\n",
        "      print('List is empty')\n",
        "    else:\n",
        "      if direction == 0:\n",
        "        node = self.head\n",
        "      else:\n",
        "        node = self.tail\n",
        "      while node != None:\n",
        "        print(node.value)\n",
        "        if direction == 0:\n",
        "          if node.next == self.tail.next:\n",
        "            break\n",
        "          node = node.next\n",
        "        else:\n",
        "          if node == self.tail.next:\n",
        "            break\n",
        "          node = node.prev\n",
        "\n",
        "\n",
        "  def search_in_list(self,value): ## Check whether an element in present or not\n",
        "    if self.head == None:\n",
        "      print('List is empty')\n",
        "    else:\n",
        "      node = self.head\n",
        "      while node != None:\n",
        "        check = node.value\n",
        "        if value == check:\n",
        "          return 'Present in list'\n",
        "          break\n",
        "        if node.next == self.tail.next:\n",
        "          break\n",
        "        node = node.next\n",
        "\n",
        "    return 'Not present'\n",
        "\n",
        "\n",
        "  def delete_from_list(self,location):  ## Yet to modify\n",
        "    if self.head == None:\n",
        "      print('Not possible, list is empty')\n",
        "    elif location == 0:\n",
        "      if self.head.next == self.head:\n",
        "        self.head = None\n",
        "        self.tail = None\n",
        "        self.head.next = None\n",
        "      else:\n",
        "        current_second = self.head.next\n",
        "        self.head = current_second\n",
        "        current_second.prev = self.tail\n",
        "        self.tail.next = current_second\n",
        "    elif location == 1:\n",
        "      if self.head.next == self.head:\n",
        "        self.head = None\n",
        "        self.tail = None\n",
        "        self.head.next = None\n",
        "      else:\n",
        "        current_secondlast = self.tail.prev\n",
        "        current_secondlast.next = self.tail.next\n",
        "        self.tail = current_secondlast\n",
        "    else:\n",
        "      node = self.head\n",
        "      for i in range(0,location - 2):\n",
        "        node = node.next\n",
        "      current_before = node\n",
        "      current_after = node.next.next\n",
        "      current_before.next = current_after\n",
        "      current_after.prev = current_before\n",
        "\n"
      ],
      "execution_count": null,
      "outputs": []
    },
    {
      "cell_type": "code",
      "metadata": {
        "colab": {
          "base_uri": "https://localhost:8080/"
        },
        "id": "g86eE-b7LKi0",
        "outputId": "369eb9f7-0d83-4bfa-cbfe-a6a6fda812e9"
      },
      "source": [
        "cdll = Circular_Double_Linked_list()\n",
        "cdll.insert_in_list(4,0)\n",
        "cdll.insert_in_list(6,1)\n",
        "cdll.insert_in_list(9,2)\n",
        "cdll.insert_in_list(8,1)\n",
        "cdll.insert_in_list(7,3)\n",
        "cdll.traverse()"
      ],
      "execution_count": null,
      "outputs": [
        {
          "output_type": "stream",
          "text": [
            "4\n",
            "9\n",
            "7\n",
            "6\n",
            "8\n"
          ],
          "name": "stdout"
        }
      ]
    },
    {
      "cell_type": "code",
      "metadata": {
        "colab": {
          "base_uri": "https://localhost:8080/",
          "height": 35
        },
        "id": "hWIndF3piaHC",
        "outputId": "f979c61b-3cb8-4cd0-e54c-35b8c64fedae"
      },
      "source": [
        "cdll.search_in_list(8)"
      ],
      "execution_count": null,
      "outputs": [
        {
          "output_type": "execute_result",
          "data": {
            "application/vnd.google.colaboratory.intrinsic+json": {
              "type": "string"
            },
            "text/plain": [
              "'Present in list'"
            ]
          },
          "metadata": {
            "tags": []
          },
          "execution_count": 115
        }
      ]
    },
    {
      "cell_type": "code",
      "metadata": {
        "colab": {
          "base_uri": "https://localhost:8080/"
        },
        "id": "b4LEDxpLotM_",
        "outputId": "35e070f2-71fa-47f7-f619-0bb7c31f8e3b"
      },
      "source": [
        "cdll.delete_from_list(3)\n",
        "cdll.traverse()"
      ],
      "execution_count": null,
      "outputs": [
        {
          "output_type": "stream",
          "text": [
            "4\n",
            "9\n",
            "6\n",
            "8\n"
          ],
          "name": "stdout"
        }
      ]
    },
    {
      "cell_type": "code",
      "metadata": {
        "colab": {
          "base_uri": "https://localhost:8080/"
        },
        "id": "_G-OAN7Soyhu",
        "outputId": "b6c326b7-63f7-4f51-c1a9-1d682f808df8"
      },
      "source": [
        "cdll.traverse(1)"
      ],
      "execution_count": null,
      "outputs": [
        {
          "output_type": "stream",
          "text": [
            "8\n",
            "6\n",
            "9\n",
            "4\n"
          ],
          "name": "stdout"
        }
      ]
    },
    {
      "cell_type": "markdown",
      "metadata": {
        "id": "NsFc_8yH-YpF"
      },
      "source": [
        "# Linked List Questions"
      ]
    },
    {
      "cell_type": "markdown",
      "metadata": {
        "id": "L7qsp4JA-ak9"
      },
      "source": [
        "## Class to use for solving"
      ]
    },
    {
      "cell_type": "code",
      "metadata": {
        "id": "irv_pQyK-aBa"
      },
      "source": [
        "class Node():\n",
        "  def __init__(self, value = None):\n",
        "    self.value = value\n",
        "    self.next = None\n",
        "    self.prev = None\n",
        "  \n",
        "  def __str__(self):\n",
        "    return str(self.value)"
      ],
      "execution_count": null,
      "outputs": []
    },
    {
      "cell_type": "code",
      "metadata": {
        "id": "_1hSiRxs_YKv"
      },
      "source": [
        "class LinkedList():\n",
        "  def __init__(self):\n",
        "    self.head = None\n",
        "    self.tail = None\n",
        "  \n",
        "  def __str__(self):\n",
        "    list_nodes = [str(node.value) for node in self]\n",
        "    return ' -> '.join(list_nodes)\n",
        "\n",
        "  def __iter__(self):\n",
        "    if self.head == None:\n",
        "      print('list is empty')\n",
        "    else:\n",
        "      node = self.head\n",
        "      while node != None:\n",
        "        yield node\n",
        "        node = node.next\n",
        "  \n",
        "  def __len__(self):\n",
        "    length = 0\n",
        "    node = self.head\n",
        "    while node != None:\n",
        "      length += 1\n",
        "      node = node.next\n",
        "    return length\n",
        "  \n",
        "  def insert(self,value):\n",
        "    node = Node(value)\n",
        "    if self.head == None:\n",
        "      self.head = node\n",
        "      self.tail = node\n",
        "    else:\n",
        "      self.tail.next = node\n",
        "      self.tail = node\n",
        "  \n",
        "  def generate(self,n,low,high):\n",
        "    for i in range(n):\n",
        "      num = np.random.randint(low,high)\n",
        "      self.insert(num)\n",
        "  "
      ],
      "execution_count": null,
      "outputs": []
    },
    {
      "cell_type": "markdown",
      "metadata": {
        "id": "OrMn0I0Kz3Tt"
      },
      "source": [
        "## 1. Remove Duplicate elements from a linked list"
      ]
    },
    {
      "cell_type": "code",
      "metadata": {
        "id": "pjQ6GQZqBL6m"
      },
      "source": [
        "ll = LinkedList()\n",
        "ll.insert(7)\n",
        "ll.insert(8)\n",
        "ll.insert(9)\n",
        "ll.generate(30,1,75)\n",
        "ll.insert(7)"
      ],
      "execution_count": null,
      "outputs": []
    },
    {
      "cell_type": "code",
      "metadata": {
        "colab": {
          "base_uri": "https://localhost:8080/"
        },
        "id": "XUQnqvBksYLF",
        "outputId": "51d4bdb9-f0e5-4bae-d923-ae665a704daf"
      },
      "source": [
        "print(ll)\n",
        "print(len(ll))"
      ],
      "execution_count": null,
      "outputs": [
        {
          "output_type": "stream",
          "text": [
            "7 -> 8 -> 9 -> 35 -> 25 -> 45 -> 19 -> 36 -> 12 -> 40 -> 6 -> 38 -> 61 -> 36 -> 49 -> 8 -> 1 -> 15 -> 48 -> 23 -> 63 -> 9 -> 55 -> 29 -> 47 -> 10 -> 56 -> 31 -> 15 -> 14 -> 69 -> 7 -> 33 -> 7\n",
            "34\n"
          ],
          "name": "stdout"
        }
      ]
    },
    {
      "cell_type": "code",
      "metadata": {
        "id": "9JsgLYP8u5dE"
      },
      "source": [
        "all_values = []\n",
        "node = ll.head\n",
        "all_values.append(ll.head.value)\n",
        "while node.next != None:\n",
        "  try:\n",
        "    all_values.index(node.next.value)\n",
        "    node.next = node.next.next\n",
        "  except:\n",
        "    all_values.append(node.next.value)\n",
        "    node = node.next"
      ],
      "execution_count": null,
      "outputs": []
    },
    {
      "cell_type": "code",
      "metadata": {
        "colab": {
          "base_uri": "https://localhost:8080/"
        },
        "id": "ohuFjO83v6Bz",
        "outputId": "8672a30a-bf5c-4ca8-9867-befc1b4db4f7"
      },
      "source": [
        "print(len(ll))\n",
        "print(ll)\n",
        "print(len(all_values))"
      ],
      "execution_count": null,
      "outputs": [
        {
          "output_type": "stream",
          "text": [
            "28\n",
            "7 -> 8 -> 9 -> 35 -> 25 -> 45 -> 19 -> 36 -> 12 -> 40 -> 6 -> 38 -> 61 -> 49 -> 1 -> 15 -> 48 -> 23 -> 63 -> 55 -> 29 -> 47 -> 10 -> 56 -> 31 -> 14 -> 69 -> 33\n",
            "28\n"
          ],
          "name": "stdout"
        }
      ]
    },
    {
      "cell_type": "markdown",
      "metadata": {
        "id": "9_W-36CP0EFc"
      },
      "source": [
        "## 2. Print nth to last element of a linked list"
      ]
    },
    {
      "cell_type": "code",
      "metadata": {
        "id": "vzOgl8sz0GSw"
      },
      "source": [
        "ll = LinkedList()\n",
        "ll.insert(7)\n",
        "ll.insert(8)\n",
        "ll.insert(9)\n",
        "ll.generate(30,1,75)"
      ],
      "execution_count": null,
      "outputs": []
    },
    {
      "cell_type": "code",
      "metadata": {
        "colab": {
          "base_uri": "https://localhost:8080/"
        },
        "id": "CH9rWlVJ0QAp",
        "outputId": "2e58cae6-c34c-4b45-9738-8a96368b2249"
      },
      "source": [
        "print(ll)\n",
        "print(len(ll))"
      ],
      "execution_count": null,
      "outputs": [
        {
          "output_type": "stream",
          "text": [
            "7 -> 8 -> 9 -> 37 -> 70 -> 37 -> 30 -> 63 -> 30 -> 8 -> 70 -> 38 -> 41 -> 28 -> 61 -> 1 -> 15 -> 35 -> 70 -> 29 -> 68 -> 42 -> 5 -> 58 -> 52 -> 5 -> 72 -> 31 -> 51 -> 21 -> 36 -> 7 -> 44\n",
            "33\n"
          ],
          "name": "stdout"
        }
      ]
    },
    {
      "cell_type": "code",
      "metadata": {
        "id": "0SmrLXSW0TDr"
      },
      "source": [
        "def print_n_2_last(ll,nth):\n",
        "  first_node = ll.head  \n",
        "  end_node = ll.head\n",
        "  for i in range(nth): #--> O(n)\n",
        "    end_node = end_node.next\n",
        "  while end_node.next != None: #--> O(n)\n",
        "    first_node = first_node.next\n",
        "    end_node = end_node.next\n",
        "  list_to_return =  []\n",
        "  while first_node != None: #--> O(n)\n",
        "    list_to_return.append(first_node.value)\n",
        "    first_node = first_node.next\n",
        "  list_to_return.pop(0)\n",
        "  return list_to_return"
      ],
      "execution_count": null,
      "outputs": []
    },
    {
      "cell_type": "code",
      "metadata": {
        "colab": {
          "base_uri": "https://localhost:8080/"
        },
        "id": "DdBzDU691Mw0",
        "outputId": "77f0c269-04ed-4cc5-88dc-fd11a80613e6"
      },
      "source": [
        "len(print_n_2_last(ll,20))"
      ],
      "execution_count": null,
      "outputs": [
        {
          "output_type": "execute_result",
          "data": {
            "text/plain": [
              "20"
            ]
          },
          "metadata": {
            "tags": []
          },
          "execution_count": 12
        }
      ]
    },
    {
      "cell_type": "code",
      "metadata": {
        "colab": {
          "base_uri": "https://localhost:8080/"
        },
        "id": "lBo4NKtL3kmd",
        "outputId": "c22e4e78-5629-4d58-d85e-9fafb9fdb68e"
      },
      "source": [
        "print_n_2_last(ll,5)"
      ],
      "execution_count": null,
      "outputs": [
        {
          "output_type": "execute_result",
          "data": {
            "text/plain": [
              "[51, 21, 36, 7, 44]"
            ]
          },
          "metadata": {
            "tags": []
          },
          "execution_count": 13
        }
      ]
    },
    {
      "cell_type": "markdown",
      "metadata": {
        "id": "yLYe3iYOIW_S"
      },
      "source": [
        "## 3. Partition of a Linked List around any given value\n",
        "\n",
        "Time Complexity = $O(n)$\n",
        "\n",
        "Space Complexity = $O(1)$"
      ]
    },
    {
      "cell_type": "code",
      "metadata": {
        "colab": {
          "base_uri": "https://localhost:8080/"
        },
        "id": "1wFu8VOUIblA",
        "outputId": "1319d874-083d-4cbe-e598-d5908dc1738f"
      },
      "source": [
        "ll = LinkedList()\n",
        "ll.generate(12,1,50)\n",
        "print(ll)\n",
        "print(len(ll))"
      ],
      "execution_count": null,
      "outputs": [
        {
          "output_type": "stream",
          "text": [
            "3 -> 22 -> 43 -> 17 -> 32 -> 12 -> 45 -> 6 -> 4 -> 12 -> 42 -> 41\n",
            "12\n"
          ],
          "name": "stdout"
        }
      ]
    },
    {
      "cell_type": "code",
      "metadata": {
        "id": "U6zPTYjROvPk"
      },
      "source": [
        "def partition_ll(ll,value):\n",
        "  node = ll.head\n",
        "  node_last = ll.tail\n",
        "  while node.next != None:\n",
        "    if node.next == node_last:\n",
        "      break\n",
        "    if node.next.value >= value:\n",
        "      ll.insert(node.next.value)\n",
        "      node.next = node.next.next\n",
        "    else:\n",
        "      node = node.next\n",
        "  if ll.head.value >= value:\n",
        "    ll.insert(ll.head.value)\n",
        "    ll.head = ll.head.next"
      ],
      "execution_count": null,
      "outputs": []
    },
    {
      "cell_type": "code",
      "metadata": {
        "colab": {
          "base_uri": "https://localhost:8080/"
        },
        "id": "o4ZH3-j1JLek",
        "outputId": "fc17f43e-15d9-453f-b4b6-df79d8b71d49"
      },
      "source": [
        "partition_ll(ll,17)"
      ],
      "execution_count": null,
      "outputs": [
        {
          "output_type": "stream",
          "text": [
            "22\n",
            "43\n",
            "17\n",
            "32\n",
            "45\n",
            "42\n"
          ],
          "name": "stdout"
        }
      ]
    },
    {
      "cell_type": "code",
      "metadata": {
        "colab": {
          "base_uri": "https://localhost:8080/"
        },
        "id": "3NN-ei7ZNfGF",
        "outputId": "1ac543fd-ad52-49ed-d3fb-f120a8da6445"
      },
      "source": [
        "print(ll)\n",
        "print(len(ll))"
      ],
      "execution_count": null,
      "outputs": [
        {
          "output_type": "stream",
          "text": [
            "3 -> 12 -> 6 -> 4 -> 12 -> 41 -> 22 -> 43 -> 17 -> 32 -> 45 -> 42\n",
            "12\n"
          ],
          "name": "stdout"
        }
      ]
    },
    {
      "cell_type": "markdown",
      "metadata": {
        "id": "55YhO3_ImC-L"
      },
      "source": [
        "## 4. Sum of linked list digits"
      ]
    },
    {
      "cell_type": "code",
      "metadata": {
        "id": "BxmWuASTmFRM"
      },
      "source": [
        "ll1 = LinkedList()\n",
        "ll2 = LinkedList()\n",
        "ll1.insert(5)\n",
        "ll1.insert(1)\n",
        "ll1.insert(2)\n",
        "ll2.insert(5)\n",
        "ll2.insert(7)\n",
        "ll2.insert(8)"
      ],
      "execution_count": null,
      "outputs": []
    },
    {
      "cell_type": "code",
      "metadata": {
        "id": "h771IBkAqLsm"
      },
      "source": [
        "def sum_lists(ll1,ll2):\n",
        "  count = 0\n",
        "  sum = 0\n",
        "  for node1,node2 in  zip(ll1,ll2):\n",
        "    sum += (node1.value + node2.value)*(10**count)\n",
        "    count += 1\n",
        "  print(sum)\n",
        "  ll3 = LinkedList()\n",
        "  count = 0\n",
        "  while sum!= 0:\n",
        "    val = sum%(10**(count+1))\n",
        "    sum -= val \n",
        "    ll3.insert(int((val/(10**count))))\n",
        "    count += 1\n",
        "  return ll3\n",
        "  \n"
      ],
      "execution_count": null,
      "outputs": []
    },
    {
      "cell_type": "code",
      "metadata": {
        "colab": {
          "base_uri": "https://localhost:8080/"
        },
        "id": "1vId12IbqXcL",
        "outputId": "8c38bd83-4df1-4960-cde4-ddd606a44266"
      },
      "source": [
        "print(sum_lists(ll1,ll2))"
      ],
      "execution_count": null,
      "outputs": [
        {
          "output_type": "stream",
          "text": [
            "1090\n",
            "0 -> 9 -> 0 -> 1\n"
          ],
          "name": "stdout"
        }
      ]
    },
    {
      "cell_type": "markdown",
      "metadata": {
        "id": "lH6X8xwUuFES"
      },
      "source": [
        "## 5. Determine if two linked lists intersect, i.e. they have the same reference"
      ]
    },
    {
      "cell_type": "code",
      "metadata": {
        "id": "SP576hxiuJrm"
      },
      "source": [
        "def find_intersection(ll1,ll2):\n",
        "  if ll1.tail == ll2.tail:\n",
        "\n",
        "    l1 = len(ll1)\n",
        "    l2 = len(ll2)\n",
        "\n",
        "    node1 = ll1.head\n",
        "    if l1 > l2:\n",
        "      for i in range(l1-l2):\n",
        "        node1 = node1.next\n",
        "    elif l2 > l1:\n",
        "      find_intersection(ll2,ll1)\n",
        "\n",
        "    node2 = ll2.head\n",
        "    while node1 != None:\n",
        "      if node1 == node2:\n",
        "        print('Intersection point is value',node1.value)\n",
        "        break\n",
        "      node1 = node1.next\n",
        "      node2 = node2.next\n",
        "\n",
        "  else:\n",
        "    print('Lists do not intersect')\n",
        "\n"
      ],
      "execution_count": null,
      "outputs": []
    },
    {
      "cell_type": "code",
      "metadata": {
        "colab": {
          "base_uri": "https://localhost:8080/"
        },
        "id": "ya4WlSbqwk12",
        "outputId": "418d668f-fc9a-4ff6-be1b-5791c1f0dac8"
      },
      "source": [
        "ll1 = LinkedList()\n",
        "ll2 = LinkedList()\n",
        "ll3 = LinkedList()\n",
        "ll1.generate(4,1,78)\n",
        "print(ll1)"
      ],
      "execution_count": null,
      "outputs": [
        {
          "output_type": "stream",
          "text": [
            "27 -> 45 -> 28 -> 57\n"
          ],
          "name": "stdout"
        }
      ]
    },
    {
      "cell_type": "code",
      "metadata": {
        "colab": {
          "base_uri": "https://localhost:8080/"
        },
        "id": "9yeK_dL_ww04",
        "outputId": "d3fec405-c0de-4e84-926a-083a26237751"
      },
      "source": [
        "ll2.generate(5,1,35)\n",
        "ll3.generate(7,1,40)\n",
        "ll2.tail.next = ll1.head\n",
        "ll3.tail.next = ll1.head\n",
        "ll2.tail = ll1.tail\n",
        "ll3.tail = ll1.tail\n",
        "print(ll2)\n",
        "print(ll3)"
      ],
      "execution_count": null,
      "outputs": [
        {
          "output_type": "stream",
          "text": [
            "17 -> 9 -> 6 -> 28 -> 26 -> 27 -> 45 -> 28 -> 57\n",
            "38 -> 8 -> 21 -> 36 -> 15 -> 10 -> 18 -> 27 -> 45 -> 28 -> 57\n"
          ],
          "name": "stdout"
        }
      ]
    },
    {
      "cell_type": "code",
      "metadata": {
        "colab": {
          "base_uri": "https://localhost:8080/"
        },
        "id": "BLBdJCLax7y1",
        "outputId": "67d9db72-9200-41ed-9a60-e18196fdf110"
      },
      "source": [
        "find_intersection(ll2,ll3)"
      ],
      "execution_count": null,
      "outputs": [
        {
          "output_type": "stream",
          "text": [
            "Intersection point is value 27\n"
          ],
          "name": "stdout"
        }
      ]
    }
  ]
}
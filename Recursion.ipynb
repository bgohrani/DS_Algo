{
  "nbformat": 4,
  "nbformat_minor": 0,
  "metadata": {
    "colab": {
      "name": "Recursion.ipynb",
      "provenance": [],
      "authorship_tag": "ABX9TyM4Zzvx9vHRZUt+Co3NHs6J",
      "include_colab_link": true
    },
    "kernelspec": {
      "name": "python3",
      "display_name": "Python 3"
    },
    "language_info": {
      "name": "python"
    }
  },
  "cells": [
    {
      "cell_type": "markdown",
      "metadata": {
        "id": "view-in-github",
        "colab_type": "text"
      },
      "source": [
        "<a href=\"https://colab.research.google.com/github/bgohrani/DS_Algo/blob/main/Recursion.ipynb\" target=\"_parent\"><img src=\"https://colab.research.google.com/assets/colab-badge.svg\" alt=\"Open In Colab\"/></a>"
      ]
    },
    {
      "cell_type": "code",
      "metadata": {
        "id": "U2yGwSCJkOv7"
      },
      "source": [
        "import numpy as np\n",
        "import pandas as pd\n",
        "import math\n",
        "\n",
        "#importing essential libraries"
      ],
      "execution_count": null,
      "outputs": []
    },
    {
      "cell_type": "markdown",
      "metadata": {
        "id": "Y0VGTfNQKhs9"
      },
      "source": [
        "# 1. Recursion\n",
        "Calling functions within themselves for problem solving"
      ]
    },
    {
      "cell_type": "markdown",
      "metadata": {
        "id": "MJ-_cUIsq4yQ"
      },
      "source": [
        "## 1. Sum of digits using recursion"
      ]
    },
    {
      "cell_type": "code",
      "metadata": {
        "id": "tL60s-KzkXYc"
      },
      "source": [
        "def sum_of_digits(n):\n",
        "  if n == 0:\n",
        "    return 0\n",
        "  elif n < 0:\n",
        "    print('negative is ignored')\n",
        "    return sum_of_digits(abs(n))\n",
        "  elif n != int(n):\n",
        "    print('not possible')\n",
        "  else:\n",
        "    intermediate = n/10\n",
        "    final = int(round((intermediate%1)*10))\n",
        "    return (final + sum_of_digits(int(intermediate)))\n"
      ],
      "execution_count": null,
      "outputs": []
    },
    {
      "cell_type": "code",
      "metadata": {
        "colab": {
          "base_uri": "https://localhost:8080/"
        },
        "id": "IkEsd-EDk2AI",
        "outputId": "fb290dd7-d79c-4487-9567-7a1b3ae92847"
      },
      "source": [
        "sum_of_digits(112)"
      ],
      "execution_count": null,
      "outputs": [
        {
          "output_type": "execute_result",
          "data": {
            "text/plain": [
              "4"
            ]
          },
          "metadata": {
            "tags": []
          },
          "execution_count": 72
        }
      ]
    },
    {
      "cell_type": "markdown",
      "metadata": {
        "id": "B28EPr8Yw3pJ"
      },
      "source": [
        "## 2. Power of number using recursion"
      ]
    },
    {
      "cell_type": "code",
      "metadata": {
        "id": "eDlvIiKLuOB8"
      },
      "source": [
        "def power_of_no(n,pow):\n",
        "  assert pow == int(pow), \"Not possible\"\n",
        "  if pow == 1:\n",
        "    return n\n",
        "  elif pow==0:\n",
        "    return 1\n",
        "  elif pow < 0:\n",
        "    ans = power_of_no(n,abs(pow))\n",
        "    return 1/ans\n",
        "  else:\n",
        "    return (n * power_of_no(n,(pow-1)))"
      ],
      "execution_count": null,
      "outputs": []
    },
    {
      "cell_type": "code",
      "metadata": {
        "colab": {
          "base_uri": "https://localhost:8080/"
        },
        "id": "OG2cZrjUu8RT",
        "outputId": "e38b19cd-d666-4f79-8922-ccc6f4c6ae79"
      },
      "source": [
        "power_of_no(2,-10)"
      ],
      "execution_count": null,
      "outputs": [
        {
          "output_type": "execute_result",
          "data": {
            "text/plain": [
              "0.0009765625"
            ]
          },
          "metadata": {
            "tags": []
          },
          "execution_count": 99
        }
      ]
    },
    {
      "cell_type": "markdown",
      "metadata": {
        "id": "9e9v-b26EICY"
      },
      "source": [
        "## 3. Greatest Common Divisor of 2 numbers using recursion"
      ]
    },
    {
      "cell_type": "code",
      "metadata": {
        "id": "WoJ755unC-Be"
      },
      "source": [
        "def gcd_2(n1,n2):\n",
        "  assert n1 > 0 and n2 > 0 and n1 == int(n1) and n2 == int(n2), 'Not Possible'\n",
        "  if n1>=n2:\n",
        "    a = n1%n2\n",
        "    if a == 0:\n",
        "      return n2\n",
        "    else:\n",
        "      return gcd_2(n2,a)\n",
        "  else:\n",
        "    return gcd_2(n2,n1)"
      ],
      "execution_count": null,
      "outputs": []
    },
    {
      "cell_type": "code",
      "metadata": {
        "colab": {
          "base_uri": "https://localhost:8080/"
        },
        "id": "xrjAHuFfDqj4",
        "outputId": "8c33c8b3-8f40-4924-fd37-85b99b292dc7"
      },
      "source": [
        "gcd_2(4278,8602)"
      ],
      "execution_count": null,
      "outputs": [
        {
          "output_type": "execute_result",
          "data": {
            "text/plain": [
              "46"
            ]
          },
          "metadata": {
            "tags": []
          },
          "execution_count": 125
        }
      ]
    },
    {
      "cell_type": "markdown",
      "metadata": {
        "id": "S0h_xws0JCyC"
      },
      "source": [
        "## 4. Conversion of Decimal into Binary using recursion"
      ]
    },
    {
      "cell_type": "code",
      "metadata": {
        "id": "p_l27uRsG-wJ"
      },
      "source": [
        "def dec_to_binary(n):\n",
        "  assert n == int(n), 'Decimal Part numbers have a different method'\n",
        "  if n < 0:\n",
        "    return ('-' + dec_to_binary(abs(n)))\n",
        "  elif n == 0 or n==1 :\n",
        "    return n\n",
        "  else:\n",
        "    a = int(n)%2\n",
        "    return  int(str(dec_to_binary(int(n/2))) + str(a))"
      ],
      "execution_count": null,
      "outputs": []
    },
    {
      "cell_type": "code",
      "metadata": {
        "colab": {
          "base_uri": "https://localhost:8080/"
        },
        "id": "6furqeyAHNhr",
        "outputId": "77f3968c-6d72-4aa3-b74d-2ae7ae3549c7"
      },
      "source": [
        "dec_to_binary(112)"
      ],
      "execution_count": null,
      "outputs": [
        {
          "output_type": "execute_result",
          "data": {
            "text/plain": [
              "1110000"
            ]
          },
          "metadata": {
            "tags": []
          },
          "execution_count": 146
        }
      ]
    }
  ]
}
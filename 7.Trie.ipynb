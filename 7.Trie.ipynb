{
  "nbformat": 4,
  "nbformat_minor": 0,
  "metadata": {
    "colab": {
      "name": "7.Trie.ipynb",
      "provenance": [],
      "authorship_tag": "ABX9TyPLj6+Hdm3XjwB1zyYYZt/O",
      "include_colab_link": true
    },
    "kernelspec": {
      "name": "python3",
      "display_name": "Python 3"
    },
    "language_info": {
      "name": "python"
    }
  },
  "cells": [
    {
      "cell_type": "markdown",
      "metadata": {
        "id": "view-in-github",
        "colab_type": "text"
      },
      "source": [
        "<a href=\"https://colab.research.google.com/github/bgohrani/Data_Structures/blob/main/7.Trie.ipynb\" target=\"_parent\"><img src=\"https://colab.research.google.com/assets/colab-badge.svg\" alt=\"Open In Colab\"/></a>"
      ]
    },
    {
      "cell_type": "code",
      "metadata": {
        "id": "E32cyFPoEfqU"
      },
      "source": [
        "import numpy as np\n",
        "import pandas as pd\n",
        "import math\n",
        "\n",
        "#importing essential libraries"
      ],
      "execution_count": null,
      "outputs": []
    },
    {
      "cell_type": "markdown",
      "metadata": {
        "id": "y4NamSvDFRp8"
      },
      "source": [
        "## Trie"
      ]
    },
    {
      "cell_type": "code",
      "metadata": {
        "id": "glcXMy35FSP3"
      },
      "source": [
        "class Trie_Node():\n",
        "  def __init__(self):\n",
        "    self.children = {}\n",
        "    self.end_of_string = False\n",
        "\n",
        "class Trie():\n",
        "  def __init__(self):\n",
        "    self.root = Trie_Node()\n",
        "  \n",
        "  def insert_in_Trie(self, value):\n",
        "    current_node = self.root\n",
        "    for letter in value:\n",
        "      node = current_node.children.get(letter)\n",
        "      if node == None:\n",
        "        node = Trie_Node()\n",
        "        current_node.children.update({letter:node})\n",
        "      current_node = node\n",
        "    current_node.end_of_string = True\n",
        "    print('Inserted')\n",
        "  \n",
        "  def search_in_Trie(self, value):\n",
        "    current_node = self.root\n",
        "    if current_node.children.get(value[0]) == None: return False\n",
        "    else:\n",
        "      for letter in value:\n",
        "        node = current_node.children.get(letter)\n",
        "\n",
        "        if node == None: return False\n",
        "        else: current_node = node\n",
        "\n",
        "      if node.end_of_string == True: return True\n",
        "      else: return False\n",
        "  \n",
        "  def delete_from_Trie(self,value):\n",
        "    checked = self.search_in_Trie(value)\n",
        "    if checked == False: return 'Not present in Trie'\n",
        "    else:\n",
        "      current_node = self.root\n",
        "      list_nodes = []\n",
        "      for letter in value:\n",
        "        list_nodes.append(current_node.children.get(letter))\n",
        "        current_node = current_node.children.get(letter)\n",
        "\n",
        "    #Case 1 and 3: The prefix of some other string is the same as the one we want to delete\n",
        "      if current_node.end_of_string == True and current_node.children == {}:\n",
        "        current_node.end_of_string = False\n",
        "        length = len(list_nodes)\n",
        "        for i in range(length-2,-1,-1):\n",
        "          if list_nodes[i].children[value[i+1]].children == {} and list_nodes[i].children[value[i+1]].end_of_string == False:\n",
        "            del list_nodes[i].children[value[i+1]]\n",
        "        print('Deleted')\n",
        "        if len(value) == 1 and self.root.children.get(value) != None:\n",
        "          del self.root.children[value]\n",
        "    \n",
        "    #Case 2: The string we want to delete is the prefix of some other string\n",
        "      if current_node.end_of_string == True and current_node.children != {}:\n",
        "        current_node.end_of_string = False\n",
        "        print('Deleted')\n",
        "    \n",
        "    #Case 4: Just a single letter string at the beginning\n",
        "\n",
        "\n"
      ],
      "execution_count": null,
      "outputs": []
    },
    {
      "cell_type": "code",
      "metadata": {
        "id": "TFkchUZnv2qM"
      },
      "source": [
        "tree = Trie()"
      ],
      "execution_count": null,
      "outputs": []
    },
    {
      "cell_type": "code",
      "metadata": {
        "colab": {
          "base_uri": "https://localhost:8080/"
        },
        "id": "h6KoMUIXv4yH",
        "outputId": "520eb05e-a772-4be1-ee3c-e08023e3d944"
      },
      "source": [
        "tree.insert_in_Trie('APP')\n",
        "tree.insert_in_Trie('APPL')\n"
      ],
      "execution_count": null,
      "outputs": [
        {
          "output_type": "stream",
          "text": [
            "Inserted\n",
            "Inserted\n"
          ],
          "name": "stdout"
        }
      ]
    },
    {
      "cell_type": "code",
      "metadata": {
        "colab": {
          "base_uri": "https://localhost:8080/"
        },
        "id": "zkVGgXpr_Gbl",
        "outputId": "8d95a559-ecb3-4bab-8fe9-86db09abce32"
      },
      "source": [
        "tree.delete_from_Trie('APP')"
      ],
      "execution_count": null,
      "outputs": [
        {
          "output_type": "stream",
          "text": [
            "Deleted\n"
          ],
          "name": "stdout"
        }
      ]
    },
    {
      "cell_type": "code",
      "metadata": {
        "colab": {
          "base_uri": "https://localhost:8080/"
        },
        "id": "VMMOCF6RA-Z5",
        "outputId": "2dc094b7-2db1-4228-ca74-5a893f3fa39c"
      },
      "source": [
        "tree.search_in_Trie('APPL')"
      ],
      "execution_count": null,
      "outputs": [
        {
          "output_type": "execute_result",
          "data": {
            "text/plain": [
              "True"
            ]
          },
          "metadata": {
            "tags": []
          },
          "execution_count": 250
        }
      ]
    }
  ]
}